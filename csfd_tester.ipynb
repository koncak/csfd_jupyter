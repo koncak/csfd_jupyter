{
 "cells": [
  {
   "cell_type": "markdown",
   "metadata": {},
   "source": [
    "## Filozofie projektu: Nenavist stimuluje kreativitu.\n",
    "\n",
    "<font size=\"3\">Tento projekt se zabyva lidmi, kteri komentuji filmu na strance CSFD.cz. CSFD je ceska obdoba stranky IMDB. \n",
    "Kazdemu registrovanemu uzivateli umoznuje ohodnotit nebo okomentovat film. Leden 2020 - 477 000 uzivatelu, 4 092 000 komentaru. CSFD umoznuje ohodnotit film jedna az peti hvezdickami. Pokud tohle nestaci, je mozne pouzit hodnoceni \"odpad!\", ktere byly inspiraci k vytvoreni tohoto projektu. \n",
    "\n",
    "Pri prohlizeni filmu s dobrymi hodnocenimi me napadlo podivat se na lidi, kteri tyto filmy nesnaseji (\"odpad\"). Ukazalo se, ze potreba ukazat vsem, jak moc se ve svem minieni o danem filmu pletou, vyvolava v techto lidech znacnou kreativitu pri zanechani negativniho komentare. U nekterych se clovek muze dobre zasmat ryzi zlosti autora:\n",
    "\n",
    "\n",
    "_\"Tvoji nenávist ke značce vody ti uvěřím, až **vymrdáš** hrdlo láhve, s tím svým tenkým **kokotem** to bude Mattoni malina. Jistě to potají chlastáš s **buzeranty**, se kterými se slézáš v barech, ty **píčo** s maskou. S tím už nepostrašíš ani dítě z mateřské školy, **pičo** ukřivděná, ubrečená, tupá. Táhni do **piče** s tou tvojí mentálně ubohou hudbou! 0%\"_ - kingik\n",
    "\n",
    "Cilem je nalezt nastvane ... zejmena u dobrych filmu.\n",
    "\n",
    "Komentare maji sve vlastni skore, zalozene na nenavisti textu komentare. Skore se pricita za sproste slova, pouziti CAPS LOCKU a opakovani stejneho znaku (\"fuuuuuuuj!!!!\"). \n",
    "\n",
    "Krome komentaru s hodnocenim \"odpad!\" pracuje projekt take s hodnocenim jedne hvezdicky. Casto se v takych komentarich vyskytuje fraze: _\"Jedna hvezdicka za (insert herce nebo scenu). Jinak Odpad!\"_ </font>"
   ]
  },
  {
   "cell_type": "code",
   "execution_count": 23,
   "metadata": {},
   "outputs": [],
   "source": [
    "from selenium import webdriver\n",
    "from selenium.webdriver.firefox.options import Options\n",
    "\n",
    "import urllib\n",
    "import numpy as np\n",
    "import pandas as pd\n",
    "from collections import Counter\n",
    "from tqdm.notebook import tqdm\n",
    "from time import time\n",
    "from functools import wraps\n",
    "import re\n",
    "import pickle\n",
    "import line_profiler\n",
    "# %load_ext line_profiler\n",
    "\n",
    "from selenium.common.exceptions import NoSuchElementException\n",
    "\n",
    "from IPython.display import Markdown, display"
   ]
  },
  {
   "cell_type": "code",
   "execution_count": 24,
   "metadata": {},
   "outputs": [],
   "source": [
    "def reload_driver():\n",
    "    global driver\n",
    "    options = Options()\n",
    "    options.headless = True\n",
    "    options.set_preference(\"javascript.enabled\", False)\n",
    "    driver = webdriver.Firefox(options=options)\n",
    "    driver.set_page_load_timeout(100)\n",
    "\n",
    "# reload_driver()\n",
    "# options = Options()\n",
    "# # options.headless = True\n",
    "# options.set_preference(\"javascript.enabled\", False)\n",
    "# driver = webdriver.Firefox(options=options)\n",
    "# driver.set_page_load_timeout(100)\n",
    "\n",
    "# driver = webdriver.Firefox()"
   ]
  },
  {
   "cell_type": "code",
   "execution_count": 25,
   "metadata": {},
   "outputs": [],
   "source": [
    "reload_driver()"
   ]
  },
  {
   "cell_type": "code",
   "execution_count": 94,
   "metadata": {},
   "outputs": [],
   "source": [
    "# %%writefile simulation.py\n",
    "# co kdyz csfd odmitne request\n",
    "# hodnoceni s komentarem je zahrnoto v hodnocenich bez komentaru\n",
    "# nechapu .. hodnoceni, videli ... stejny film, hvezdicku ... za -- regex\n",
    "\n",
    "\n",
    "from selenium import webdriver\n",
    "from selenium.webdriver.firefox.options import Options\n",
    "\n",
    "import urllib\n",
    "import numpy as np\n",
    "import pandas as pd\n",
    "from collections import Counter\n",
    "from tqdm.notebook import tqdm\n",
    "from time import time\n",
    "from functools import wraps\n",
    "import re\n",
    "import pickle\n",
    "import line_profiler\n",
    "\n",
    "from selenium.common.exceptions import NoSuchElementException\n",
    "\n",
    "RATING_SYSTEM = {\"film c0\": \"white\",\n",
    "                 \"film c1\": \"red\",\n",
    "                 \"film c2\": \"blue\",\n",
    "                 \"film c3\": \"black\"}\n",
    "\n",
    "EVIL_WORDS = {\"sračk\", 'stupidní', 'kretén', \"kokot\", \"zkurvenec\", 'hovno', 'hovna', 'čurák', 'hajzl', 'kurv', 'po*rať',\n",
    "              'prdel', 'propagand', 'idiot', 'buzny', 'buzna', 'hnus', 'ho*no', 'hnus', 'mrtka', 'píčo',\n",
    "              'blití', 'fuj', 'sra*ka', 'posrat', 'demenci', 'pí*ovina', 'píčovina', 'kravin', 'kripl',\n",
    "              'vymrdaných', 'shit', 'stád', 'pí..vina', 'dement', 'zasvin', 'prase', 'úch*l', 'poser',\n",
    "              'blb', 'magor', 'magoř', 'sračku', 'mrd*ka', 'držka', 'debil', 'retard', 'neger', \"hovnům\", 'zmrd','hovně',\n",
    "             'pi*ovina', 'kund', 'piče', 'piči', 'mrd', 'pičo', 'píčo', 'píče', 'negr', 'pičus', 'sran', 'buzerant',\n",
    "             'ošukán', 'posral', 'čuráci', 'serete', 'šukat', 'pošuk', 'pošuc'}\n",
    "\n",
    "MISTAKE_WORDS = {'knihovna', 'knihovny', 'filozofující', 'sranda', 'srandu', 'srandy'}\n",
    "\n",
    "class Comment:\n",
    "    def __init__(self, rating, text, approximate_movie_rating, movie_name, author=None, movie_rating=None):\n",
    "        self.rating = rating\n",
    "        self.text = text\n",
    "        self.approximate_movie_rating = approximate_movie_rating\n",
    "        self.movie_rating = movie_rating\n",
    "        self.movie_name = movie_name\n",
    "        self.author = author\n",
    "        self.score = self.evil_score()\n",
    "        \n",
    "    def add_author(self, author):\n",
    "        self.author = author\n",
    "        \n",
    "    def evil_score(self):\n",
    "        score = 0\n",
    "        for word in self.text.split():\n",
    "            for EVIL in EVIL_WORDS:\n",
    "                if EVIL in word.lower() and word.lower() not in MISTAKE_WORDS:\n",
    "                    score += 2\n",
    "                    \n",
    "            repeated_char, number_of_repeats = maxRepeating(word)\n",
    "            if number_of_repeats > 2: # 0,33 zvoleno jen tak for fun\n",
    "                number_of_repeats = 5 if number_of_repeats > 5 else number_of_repeats\n",
    "                score += 0.33 * number_of_repeats\n",
    "                if repeated_char == \"!\":\n",
    "                    score += 0.33 * number_of_repeats\n",
    "                \n",
    "            if caps_lock(word):\n",
    "                score += 0.5\n",
    "        \n",
    "        return score\n",
    "\n",
    "    def to_dict(self): # pro pandas, kdyby nahodou\n",
    "        return {\n",
    "            'author': self.author,\n",
    "            'rating': self.rating,\n",
    "            'text': self.text,\n",
    "            'hate_score': self.score,\n",
    "            'movie_name': self.movie_name,\n",
    "            'movie_rating_apr': self.approximate_movie_rating\n",
    "        }\n",
    "\n",
    "\n",
    "def timing(f):\n",
    "    @wraps(f)\n",
    "    def wrapper(*args, **kwargs):\n",
    "        start = time()\n",
    "        result = f(*args, **kwargs)\n",
    "        end = time()\n",
    "        print('Elapsed time: {}'.format(end-start))\n",
    "        return result\n",
    "    return wrapper\n",
    "\n",
    "\n",
    "def printmd(string):\n",
    "    display(Markdown(string))\n",
    "\n",
    "        \n",
    "def get_best_movie_score(driver):\n",
    "    \"\"\"\n",
    "    Vetsina filmu nema skore nejlepsich filmu\n",
    "    \"\"\"\n",
    "    try:\n",
    "        return driver.find_element_by_xpath('/html/body/div[2]/div[3]/div[2]/div[1]/p/a[1]')\n",
    "    except:\n",
    "        return None\n",
    "\n",
    "    \n",
    "def get_favourite_movie_score(driver):\n",
    "    \"\"\"\n",
    "    Vetsina filmu nema skore oblibenosti\n",
    "    \"\"\"\n",
    "    try:\n",
    "        return driver.find_element_by_xpath('/html/body/div[2]/div[3]/div[2]/div[1]/p/a[2]')  \n",
    "    except:\n",
    "        return None    \n",
    "\n",
    "    \n",
    "def get_full_czech_name(driver):\n",
    "    return driver.find_element_by_xpath('/html/body/div[2]/div[3]/div[1]/div[1]/div[1]/div[2]/div[1]/h1')\n",
    "\n",
    "\n",
    "def get_comment_text(comment):\n",
    "    return comment.find_element_by_class_name('post').text\n",
    "\n",
    "\n",
    "def get_comment_author(comment):\n",
    "    return comment.find_element_by_class_name('author')\n",
    "\n",
    "\n",
    "def get_czech_name_in_comment(comment):\n",
    "    return comment.find_element_by_class_name('author').text\n",
    "\n",
    "\n",
    "def get_comment_rating(comment):\n",
    "    \"\"\"\n",
    "    return None pro komentar bez hodnoceni\n",
    "           0 pro komentar typu odpad!\n",
    "           pocet hvezdicek jinak\n",
    "    \"\"\"\n",
    "    try:\n",
    "        author_rating = comment.find_element_by_class_name('rating').get_attribute('alt')\n",
    "    except:\n",
    "        return None\n",
    "    \n",
    "    if not author_rating:\n",
    "        return 0\n",
    "    \n",
    "    return len(author_rating)\n",
    "   \n",
    "    \n",
    "def remove_last_line_from_string(s):\n",
    "    return s[:s.rfind('\\n')]\n",
    "\n",
    "\n",
    "def count_in_string(string, char):\n",
    "    return strin.count(char)\n",
    "\n",
    "\n",
    "def movie_rating_to_stars(rating):\n",
    "    if rating == 0:\n",
    "        return \"odpad!\"\n",
    "    else:\n",
    "        return rating * \"*\"\n",
    "    \n",
    "\n",
    "def get_approx_movie_rating_from_comment(comment):\n",
    "    \"\"\" Z komentare v profilu nalezne priblizne hodnoceni filmu podle barvy ikony\n",
    "    \n",
    "    Parameters:\n",
    "        comment(webdriver.element?): comment inside users profile\n",
    "    \n",
    "    Returns:\n",
    "        string:color of movie icon\n",
    "    \n",
    "    \"\"\"\n",
    "    movie_rating = comment.find_element_by_class_name(\"film\")\n",
    "    return RATING_SYSTEM[movie_rating.get_attribute(\"class\")]\n",
    "\n",
    "\n",
    "def profile_comments(driver):\n",
    "    \"\"\" Nacte vsechny\n",
    "    \"\"\"\n",
    "    current = driver.current_url\n",
    "    try:\n",
    "        driver.get(current + 'komentare/podle-rating/')\n",
    "        \n",
    "    except TimeoutException as e:\n",
    "        print(e)\n",
    "        driver.execute_script(\"window.stop();\")\n",
    "    \n",
    "    try:\n",
    "        pages = driver.find_element_by_xpath('/html/body/div[2]/div[3]/div[2]/div[1]/div[3]/div[3]').text\n",
    "    \n",
    "    except NoSuchElementException: # pokud ma pouze jednu stranku komentaru\n",
    "        comment_objects = profile_comments_on_page(driver, current + 'komentare/podle-rating/')\n",
    "        comment_objects = [_ for _ in comment_objects if _ is not None]\n",
    "        list(map(lambda c:c.add_author(current), comment_objects))\n",
    "        return comment_objects\n",
    "    \n",
    "    pages = re.findall(r'\\d+', pages)[-1] # hack, posledni cislo v seznamu, potrebuje poradne otestovat(vypada OK)\n",
    "    try:\n",
    "        pages = int(pages)\n",
    "    except:\n",
    "        raise ValueError(\"Neco divneho s typem\")\n",
    "        \n",
    "    next_run = True\n",
    "    comment_objects = []\n",
    "    while next_run:\n",
    "        local_comments = profile_comments_on_page(driver, current + 'komentare/podle-rating/strana-' + str(pages))\n",
    "        if len(local_comments) == 0: # pokud nejsou zadne komentare s 0 nebo 1 hvezdou\n",
    "            next_run = False\n",
    "            break\n",
    "            \n",
    "        local_comments = [c for c in local_comments if c is not None]\n",
    "        list(map(lambda c:c.add_author(current), local_comments))\n",
    "        \n",
    "        comment_objects = comment_objects + local_comments\n",
    "        pages -= 1 \n",
    "        \n",
    "    return [c for c in comment_objects if c is not None] # nevim proc\n",
    "\n",
    "\n",
    "def profile_comments_on_page(driver, url):\n",
    "    \"\"\" Nacte komentare na strance s cislovanim\n",
    "    \"\"\"\n",
    "    driver.get(url)\n",
    "    comments = driver.find_elements_by_class_name(\"post\")\n",
    "    \n",
    "    out = []\n",
    "    for comment in comments:\n",
    "        comment_rating = get_comment_rating(comment)\n",
    "        \n",
    "        if comment_rating is None:\n",
    "            out.append(None) # HACK\n",
    "            continue\n",
    "        if comment_rating >1:\n",
    "            continue\n",
    "\n",
    "        movie_approx = get_approx_movie_rating_from_comment(comment)\n",
    "        if movie_approx != 'red':\n",
    "            continue\n",
    "            \n",
    "        comment_text = comment.text.split('\\n')[1:][0] # hack, prvni radek neni text komentare\n",
    "        comment_text = comment_text.replace(\"*\", \"#\") # nahrazeni hvezdicek, ktere se v komentari vyskytuji\n",
    "        \n",
    "        \n",
    "        movie_name = get_czech_name_in_comment(comment)\n",
    "\n",
    "        comment_object = Comment(comment_rating, comment_text, movie_approx, movie_name)\n",
    "        out.append(comment_object)\n",
    "    \n",
    "    return out\n",
    "\n",
    "\n",
    "def maxRepeating(string): \n",
    "    \"\"\" Najde znak, ktery se nejvicekrat vyskytuje za sebou ve stringu \n",
    "    Return: tuple (znak, pocet opakovani)\n",
    "    \"\"\"\n",
    "  \n",
    "    n = len(string) \n",
    "    count = 0\n",
    "    res = string[0] \n",
    "    cur_count = 1\n",
    "  \n",
    "    for i in range(n):\n",
    "        if (i < n - 1 and string[i] == string[i + 1]): \n",
    "            cur_count += 1\n",
    "  \n",
    "        else: \n",
    "            if cur_count > count and string[i] != \".\": \n",
    "                count = cur_count \n",
    "                res = string[i] \n",
    "            cur_count = 1\n",
    "    return res, count\n",
    "\n",
    "\n",
    "def caps_lock(string):\n",
    "    if len(string) > 2 and string.isupper():\n",
    "        return True\n",
    "\n",
    "\n",
    "def comment_split(comment_text): # pouzite jen k vytvoreni counteru slov\n",
    "    words = []\n",
    "    for word in comment_text.split():\n",
    "        if word[-1] == \",\" or word[-1] == \".\":\n",
    "            word = word[0:-1]\n",
    "            \n",
    "        word = word.lower()\n",
    "        words.append(word)\n",
    "        \n",
    "    return words\n",
    "    \n",
    "    \n",
    "def replace_in_comment(comment_text, replace): # vic testovani!!\n",
    "    words = comment_text.split()\n",
    "    for i,word in enumerate(words):\n",
    "        for EVIL in EVIL_WORDS:\n",
    "            if EVIL in word.lower():\n",
    "                words[i] = replace + word + replace\n",
    "    return \" \".join(words)"
   ]
  },
  {
   "cell_type": "code",
   "execution_count": 112,
   "metadata": {
    "scrolled": true
   },
   "outputs": [],
   "source": [
    "class Profile:\n",
    "    def __init__(self, link, num_of_comments, num_of_ratings, comments, score):\n",
    "        self.link = link\n",
    "        self.id = self.find_id()\n",
    "        self.num_of_comments = len(self.comments)\n",
    "        self.num_of_ratings = num_of_ratings\n",
    "        self.comments = comments\n",
    "        self.score = score\n",
    "        \n",
    "    def find_id(self):\n",
    "        id_re = re.match(\".*/uzivatel/(\\d+)\", self.link)\n",
    "        try:\n",
    "            aids = int(id_re.group(1))\n",
    "            return aids\n",
    "        except:\n",
    "            raise ValueError(\"TOHLE BY SE NEMELO STAT U NORMALNIHO URL\")\n",
    "            \n",
    "    def __repr__(self):\n",
    "        return \"{}, Pocet komentaru: {}, skore: {}\".format(self.link, self.num_of_comments, self.score)\n",
    "    \n",
    "    def to_dict(self): # pro pandas\n",
    "        return {\n",
    "            'id': self.id,\n",
    "            'num_of_comments': self.num_of_comments,\n",
    "            'score' : self.score\n",
    "        }\n",
    "            \n",
    "\n",
    "# profile_comments('https://www.csfd.cz/uzivatel/363-woody', driver)\n",
    "\n",
    "def profile_ratings(driver):\n",
    "    \n",
    "    current = driver.current_url\n",
    "    driver.get(current + '/hodnoceni/')\n",
    "    \n",
    "    ratings = driver.find_elements_by_class_name('rating')\n",
    "    \n",
    "    all_ratings = []\n",
    "    for rating in ratings:\n",
    "        rating = rating.get_attribute('alt')\n",
    "        if not rating:\n",
    "            all_ratings.append(0)\n",
    "        else:\n",
    "            all_ratings.append(len(rating))\n",
    "#         print(rating.get_attribute('alt'))\n",
    "    \n",
    "    next_run = True\n",
    "    i = 2\n",
    "    print(\"Prochazim stranky s hodnocenim\")\n",
    "    while next_run:\n",
    "        driver.get(current + 'hodnoceni/strana-' + str(i) + '/')\n",
    "        ratings = driver.find_elements_by_class_name('rating')\n",
    "        i += 1\n",
    "        \n",
    "        if len(ratings) == 0: # prazdna stranka\n",
    "            next_run = False\n",
    "            continue\n",
    "        \n",
    "        \n",
    "        for rating in ratings:\n",
    "            rating = rating.get_attribute('alt')\n",
    "            if not rating:\n",
    "                all_ratings.append(0)\n",
    "            else:\n",
    "                all_ratings.append(len(rating))\n",
    "\n",
    "    return all_ratings\n",
    "\n",
    "# @timing\n",
    "def profile_summary(url, print_command=False): # co kdyz nekdo zada platnou adresu ale nebude tam profil ... checknout url\n",
    "    \n",
    "    driver.get(url)\n",
    "    \n",
    "    try:\n",
    "        error = driver.find_element_by_id('pg-web-error') # nejake divne \n",
    "        if error:\n",
    "#             print(error.text)\n",
    "            raise ValueError(\"Neplatna url adresa\")\n",
    "    except NoSuchElementException:\n",
    "        pass\n",
    "    \n",
    "    \n",
    "    comments = profile_comments(driver)\n",
    "    \n",
    "    if print_command:\n",
    "        print(\"Profil:\", url)\n",
    "        print(\"Nenavistne komentare u filmu/serialu s vetsim hodnocenim nez 70%\")\n",
    "        print()\n",
    "    \n",
    "    evil_comments = Counter()\n",
    "    sum_of_comment_score = 0\n",
    "    for comment in comments:\n",
    "        \n",
    "#         sum_of_comment_score += comment.score # # bud tady pro vsechny filmy\n",
    "        if comment.approximate_movie_rating == \"red\": # pokud hodnoti cerveny film odpadem nebo 1 hvezdou - melo by jit bez if\n",
    "            \n",
    "            comment_text = comment.text\n",
    "            \n",
    "            printed = False\n",
    "            comment_text = replace_in_comment(comment_text, '**')\n",
    "            comment.text = comment_text\n",
    "            if \"**\" in comment_text:\n",
    "                printed=True\n",
    "            \n",
    "            sum_of_comment_score += comment.score # # nebo tady pro spatne hodnocene\n",
    "            if printed and print_command:\n",
    "                \n",
    "                print(comment.movie_name, movie_rating_to_stars(comment.rating), comment.score)\n",
    "                printmd(comment_text)\n",
    "                print()\n",
    "                \n",
    "            comment_words = comment_split(comment.text)\n",
    "            for word in comment_words:\n",
    "                evil_comments[word] += 1\n",
    "            \n",
    "    \n",
    "    if print_command:\n",
    "        print(\"Skore profilu:\", round(sum_of_comment_score,1))\n",
    "        print(\"Pomer unikatnich a vsech slov\", len(evil_comments)/sum(evil_comments.values()))\n",
    "        \n",
    "    profile_object = Profile(url, 0, comments, sum_of_comment_score)\n",
    "    return profile_object\n",
    "#     print(evil_comments)\n",
    "#     driver.get(url)\n",
    "#     ratings = profile_ratings(driver)\n",
    "    \n",
    "#     counter = Counter(ratings)\n",
    "#     print('Prumerne hodnoceni {} hvezdicky'.format(round(np.mean(ratings),1)))\n",
    "#     for i in range(5,-1,-1):\n",
    "#         if i != 0:\n",
    "#             print('{:>6} {:>5}'.format(i*'*', counter[i]))\n",
    "#         else:\n",
    "#             print('{:>6} {:>5}'.format('odpad!', counter[i]))"
   ]
  },
  {
   "cell_type": "code",
   "execution_count": 96,
   "metadata": {},
   "outputs": [],
   "source": [
    "class Movie:\n",
    "    \n",
    "    def __init__(self, czech_name, rating, comments, best_movie = None, fav_movie = None):\n",
    "        self.czech_name = czech_name\n",
    "        self.rating = rating\n",
    "        self.comments = comments\n",
    "        self.best_movie = best_movie\n",
    "        self.fav_movie = fav_movie\n",
    "        self.hate_score = self.hate()\n",
    "        \n",
    "    def hate(self):\n",
    "        if len(self.comments) == 0:\n",
    "            return 0\n",
    "        else:\n",
    "            total = 0\n",
    "            for comment in self.comments:\n",
    "                total += comment.score\n",
    "                \n",
    "            return total/len(self.comments)\n",
    "        \n",
    "    def __repr__(self):\n",
    "        return '{} Hodnoceni: {} Pocet nenavistnych komentaru: {}, Nenavist skore: {}'.format(self.czech_name, \n",
    "                                                                            self.rating,\n",
    "                                                                            len(self.comments),\n",
    "                                                                           round(self.hate_score, 2))\n",
    "\n",
    "    \n",
    "def get_transformed_comment(comment):\n",
    "    comment = get_comment_text(comment)\n",
    "    comment = remove_last_line_from_string(comment) # posledni radek je datum komentare\n",
    "    comment = comment.replace(\"*\", \"#\")\n",
    "    comment = replace_in_comment(comment, '**')\n",
    "    return comment\n",
    "    \n",
    "\n",
    "@timing\n",
    "def movie_summary(url, print_command=False):\n",
    "    \"\"\"\n",
    "    finds \n",
    "    \"\"\"\n",
    "    \n",
    "    if '/prehled/' in url:\n",
    "        url = url.replace('/prehled/', '/')\n",
    "    \n",
    "    driver.get(url+'/komentare/podle-rating/?all=1')\n",
    "    \n",
    "    full_czech_name = get_full_czech_name(driver).text\n",
    "    movie_rating = driver.find_element_by_class_name('average')\n",
    "    \n",
    "    best_movies = get_best_movie_score(driver)\n",
    "    favourite_movies = get_favourite_movie_score(driver)\n",
    "    \n",
    "    if favourite_movies:\n",
    "        favourite_movies = favourite_movies.text\n",
    "    if best_movies:\n",
    "        best_movies = best_movies.text\n",
    "    \n",
    "    comments = driver.find_elements_by_xpath('//*[starts-with(@id, \"comment\")]')\n",
    "    \n",
    "    comment_objects = []\n",
    "    for comment in tqdm(reversed(comments)):\n",
    "        rating = get_comment_rating(comment)\n",
    "        \n",
    "        if rating is None:\n",
    "            continue\n",
    "             \n",
    "        # zrychli vypocet, ale prijde o schopnost vypsat counter hodnoceni\n",
    "        if rating > 1:\n",
    "            break\n",
    "        \n",
    "        trash_comment = get_transformed_comment(comment)\n",
    "        author = get_comment_author(comment)\n",
    "        profile_link = comment.find_element_by_css_selector(\".author [href]\").get_attribute('href')\n",
    "\n",
    "        comment_object = Comment(rating, trash_comment, 'red', full_czech_name, author = profile_link) # FIX\n",
    "        comment_objects.append(comment_object)\n",
    "        \n",
    "    comment_objects.sort(key=lambda x: x.score, reverse=True)\n",
    "    \n",
    "    movie_object = Movie(full_czech_name, movie_rating.text, comment_objects, best_movies, favourite_movies)\n",
    "    \n",
    "    if print_command:\n",
    "        print(full_czech_name)\n",
    "        print(\"Hodnoceni filmu: {}\".format(movie_rating.text)) # co kdyz zatim nema rating\n",
    "        print(\"Hodnoceni pouze z komentaru: {}%\".format(int(round(np.mean(avg)*20,0)))) # hodnoceni lidi s komentari muze byt rozdilne od vsech hodnoceni\n",
    "        print()\n",
    "        if favourite_movies:\n",
    "            print(favourite_movies)\n",
    "        if best_movies:\n",
    "            print(best_movies)\n",
    "            \n",
    "        print('Pocet komentaru: {}'.format(len(comments)))\n",
    "        print('Pocet komentaru odpad nebo jedna *: {}'.format(len(comment_objects)))\n",
    "        print()\n",
    "                \n",
    "            \n",
    "    return movie_object\n",
    "    "
   ]
  },
  {
   "cell_type": "markdown",
   "metadata": {},
   "source": [
    "## Vytahovani informaci ze zebricku"
   ]
  },
  {
   "cell_type": "code",
   "execution_count": 67,
   "metadata": {},
   "outputs": [],
   "source": [
    "class leaderboard_item:\n",
    "    \n",
    "    def __init__(self, order, name, link, rating, number_of_ratings):\n",
    "        self.order = order\n",
    "        self.name = name\n",
    "        self.link = link\n",
    "        self.rating = rating\n",
    "        self.number_of_ratings = number_of_ratings\n",
    "        \n",
    "    def __repr__(self):\n",
    "        return  '{} {}, {}, {}'.format(self.order, self.name, self.rating, self.number_of_ratings)\n",
    "\n",
    "def csfd_leaderboards(type_of_board): \n",
    "    \n",
    "    url = ('https://www.csfd.cz/zebricky/' + type_of_board + '?show=complete')\n",
    "    driver.get(url)\n",
    "    items = driver.find_elements_by_xpath('/html/body/div[2]/div[3]/div[2]/table/tbody/tr')\n",
    "    \n",
    "    leaderboard_items = []\n",
    "    for item in tqdm(items):\n",
    "        \n",
    "        try:\n",
    "            order = item.find_element_by_class_name('order').text\n",
    "            name = item.find_element_by_class_name('film').text\n",
    "            link = item.find_element_by_css_selector(\".film [href]\").get_attribute('href')\n",
    "            rating = item.find_element_by_class_name('average').text\n",
    "            number_of_ratings = item.find_element_by_class_name('count').text\n",
    "            \n",
    "            board_item = leaderboard_item(order, name, link, rating, number_of_ratings)\n",
    "            leaderboard_items.append(board_item)\n",
    "            \n",
    "        except NoSuchElementException: # pravdepodobne prazdny <tr> element\n",
    "            continue\n",
    "            \n",
    "    return leaderboard_items\n",
    "\n",
    "\n",
    "# leaders = csfd_leaderboards('nejlepsi-filmy/')"
   ]
  },
  {
   "cell_type": "markdown",
   "metadata": {},
   "source": [
    "## Ukladani a nacitani ze souboru"
   ]
  },
  {
   "cell_type": "code",
   "execution_count": 28,
   "metadata": {
    "scrolled": true
   },
   "outputs": [],
   "source": [
    "def get_profiles_from_urls(profile, ids):\n",
    "    \"\"\" Z url adresy vrati profil objekt\n",
    "    \"\"\"\n",
    "     # odstraneni duplikatu (udelat lip, tohle nacita cely profil a az potom checkuje)\n",
    "    print(profile)\n",
    "    profile = profile_summary(profile)\n",
    "\n",
    "    if profile.id not in ids:\n",
    "        return profile\n",
    "    else:\n",
    "        return None\n",
    "        \n",
    "\n",
    "def store_id(ids):\n",
    "    \"\"\" Ulozi pole idecek do souboru\"\"\"\n",
    "    with open('ids.txt', 'a') as file:\n",
    "        for id in ids:\n",
    "            file.write(\"{} \".format(id))\n",
    "            \n",
    "def load_ids():\n",
    "    \"\"\" Nacte idcka ze souboru\"\"\"\n",
    "    out = []\n",
    "    with open('ids.txt', 'r') as f:\n",
    "        content = f.readlines()\n",
    "        if content:\n",
    "            for num in content[0].split():\n",
    "                out.append(int(num))\n",
    "\n",
    "    return out\n",
    "# profile_objects = get_profiles_from_urls(worst_profiles)\n",
    "\n",
    "def store_profiles(profile):\n",
    "    \"\"\" ulozi profilove objekty do souboru\"\"\"\n",
    "    if profile is None:\n",
    "        raise ValueError(\"None misto profilu\")\n",
    "        \n",
    "    with open('profiles.pkl', 'ab') as output:\n",
    "        add_id = []\n",
    "        \n",
    "        ids = load_ids() # nacteni souboru s IDcky\n",
    "            \n",
    "        if profile.id not in ids:\n",
    "            pickle.dump(profile, output, pickle.HIGHEST_PROTOCOL)\n",
    "            add_id.append(profile.id)\n",
    "            print('ADDING: ',profile.id)\n",
    "                \n",
    "        store_id(add_id)\n",
    "        \n",
    "\n",
    "def load_profiles():\n",
    "    \"\"\" Nacte vsechny profily ze souboru zpatky jako objekty\"\"\"\n",
    "    objs = []\n",
    "    with open('profiles.pkl', 'rb') as f:\n",
    "        \n",
    "        while 1:\n",
    "            try:\n",
    "                o = pickle.load(f)\n",
    "            except EOFError:\n",
    "                break\n",
    "            objs.append(o)\n",
    "    return objs\n",
    "        \n",
    "# load_profiles()\n",
    "def add_interesting_user(url, note=None):\n",
    "    with open('interesting.txt', 'a') as file:\n",
    "        file.write(url)\n",
    "        if note is not None:\n",
    "            file.write(' ## '+note)\n",
    "        file.write('\\n')"
   ]
  },
  {
   "cell_type": "markdown",
   "metadata": {},
   "source": [
    "## Vysledky"
   ]
  },
  {
   "cell_type": "code",
   "execution_count": null,
   "metadata": {},
   "outputs": [],
   "source": [
    "movies = []\n",
    "for l in leaders[40:60]:\n",
    "    print(l)\n",
    "    movies.append(movie_summary(l.link))\n",
    "    \n",
    "    "
   ]
  },
  {
   "cell_type": "code",
   "execution_count": null,
   "metadata": {},
   "outputs": [],
   "source": [
    "worst_profiles = []\n",
    "aids = load_ids()\n",
    "\n",
    "for movie in movies:\n",
    "    comments = movie.comments\n",
    "    print(movie.czech_name)\n",
    "    for comment in comments:\n",
    "        if comment.score > 1:\n",
    "            id_re = re.match(\".*/uzivatel/(\\d+)\", comment.author)\n",
    "            try:\n",
    "                id_re = int(id_re.group(1))\n",
    "            except:\n",
    "                raise ValueError(\"TOHLE BY SE NEMELO STAT U NORMALNIHO URL\")\n",
    "            \n",
    "            if id_re not in aids:\n",
    "                print(comment.author,comment.score)\n",
    "                worst_profiles.append(comment.author)\n",
    "                printmd(comment.text)\n",
    "            \n",
    "    print()"
   ]
  },
  {
   "cell_type": "code",
   "execution_count": 80,
   "metadata": {},
   "outputs": [
    {
     "name": "stdout",
     "output_type": "stream",
     "text": [
      "https://www.csfd.cz/uzivatel/653636-panfilmu/ 32.12\n",
      "https://www.csfd.cz/uzivatel/138677-c0r0ner/ 127.99\n",
      "https://www.csfd.cz/uzivatel/352146-foogas/ 11.49\n",
      "https://www.csfd.cz/uzivatel/172466-frajer42/ 1686.76\n",
      "https://www.csfd.cz/uzivatel/516743-buchannon/ 125.99000000000001\n",
      "https://www.csfd.cz/uzivatel/181204-mikulisek/ 4\n",
      "https://www.csfd.cz/uzivatel/34405-merggie/ 1.98\n",
      "https://www.csfd.cz/uzivatel/242454-maq/ 547.320000000001\n",
      "https://www.csfd.cz/uzivatel/62237-carthorias/ 30.470000000000002\n",
      "https://www.csfd.cz/uzivatel/360367-desmi/ 84.41000000000001\n",
      "https://www.csfd.cz/uzivatel/214956-karel321/ 62\n",
      "https://www.csfd.cz/uzivatel/466252-ozzy2/ 252.34000000000003\n",
      "https://www.csfd.cz/uzivatel/76909-burygol/ 10\n",
      "https://www.csfd.cz/uzivatel/144208-biopler/ 24.0\n",
      "https://www.csfd.cz/uzivatel/666970-megahead/ 2\n",
      "https://www.csfd.cz/uzivatel/354044-damnsinead/ 8.65\n",
      "https://www.csfd.cz/uzivatel/437840-dominique55/ 22\n",
      "https://www.csfd.cz/uzivatel/38661-jarvis/ 11.47\n",
      "https://www.csfd.cz/uzivatel/210238-una111/ 7.99\n",
      "https://www.csfd.cz/uzivatel/231218-heroine/ 420.83000000000004\n",
      "https://www.csfd.cz/uzivatel/307637-rusty09/ 28\n",
      "https://www.csfd.cz/uzivatel/320698-asura/ 2\n",
      "https://www.csfd.cz/uzivatel/336947-markyzgero/ 15.98\n",
      "https://www.csfd.cz/uzivatel/94859-martymcfly89/ 15.450000000000001\n",
      "https://www.csfd.cz/uzivatel/293227-papadoce/ 38.290000000000006\n",
      "https://www.csfd.cz/uzivatel/420195-mpet/ 13.48\n",
      "https://www.csfd.cz/uzivatel/548170-indominus/ 59.46\n",
      "https://www.csfd.cz/uzivatel/287677-prechytraly/ 13.45\n",
      "https://www.csfd.cz/uzivatel/142650-kingik/ 585.6800000000001\n",
      "https://www.csfd.cz/uzivatel/8239-kurcatovium/ 17.630000000000003\n",
      "https://www.csfd.cz/uzivatel/471891-mira-l/ 183.46000000000004\n",
      "https://www.csfd.cz/uzivatel/517936-conriocht/ 96.97\n",
      "https://www.csfd.cz/uzivatel/403723-jason-x/ 199.0\n",
      "https://www.csfd.cz/uzivatel/412191-nikitoss95/ 8.98\n",
      "https://www.csfd.cz/uzivatel/160205-mark1983/ 55.49\n",
      "https://www.csfd.cz/uzivatel/7650-snowgirl/ 7.950000000000001\n",
      "https://www.csfd.cz/uzivatel/73509-brutale/ 21.1\n",
      "https://www.csfd.cz/uzivatel/304002-dejvid17/ 1.49\n",
      "https://www.csfd.cz/uzivatel/149092-schuldiner/ 330.93999999999994\n",
      "https://www.csfd.cz/uzivatel/173253-hmyzovrah/ 6.8100000000000005\n",
      "https://www.csfd.cz/uzivatel/83064-angus250/ 48.38\n",
      "https://www.csfd.cz/uzivatel/290882-lukynike/ 2\n",
      "https://www.csfd.cz/uzivatel/240037-dm1tr1j/ 118.47\n",
      "https://www.csfd.cz/uzivatel/52201-lipi21/ 108.12000000000002\n",
      "https://www.csfd.cz/uzivatel/194643-hero-bk/ 124.19000000000001\n",
      "https://www.csfd.cz/uzivatel/442149-tribe/ 7.0\n",
      "https://www.csfd.cz/uzivatel/122485-augustin43/ 24.96\n",
      "https://www.csfd.cz/uzivatel/71155-sabrewulf/ 280.67\n",
      "https://www.csfd.cz/uzivatel/212345-waltosin/ 4.62\n",
      "https://www.csfd.cz/uzivatel/181635-draggo/ 31.99\n",
      "https://www.csfd.cz/uzivatel/44862-drbac/ 4.0\n",
      "https://www.csfd.cz/uzivatel/554976-fausst/ 18.990000000000002\n",
      "https://www.csfd.cz/uzivatel/75075-ottik274/ 2.1500000000000004\n",
      "https://www.csfd.cz/uzivatel/48748-teeage/ 16.46\n",
      "https://www.csfd.cz/uzivatel/9326-vitex/ 18.65\n",
      "https://www.csfd.cz/uzivatel/252961-roman-ticka/ 34.49\n",
      "https://www.csfd.cz/uzivatel/142462-m1k9/ 30.96\n",
      "https://www.csfd.cz/uzivatel/234937-mr-lolofon/ 7.640000000000001\n",
      "https://www.csfd.cz/uzivatel/144297-pitryx/ 418.90000000000003\n",
      "https://www.csfd.cz/uzivatel/81600-gjjm/ 64.63\n",
      "https://www.csfd.cz/uzivatel/353470-br23/ 25.630000000000003\n",
      "https://www.csfd.cz/uzivatel/55302-jesterak/ 100.08\n",
      "https://www.csfd.cz/uzivatel/339997-mig29/ 14.100000000000001\n",
      "https://www.csfd.cz/uzivatel/159400-rocky62/ 32.5\n",
      "https://www.csfd.cz/uzivatel/72150-mat21/ 9.99\n",
      "https://www.csfd.cz/uzivatel/534346-guran/ 92.0\n",
      "https://www.csfd.cz/uzivatel/76752-zool-b/ 21.13\n",
      "https://www.csfd.cz/uzivatel/202628-atheas/ 28.97\n",
      "https://www.csfd.cz/uzivatel/271097-teseth/ 113.19\n",
      "https://www.csfd.cz/uzivatel/678774-nathaniell/ 174.44\n",
      "https://www.csfd.cz/uzivatel/46418-morien/ 173.17999999999998\n",
      "https://www.csfd.cz/uzivatel/26324-easaque/ 550.0600000000002\n",
      "https://www.csfd.cz/uzivatel/236488-terrordrome/ 19.3\n",
      "https://www.csfd.cz/uzivatel/65042-kery/ 13.5\n",
      "https://www.csfd.cz/uzivatel/176179-john986/ 22.55\n",
      "https://www.csfd.cz/uzivatel/211752-savel/ 7.48\n",
      "https://www.csfd.cz/uzivatel/54293-belbo/ 91.29\n",
      "https://www.csfd.cz/uzivatel/116125-rickyfitts/ 20.970000000000002\n",
      "https://www.csfd.cz/uzivatel/65109-charge/ 106.96\n",
      "https://www.csfd.cz/uzivatel/316647-kristianzen/ 59.66\n",
      "https://www.csfd.cz/uzivatel/325570-odstin-modre/ 6\n",
      "https://www.csfd.cz/uzivatel/391718-datel13/ 8\n",
      "https://www.csfd.cz/uzivatel/13242-junglista/ 16.96\n",
      "https://www.csfd.cz/uzivatel/30340-salahadin/ 170.49\n",
      "https://www.csfd.cz/uzivatel/172813-sfinx/ 97.59\n",
      "https://www.csfd.cz/uzivatel/287640-palisander/ 13.0\n",
      "https://www.csfd.cz/uzivatel/73470-zekon/ 104.16\n",
      "https://www.csfd.cz/uzivatel/303055-dart-nader/ 5.5\n",
      "https://www.csfd.cz/uzivatel/141370-daemonicky/ 922.54\n",
      "https://www.csfd.cz/uzivatel/245754-papuchalk/ 19.080000000000002\n",
      "https://www.csfd.cz/uzivatel/119319-niethustra/ 17.0\n",
      "https://www.csfd.cz/uzivatel/56380-disease/ 8\n",
      "https://www.csfd.cz/uzivatel/365393-nightporter/ 17.8\n",
      "https://www.csfd.cz/uzivatel/191362-aichwald/ 28.19\n",
      "https://www.csfd.cz/uzivatel/213148-enzo555/ 4.5\n",
      "https://www.csfd.cz/uzivatel/66623-emilio/ 9.0\n",
      "https://www.csfd.cz/uzivatel/359298-mine-slayer/ 31.59\n",
      "https://www.csfd.cz/uzivatel/239461-monggol/ 17.0\n",
      "https://www.csfd.cz/uzivatel/53175-kolmi/ 29.0\n",
      "https://www.csfd.cz/uzivatel/287564-mujotec/ 10\n",
      "https://www.csfd.cz/uzivatel/105552-figuto/ 24.0\n",
      "https://www.csfd.cz/uzivatel/407805-kaucukovnik/ 3.49\n",
      "https://www.csfd.cz/uzivatel/178748-kacenkin/ 13.920000000000002\n",
      "https://www.csfd.cz/uzivatel/613956-rhea/ 34.96\n",
      "https://www.csfd.cz/uzivatel/306891-ekoterorista/ 1.98\n",
      "https://www.csfd.cz/uzivatel/37771-aciss/ 16.64\n",
      "https://www.csfd.cz/uzivatel/117977-ghatos/ 81.88999999999999\n",
      "https://www.csfd.cz/uzivatel/185814-iku75/ 11.760000000000002\n",
      "https://www.csfd.cz/uzivatel/214367-sarfian/ 41.0\n",
      "https://www.csfd.cz/uzivatel/37188-pauloz/ 11.0\n",
      "https://www.csfd.cz/uzivatel/154624-furmi/ 25.97\n",
      "https://www.csfd.cz/uzivatel/254644-gilestel/ 10.5\n",
      "https://www.csfd.cz/uzivatel/48404-phaloc/ 4\n",
      "https://www.csfd.cz/uzivatel/212145-dandislav1991/ 6\n",
      "https://www.csfd.cz/uzivatel/53707-trescha/ 6.2700000000000005\n",
      "https://www.csfd.cz/uzivatel/8678-marog/ 2\n",
      "https://www.csfd.cz/uzivatel/435178-karolek/ 22\n",
      "https://www.csfd.cz/uzivatel/304850-tess-s/ 3.8200000000000003\n",
      "https://www.csfd.cz/uzivatel/434539-mr-hahaha/ 2\n",
      "https://www.csfd.cz/uzivatel/16889-jancll/ 8\n",
      "https://www.csfd.cz/uzivatel/196404-qvitek/ 8.5\n",
      "https://www.csfd.cz/uzivatel/207190-jjpkohoutek/ 5.98\n",
      "https://www.csfd.cz/uzivatel/331376-blezg/ 30.98\n",
      "https://www.csfd.cz/uzivatel/108873-shimargh/ 45.0\n",
      "https://www.csfd.cz/uzivatel/9882-eagle-eye/ 40.42\n",
      "https://www.csfd.cz/uzivatel/271701-dacsus/ 89.9\n",
      "https://www.csfd.cz/uzivatel/551405-mrfreaky/ 2\n",
      "https://www.csfd.cz/uzivatel/549166-anglanek/ 20.27\n",
      "https://www.csfd.cz/uzivatel/229421-oskiii/ 38.5\n",
      "https://www.csfd.cz/uzivatel/193165-nurder/ 2\n",
      "https://www.csfd.cz/uzivatel/204589-gurdor/ 2\n",
      "https://www.csfd.cz/uzivatel/289752-hove/ 2\n",
      "https://www.csfd.cz/uzivatel/48023-lekr/ 39.68\n",
      "https://www.csfd.cz/uzivatel/68-boredseal/ 50.5\n",
      "https://www.csfd.cz/uzivatel/160695-apolskis/ 19.63\n",
      "https://www.csfd.cz/uzivatel/538893-knoxwile100/ 4\n",
      "https://www.csfd.cz/uzivatel/88393-phillippus/ 39.15\n",
      "https://www.csfd.cz/uzivatel/92489-jellini/ 63.5\n",
      "https://www.csfd.cz/uzivatel/89804-godcomplex/ 94.26\n",
      "https://www.csfd.cz/uzivatel/164566-gastovski/ 50.43\n",
      "https://www.csfd.cz/uzivatel/518399-ekdahl/ 52.0\n",
      "https://www.csfd.cz/uzivatel/135298-nascendi/ 43.49\n",
      "https://www.csfd.cz/uzivatel/320662-krissty/ 4\n",
      "https://www.csfd.cz/uzivatel/312799-miki8888/ 12\n",
      "https://www.csfd.cz/uzivatel/30934-xaver/ 30.98\n",
      "https://www.csfd.cz/uzivatel/98429-spygirl/ 8.45\n",
      "https://www.csfd.cz/uzivatel/47588-kebom/ 17.490000000000002\n",
      "https://www.csfd.cz/uzivatel/117067-pelopras/ 4\n",
      "https://www.csfd.cz/uzivatel/18508-4k7/ 2.5\n",
      "https://www.csfd.cz/uzivatel/306565-khardemon/ 15.65\n",
      "https://www.csfd.cz/uzivatel/456042-sandai/ 26.630000000000003\n",
      "https://www.csfd.cz/uzivatel/23152-turtles-33/ 4\n",
      "https://www.csfd.cz/uzivatel/29061-paulograne/ 22.060000000000002\n",
      "https://www.csfd.cz/uzivatel/126327-hemp/ 6.5\n",
      "https://www.csfd.cz/uzivatel/433080-dajaaaa/ 58.26\n",
      "https://www.csfd.cz/uzivatel/65282-d-moore/ 23.62\n",
      "https://www.csfd.cz/uzivatel/37628-amores/ 3.6500000000000004\n",
      "https://www.csfd.cz/uzivatel/64159-issoumaila/ 18.93\n",
      "https://www.csfd.cz/uzivatel/228715-marek29/ 29.54\n",
      "https://www.csfd.cz/uzivatel/134708-sanikope/ 53.27\n",
      "https://www.csfd.cz/uzivatel/30701-alonsanfan/ 69.85\n",
      "https://www.csfd.cz/uzivatel/67619-trinculo/ 25.439999999999998\n",
      "https://www.csfd.cz/uzivatel/26152-lucinkapes/ 17.0\n",
      "https://www.csfd.cz/uzivatel/242014-jackye/ 6\n",
      "https://www.csfd.cz/uzivatel/322131-bubblegum/ 79.30000000000001\n",
      "https://www.csfd.cz/uzivatel/58123-ondrzej/ 3.0\n",
      "https://www.csfd.cz/uzivatel/12066-vlada-xxx/ 7.630000000000001\n",
      "https://www.csfd.cz/uzivatel/28102-salamandrr/ 32.97\n",
      "https://www.csfd.cz/uzivatel/98144-rami/ 23.5\n",
      "https://www.csfd.cz/uzivatel/378251-fiftis/ 38.49\n",
      "https://www.csfd.cz/uzivatel/127693-jonkl/ 2\n",
      "https://www.csfd.cz/uzivatel/403092-vanadada/ 32.94\n",
      "https://www.csfd.cz/uzivatel/139934-oyer/ 9.63\n",
      "https://www.csfd.cz/uzivatel/441114-kosir/ 6.49\n",
      "https://www.csfd.cz/uzivatel/351620-deizolator/ 22\n",
      "https://www.csfd.cz/uzivatel/163977-vikki/ 956.52\n",
      "https://www.csfd.cz/uzivatel/78240-manonfire/ 43.6\n",
      "https://www.csfd.cz/uzivatel/10159-kiddo/ 73.46\n",
      "https://www.csfd.cz/uzivatel/328501-raggnar/ 39.5\n",
      "https://www.csfd.cz/uzivatel/464115-wolf28/ 6.49\n",
      "https://www.csfd.cz/uzivatel/175600-mazlik4/ 41.28\n",
      "https://www.csfd.cz/uzivatel/117840-merenre/ 95.99\n",
      "https://www.csfd.cz/uzivatel/261018-topi80/ 41.989999999999995\n",
      "https://www.csfd.cz/uzivatel/8963-yurayura/ 66.45\n",
      "https://www.csfd.cz/uzivatel/37440-mazic/ 30.370000000000005\n",
      "https://www.csfd.cz/uzivatel/26390-zelvopyr/ 31.589999999999996\n",
      "https://www.csfd.cz/uzivatel/45164-abes/ 17.96\n",
      "https://www.csfd.cz/uzivatel/135976-kyblik78/ 3.99\n",
      "https://www.csfd.cz/uzivatel/254991-rysafi/ 9.64\n",
      "https://www.csfd.cz/uzivatel/4097-radko/ 32.459999999999994\n",
      "https://www.csfd.cz/uzivatel/159338-kagemush/ 20.48\n",
      "https://www.csfd.cz/uzivatel/165155-kolikokoli/ 2\n",
      "https://www.csfd.cz/uzivatel/521543-ladypupu/ 2\n",
      "https://www.csfd.cz/uzivatel/50662-leatherfac/ 102.71\n",
      "https://www.csfd.cz/uzivatel/205290-valkyria/ 2\n",
      "https://www.csfd.cz/uzivatel/209501-porp/ 5.99\n",
      "https://www.csfd.cz/uzivatel/143101-kvbahnhof/ 2\n",
      "https://www.csfd.cz/uzivatel/1346-honajz/ 194.67999999999995\n",
      "https://www.csfd.cz/uzivatel/181629-mngwa/ 26.97\n",
      "https://www.csfd.cz/uzivatel/224002-carney/ 6\n",
      "https://www.csfd.cz/uzivatel/401395-lilloos/ 11.5\n",
      "https://www.csfd.cz/uzivatel/35706-ironfood/ 6.99\n",
      "https://www.csfd.cz/uzivatel/171917-misuge/ 2.5\n",
      "https://www.csfd.cz/uzivatel/309783-johnnybane/ 2\n",
      "https://www.csfd.cz/uzivatel/444433-zrzka82/ 2.5\n",
      "https://www.csfd.cz/uzivatel/92821-martell47/ 28.82\n",
      "https://www.csfd.cz/uzivatel/205100-xxxxxxxx/ 49.76\n",
      "https://www.csfd.cz/uzivatel/678848-rmar/ 8\n",
      "https://www.csfd.cz/uzivatel/344610-leftflank/ 10.49\n",
      "https://www.csfd.cz/uzivatel/18906-slasher/ 25.97\n",
      "https://www.csfd.cz/uzivatel/129757-chlo0opek/ 17.130000000000003\n",
      "https://www.csfd.cz/uzivatel/307434-clark-kent/ 7.49\n",
      "https://www.csfd.cz/uzivatel/482757-daertelon/ 13.0\n",
      "https://www.csfd.cz/uzivatel/198373-mammutcz/ 5.0\n",
      "https://www.csfd.cz/uzivatel/172649-papy/ 6.15\n",
      "https://www.csfd.cz/uzivatel/45828-psychor/ 30.310000000000002\n",
      "https://www.csfd.cz/uzivatel/51691-dr-fish/ 13.49\n",
      "https://www.csfd.cz/uzivatel/200663-trustme/ 2\n",
      "https://www.csfd.cz/uzivatel/298383-marounek/ 2\n",
      "https://www.csfd.cz/uzivatel/361218-rogerone/ 2\n",
      "https://www.csfd.cz/uzivatel/575712-hockauf/ 2\n",
      "https://www.csfd.cz/uzivatel/586916-solisoli/ 18.0\n",
      "https://www.csfd.cz/uzivatel/274818-deny-bat/ 2\n",
      "https://www.csfd.cz/uzivatel/240809-unlikelyhero/ 16\n",
      "https://www.csfd.cz/uzivatel/683909-pushkybezhky/ 17.8\n",
      "https://www.csfd.cz/uzivatel/27382-bebacek/ 17.98\n",
      "https://www.csfd.cz/uzivatel/241032-echelon1/ 37.62\n",
      "https://www.csfd.cz/uzivatel/291635-chundys/ 28.000000000000004\n",
      "https://www.csfd.cz/uzivatel/385603-frype/ 4.5\n",
      "https://www.csfd.cz/uzivatel/11856-kyrtab/ 2\n",
      "https://www.csfd.cz/uzivatel/37253-shona/ 1.98\n",
      "https://www.csfd.cz/uzivatel/125113-majduska/ 1.98\n",
      "https://www.csfd.cz/uzivatel/229524-dr-thuray/ 2.48\n",
      "https://www.csfd.cz/uzivatel/164660-havr/ 1.49\n",
      "https://www.csfd.cz/uzivatel/5272-jiri-k/ 19.65\n",
      "https://www.csfd.cz/uzivatel/74093-ashtangi/ 23.93\n",
      "https://www.csfd.cz/uzivatel/84878-toddb/ 8.63\n",
      "https://www.csfd.cz/uzivatel/433717-fallanga/ 17.97\n",
      "https://www.csfd.cz/uzivatel/41321-honza7/ 14.95\n",
      "https://www.csfd.cz/uzivatel/73106-bobsule/ 3.14\n",
      "https://www.csfd.cz/uzivatel/79244-1945/ 28.380000000000003\n",
      "https://www.csfd.cz/uzivatel/555046-pold/ 103.76000000000002\n",
      "https://www.csfd.cz/uzivatel/69273-burg/ 43.120000000000005\n",
      "https://www.csfd.cz/uzivatel/37175-daktari/ 1.98\n",
      "https://www.csfd.cz/uzivatel/276723-brondy/ 48.61\n",
      "https://www.csfd.cz/uzivatel/17684-fracek/ 28.98\n",
      "https://www.csfd.cz/uzivatel/441973-brumbrum/ 300.2900000000001\n",
      "https://www.csfd.cz/uzivatel/442325-andydufrsn/ 4\n",
      "https://www.csfd.cz/uzivatel/55319-marty7cz/ 34.9\n",
      "https://www.csfd.cz/uzivatel/601484-jan-racek/ 8.600000000000001\n",
      "https://www.csfd.cz/uzivatel/193126-tessie/ 10.469999999999999\n",
      "https://www.csfd.cz/uzivatel/417821-the-cloudie/ 4.48\n",
      "https://www.csfd.cz/uzivatel/524459-listo/ 15.97\n",
      "https://www.csfd.cz/uzivatel/177125-desade/ 18.0\n",
      "https://www.csfd.cz/uzivatel/245764-fiijay/ 6\n",
      "https://www.csfd.cz/uzivatel/38720-fantomask/ 10.5\n",
      "https://www.csfd.cz/uzivatel/344701-alphatown/ 8\n",
      "https://www.csfd.cz/uzivatel/96860-monyfik/ 16.92\n",
      "https://www.csfd.cz/uzivatel/307884-radocation/ 4.3\n",
      "https://www.csfd.cz/uzivatel/237384-ninonl/ 33.0\n",
      "https://www.csfd.cz/uzivatel/293659-ledkodlaq/ 6.5\n",
      "https://www.csfd.cz/uzivatel/211511-mosnak/ 68.00999999999999\n",
      "https://www.csfd.cz/uzivatel/88058-ekomo/ 2\n",
      "https://www.csfd.cz/uzivatel/399365-hisnuklusi/ 2.5\n",
      "https://www.csfd.cz/uzivatel/399537-simmons/ 44.64\n",
      "https://www.csfd.cz/uzivatel/195495-barkas/ 3.3200000000000003\n",
      "https://www.csfd.cz/uzivatel/130923-mirkap/ 6\n",
      "https://www.csfd.cz/uzivatel/404876-chatterley/ 2\n",
      "https://www.csfd.cz/uzivatel/246440-space-weaver/ 2\n",
      "https://www.csfd.cz/uzivatel/237173-tetka-betka/ 2.1500000000000004\n",
      "https://www.csfd.cz/uzivatel/74909-pajislav/ 1.49\n",
      "https://www.csfd.cz/uzivatel/188139-josieaddms/ 141.76\n",
      "https://www.csfd.cz/uzivatel/511366-slavikzbojni/ 30.39\n",
      "https://www.csfd.cz/uzivatel/132818-kozel84/ 73.56\n",
      "https://www.csfd.cz/uzivatel/198888-1990jirik/ 27.599999999999998\n",
      "https://www.csfd.cz/uzivatel/278113-boncher/ 7.63\n",
      "https://www.csfd.cz/uzivatel/6650-hogo-fogo/ 14.48\n",
      "https://www.csfd.cz/uzivatel/103855-pb2/ 5.0\n",
      "https://www.csfd.cz/uzivatel/44798-lyzar/ 8.11\n",
      "https://www.csfd.cz/uzivatel/379424-jirilapus/ 6\n",
      "https://www.csfd.cz/uzivatel/125208-katullka/ 102.73\n",
      "https://www.csfd.cz/uzivatel/304734-cubalibrecz/ 9.940000000000001\n",
      "https://www.csfd.cz/uzivatel/290063-kiv/ 10\n",
      "https://www.csfd.cz/uzivatel/749174-redeaglesk/ 207.98000000000002\n",
      "https://www.csfd.cz/uzivatel/93823-dezert/ 35.96\n",
      "https://www.csfd.cz/uzivatel/500095-robfi/ 142.47\n",
      "https://www.csfd.cz/uzivatel/576259-mamutol/ 36.5\n",
      "https://www.csfd.cz/uzivatel/182277-tryskomys/ 2\n",
      "https://www.csfd.cz/uzivatel/206100-nicneznam/ 52.57\n",
      "https://www.csfd.cz/uzivatel/45228-vironey/ 35.99\n",
      "https://www.csfd.cz/uzivatel/360129-jarmila68/ 14.740000000000002\n",
      "https://www.csfd.cz/uzivatel/455122-pantokrator/ 38.32\n",
      "https://www.csfd.cz/uzivatel/582917-sssiksseilor/ 212.15\n",
      "https://www.csfd.cz/uzivatel/136195-phoenixer/ 6\n",
      "https://www.csfd.cz/uzivatel/266561-misbos/ 34.36\n",
      "https://www.csfd.cz/uzivatel/77252-mraldridge/ 6\n",
      "https://www.csfd.cz/uzivatel/497312-tenpravy/ 2\n",
      "https://www.csfd.cz/uzivatel/2228-levente/ 33.980000000000004\n",
      "https://www.csfd.cz/uzivatel/3706-othello/ 20\n",
      "https://www.csfd.cz/uzivatel/269323-adam-bernau/ 27.13\n",
      "https://www.csfd.cz/uzivatel/218596-natura/ 31.44\n",
      "https://www.csfd.cz/uzivatel/122050-draculca/ 17.98\n",
      "https://www.csfd.cz/uzivatel/440733-zimi/ 54.529999999999994\n",
      "https://www.csfd.cz/uzivatel/241734-fondak/ 8.97\n",
      "https://www.csfd.cz/uzivatel/344858-pythonator/ 135.17999999999998\n",
      "https://www.csfd.cz/uzivatel/203042-sssssycak/ 11.940000000000001\n",
      "https://www.csfd.cz/uzivatel/373588-stuly/ 7.48\n",
      "https://www.csfd.cz/uzivatel/136614-nepl/ 5.62\n",
      "https://www.csfd.cz/uzivatel/341084-george16/ 2.99\n",
      "https://www.csfd.cz/uzivatel/267302-vorry/ 2.1500000000000004\n",
      "https://www.csfd.cz/uzivatel/276192-pharao20/ 5.98\n",
      "https://www.csfd.cz/uzivatel/100454-patriarch/ 2\n",
      "https://www.csfd.cz/uzivatel/313626-alfonzik/ 4\n",
      "https://www.csfd.cz/uzivatel/354059-j-a-m-a-l/ 28.0\n",
      "https://www.csfd.cz/uzivatel/162551-tynkaa/ 5.3100000000000005\n",
      "https://www.csfd.cz/uzivatel/204526-o-peta/ 8.5\n",
      "https://www.csfd.cz/uzivatel/50354-snorlax/ 99.76999999999998\n",
      "https://www.csfd.cz/uzivatel/267613-idahutt/ 41.45\n",
      "https://www.csfd.cz/uzivatel/634495-ruthen/ 4\n",
      "https://www.csfd.cz/uzivatel/733618-rumplcimprca/ 64.49000000000001\n",
      "https://www.csfd.cz/uzivatel/633599-elestet/ 34.86\n",
      "https://www.csfd.cz/uzivatel/7360-dero/ 3.0\n",
      "https://www.csfd.cz/uzivatel/162825-latharn/ 6.98\n",
      "https://www.csfd.cz/uzivatel/62077-ilemas/ 152.4\n",
      "https://www.csfd.cz/uzivatel/266312-corbi/ 4.5\n",
      "https://www.csfd.cz/uzivatel/275920-markeee/ 2.5\n",
      "https://www.csfd.cz/uzivatel/360293-zencitizen/ 10.5\n",
      "https://www.csfd.cz/uzivatel/552284-masy10/ 2.48\n",
      "https://www.csfd.cz/uzivatel/271929-martin666/ 2\n",
      "https://www.csfd.cz/uzivatel/62861-gik/ 39.78\n",
      "https://www.csfd.cz/uzivatel/199116-corpsegrinder/ 138.63\n",
      "https://www.csfd.cz/uzivatel/42301-grizly007/ 106.8\n",
      "https://www.csfd.cz/uzivatel/536761-kourbezohne/ 2\n",
      "https://www.csfd.cz/uzivatel/56812-taffey/ 75.46000000000001\n",
      "https://www.csfd.cz/uzivatel/219063-martin1979/ 8\n",
      "https://www.csfd.cz/uzivatel/152445-tomes83/ 10.91\n",
      "https://www.csfd.cz/uzivatel/54175-butcher-of-blaviken/ 3.49\n",
      "https://www.csfd.cz/uzivatel/195646-danulinda/ 5.98\n",
      "https://www.csfd.cz/uzivatel/37225-petkon/ 4\n",
      "https://www.csfd.cz/uzivatel/218616-closed-eye/ 2.5\n",
      "https://www.csfd.cz/uzivatel/162828-megajalec/ 12.65\n",
      "https://www.csfd.cz/uzivatel/48049-merigieren/ 35.45\n",
      "https://www.csfd.cz/uzivatel/402961-doktor-zeus/ 2\n",
      "https://www.csfd.cz/uzivatel/263727-kucin/ 4\n",
      "https://www.csfd.cz/uzivatel/347390-hiddenwrath/ 8.5\n",
      "https://www.csfd.cz/uzivatel/248757-fooggyy7/ 35.459999999999994\n",
      "https://www.csfd.cz/uzivatel/296329-tulakfelix/ 7.0\n",
      "https://www.csfd.cz/uzivatel/309684-forum/ 20\n",
      "https://www.csfd.cz/uzivatel/145201-impaired/ 155.02\n",
      "https://www.csfd.cz/uzivatel/374576-shady24/ 13.47\n",
      "https://www.csfd.cz/uzivatel/225339-allshallfall/ 170.4\n",
      "https://www.csfd.cz/uzivatel/72265-filipvrbik/ 25.990000000000002\n",
      "https://www.csfd.cz/uzivatel/54703-krustyburg/ 21.130000000000003\n",
      "https://www.csfd.cz/uzivatel/30723-asader/ 4\n",
      "https://www.csfd.cz/uzivatel/381819-gremlin101/ 6.98\n",
      "https://www.csfd.cz/uzivatel/13568-mutace/ 14.0\n",
      "https://www.csfd.cz/uzivatel/481513-tom333/ 4.970000000000001\n",
      "https://www.csfd.cz/uzivatel/196923-liqid/ 6\n",
      "https://www.csfd.cz/uzivatel/1280-sta/ 24.5\n",
      "https://www.csfd.cz/uzivatel/11319-paascha/ 43.199999999999996\n",
      "[('Temný rytíř povstal (2012)', 46), ('Počátek (2010)', 34), ('Zmizelá (2014)', 32), ('Let číslo 93 (2006)', 29), ('Avatar (2009)', 25), ('Spalovač mrtvol (1968)', 24), ('Útěk do divočiny (2007)', 23), ('Avengers: Infinity War (2018)', 22), ('Ztraceni (TV seriál) (2004)', 21), ('Trainspotting (1996)', 19), ('Avengers (2012)', 19), ('Transformers (2007)', 19), ('Záhada Blair Witch (1999)', 18), ('Melancholia (2011)', 18), ('Bohemian Rhapsody (2018)', 18), ('2001: Vesmírná odysea (1968)', 17), ('Jurský svět (2015)', 17), ('Atlas mraků (2012)', 17), ('Interstellar (2014)', 17), ('Kult hákového kříže (1998)', 17), ('Alenka v říši divů (2010)', 16), ('Gilmorova děvčata (TV seriál) (2000)', 16), ('Přátelé (TV seriál) (1994)', 16), ('Amélie z Montmartru (2001)', 16), ('Fontána (2006)', 16), ('Hunger Games: Vražedná pomsta (2013)', 15), ('Věčný svit neposkvrněné mysli (2004)', 15), ('Strážci - Watchmen (2009)', 15), ('Wanted (2008)', 15), ('Jak jsem poznal vaši matku (TV seriál) (2005)', 14)]\n"
     ]
    }
   ],
   "source": [
    "def print_stored_profiles():\n",
    "    movie_counter = Counter()\n",
    "    stored_profiles = load_profiles()\n",
    "    for profile in stored_profiles:\n",
    "        if profile.score > 1:\n",
    "            print(profile.link, profile.score)\n",
    "            comments = profile.comments\n",
    "            for comment in comments:\n",
    "                movie_counter[comment.movie_name] += 1\n",
    "                \n",
    "    print(movie_counter.most_common(30))\n",
    "        \n",
    "print_stored_profiles()"
   ]
  },
  {
   "cell_type": "code",
   "execution_count": 61,
   "metadata": {
    "scrolled": true
   },
   "outputs": [
    {
     "data": {
      "application/vnd.jupyter.widget-view+json": {
       "model_id": "053b7cdb6670424a954817d6a7dda091",
       "version_major": 2,
       "version_minor": 0
      },
      "text/plain": [
       "HBox(children=(IntProgress(value=0, max=83), HTML(value='')))"
      ]
     },
     "metadata": {},
     "output_type": "display_data"
    },
    {
     "name": "stdout",
     "output_type": "stream",
     "text": [
      "https://www.csfd.cz/uzivatel/304734-cubalibrecz/\n",
      "ADDING:  304734\n",
      "https://www.csfd.cz/uzivatel/290063-kiv/\n",
      "ADDING:  290063\n",
      "https://www.csfd.cz/uzivatel/749174-redeaglesk/\n",
      "ADDING:  749174\n",
      "https://www.csfd.cz/uzivatel/93823-dezert/\n",
      "ADDING:  93823\n",
      "https://www.csfd.cz/uzivatel/500095-robfi/\n",
      "ADDING:  500095\n",
      "https://www.csfd.cz/uzivatel/576259-mamutol/\n",
      "ADDING:  576259\n",
      "https://www.csfd.cz/uzivatel/182277-tryskomys/\n",
      "ADDING:  182277\n",
      "https://www.csfd.cz/uzivatel/206100-nicneznam/\n",
      "ADDING:  206100\n",
      "https://www.csfd.cz/uzivatel/45228-vironey/\n",
      "ADDING:  45228\n",
      "https://www.csfd.cz/uzivatel/360129-jarmila68/\n",
      "ADDING:  360129\n",
      "https://www.csfd.cz/uzivatel/455122-pantokrator/\n",
      "ADDING:  455122\n",
      "https://www.csfd.cz/uzivatel/582917-sssiksseilor/\n",
      "ADDING:  582917\n",
      "https://www.csfd.cz/uzivatel/136195-phoenixer/\n",
      "ADDING:  136195\n",
      "https://www.csfd.cz/uzivatel/266561-misbos/\n",
      "ADDING:  266561\n",
      "https://www.csfd.cz/uzivatel/77252-mraldridge/\n",
      "ADDING:  77252\n",
      "https://www.csfd.cz/uzivatel/497312-tenpravy/\n",
      "ADDING:  497312\n",
      "https://www.csfd.cz/uzivatel/63075-ayax/\n",
      "ADDING:  63075\n",
      "https://www.csfd.cz/uzivatel/2228-levente/\n",
      "ADDING:  2228\n",
      "https://www.csfd.cz/uzivatel/3706-othello/\n",
      "ADDING:  3706\n",
      "https://www.csfd.cz/uzivatel/269323-adam-bernau/\n",
      "ADDING:  269323\n",
      "https://www.csfd.cz/uzivatel/218596-natura/\n",
      "ADDING:  218596\n",
      "https://www.csfd.cz/uzivatel/122050-draculca/\n",
      "ADDING:  122050\n",
      "https://www.csfd.cz/uzivatel/440733-zimi/\n",
      "ADDING:  440733\n",
      "https://www.csfd.cz/uzivatel/241734-fondak/\n",
      "ADDING:  241734\n",
      "https://www.csfd.cz/uzivatel/344858-pythonator/\n",
      "ADDING:  344858\n",
      "https://www.csfd.cz/uzivatel/203042-sssssycak/\n",
      "ADDING:  203042\n",
      "https://www.csfd.cz/uzivatel/373588-stuly/\n",
      "ADDING:  373588\n",
      "https://www.csfd.cz/uzivatel/136614-nepl/\n",
      "ADDING:  136614\n",
      "https://www.csfd.cz/uzivatel/341084-george16/\n",
      "ADDING:  341084\n",
      "https://www.csfd.cz/uzivatel/267302-vorry/\n",
      "ADDING:  267302\n",
      "https://www.csfd.cz/uzivatel/276192-pharao20/\n",
      "ADDING:  276192\n",
      "https://www.csfd.cz/uzivatel/100454-patriarch/\n",
      "ADDING:  100454\n",
      "https://www.csfd.cz/uzivatel/313626-alfonzik/\n",
      "ADDING:  313626\n",
      "https://www.csfd.cz/uzivatel/354059-j-a-m-a-l/\n",
      "ADDING:  354059\n",
      "https://www.csfd.cz/uzivatel/162551-tynkaa/\n",
      "ADDING:  162551\n",
      "https://www.csfd.cz/uzivatel/204526-o-peta/\n",
      "ADDING:  204526\n",
      "https://www.csfd.cz/uzivatel/50354-snorlax/\n",
      "ADDING:  50354\n",
      "https://www.csfd.cz/uzivatel/267613-idahutt/\n",
      "ADDING:  267613\n",
      "https://www.csfd.cz/uzivatel/634495-ruthen/\n",
      "ADDING:  634495\n",
      "https://www.csfd.cz/uzivatel/733618-rumplcimprca/\n",
      "ADDING:  733618\n",
      "https://www.csfd.cz/uzivatel/69765-makakus/\n",
      "ADDING:  69765\n",
      "https://www.csfd.cz/uzivatel/633599-elestet/\n",
      "ADDING:  633599\n",
      "https://www.csfd.cz/uzivatel/7360-dero/\n",
      "ADDING:  7360\n",
      "https://www.csfd.cz/uzivatel/162825-latharn/\n",
      "ADDING:  162825\n",
      "https://www.csfd.cz/uzivatel/62077-ilemas/\n",
      "ADDING:  62077\n",
      "https://www.csfd.cz/uzivatel/266312-corbi/\n",
      "ADDING:  266312\n",
      "https://www.csfd.cz/uzivatel/275920-markeee/\n",
      "ADDING:  275920\n",
      "https://www.csfd.cz/uzivatel/360293-zencitizen/\n",
      "ADDING:  360293\n",
      "https://www.csfd.cz/uzivatel/552284-masy10/\n",
      "ADDING:  552284\n",
      "https://www.csfd.cz/uzivatel/271929-martin666/\n",
      "ADDING:  271929\n",
      "https://www.csfd.cz/uzivatel/62861-gik/\n",
      "ADDING:  62861\n",
      "https://www.csfd.cz/uzivatel/199116-corpsegrinder/\n",
      "ADDING:  199116\n",
      "https://www.csfd.cz/uzivatel/42301-grizly007/\n",
      "ADDING:  42301\n",
      "https://www.csfd.cz/uzivatel/536761-kourbezohne/\n",
      "ADDING:  536761\n",
      "https://www.csfd.cz/uzivatel/147436-dsaiko/\n",
      "ADDING:  147436\n",
      "https://www.csfd.cz/uzivatel/56812-taffey/\n",
      "ADDING:  56812\n",
      "https://www.csfd.cz/uzivatel/219063-martin1979/\n",
      "ADDING:  219063\n",
      "https://www.csfd.cz/uzivatel/152445-tomes83/\n",
      "ADDING:  152445\n",
      "https://www.csfd.cz/uzivatel/54175-butcher-of-blaviken/\n",
      "ADDING:  54175\n",
      "https://www.csfd.cz/uzivatel/195646-danulinda/\n",
      "ADDING:  195646\n",
      "https://www.csfd.cz/uzivatel/37225-petkon/\n",
      "ADDING:  37225\n",
      "https://www.csfd.cz/uzivatel/218616-closed-eye/\n",
      "ADDING:  218616\n",
      "https://www.csfd.cz/uzivatel/162828-megajalec/\n",
      "ADDING:  162828\n",
      "https://www.csfd.cz/uzivatel/48049-merigieren/\n",
      "ADDING:  48049\n",
      "https://www.csfd.cz/uzivatel/402961-doktor-zeus/\n",
      "ADDING:  402961\n",
      "https://www.csfd.cz/uzivatel/263727-kucin/\n",
      "ADDING:  263727\n",
      "https://www.csfd.cz/uzivatel/347390-hiddenwrath/\n",
      "ADDING:  347390\n",
      "https://www.csfd.cz/uzivatel/248757-fooggyy7/\n",
      "ADDING:  248757\n",
      "https://www.csfd.cz/uzivatel/296329-tulakfelix/\n",
      "ADDING:  296329\n",
      "https://www.csfd.cz/uzivatel/309684-forum/\n",
      "ADDING:  309684\n",
      "https://www.csfd.cz/uzivatel/145201-impaired/\n",
      "ADDING:  145201\n",
      "https://www.csfd.cz/uzivatel/137527-dandapiper/\n",
      "ADDING:  137527\n",
      "https://www.csfd.cz/uzivatel/374576-shady24/\n",
      "ADDING:  374576\n",
      "https://www.csfd.cz/uzivatel/225339-allshallfall/\n",
      "ADDING:  225339\n",
      "https://www.csfd.cz/uzivatel/72265-filipvrbik/\n",
      "ADDING:  72265\n",
      "https://www.csfd.cz/uzivatel/54703-krustyburg/\n",
      "ADDING:  54703\n",
      "https://www.csfd.cz/uzivatel/30723-asader/\n",
      "ADDING:  30723\n",
      "https://www.csfd.cz/uzivatel/381819-gremlin101/\n",
      "ADDING:  381819\n",
      "https://www.csfd.cz/uzivatel/13568-mutace/\n",
      "ADDING:  13568\n",
      "https://www.csfd.cz/uzivatel/481513-tom333/\n",
      "ADDING:  481513\n",
      "https://www.csfd.cz/uzivatel/196923-liqid/\n",
      "ADDING:  196923\n",
      "https://www.csfd.cz/uzivatel/1280-sta/\n",
      "ADDING:  1280\n",
      "https://www.csfd.cz/uzivatel/11319-paascha/\n",
      "ADDING:  11319\n",
      "\n"
     ]
    }
   ],
   "source": [
    "ids = load_ids()\n",
    "# print(worst_profiles[23])\n",
    "# tmp =get_profiles_from_urls(worst_profiles[23], ids)\n",
    "# try:\n",
    "#     store_profiles(tmp)\n",
    "# except ValueError as e:\n",
    "#     print(e)\n",
    "for worst in tqdm(worst_profiles):\n",
    "    tmp = get_profiles_from_urls(worst, ids) # osetrit duplikaty ve worst, bude vracet None pokud id profilu bude v ids\n",
    "    try:\n",
    "        store_profiles(tmp)\n",
    "    except ValueError as e:\n",
    "        print(e)"
   ]
  },
  {
   "cell_type": "code",
   "execution_count": null,
   "metadata": {},
   "outputs": [],
   "source": [
    "'knihovny', 'průser', 'Serete', 'filozofující' - fuj, citace z filmu"
   ]
  },
  {
   "cell_type": "markdown",
   "metadata": {},
   "source": [
    "## Analyzy"
   ]
  },
  {
   "cell_type": "code",
   "execution_count": 107,
   "metadata": {},
   "outputs": [],
   "source": [
    "stored_profiles = load_profiles()"
   ]
  },
  {
   "cell_type": "code",
   "execution_count": 110,
   "metadata": {},
   "outputs": [],
   "source": [
    "def comments_to_dataframe():\n",
    "    all_comments = []\n",
    "    for profile in stored_profiles:\n",
    "        comments = profile.comments\n",
    "        all_comments = all_comments + comments\n",
    "    \n",
    "    frame = pd.DataFrame.from_records([comment.to_dict() for comment in all_comments if comment.rating <2 and comment.approximate_movie_rating == \"red\"])\n",
    "#     frame = frame.sort_values(by=['hate_score'], ascending=False)\n",
    "    return frame\n",
    "    \n",
    "    \n",
    "def profiles_to_dataframe():\n",
    "    frame = pd.DataFrame.from_records([profile.to_dict() for profile in stored_profiles])\n",
    "    return frame\n",
    "\n",
    "    \n",
    "# profiles_to_dataframe()"
   ]
  },
  {
   "cell_type": "code",
   "execution_count": 111,
   "metadata": {},
   "outputs": [
    {
     "data": {
      "text/html": [
       "<div>\n",
       "<style scoped>\n",
       "    .dataframe tbody tr th:only-of-type {\n",
       "        vertical-align: middle;\n",
       "    }\n",
       "\n",
       "    .dataframe tbody tr th {\n",
       "        vertical-align: top;\n",
       "    }\n",
       "\n",
       "    .dataframe thead th {\n",
       "        text-align: right;\n",
       "    }\n",
       "</style>\n",
       "<table border=\"1\" class=\"dataframe\">\n",
       "  <thead>\n",
       "    <tr style=\"text-align: right;\">\n",
       "      <th></th>\n",
       "      <th>id</th>\n",
       "      <th>num_of_comments</th>\n",
       "      <th>score</th>\n",
       "    </tr>\n",
       "  </thead>\n",
       "  <tbody>\n",
       "    <tr>\n",
       "      <th>3</th>\n",
       "      <td>172466</td>\n",
       "      <td>0</td>\n",
       "      <td>1686.76</td>\n",
       "    </tr>\n",
       "    <tr>\n",
       "      <th>184</th>\n",
       "      <td>163977</td>\n",
       "      <td>0</td>\n",
       "      <td>956.52</td>\n",
       "    </tr>\n",
       "    <tr>\n",
       "      <th>89</th>\n",
       "      <td>141370</td>\n",
       "      <td>0</td>\n",
       "      <td>922.54</td>\n",
       "    </tr>\n",
       "    <tr>\n",
       "      <th>29</th>\n",
       "      <td>142650</td>\n",
       "      <td>0</td>\n",
       "      <td>585.68</td>\n",
       "    </tr>\n",
       "    <tr>\n",
       "      <th>72</th>\n",
       "      <td>26324</td>\n",
       "      <td>0</td>\n",
       "      <td>550.06</td>\n",
       "    </tr>\n",
       "    <tr>\n",
       "      <th>...</th>\n",
       "      <td>...</td>\n",
       "      <td>...</td>\n",
       "      <td>...</td>\n",
       "    </tr>\n",
       "    <tr>\n",
       "      <th>124</th>\n",
       "      <td>366041</td>\n",
       "      <td>0</td>\n",
       "      <td>0.00</td>\n",
       "    </tr>\n",
       "    <tr>\n",
       "      <th>131</th>\n",
       "      <td>221906</td>\n",
       "      <td>0</td>\n",
       "      <td>0.00</td>\n",
       "    </tr>\n",
       "    <tr>\n",
       "      <th>18</th>\n",
       "      <td>15559</td>\n",
       "      <td>0</td>\n",
       "      <td>0.00</td>\n",
       "    </tr>\n",
       "    <tr>\n",
       "      <th>314</th>\n",
       "      <td>63075</td>\n",
       "      <td>0</td>\n",
       "      <td>0.00</td>\n",
       "    </tr>\n",
       "    <tr>\n",
       "      <th>230</th>\n",
       "      <td>441648</td>\n",
       "      <td>0</td>\n",
       "      <td>0.00</td>\n",
       "    </tr>\n",
       "  </tbody>\n",
       "</table>\n",
       "<p>381 rows × 3 columns</p>\n",
       "</div>"
      ],
      "text/plain": [
       "         id  num_of_comments    score\n",
       "3    172466                0  1686.76\n",
       "184  163977                0   956.52\n",
       "89   141370                0   922.54\n",
       "29   142650                0   585.68\n",
       "72    26324                0   550.06\n",
       "..      ...              ...      ...\n",
       "124  366041                0     0.00\n",
       "131  221906                0     0.00\n",
       "18    15559                0     0.00\n",
       "314   63075                0     0.00\n",
       "230  441648                0     0.00\n",
       "\n",
       "[381 rows x 3 columns]"
      ]
     },
     "execution_count": 111,
     "metadata": {},
     "output_type": "execute_result"
    }
   ],
   "source": [
    "profiles_frame = profiles_to_dataframe().sort_values(by=['score'], ascending=False)\n",
    "profiles_frame"
   ]
  },
  {
   "cell_type": "markdown",
   "metadata": {},
   "source": [
    "## Testovani konkretnich filmu a profilu"
   ]
  },
  {
   "cell_type": "code",
   "execution_count": 54,
   "metadata": {
    "scrolled": true
   },
   "outputs": [
    {
     "data": {
      "application/vnd.jupyter.widget-view+json": {
       "model_id": "74be651441e14b0ab2e97498813b66d3",
       "version_major": 2,
       "version_minor": 0
      },
      "text/plain": [
       "HBox(children=(IntProgress(value=1, bar_style='info', max=1), HTML(value='')))"
      ]
     },
     "metadata": {},
     "output_type": "display_data"
    },
    {
     "name": "stdout",
     "output_type": "stream",
     "text": [
      "Temný rytíř povstal\n",
      "Hodnoceni filmu: 86%\n",
      "Hodnoceni pouze z komentaru: 15%\n",
      "\n",
      "41. nejoblíbenější film\n",
      "131. nejlepší film\n",
      "Pocet komentaru: 3021\n",
      "Pocet komentaru odpad nebo jedna *: 91\n",
      "\n",
      "Vycet hodnoceni:\n",
      " *****     0\n",
      "  ****     0\n",
      "   ***     0\n",
      "    **     1\n",
      "     *    65\n",
      "odpad!    26\n",
      "Elapsed time: 12.288005352020264\n"
     ]
    },
    {
     "data": {
      "text/plain": [
       "Temný rytíř povstal Hodnoceni: 86% Pocet nenavistnych komentaru: 91, Nenavist skore: 2.22"
      ]
     },
     "execution_count": 54,
     "metadata": {},
     "output_type": "execute_result"
    }
   ],
   "source": [
    "movie_summary('https://www.csfd.cz/film/252669-temny-rytir-povstal/prehled/', print_command=True)"
   ]
  },
  {
   "cell_type": "code",
   "execution_count": 77,
   "metadata": {
    "scrolled": true
   },
   "outputs": [
    {
     "name": "stdout",
     "output_type": "stream",
     "text": [
      "Profil: https://www.csfd.cz/uzivatel/403723-jason-x/\n",
      "Nenavistne komentare u filmu/serialu s vetsim hodnocenim nez 70%\n",
      "\n",
      "Pasažéři (2016) odpad! 2\n"
     ]
    },
    {
     "data": {
      "text/markdown": [
       "Vysokoprocentní, ne-li koncentrovaný filmový hnůj, lovestory pro mentálně postižené, romantika pro chudé duchem. Čekal jsem nějaký průser, ale tohle předčilo i moje nejdivočejší představy. Dost možná vrchol demence moderní sci-fi scénáristiky, tedy \"sci-fi\"... Už jsem tu naplil na hodně hollywoodského pseudosci-fi svinstva, ale tenhle **retardovaný** potrat je zatím bez konkurence a zdaleka předčí všechna Elysia a jiný podobný komerční škvár. Uzavřu s panem rejžou Tydlydumem takovou tichou dohodu - pokud se někdy v budoucnosti objeví na filmovém sci-fi trhu ještě větší humáč než jeho Passengers, vrátím se sem a opravím moje hodnocení na aspoň jednu hvězdu za vizuál (za co taky jiného). Ale troufnu si směle tipnout, že se tak nikdy nestane."
      ],
      "text/plain": [
       "<IPython.core.display.Markdown object>"
      ]
     },
     "metadata": {},
     "output_type": "display_data"
    },
    {
     "name": "stdout",
     "output_type": "stream",
     "text": [
      "\n",
      "Jaffa (2009) odpad! 2\n"
     ]
    },
    {
     "data": {
      "text/markdown": [
       "Přiznávám, že můj odpad! je čistě tendenční ohodnocení, protože Jaffa je taktéž tendenční film. Co jím chtěla \"feministka a politická aktivistka\" Jedaja sdělit? Že izraelská společnost je nespravedlivá a plná předsudků vůči tamním Arabům? Božínku, a neplatí to snad desateronásobně i obráceně? A tahle patetická a notně přihlouplá mezináboženská lovestory se šablonovitými postavami má snad ony předsudky oslabit? Myslím, že většinu běžných izraelských Židů musí podobný snímek spíš znechutit, stejně jako mě třeba znechucují plky všelijakých pseudohumanistických pravdoláskařů, kteří hystericky hájí práva do Evropy přivandrovalých muslimů na úkor práv nás Evropanů. Ale přesně takovéhle **sračky** mají zjevně festivaloví diváci rádi, co naplat, kdo chce kam..."
      ],
      "text/plain": [
       "<IPython.core.display.Markdown object>"
      ]
     },
     "metadata": {},
     "output_type": "display_data"
    },
    {
     "name": "stdout",
     "output_type": "stream",
     "text": [
      "\n",
      "Ona (2013) odpad! 3.5\n"
     ]
    },
    {
     "data": {
      "text/markdown": [
       "Rooney Mara mi přijde jako zajímavá herečka, a proto se občas mrknu na její filmografii. A tak jsem se taky dostal k tomuhle filmu. Navíc bylo v anotaci cosi o sci-fi a umělé inteligenci, byl jsem tedy zvědavý dvojnásob. Nebudu to prodlužovat - je to příšerná **sračka.** Moje srážka s hollywoodskou představou romantiky byla bolestná a nemilosrdně krutá. Nevím, pro koho se tyhle filmy točí. Pro mimozemšťany? A nebo jsem mimozemšťan já? Každopádně nemůžu být stejný živočišný druh s někým, kdo dá téhle senilní, kýčovité, afektované, sentimentální, uslintané, užvaněné a AŽ NA PŮDU TRAPNÉ NUDĚ víc než dvě hvězdy. Opravdu hodně hodně dlouho už jsem neviděl tak nechutný filmový hnůj. A hodně dlouho teď nechci vidět ani pana Phoenixe, kterého jsem měl až dosud celkem v oblibě."
      ],
      "text/plain": [
       "<IPython.core.display.Markdown object>"
      ]
     },
     "metadata": {},
     "output_type": "display_data"
    },
    {
     "name": "stdout",
     "output_type": "stream",
     "text": [
      "\n",
      "Kolja (1996) odpad! 10\n"
     ]
    },
    {
     "data": {
      "text/markdown": [
       "Otázka pro křížovkáře - víte, jak se řekne \"typický příklad vykalkulované, lacině líbivé komerce na pět\"? Ano, samozřejmě Kolja. Stokrát **hnusnější** a slizštější než ten **nejhnusnější** a nejslizštější Špílberg, film, který je mi tak odporný, že už jen jeho samotný název ve mně vzbuzuje **zhnusený** třas celého těla a nutí mě ke křečovitým záchvatům ukrutného **blití.** 'Hezký český' **megashit** natočený prvoplánově tak, aby se líbil senilní oscarové komisi, všem uťápnutým čecháčkům, pravdoláskařům, prostě \"obyčejným lidičkám\"... takže v první řadě natočený pro prachy. Za to, že s touhle laskavě hřejivou ohavností oba Svěráci nadělali Čechům ve světě tolik ostudy, když s ní do nekonečna obsírali kdejaký podřadný festival, jsem se dlouho styděl do morku kostí a doufám, že za to oba jednou bolestivě shoří ve filmovém pekle. Od doby Kolji Svěráky bytostně nesnesu, i když toho staršího jsem měl kdysi rád a ještě Akumulátor se mi svého času docela líbil."
      ],
      "text/plain": [
       "<IPython.core.display.Markdown object>"
      ]
     },
     "metadata": {},
     "output_type": "display_data"
    },
    {
     "name": "stdout",
     "output_type": "stream",
     "text": [
      "\n",
      "Zkažená mládež (2007) odpad! 4\n"
     ]
    },
    {
     "data": {
      "text/markdown": [
       "Tenhle film mě znechutil a naštval, ale z úplně jiných důvodů, než zamýšlel. Namísto toho, aby na mě nějak emocionálně zapůsobila v něm zobrazená šikana, hnula mi žlučí jeho primitivní manipulace s divákem, jeho přehnané zobrazování nespravedlnosti, jeho vyumělkovanost, prvoplánová dojímavost, šablonovité postavy, laciná citová přepjatost a tak dále... Spoustu citlivých jedinců, kteří nějakou šikanu zažili na vlastní kůži, pak takovéhle povrchní citové porno musí znovu zbytečně traumatizovat. Copak vážně někdo věří tomu, že by se celá jedna třída skládala ze šikanujících **dementů,** včetně třídního premianta a navíc včetně všech holek, které by se tomu smály a považovaly by to za zábavu?? Že by ředitelka školy, všichni učitelé, rodiče i prarodiče byli tak slepí a tupí?? (A že by charakterního a rozumného Kaspara přitahovala hloupá **stádní** husa Thea?) Tak nevím, buď jsem měl štěstí, že jsem chodil do normálních tříd, a nebo tady někdo občas naivně sedá na lep nerealistické scénáristické fikci."
      ],
      "text/plain": [
       "<IPython.core.display.Markdown object>"
      ]
     },
     "metadata": {},
     "output_type": "display_data"
    },
    {
     "name": "stdout",
     "output_type": "stream",
     "text": [
      "\n",
      "Melancholia (2011) odpad! 40\n"
     ]
    },
    {
     "data": {
      "text/markdown": [
       "První polovina filmu: Extrémně a exkrementně **hnusná.** **Hnusní** byli účinkující herci i herečky a **hnusná** byla celá ta přízemní a duchoprázdná buržoazní sebranka, kterou představovali... Tedy **hnusná** vnitřně. Ale s těmi herci jsem to myslel doslova - ti byli **hnusní** nejen svými rolemi, ale byli i **hnusní** napohled, vzhledově. **Hnusná** byla Charlotte Rampling (i když tam jsem asi ovlivněný její **hnusnou** rolí - v osmém Dexterovi byla moc fajn). **Hnusná** byla Kirsten Dunst, jejíž obličej se stále více podobá na oteklé **prasečí** obličeje z nějakého holandského renesančního plátna (a to byla prosím tak rozkošné děvčátko v Interview with the Vampire) a jejíž teatrální a nemotorné kopulační pohyby na trávníku připomínaly spíš záchvat padoucnice a přivodily mi ukrutný záchvat smíchu (jediný v tomhle filmu). A vrcholně **hnusná** pak byla Charlotte Gainsbourg, z jejíž tlamy mi bylo opravdu fyzicky nevolno. **Hnusní** byli i všichni chlapi, tedy až na Uda Kiera, který je mi svou tváří i výrazem mírně šíleného a dekadentního nazisty sympatický. **Nejhnusnější** ze všeho byla ovšem kamera... Tedy ona ta kamera vlastně byla \"dogmatická\", takže to asi bylo umění... Ovšem na takové umění já z vysoka seru - dát kameru do ruky jakémukoliv **dementovi** z ulice, aby s ní všelijak švenkoval a zoomoval a třásl, já za umění nepovažuju. Druhá polovina filmu: Rádoby psychologizující extrémní a exkrementní rozplizlá nuda par excellence, na jejíž charakteristiku se mi nedostává vhodných slov, protože psát obsažně a květnatě o **hovně** prostě nedokážu. Kamera stále naprosto zhovadilá (tímto se omlouvám všem božím hovadům za toto adjektivum) a Gainsbourg i Dunst stále **hnusné.** Celkově tedy film hodnotím jako **hnusný** a nudný odpad. Rozčilují mě podobné plytké bláboly, tvářící se jako hlubokomyslný art. Dal bych aspoň jednu hvězdu za hudbu, ale pak si vzpomenu na kameru, a nelze. A to jsem se já **blbý** hejl nechal zlákat úvodními kýčovitě lepými obrazy a myslel si, že mě čeká nějaký meditativní a vizuálně krásný zážitek... Nasrat. Pardon za tento můj negativistický a vulgární komentář, ale musel jsem ten von Trierův **hnus** ze sebe zase nějak dostat pryč. A s touhle jeho **sračkou** také pryč, tedy do koše."
      ],
      "text/plain": [
       "<IPython.core.display.Markdown object>"
      ]
     },
     "metadata": {},
     "output_type": "display_data"
    },
    {
     "name": "stdout",
     "output_type": "stream",
     "text": [
      "\n",
      "Hitler: Vzestup zla (TV film) (2003) odpad! 6\n"
     ]
    },
    {
     "data": {
      "text/markdown": [
       "Tendenční pseudohistorická **sračka** s pitomým scénářem a s tak neuvěřitelně trapně přehrávajícím Carlylem, že jsem se na to místy až styděl koukat a ptal se, jestli tohle je opravdu myšleno vážně, nebo zda se snad nejedná o parodii. Podobné vylepšování skutečnosti a infantilní démonizování Adolfa Hitlera prokazuje antifašismu (s nímž se předpokládám tvůrci filmu ztotožňují) medvědí službu, což si ovšem ta banda **idiotů,** která tenhle potrat přivedla na svět, asi neuvědomuje. A nebo jim to je buřt, hlavně že se to bude líbit nevzdělaným **blbcům** v Americe a vydělá jim to nějaké love. Takové zhovadilosti netočili snad ani Sověti v éře studené války. Zájemcům o seriózní vykreslení historické skutečnosti doporučuju všemi deseti německý Der Untergang, a nebo ještě lépe přečíst si nějaké serióní knihy. Před tímhle karikaturním paskvilem důrazně varuju."
      ],
      "text/plain": [
       "<IPython.core.display.Markdown object>"
      ]
     },
     "metadata": {},
     "output_type": "display_data"
    },
    {
     "name": "stdout",
     "output_type": "stream",
     "text": [
      "\n",
      "Iron Man 3 (2013) * 22\n"
     ]
    },
    {
     "data": {
      "text/markdown": [
       "Pár docela vtipných momentů a hlášek, pár docela dobrých scén, svým celkovým vyzněním ovšem **dementní** **megasračka** primárně určená americkým dětem nebo **retardovaným** dospělým. Jako **dementní** **megasračky** jsem odhodil i oba předchozí díly, aniž bych je vydržel dokoukat - sotva jsem je dokázal proklikat bez toho, abych se trapností nepropadl a **hnusem** nepoblil. Pak jsem si tady od někoho přečetl, že Iron Man 3 je oproti dvěma předešlým mnohem lepší, tak jsem ho tedy zkusil. A úspěšně letí do koše za prvním a druhým. Downey je stále nekonečně nesnesitelný **kretén,** Iron Man je bezkonkurenčně nejtrapnější a **nejidiotštější** comicsová postava jakou znám, a děj filmu je zahuštěným koncentrátem huráamerického **debilismu,** dětinsky **přiblblého** patriotismu a uslintaného pathosu. **Hnus.**"
      ],
      "text/plain": [
       "<IPython.core.display.Markdown object>"
      ]
     },
     "metadata": {},
     "output_type": "display_data"
    },
    {
     "name": "stdout",
     "output_type": "stream",
     "text": [
      "\n",
      "Billy Elliot (2000) * 2.5\n"
     ]
    },
    {
     "data": {
      "text/markdown": [
       "Jedna dáma mi doporučila tenhle film. Pak jsem si k němu přečetl několik komentářů, ve kterých chlapi plakali dojetím a rozplývali se blahem, no a to už jsem byl chycený na udičku. Minimálně jsem byl zvědavý, jak na mě tenhle doják a trhač diváckých bodů zapůsobí; jsem totiž tak trochu cynické **prase** a na \"tyhle\" filmy většinou reaguju jako býk na muletu... Nebudu to protahovat - Billy Elliot na mě zapůsobil zvratkopudně. Samozřejmě že ne kvůli svému tématu (ať se každý věnuje tomu čemu chce a má orientaci jaká mu vyhovuje), nýbrž kvůli jeho formě - pathetický, kýčovitý a nasládlý blábol, který jako by vypadl z dílny nějakého nestvůrného křížence Špílberga se Svěrákem - hřejivé a laskavé bahno banality. Tahle průměrná, středněproudá, podbízivá, vyumělkovaná, obehraná, vypočitatelná a otravná NUDA par excellence tady má 85%?? Vox populi, vox Dei? Ho hó, to by tedy potom Bůh musel být pes. Nebo ovce. Jedna za hudbu, tedy ne za tu otřesnou cajdákovitou filmovou hudbu, ale za skladby použité ve filmu (T-Rex, The Clash, Čajkovskij...)"
      ],
      "text/plain": [
       "<IPython.core.display.Markdown object>"
      ]
     },
     "metadata": {},
     "output_type": "display_data"
    },
    {
     "name": "stdout",
     "output_type": "stream",
     "text": [
      "\n",
      "Pomsta mrtvého muže (2013) * 12.5\n"
     ]
    },
    {
     "data": {
      "text/markdown": [
       "Komická figurka Colin Šašek Farrell coby nelítostný mstitel své zavražděné ženušky i dcerušky a zabiják profesionálních zabijáků, původně ovšem obyčejný inženýr z Maďarska přišedší do USA, země zaslíbené, za svým americkým snem... Už jen za tenhle nadprůměrně **retardovaný** syžet se patří dát ihned jednu hvězdu dolů, aniž by soudný člověk z filmu musel vidět byť jen minutu. Další hvězda nemilosrdně dolů za vysoce **dementní** zvratkopudné scény, ve kterých Šašek vzpomíná na svou mrtvou rodinku, přehrává si třeba rodinná videa, slzí u nich, a do toho hraje utahaná hudba. **Hnus.** Další srážka za scény, ve kterých parta dětí pokřikuje a útočí na chuděrku postiženou zohavenou... Točí se snad probůh tyhle filmy pro oligofreniky? Takže to máme mínus tři. Dál - on ho nezabil, ona to neposlala; provařené a **blbé** klišé a čtvrtá hvězda pryč. Pak závěrečný souboj, ve kterém inženýr László Kerik zlikviduje ca dvacet po zuby ozbrojených gangsterů poté, co vletí (sic) autem do baráku. Samozřejmě ihned hvězda dolů. Jestli dobře počítám, to už je nula a nula = odpad! Jenže úplný závěr je asi nejhorší z celého filmu - \"Nezabil jsem tě, protože oni mají tebe!\" a pak zakrvácená a uslzená líbačka v metru za zvuků nějakého odporně slizkého cajdáku. Tedy resultát je ten, že postupoval-li bych při hodnocení důsledně, musel bych dát mínus jedna, což ovšem pochopitelně nelze. Takže tenhle můj traktát byl jen pro mou úlevu, dávám jednu hvězdu za snahu a hážu tuhle obrovskou **sračku** navždy do koše. Jo a málem bych zapomněl - naprosto chápu, že Noomi Monster Rapace chtěla odkráglovat toho ožralého dědka, kvůli kterému měla tak jetý fejs. Ale nechápu, že ze všeho nejdřív nechtěla oddělat svou nemožně vlezlou a otravnou matku. A pro zajímavost - Isabelle Hupert, která si střihla její roli, měla sama ještě stokrát příšernější matku (Annie Girardot) coby Pianistka. Zajímavé..."
      ],
      "text/plain": [
       "<IPython.core.display.Markdown object>"
      ]
     },
     "metadata": {},
     "output_type": "display_data"
    },
    {
     "name": "stdout",
     "output_type": "stream",
     "text": [
      "\n",
      "Divoši (2012) * 2\n"
     ]
    },
    {
     "data": {
      "text/markdown": [
       "Tohle byl prý velký kinohit, hm. Extrémně hloupý snímek pro tu hloupější polovinu náctiletých, jehož hrdinové jsou dva vypatlaní pěstitelé konopí a jejich společná plytká plážová blonďatá přítelkyně. A všichni dohromady jsou děsně kúl a sexy a hustý a libový... Děj a dialogy na mentální úrovni béčkové latinskoamerické telenovely. A ani Del Toro to nezachrání. Jedna hvězda za snahu a šup s touhle **sračkou** navždy do koše."
      ],
      "text/plain": [
       "<IPython.core.display.Markdown object>"
      ]
     },
     "metadata": {},
     "output_type": "display_data"
    },
    {
     "name": "stdout",
     "output_type": "stream",
     "text": [
      "\n",
      "Svěrací kazajka (2005) * 8\n"
     ]
    },
    {
     "data": {
      "text/markdown": [
       "Když někdo drze vykrade Londonova Tuláka po hvězdách, byla by slušnost to aspoň zmínit třeba na plakátu nebo v titulcích... co, páni scénáristi? Když někdo navíc tuhle látku zprasí tím, že z ní vyrobí hollywoodsky **stupidní** prvoplánový doják a pseudoromanťák, celý **zasviněný** uslintaným melodramatickým pathosem, zasloužil by svěrací kazajku a zavřít do boxu. Věčně uslzený Brody a **blbě** čumící Knightley mi nehezky podráždili nervovou soustavu, zase jeden večer v **hajzlu,** do řiti..."
      ],
      "text/plain": [
       "<IPython.core.display.Markdown object>"
      ]
     },
     "metadata": {},
     "output_type": "display_data"
    },
    {
     "name": "stdout",
     "output_type": "stream",
     "text": [
      "\n",
      "Správci osudu (2011) * 14\n"
     ]
    },
    {
     "data": {
      "text/markdown": [
       "Krista boha to je teda nápad - spářit ve filmu jednu z nekrásnějších žen ve vesmíru s jednou z nejnesympatičtějších držek v Hollywoodu. A navíc bytostně nesnáším ambiciózní politiky. A ze všech politiků nejvíc ty americké, s těmi jejich teatrálními proslovy a jednoduchými (=zjednodušenými) frázemi pro tupé pologramotné **stádo...** \"Ladies and Gentlemen - we got him!\" apod. No nic. Takže za Emily pět, za pana Držku v roli amerického politika odpad! To dělá dvě až tři. Dál: Emily hraje **hnusnou** flundru, která se už po pár větách cucá na pánským **hajzlu** s cizím chlápkem a ještě k tomu s panem Držkou. A žere mu jeho **idiotský** vtípky a nuceně a křečovitě se jim směje. Slabé dvě. A dál: Ve filmu hraje i spousta andělů 007 a všichni jsou hrozné svině, až na jednoho, který je hodný... a který je samozřejmě **negr.** Takže opět ukázkově **dementní** ukázka pozitivní diskriminace. A dál: The Adjustment Bureau je asi stejná sci-fi, jako je sci-fi třeba Groundhog Day - je to možná \"fi\", ale určitě ne \"sci\". A Groundhog Day je na rozdíl od téhle senilně růžovobrýlové pitominy aspoň vtipný. Jo a pardon, to nejdůležitější jsem ještě nenapsal - je to stručně a výstižně řečeno pseudoromantická harlekýnkovská rosamundí **sračka.** Celý filmový štáb a všechny, kterým se tohle líbilo, prosím okamžitě vyresetovat."
      ],
      "text/plain": [
       "<IPython.core.display.Markdown object>"
      ]
     },
     "metadata": {},
     "output_type": "display_data"
    },
    {
     "name": "stdout",
     "output_type": "stream",
     "text": [
      "\n",
      "Plán útěku (2013) * 10\n"
     ]
    },
    {
     "data": {
      "text/markdown": [
       "Neuvěřitelný průser. A nepochopitelný, naprosto nepochopitelný. Nechápu, proč se Sly po svých úspěšných The Expendables a Arnold po svém skvělém comebacku v The Last Stand propůjčili téhle **retardované** **debilitě.** Možná mi něco uniklo, možná to měl být pokus o návrat k ryzímu přímočarému \"osmdesátkovému\" akčňáku s jemnou nadsázkou... Ne, to ne, to byly právě oba zmiňované předchozí filmy, tohle byla lobotomizovaná filmová břečka. Navíc se strašlivě trapnou rolí pro Arnolda. A ten konec, achich ouvej, ten konec... Kdyby v tom hráli nějací neznámí okurkové, řeknu si celkem slušný a zajímavý pokus a dám tři. Ale od filmu se Slyem, Arnoldem, Jimem, Vincentem i Vinniem jsem čekal něco úplně jiného. Navíc se mi zvedal kufr z toho potupného **ližprdelistického** bratření se s nečistými mohamedánskými **držkami,** asi úlitba tomu, aby se film dobře prodával i v zemích pod vlajkou s půlměsícem. **Hnus.**"
      ],
      "text/plain": [
       "<IPython.core.display.Markdown object>"
      ]
     },
     "metadata": {},
     "output_type": "display_data"
    },
    {
     "name": "stdout",
     "output_type": "stream",
     "text": [
      "\n",
      "Texaský masakr motorovou pilou (1974) * 2\n"
     ]
    },
    {
     "data": {
      "text/markdown": [
       "To, že je tenhle film opěvovaný jako \"klasika\" ještě neznamená, že k němu budu patolízalsky uctivý. Popravdě přiznávám, že jeho o bezmála třicet let mladší remake se mi líbí neporovnatelně víc. Horrory ze sedmdesátek mě až na výjimky ničím neoslovují - nemožně nudné a nenápadité scénáristické postupy, mizerné \"herecké\" výkony a naprosto zoufalé \"akční\" scény jsou zpravidla jejich hlavní charakteristikou. A tady mi ještě navíc dlouho pil krev exhibující oligofrenik na vozíku. Zajímavá byla jen scéna se stopujícím šíleným řezníkem se zálibou v nožích a amatérské fotografii, no a taky mě trochu pobavil dědeček. Ale samotný závěr připomínal spíš hodně nepodařenou parodii natočenou za účasti ochotnického souboru složeného z chovanců nějakého vesnického blázince. Nikdy víc. / Šmarjá jak teď čtu některé komentáře, začínám mít pocit, že jsem snad viděl jiný film se stejným názvem - absolutně nechápu, jak může na téhle amatérské a podřadné **ultradebilitě** spatřovat někdo něco děsivého..."
      ],
      "text/plain": [
       "<IPython.core.display.Markdown object>"
      ]
     },
     "metadata": {},
     "output_type": "display_data"
    },
    {
     "name": "stdout",
     "output_type": "stream",
     "text": [
      "\n",
      "96 hodin (2008) * 6\n"
     ]
    },
    {
     "data": {
      "text/markdown": [
       "Zdejší hodnocení téhle **blbé** slátaniny (86%) je mi naprosto nepochopitelné. Dédy Neeson, bývalý elitní specnaz, zachraňuje svoji dcerku ze spárů albánských obchodníků s bílým masem ve Francii. Což o to, slušný béčkový námět, až potud by to ušlo, navíc je ve skvělé formě a stylově odkrágluje spoustu Albánců... No a každý moudrý a soudný člověk samozřejmě ví, že mrtvý Albánec je dobrý Albánec. Ale: 1)Na to, že film nemá bez titulků ani devadesát minut, je trochu otravné, že divák musí skoro půl hodiny trpět extrémně hloupým a únavně klišovitým začátkem. A závěrečná scéna je bez slitování na \"odpad!\" 2)Jeho dcerka je tak otřesně pitomé, afektované a rozmazlené tele, že ji vůbec nemáte chuť vidět zachráněnou... vlastně ji nemáte chuť vidět vůbec. 3)Zápletka je neskutečně **stupidní** - scénáře o yankeeských měšťácích ve spárech zdegenerovaných jižanských buranů bere samozřejmě každý s nadsázkou, ale scénář o unášení nevinných turistek a jejich nucení k prostituci, který se pokouší tvářit smrtelně vážně, je k smíchu. O taťkově vypátrání a zlikvidování skoro celé albánské mafie v Paříži raději taktně pomlčím... A ta **fantasmagorická** závěrečná dražba pannen s jejich následným transportem šejkovou lodí po Seině... opět škoda slov. 4)\"Marko Hodža\"...hm, to je asi tak pravděpodobné jméno, jako třeba muslim Mordechaj bin Ládin, nebo Žid Muhammad Zylberstein. Zkrátka američtí scénárističtí tupci opět v akci. Proti bourneovkám je tohle senilní blábol. Každopádně ale film obsahuje důležitý vzkaz dnešním prostopášným dívkám - zůstaňte pannami a dostanete se možná do luxusního harému nějakého bohatého Arabáče. Vy ostatní budete v unimobuňkách a s herákem v žilách obsluhovat leda nemyté a primitivní stavební dělníky z Balkánu a východní Evropy."
      ],
      "text/plain": [
       "<IPython.core.display.Markdown object>"
      ]
     },
     "metadata": {},
     "output_type": "display_data"
    },
    {
     "name": "stdout",
     "output_type": "stream",
     "text": [
      "\n",
      "Trosečník (2000) * 14\n"
     ]
    },
    {
     "data": {
      "text/markdown": [
       "Z jistých společenských důvodů jsem byl nucený podruhé v životě zkouknout tenhle sentimentální filmový sajrajt a doufám že i naposled. Divák s IQ < 100 si díky němu jistě uvědomí spoustu do té doby netušených věcí, například že žijeme v materiálním nadbytku, že bereme za samozřejmé tak důležité věci jako třeba zapalovač, nebo že když někomu řekneme \"za chvíli jsem zpátky\", nemusí to být vždycky pravda. Zemeckis si tímhle **retardovaným** výpotkem stabilně upevnil svou druhou pozici v žánru \"středoproudový, polopatický, líbivý, laskavě-hřejivý kýč\" v těsném závěsu za mistrem podobných komerčních ohavností Špílbergem. A dvě ikony hereckého slizkého patosu, Hanks & Hunt, splnily do puntíku moje očekávání. Hanks se vlastně dokonce ještě překonal a strčil do kapsy i roztomilého mentála Gumpa. Nesnáším toho chlapa, **hnusí** se mi jak mluví, **hnusí** se mi jak chodí, **hnusí** se mi jak kouká, **hnusí** se mi jak celkově vypadá. Chtěl jsem dát dvě hvězdy za trosečnické scény z ostrova, ale závěr se sexy rančerkou mě přiměl k vyzvrácení večeře a k pomyslnému konstatování že \"v tom **dementovi** Gumpovi byly aspoň pěkný písničky, ale tohle je fakt jenom senilní **sračka\".**"
      ],
      "text/plain": [
       "<IPython.core.display.Markdown object>"
      ]
     },
     "metadata": {},
     "output_type": "display_data"
    },
    {
     "name": "stdout",
     "output_type": "stream",
     "text": [
      "\n",
      "Star Wars: Poslední z Jediů (2017) * 4\n"
     ]
    },
    {
     "data": {
      "text/markdown": [
       "Další jedovatě rozvleklý kousek infantilní hvězdněválkové série, plný patetických keců, \"humoru\" pro děti prvního stupně ZŠ a podbarvený otravně banální \"špílbergovskou\" hudbou. Všichni obvyklí a \"oblíbení\" trapáci jsou opět na svých místech - roztomile neohrabaný kouličkovatý robot, zlaťouškatý homorobot, degensky kňourající chlupáč, spousta spoustička legračních roztomilouškých emzáčků a fůra dalších **debilních** postav, jako třeba jedna tlustá Asiatka nebo nanicovatá tuctová buchta coby nová rytířka Jedi. A jako maskot matriarchálního pravdoláskařského odbojového hnutí, poslušně panáčkuje slavná legenda Skywalker, s vizáží přizdisráče a s charismatem poslintaného strejdy přespávajícího v tramvajích. Tímhle hnojem se musí každý soudný člověk zákonitě proklikávat. Jediná chvílemi jakž takž zajímavá postava je Kylo Ren, dokud z něho potměšilý scénárista neudělá úplného pitomce. Jsem znechucený, dvě a půl hodiny života v **hajzlu.**"
      ],
      "text/plain": [
       "<IPython.core.display.Markdown object>"
      ]
     },
     "metadata": {},
     "output_type": "display_data"
    },
    {
     "name": "stdout",
     "output_type": "stream",
     "text": [
      "\n",
      "Vražda v Orient expresu (2017) * 4\n"
     ]
    },
    {
     "data": {
      "text/markdown": [
       "Ne nadarmo se říká, že poturčenec horší Turka. A tak stejně jako Brit Ritchie nedávno ryze hollywoodsky zprznil šaškem Downem Juniorem Doyleova Holmese, zprznil teď jiný Brit Branagh podobným způsobem Christiina Poirota. A to jednak sám sebou, tedy svým teatrálním přehráváním a nesympatickou tlamou, druhak svým popkulturním a multikulturním pojetím slavné knižní předlohy. Ještě bych snad zkousnul trapné entrée z protektorátního Jeruzaléma, křečovitě devótní vložku \"Mohammed, my friend!\" z Cařihradu, desítky metrů vysoký železniční most z dřevěných trámů (\"wow!\"), nebo patetický a po hollywoodsku vygradovaný závěr. Ale propašovat do lůna Orient Expresu třicátých let pravdoláskařského **negerského** doktora píglujícího bílou volnomyšlenkářku, je opravdu **hnus.** Nezbývá teď než doufat, že Branagh pojde dřív, než ještě stačí zprasit mou oblíbenou Smrt na Nilu, k čemuž se očividně chystá. S odporem a opovržením hážu jednu zimomřivou hvězdičku za asketickou Pénelopu, stále charmantní Michelle, dobře namaskovaného Johnnyho a nějaké ty kýčovitě pěkné pohledy na města a krajinky."
      ],
      "text/plain": [
       "<IPython.core.display.Markdown object>"
      ]
     },
     "metadata": {},
     "output_type": "display_data"
    },
    {
     "name": "stdout",
     "output_type": "stream",
     "text": [
      "\n",
      "Wonder Woman (2017) * 8\n"
     ]
    },
    {
     "data": {
      "text/markdown": [
       "Z kvazimytologického úvodu aby Hésiodos s Homérem dostali v Elysiu škytavku. Ale co, je to comics a ne historická studie, říkal jsem si. Ostrov Tiramisu se trikmejkrům povedl, nařachané amazonské chlapice spolu hezky trénovaly a WW slibovala vizuálně nadmíru pohlednou, i když lobotomizovanou rubačku... No, nebudu to prodlužovat, tenhle film mi za to nestojí. Tupě šablonovitá, tendenční, pseudohumanistická, patetická, infantilní a hlavně nudná **debilita,** kterou bych možná shledal aspoň roztomile **blboučkou,** kdyby se divákovi neustále nesnažila \"nenápadně\" podsouvat nekonečnou řadu všelijakých klišé a \"pravd\". A z trojlístku slizký blondýn - mohamedánský šašek - oligofrenní **dement** (Spud) mi bylo po celou dobu na **blití.**"
      ],
      "text/plain": [
       "<IPython.core.display.Markdown object>"
      ]
     },
     "metadata": {},
     "output_type": "display_data"
    },
    {
     "name": "stdout",
     "output_type": "stream",
     "text": [
      "\n",
      "Velká ryba (2003) * 2\n"
     ]
    },
    {
     "data": {
      "text/markdown": [
       "Spolu s úděsnou Planetou opic nejslabší a nejnudnější Burton, se kterým jsem měl tu čest... nebo spíš smůlu. Patetický hnůj, sentimentální blábol, slizký kýč, zdejším diváctvem nepochopitelně nadhodnocený a oblíbený. Dospívám opět k názoru, že jsem na téhle planetě omylem, pokud se podobná líbivá a laskavě-hřejivá svinstva pohybují na čelných místech nějakých žebříčků popularity. Vox populi, vox bovis. Dvě hodiny života nenávratně v **hajzlu,** končím, odesílám a jdu se spravit nějakým šťavnatým béčkem."
      ],
      "text/plain": [
       "<IPython.core.display.Markdown object>"
      ]
     },
     "metadata": {},
     "output_type": "display_data"
    },
    {
     "name": "stdout",
     "output_type": "stream",
     "text": [
      "\n",
      "Strašáci (1971) * 4\n"
     ]
    },
    {
     "data": {
      "text/markdown": [
       "Přesně jak jsem čekal, o několik tříd horší než remake, tyhle staré \"thrillery\" jsou většinou nepochopitelně špatně napsané i zahrané... Námět je rámcově výborný a situování děje na anglický venkov mezi zaostalé a **retardované** **ovcomrdy** je sice zajímavé, ale tím to končí, dál už je většinou všechno špatně. Mizérie scénáře i hereckých výkonů Straw Dogs 1971 obzvlášť vynikne právě při porovnání s jeho o čtyřicet let mladším jmenovcem. Nejhorší (a nejsměšnější) je film tam, kde se snaží být nejvypjatější, třeba při \"znásilňování\" Amy, nebo při závěrečném dobývání domu. Dále mi vadila scénáristická kostrbatost - jednotlivé scény na sebe vůbec nenavazují hladce a plynule, jako by snad nějaký šílený střihač nějaké meziscény z filmu vystříhal (a zároveň je přitom jeho stopáž zbytečně dlouhá). Další slabinou je Hoffmanova slepicovitá žena, otravná a hloupá postava zahraná navíc špatnou herečkou; a nabízí se i řečnická otázka - proč by si probůh v reálném životě bral matematický intelektuál za ženu tak povrchní a hloupou vesnickou husu? Ještě hloupější a hůř zahraná je pak postava vousatého plesnivého dědka-otce pohřešované poběhlice Janice. Tragikomičnost téhle figury opět zvýrazní porovnání s novou verzí, ve které ji geniálně ztvárnil James Woods. Naprosto otřesný je pak hýkající a chichotající se pitomec v bekovce, kvůli kterému nedám ani druhou hvězdu. A co měly probůh znamenat ty zpomalené záběry? Atd atd, zkrátka nudné, hloupé, nevěrohodné, špatně zrežírované."
      ],
      "text/plain": [
       "<IPython.core.display.Markdown object>"
      ]
     },
     "metadata": {},
     "output_type": "display_data"
    },
    {
     "name": "stdout",
     "output_type": "stream",
     "text": [
      "\n",
      "Jurský park (1993) * 8\n"
     ]
    },
    {
     "data": {
      "text/markdown": [
       "Nemusím snad číst všech zdejších 1056 komentářů k tvrzení, že určitě nejsem první (a asi ani poslední) kdo prohlásí, že Zemanova Cesta do pravěku je mu stokrát milejší, než tenhle Špílbergův laskavě hřejivý a bezduchý paskvil podle celkem dobré Crichtonovy knihy. Potupně přiznávám, že v době premiéry, v časech svého **blbého** mládí, jsem na tenhle filmový cajdák šel dokonce do kina. Ach ano, v životě jsem se natropil spousty pitomostí. Jo, dinosauři jsou udělaní hezky a jako kluk bych z nich byl perplex. A dál? Nesnáším ten špílbergovský mix akce, rodinného filmu a nesnesitelně **hnusné** vlezlé hudby, nesnáším jeho filmové děti i jeho ostatní ploché filmové postavy, nesnáším **debilní** pathos a senilní \"humor\" jeho dialogů. Navíc bytostně nesnáším Neila a nemám rád ani divnou Dernovou (i když role v Blue Velvet jí sedla), no a Goldblum s Jacksonem to fakt nezachrání. Jurassic Park je sbírkou všeho nejnižšího, nejpsovštějšího ve Špílbergových filmech. Chápu že je to film pro děti a jako malému dítěti by se mi určitě líbil, ale kdybych dal téhle **prasečině** víc než jednu hvězdu, musel bych si naflusat do xichtu."
      ],
      "text/plain": [
       "<IPython.core.display.Markdown object>"
      ]
     },
     "metadata": {},
     "output_type": "display_data"
    },
    {
     "name": "stdout",
     "output_type": "stream",
     "text": [
      "\n",
      "Gladiátor (2000) * 6\n"
     ]
    },
    {
     "data": {
      "text/markdown": [
       "(Extended version) Ani druhá projekce mě nepřiměla ke smířlivosti, k toleranci. Spíš naopak, jsem znechucený ještě víc. Jediné co z filmu jakž takž za něco stojí, je jeho vizuální stránka, výpravu holt umějí hollywoodští profíci dobře. Stejně tak dobře ovšem umějí vyrábět **retardované** scénáře pro tupé divácké masy. Ale jistě, mají recht, většinu (naprostou většinu) diváků bude asi stěží zajímat, nakolik je děj filmu scénáristický výcuc a nakolik odpovídá skutečnosti. Takže proto tahle telenovelicky senilní slátanina může slavit takový úspěch. Kdyby byl děj zasazený do fiktivních reálií s fiktivními postavami, ocením ho jako slušné drámko o křivdě a pomstě s několika hezkými bojovými scénami, i když zmršenými divokým střihem a skákající kamerou. Takhle ho ovšem poprávu \"oceňuju\" jako výplod ziskuchtivých komediantských degenů, jako ostudné poplivání historických faktů, jako urážku římské historie, jako ten nejnižší druh filmové **prasečiny,** podbízivé a líbivé. Nesnáším podobné mainstreamové \"velkofilmy\", nesnáším jejich **stupidní** a stereotypní schémata, nesnáším jejich cajdákovitou hudbu (Zimmer neZimmer). Každé balkánské céčko s tlustým Seagalem je mi stokrát milejší. Nevermore, moje 'potřetí' už nikdy nebude."
      ],
      "text/plain": [
       "<IPython.core.display.Markdown object>"
      ]
     },
     "metadata": {},
     "output_type": "display_data"
    },
    {
     "name": "stdout",
     "output_type": "stream",
     "text": [
      "\n",
      "MOST! (TV seriál) (2019) * 4.5\n"
     ]
    },
    {
     "data": {
      "text/markdown": [
       "(O tomhle seriálu jsem se dozvěděl od chlapů z práce, protože na TV už spoustu let vůbec nečumím. Zhlédnuto na YT.) Myslím, že po třech dílech už mám celkem jasno. Zatímco při dílu prvním mohl mít divák pocit, že by se to mohlo postupně vyvrbit v docela zemitou a všestranně nekorektní bejkárnu, i když samozřejmě v mezích zákona (žijeme přece v **předposrané** Čechárně), vrbí se to postupně v další buranskou, infantilní, laskavě hřejivou, \"nenápadně\" moralizující šaškárnu, s tradičně hezky česky \"úsměvnými\" (= trapnými) karikaturami malých českých lidiček, určenou uťápnutým jednoduchým taťkům a mamkám na večer k 'televízi', aby se u ní mohli smát blahem s držkou rozšklebenou od ucha k uchu, cpát se při tom knedlíky a napájet pívem. Při sledování podobných typicky českých **debilit** mám už od mala obtížně definovatelný pocit svíravé trapnosti, studu za to, že i já sám jsem příslušníkem tohohle národa. Divím se jen, že s něčím takovým nepřišla spíš plebejská Nova. Provizorně zaokrouhluju dolů a uvidím na konci (jestli ho vůbec uvidím). // Po proklikání čtvrtého dílu - ne, neuvidím, odmítám u toho chcípnout trapností."
      ],
      "text/plain": [
       "<IPython.core.display.Markdown object>"
      ]
     },
     "metadata": {},
     "output_type": "display_data"
    },
    {
     "name": "stdout",
     "output_type": "stream",
     "text": [
      "\n",
      "Skore profilu: 201.0\n",
      "Pomer unikatnich a vsech slov 0.5415479582146249\n"
     ]
    },
    {
     "data": {
      "text/plain": [
       "<__main__.Profile at 0x7f5f794e7668>"
      ]
     },
     "execution_count": 77,
     "metadata": {},
     "output_type": "execute_result"
    }
   ],
   "source": [
    "profile_summary('https://www.csfd.cz/uzivatel/403723-jason-x/', print_command=True)"
   ]
  },
  {
   "cell_type": "code",
   "execution_count": 78,
   "metadata": {
    "scrolled": true
   },
   "outputs": [
    {
     "name": "stdout",
     "output_type": "stream",
     "text": [
      "Profil: https://www.csfd.cz/uzivatel/149092-schuldiner/\n",
      "Nenavistne komentare u filmu/serialu s vetsim hodnocenim nez 70%\n",
      "\n",
      "Braindead - Živí mrtví (1992) odpad! 2\n"
     ]
    },
    {
     "data": {
      "text/markdown": [
       "Slátanina, **kravina...** Ani komedie, ani horor... Neni to moc vtipný, člověk se u toho ani nelekne... Je to parodie, ale dost nudná! Jen spousta krve, slizu a jinejch různejch sraček..ze kterejch mi bohužel ani nebylo špatně... Prostě velký nic! Ani nevim proč jsem to dokoukal..."
      ],
      "text/plain": [
       "<IPython.core.display.Markdown object>"
      ]
     },
     "metadata": {},
     "output_type": "display_data"
    },
    {
     "name": "stdout",
     "output_type": "stream",
     "text": [
      "\n",
      "Pán velryb (2002) odpad! 2\n"
     ]
    },
    {
     "data": {
      "text/markdown": [
       "Nuda jako **prase!** Tenhle film mě prostě totálně minul.. ani se to nedalo dokoukat.."
      ],
      "text/plain": [
       "<IPython.core.display.Markdown object>"
      ]
     },
     "metadata": {},
     "output_type": "display_data"
    },
    {
     "name": "stdout",
     "output_type": "stream",
     "text": [
      "\n",
      "Z deníku žáka III. B aneb Edudant a Francimor (TV seriál) (1993) odpad! 5.960000000000001\n"
     ]
    },
    {
     "data": {
      "text/markdown": [
       "Cože? To si děláte **prdel!!!** 75%??? Co??? No to snad ne!"
      ],
      "text/plain": [
       "<IPython.core.display.Markdown object>"
      ]
     },
     "metadata": {},
     "output_type": "display_data"
    },
    {
     "name": "stdout",
     "output_type": "stream",
     "text": [
      "\n",
      "Hvězdná brána (TV seriál) (1997) odpad! 11.940000000000001\n"
     ]
    },
    {
     "data": {
      "text/markdown": [
       "Totální slátanina!!! Srovnatelné s telenovelama...prostě odpad.. nedávno jsem viděl po delší době kus nějakého dílu a dialogy v něm mě prostě odrovnaly.. Seriál, který není založen na humoru a kde je možné (opravdu naprosto) vše, prostě a jednoduše nemůže být koukatelný. Když se z dějového hlediska každou minutu vyrojí nekonečně mnoho možností toho, jak by to mohlo pokračovat, přestává to býti zábavou (to platí všeobecně - tedy krom komedií a sit-komů). Postrádá to absolutně jakoukoliv logiku a smysl. Je to tak **debilní** až to bije do očí!!! Ale musim říct, že by to vlastně spolehlivě mohlo fungovat jako komedie. Mě osobně vždy neskutečně rozesmívá ta vážnost rozhovorů a témat, o kterých jsou ty rozhovory vedeny. Když se člověk zamyslí nad vesmírem jako takovým a sleduje tuto až **dementně** jednoduchou **blbinku** hrající si na sci-fi, musí se smát!!! Tvůrci můžou dát do scénáře absolutně cokoliv, dějově to zamíchat jak se jim zlíbí, předhodit lidem ty nejobludnější krávoviny proložené těmi ´´nejinteligentnějšími´´ dialogy a ono to některé jedince opravdu baví..."
      ],
      "text/plain": [
       "<IPython.core.display.Markdown object>"
      ]
     },
     "metadata": {},
     "output_type": "display_data"
    },
    {
     "name": "stdout",
     "output_type": "stream",
     "text": [
      "\n",
      "Tristram Shandy (2005) odpad! 4.48\n"
     ]
    },
    {
     "data": {
      "text/markdown": [
       "OK, vydržel sem to do 68.minuty, poté mi to hrálo už jen jako kulisa. Jediný co mě pobavilo, byla scénka s kaštanem. Tam sem se od srdce zasmál. Jinak je to totální pí.....a!!! Všichni, kdo to hodnotili třema a více hvězdičkama, museli bejt na houbičkách. Houbičky způsobujou silný halucinace, stav, kdy prostě nevnímáte reálnej svět. A to je jediná možnost jak mít dojem, že byl tenhle film zábavnej. Pokud ste byli na houbičkách, nemyslim si, že ste **blbci,** prostě jen rádi experimentujete... Co si budeme povídat, tenhle film je ideální chvíle na experimentování všeho druhu.. nebo třeba i na hoďku a půl spánku.. Dejme tomu..hmm..7% za ten kaštan."
      ],
      "text/plain": [
       "<IPython.core.display.Markdown object>"
      ]
     },
     "metadata": {},
     "output_type": "display_data"
    },
    {
     "name": "stdout",
     "output_type": "stream",
     "text": [
      "\n",
      "Transformers (2007) odpad! 7.130000000000001\n"
     ]
    },
    {
     "data": {
      "text/markdown": [
       "Jedna z mých životních jistot, které jsem měl, bylo to, že nikdy neuvidím film Transformers... V práci ale bývá občas, tak nějak.. řekněme.. čas na odpočinek....a tak jsem si všiml, jak v TV, kterou doma vůbec nemám, dávají tento počin... Řekl jsem si - proč ne, o nic nejde, uvidím jestli se mé předtuchy naplní. Já tedy...abych řekl pravdu...věděl, že se naplní.. No...měl jsem možnost shlédnout asi posledních 35 minut.. Viděl jsem tedy konec, který bych neviděl, pokud bych se díval od začátku nebo od půlky... A myslím, že vlastně vzhledem k mému hodnocení ani není nutné k tomu cokoliv dalšího dodávat.. Snad jen...možná, že se jedná pravděpodobně o nejdražší filmový odpad, jaký kdy byl natočen! A možná se sem přeci jen hodí ještě něco....sousloví - NAPROSTO **DEMENTNÍ** !!! ----- Trefné komentáře, kterými bych to zakončil, napsali: ´´Allegro.g.´´ a ´´canakja´´."
      ],
      "text/plain": [
       "<IPython.core.display.Markdown object>"
      ]
     },
     "metadata": {},
     "output_type": "display_data"
    },
    {
     "name": "stdout",
     "output_type": "stream",
     "text": [
      "\n",
      "Ichi the Killer (2001) odpad! 2\n"
     ]
    },
    {
     "data": {
      "text/markdown": [
       "Absolutní japonská jatka, bez sebemenšího smyslu a významu... Trikově až na výjimky velmi špatně provedené. Viděna jen první polovina, respektive sledována, druhá půlka už jen zrychleně přetočena na konec, který je stejně **debilní,** jako celý film. Odpad!"
      ],
      "text/plain": [
       "<IPython.core.display.Markdown object>"
      ]
     },
     "metadata": {},
     "output_type": "display_data"
    },
    {
     "name": "stdout",
     "output_type": "stream",
     "text": [
      "\n",
      "Smrt panen (1999) odpad! 23.99\n"
     ]
    },
    {
     "data": {
      "text/markdown": [
       "Co tohle kurwa bylo? No, co by... prostě odpad! Nic, zaplácané pod vrstvami ničeho, s nijakým a bezvýznamným průběhem dovlečené nevýrazně a bez známky jakékoliv invence až do samotného finále. Které bylo mimochodem o ničem. Ani nemá význam mluvit nebo psát o tom proč tohle vůbec vzniklo. Za jakým účelem a pro koho je to určené a podobně.. Protože své diváky a především obdivovatele si vážně našlo i TOHLE! Tahle **debilita.** Jestli se chcete bavit víc než (je možné) u tohoto filmu, čtěte dál. He-o- iii ppp-- hehe ku - ji- bba, tz -ke me ke me hik ...nun... hehe ku - ji- bba, tz -ke me ke mehehe ku - ji- bba, tz -ke me ke mehehe ku - ji- bba, tz -ke me ke me buk KUK.. pozoooooor... baf! huu? jojo.. to jo.. áách.. krása.. bik...blak.. hehe ku - ji- bba, tz -ke me ke me a tééééď... PŘEKVÁPKO... KUK! He-o- iii ppp-- hehe ku - ji- bba, tz -ke me ke me hik ...nun... hehe ku - ji- bba, tz -ke me ke mehehe ku - ji- bba, tz -ke me ke mehehe ku - ji- bba, tz -ke me ke me buk KUK.. pozoooooor... baf! huu? jojo.. to jo.. áách.. krása.. bik...blak.. hehe ku - ji- bba, tz -ke me ke me a tééééď... PŘEKVÁPKO... KUK! He-o- iii ppp-- hehe ku - ji- bba, tz -ke me ke me hik ...nun... hehe ku - ji- bba, tz -ke me ke mehehe ku - ji- bba, tz -ke me ke mehehe ku - ji- bba, tz -ke me ke me buk KUK.. pozoooooor... baf! huu? jojo.. to jo.. áách.. krása.. bik...blak.. hehe ku - ji- bba, tz -ke me ke me a tééééď...POINTAA .. haf! Tak a to je konec! Děkuji za pozornost. Doufám, že se vám to líbilo tak jako mě to psát. Ne, v pořádku, nemusíte mi děkovat, já to pro Vás napsal moc rád! Opravdu. Vím, že je to nadčasové a tak nějak mile romantické, vím, že se jedná o jeden z nejpovedenějších komentářů zde na ČSFD, vím to. I přes svou skromnost vím, že budu zaplaven stovkami lichotících vzkazů a dopisů od zlomených srdcí mých nových fanynek a nových homosexuálních fanoušků. A všichni tito fandové jsou potřeba k tomu, abych mohl psát dál. Dávají mi naději a víru v to, že pravé umění skloubené s opravdovou a neomšelou romantikou nemůže nikdy vymřít. A já Vás budu i nadále, to slibuji, obšťastňovat svými překrásnými komentáři. A víte co? Zahrajme si hru...tak trošičičku na schovávanou. Každý takový můj nevšední, romantický komentář k zamyšlení a duševní procházce v romantickém snění se bude skrývat pod mým nádherně bolestně smutně romantickým heslem - odpad! Ju? Tak začínáme... A můžete hledat i v minulosti, aby to bylo trošku mysteriózní. A kdo bude mým nejoblíbenějším fandou nebo fanynkou, dostane čokoládovou žiletku. Nebo oprátku z marcipánu. Neeeebo...hromadu lentilek v podobě prášků na spaní! Pooozoooor!!! Začínáme!"
      ],
      "text/plain": [
       "<IPython.core.display.Markdown object>"
      ]
     },
     "metadata": {},
     "output_type": "display_data"
    },
    {
     "name": "stdout",
     "output_type": "stream",
     "text": [
      "\n",
      "Moulin Rouge (2001) odpad! 5.0\n"
     ]
    },
    {
     "data": {
      "text/markdown": [
       "Možná je to čistě z filmařského hlediska dobrá práce (kamera, střih apod.), ale jinak je to NEUVĚŘITELNĚ NUDNÁ SLÁTANINA. Změť různě **debilních** scének a popěvků, které v podstatě nemají co nabídnout. Říkal jsem si, že bych mohl dát za tu filmařinu alespoň jednu hvězdičku, ale pak jsem si řekl, že pokud mě vůbec NIC neláká to dokoukat, a že do doby než jsem to stopl, jsem nevěřil vlastním očím a uším.... tak to vychází jednoduše na odpad. A momentálních 84% je tak dalším výsměchem diváckému vkusu. Když si tu pročítám oslavné komentáře, líbí se mi slova o nevkusu a kýči, a jen si řikám, že člověk se chytne opravdu všeho a hlavně - že každé zboží si svého kupce vážně najde. Ano, i kýč! ..tedy pokud je podán SCHVÁLNĚ jako pravý a nefalšovaný KÝČ... V tom případě jde totiž o něco naprosto originálního! Děkuji, děkuji za pozornost."
      ],
      "text/plain": [
       "<IPython.core.display.Markdown object>"
      ]
     },
     "metadata": {},
     "output_type": "display_data"
    },
    {
     "name": "stdout",
     "output_type": "stream",
     "text": [
      "\n",
      "Halloween 2 (1981) odpad! 2\n"
     ]
    },
    {
     "data": {
      "text/markdown": [
       "Není to takový ten typický odpad. Je totiž takový zvláštní... netypický :-) Hrozná slabota, neskutečná nuda... Desítky, možná stovky klišé a **blbostí** vycucaných nevím odkud... Samozřejmě co postava, to tupec. Vrah opět všude a zároveň nikde. (A samozřejmě - opět je nesmrtelný. Ale to je logické - když je nesmrtelný v prvním díle, ve druhém musí být taky.) Spousty ´´naprosto neočekávaných´´ situací a scén. Zbytečný film. Český dabing tomu už jen nasadil korunku!"
      ],
      "text/plain": [
       "<IPython.core.display.Markdown object>"
      ]
     },
     "metadata": {},
     "output_type": "display_data"
    },
    {
     "name": "stdout",
     "output_type": "stream",
     "text": [
      "\n",
      "Diplomová práce (1996) odpad! 2\n"
     ]
    },
    {
     "data": {
      "text/markdown": [
       "Tak tady chtěl být někdo originální a natočit telenovelu s nádechem hororu. Je fakt, že nic podobného jsem nikdy neviděl. Ale ani jsem po tom nikdy netoužil. Opravdu hodně **dementní** film. Musím tomu zkrátka alespoň trochu srazit hodnocení... Vždyť tam je tolik nesmyslů a úsměvných až směšných momentů... Kdyby to mělo 25 minut, řekl bych si, že jsem jen (bohužel) viděl nějaký nový díl Kassandry nebo Esmesraldy nebo něčeho podobného, ale těch 125 minut je opravdu náročných..."
      ],
      "text/plain": [
       "<IPython.core.display.Markdown object>"
      ]
     },
     "metadata": {},
     "output_type": "display_data"
    },
    {
     "name": "stdout",
     "output_type": "stream",
     "text": [
      "\n",
      "Klepání na nebeskou bránu (1997) odpad! 9.26\n"
     ]
    },
    {
     "data": {
      "text/markdown": [
       "Že já vůl pokoušim ´´štěstí´´ a pouštim si zas něco německýho... Tohle vážně nejde!!! To je tak tupý a klišoidní, že to snad ani nemůže bejt tupější !!! Do 40.minuty tam nebyl jedinej vtip, i když se o to fakt snažili a pak už mi fakticky došla trpělivost.. Momentálních 86% je snad taky jen **debilní** vtip!!!!!!!"
      ],
      "text/plain": [
       "<IPython.core.display.Markdown object>"
      ]
     },
     "metadata": {},
     "output_type": "display_data"
    },
    {
     "name": "stdout",
     "output_type": "stream",
     "text": [
      "\n",
      "Šílený Max: Zběsilá cesta (2015) odpad! 12.99\n"
     ]
    },
    {
     "data": {
      "text/markdown": [
       "Mohl by mi někdo vysvětlit, co je tohle proboha za **VYPÍČENOU** PITOMOUČKOU **DEMENTNÍ** **ULTRA-KOKOTINU???** To vypadá, jak kdyby to točil ten **idiot** Bay. Vždyť je to úplně **debilní!** V každym detailu. Půlhoďky jsem to sledoval, tedy čtvrtinu, málem jsem si ukroutil oči, takže dál..asi do půlky to hrálo už bez většího zájmu, asi do osmdesátý minuty jen zvuková stopa, a pak to bylo nadobro zastaveno. Teatrálnost všech hereckých účastníků je úplně směšná (zvláště těch, co tam maj zanedbatelnou roli), to bylo úplně první, kvůli čemu jsem téměř hned věděl, že to nedokoukám.. Charlize Theron mam hodně rád, něco jsem s ní přeci jen už prožil, ale tady si mě fakt nezískala. Ale ona za to nemůže."
      ],
      "text/plain": [
       "<IPython.core.display.Markdown object>"
      ]
     },
     "metadata": {},
     "output_type": "display_data"
    },
    {
     "name": "stdout",
     "output_type": "stream",
     "text": [
      "\n",
      "Městečko Twin Peaks - Pilot (S01E01) (epizoda) (1990) odpad! 28.459999999999994\n"
     ]
    },
    {
     "data": {
      "text/markdown": [
       "**Kokotina** jak fík! Tak ..ale můžu si za to sám. Nechal jsem si to doporučit... vlastně už dva lidi mi to doporučovali, i přes to, že jsem jim řikal, jak moc mam ´´rád´´ Lynche a jak moc si myslim, že je to **pablb** točící totální **sračky.** I přes to jsem to nakonec prubnul.. Některý jedinci tady zdejší to komentujou tak, že asi ještě nedospěli do stavu, kdy tohle můžou chápat.. No, já se jen divim, že někdo může po shlídnutí tohohle takhle přemejšlet. Přeci vim, když vidim něco, co nechápu, a nebo něco, co je totální **píčovina** bez špetky filmovýho umění. Protože tady se fakt o žádný umění nejedná. Herci nehrajou, to je jasný, to je parodie na herectví. Jestli to Lynch takhle chtěl, tak s tim může jít rovnou do **prdele.** To je totiž asi tak zábavný, jako koncert z play-backu, nebo..já nevim, třeba wrestling.. Prostě fakt, že lidi ze sebe nechávaj dobrovolně dělat **blbce,** že obdivujou něco, co je úplně **debilní** a popírá to celej ten základ nějaký opravdovosti. Tenhle film fakt neni drama, fakt to neni thriller, to je taková mysteriózní, dost nepovedená komedie, nebo spíš takový mysteriózní (jak tu někdo už uvedl) Beverly Hills 90210, jen po všech stránkách horší. (Hlavně dramatická linka byla v Beverly na nesrovnatelně lepší úrovni...) Že by ve filmu byl jen nějakej NÁZNAK napětí, to ani náhodou... Tak o čem to pak je? Vražda, která mě ani nezajímá. Vrah je mi u **prdele.** Herci se chovaj neustále **debilně,** podivně a nelogicky, což nevim, co to jako má vzbudit za emoce.. Napětí fakt ne. Smát se tomu nebudu, protože to moc vtipný neni. Ano, zkoušel jsem na to pár minut koukat jako na komedii, ale ani TO moc nefungovalo. Patetický, trapný, nudný, nelogický, nezajímavý...ale hlavně - úplně pitomoučký! Tahle forma, kterou je to natočený, degraduje jakoukoliv dramatickou linii... Jestli vás dokáže ´´vtáhnout´´ takhle pitomoučká atmosféra, no tak to teda...čumim... Čumim, co je všechno ve filmu možný...natočit, aby to lidi bez nějakýho zamyšlení sežrali a ještě to opěvovali.. Podezírám Lynche, že Sloního muže natočil někdo jinej než on, protože on by to všechno totálně **vykurvil,** Sloní muž nemůže bejt od Lynche!!! Režisér, kterej celej život točí totální brak, a je to taková ´´legenda´´, no to je **prdel!!!**"
      ],
      "text/plain": [
       "<IPython.core.display.Markdown object>"
      ]
     },
     "metadata": {},
     "output_type": "display_data"
    },
    {
     "name": "stdout",
     "output_type": "stream",
     "text": [
      "\n",
      "Jmenuji se Khan (2010) odpad! 4.5\n"
     ]
    },
    {
     "data": {
      "text/markdown": [
       "Představte si intimní chvíle ústřední dvojice.. (..to by muselo bejt dílo..) Někdo může namítnout, že to neni nejdůležitější věc v životě, ale s tim já naprosto souhlasim. Nicméně odmítám to, že se může normální dívka zamilovat do...nebo takhle, to neodmítám, ale odmítám připustit to, že by si takováhle dívka dokázala jen představit společný život s člověkem s tímto postižením. Jsem soucitný jedinec, nemám nic proti nikomu, když je vidět, že se jedná o dobrého člověka, ale konkrétně tahle romantická představa je prostě směšná, tomu se nelze ubránit. Je to takový Rain Man v romantické verzi, s podtextem problému toho, jak jsou v USA muslimové po 11.září braní. A i to je strašně, doslova, napěchované tunami klišé. Působí to tak trapně, jak se nám snaží říct něco, co by měl každý normálně uvažující člověk přirozeně vědět. Všelijaké na to navazující dějové okolnosti jsou pak dalším a dalším stupněm **blbosti** tohoto snímku. Náboženské otázky a problémy s tím související jsou tu brány tak strašně povrchně, že to působí ...prostě směšně. Je to hezky natočené, velmi profesionálně, ale to mě vůbec, ale vůbec nezajímá. Je to mainstream jak **prase!** Hloubku a krásu, kterou v tom spousta lidí vidí, chápu jako klasiku v chápání a sledovanosti filmů. Bohužel. Bohužel to je klasika. A s tím tu musíme žít. Ale to není naštěstí tak těžké. Spousta lidí si u toho popláče, zanadává a na konci se jich zmocní pocit, že shlédli něco nádherného...dojemného...lidského...upřímného a nezapomenutelného. Ale to jim samozřejmě nelze upírat. Co se nám líbí, to zkrátka neovlivníme. A naopak. A já tenhle film považuji za opravdovou trapnost."
      ],
      "text/plain": [
       "<IPython.core.display.Markdown object>"
      ]
     },
     "metadata": {},
     "output_type": "display_data"
    },
    {
     "name": "stdout",
     "output_type": "stream",
     "text": [
      "\n",
      "Top Gear (TV pořad) (1978) * 2\n"
     ]
    },
    {
     "data": {
      "text/markdown": [
       "Ne, že bych měl něco proti autům, ale tento pořad je mírně řečeno velmi nevtipný (ač se o vtip snaží)... **Blboučké** až trapné neustálé pokusy o vtip jsou opravdu něco, co člověka někdy dokáže až nasrat!"
      ],
      "text/plain": [
       "<IPython.core.display.Markdown object>"
      ]
     },
     "metadata": {},
     "output_type": "display_data"
    },
    {
     "name": "stdout",
     "output_type": "stream",
     "text": [
      "\n",
      "Nenávist (1995) * 11.98\n"
     ]
    },
    {
     "data": {
      "text/markdown": [
       "To si vážně děláte **prdel!** Film je to naprosto o ničem!!! **Dementně** diskutující a **dementně** jednající postavy, ztrácející se v **dementním** scénáři, kde neni nic čeho by se dalo chytnout nebo co by mohlo zaujmout. Nutno podotknout, že sem to viděl s českym dabingem, kterej je taky naprosto **debilní.** Vůbec nechápu proč tenhle film vznikl. Tu jednu jedinou hvězdu dávám za to, že se na konci alespoň trochu střílelo, což vyvolává (v rámci možností tohoto snímku) alespoň malej dramatickej nádech.."
      ],
      "text/plain": [
       "<IPython.core.display.Markdown object>"
      ]
     },
     "metadata": {},
     "output_type": "display_data"
    },
    {
     "name": "stdout",
     "output_type": "stream",
     "text": [
      "\n",
      "Memento (2000) * 5.98\n"
     ]
    },
    {
     "data": {
      "text/markdown": [
       "Naprosto zbytečný film! Zbytečný chaos v naprosto jednoduchém ději! Slátanina první kategorie!!! Jako bych se hodiny a hodiny prodíral bažinatým **smrdutým** křovinatým labyrintem, abych našel psí **hovno...**"
      ],
      "text/plain": [
       "<IPython.core.display.Markdown object>"
      ]
     },
     "metadata": {},
     "output_type": "display_data"
    },
    {
     "name": "stdout",
     "output_type": "stream",
     "text": [
      "\n",
      "Ano, šéfe! (TV pořad) (2009) * 2\n"
     ]
    },
    {
     "data": {
      "text/markdown": [
       "Tak blafy jíst samozřejmě nechceme, ale Pohlreich je **dement!**"
      ],
      "text/plain": [
       "<IPython.core.display.Markdown object>"
      ]
     },
     "metadata": {},
     "output_type": "display_data"
    },
    {
     "name": "stdout",
     "output_type": "stream",
     "text": [
      "\n",
      "Věčný svit neposkvrněné mysli (2004) * 6.130000000000001\n"
     ]
    },
    {
     "data": {
      "text/markdown": [
       "Chaotická, občas nelogická, nepřehledná změť čehosi... Opravdu nechápu jak se nad tímto může někdo rozplývat.. O to víc nechápu, že se nad tímto rozplývá toliko lidí... Ne, že bych to chtěl srovnávat s Lynchovými filmy, to je klasik na **kraviny,** ale něco společného to jistě má a to je právě to vyzdvihování něčeho...lépe řečeno ničeho... Sem asi 20 minut do konce filmu a přemýšlím, zdali to dokoukat... hmmmmm.... I po dokoukání se nekonalo žádné překvapení.. Carrey i Winslet sou dobří herci, to bezpochyby, ale tenhle chaos ani oni nevylepší.. Rozhodně bych tento snímek nikomu nedoporučil! Prvních 15 minut sem hltal a těšil se na další a další minuty, které se ale staly totální nudou...až zhovadilostí... Jeden z nejpřeceňovanějších filmů zde na ČSFD!!!"
      ],
      "text/plain": [
       "<IPython.core.display.Markdown object>"
      ]
     },
     "metadata": {},
     "output_type": "display_data"
    },
    {
     "name": "stdout",
     "output_type": "stream",
     "text": [
      "\n",
      "Je třeba zabít Sekala (1998) * 3.9800000000000004\n"
     ]
    },
    {
     "data": {
      "text/markdown": [
       "Ok, vydržel jsem to zhruba do poloviny... Pak už jsem to jen zrychleně přetáčel dopředu, abych náhodou nepřišel o něco velkého... Chápu, že se lidé za války báli o sebe a své blízké a že je jejich strach ovlivňoval v myšlení a jednání. Chápu, že se narušovaly a rozpadaly všelijaké vztahy a že lidé nevěřili jeden druhému.. Ale tenhle film je **sračka!** Nuda, spousta plků a směšné situace, které měly asi vyznít vážně.. Hodně přeceňovaný film!!!"
      ],
      "text/plain": [
       "<IPython.core.display.Markdown object>"
      ]
     },
     "metadata": {},
     "output_type": "display_data"
    },
    {
     "name": "stdout",
     "output_type": "stream",
     "text": [
      "\n",
      "Zběsilost v srdci (1990) * 4\n"
     ]
    },
    {
     "data": {
      "text/markdown": [
       "Když sem viděl tenhle film před lety, celkem se mi líbil, něco se mi na něm prostě líbilo, nevim už přesně co, ale tušim, že šlo nejspíš o tu lehkou erotiku, která se tam nachází. Dnes po letech zjišťuju, že se jedná o klasickou Lynchovinu, tedy zhovadilost, kde - jak je u Lynche normální - neni nic. V tom filmu je úplný nic! Postrádá to až na pár vyjímek všechny ingredience, který u filmu vyhledávám. Příběh **stupidní,** plytký přehrávaný dialogy, emoce minimální, o napětí se nedá mluvit a herci bohužel pod rukou tohoto rádobyrežiséra nemohli předvýst nic extra, protože i když se (možná) sebevíc snažili, bylo jejich snažení **spraseno** všim tim, co sem uvedl v první polovině týhle věty... Dokoukal sem to s vypětím všech sil a to sem si slíbil, že už podobný kaskadérský kousky zkoušet nebudu. Ztráta času."
      ],
      "text/plain": [
       "<IPython.core.display.Markdown object>"
      ]
     },
     "metadata": {},
     "output_type": "display_data"
    },
    {
     "name": "stdout",
     "output_type": "stream",
     "text": [
      "\n",
      "Smrtihlav (1998) * 2\n"
     ]
    },
    {
     "data": {
      "text/markdown": [
       "Během filmu se ve mě střídaly různé pocity a dojmy, ale bohužel celkový dojem zní asi takto: Zajímavý nápad, ale lacině, nedůvěryhodně a nezajímavě (až nudně) provedený. Jakoby nedotažené a nedodělané. Taky často nelogické. Potenciál tedy nevyužitý. A to tak, že vůbec. A co se týká některých dějových konkrétností - ten velký telepatický souboj na konci, to je něco, co přímo nesnášim. A tak bohužel celý film vyzní jako **blbost.** Pokud od tohoto výtvoru Matrix ´´opisoval´´....no přirovnal bych to asi k tomu, kdyby kdysi dávno před X staletími někdo náhodou spatřil dřevěnou káru (,která se po dřevěných kolečkách dokáže pohybovat pouze z kopce nebo když ji někdo tlačí či táhne) a na základě toho vyrobil Porsche Carrera 911."
      ],
      "text/plain": [
       "<IPython.core.display.Markdown object>"
      ]
     },
     "metadata": {},
     "output_type": "display_data"
    },
    {
     "name": "stdout",
     "output_type": "stream",
     "text": [
      "\n",
      "Pingu (TV seriál) (1986) * 2\n"
     ]
    },
    {
     "data": {
      "text/markdown": [
       "Takové jakoby **debilní...** až mě to někdy rozesmálo... :-)"
      ],
      "text/plain": [
       "<IPython.core.display.Markdown object>"
      ]
     },
     "metadata": {},
     "output_type": "display_data"
    },
    {
     "name": "stdout",
     "output_type": "stream",
     "text": [
      "\n",
      "Cherry (2010) * 6\n"
     ]
    },
    {
     "data": {
      "text/markdown": [
       "Párkrát jsem se zasmál a skoro celou dobu jsem se ani nenudil. Skoro. Ale po skončení jsem si řekl, že to je prostě další z řady podobných **blbinek.** Bohužel je konec, jak je zvykem, udělán tuctově a **dementně** a celé to vyzní do nikam... Ale konec to nekazí, zkaženo to bylo už v průběhu filmu. Klasická poloromantická, lehce dramatická, komedie, kde kámen šuká cihlu. Tedy...ehm..kde by kámen chtěl **šukat** cihlu. Kdejaký kámen kdejakou cihlu..."
      ],
      "text/plain": [
       "<IPython.core.display.Markdown object>"
      ]
     },
     "metadata": {},
     "output_type": "display_data"
    },
    {
     "name": "stdout",
     "output_type": "stream",
     "text": [
      "\n",
      "Smrtící bumerang (1996) * 4.98\n"
     ]
    },
    {
     "data": {
      "text/markdown": [
       "Dvě a půl hodiny čiré nudy. Téměř dvě a půl hodiny dělí chvíli, kdy vám B.B.Thornton vypráví jak zabil a chvíli, kdy znovu zabije. Čas mezi tím je vyplněn jeho topornou robotickou mluvou a pohyby, které mě asi po hodině začaly docela nudit. Děj je absolutně nezajímavý příběh, kde se **retardovaný** BBT skamarádí s celým svým okolím kromě zlého záporňáka Doyla. Ten ale působí jako hlavní záporná postava tak směšně, trapně a neškodně, že by ho snad i ten malý Frank mohl terorizovat, kdyby chtěl. BBT nakonec překvapivě rozseká Doylovi hlavu nožem od sekačky a jde si sednout zpátky do blázince. To chce potlesk! --- Proč má tohle 85%???!!! Za co? Kvůli čemu?"
      ],
      "text/plain": [
       "<IPython.core.display.Markdown object>"
      ]
     },
     "metadata": {},
     "output_type": "display_data"
    },
    {
     "name": "stdout",
     "output_type": "stream",
     "text": [
      "\n",
      "Rosemary má děťátko (1968) * 2\n"
     ]
    },
    {
     "data": {
      "text/markdown": [
       "Tak Polanski asi nebude můj šálek kakaa... Tenhle film je ukrutná **kravina!** A pro mě další ze zklamání z klasických děl. Můžu pochválit Miu Farrow, ale to je asi tak vše."
      ],
      "text/plain": [
       "<IPython.core.display.Markdown object>"
      ]
     },
     "metadata": {},
     "output_type": "display_data"
    },
    {
     "name": "stdout",
     "output_type": "stream",
     "text": [
      "\n",
      "Viděl jsem ďábla (2010) * 13.440000000000001\n"
     ]
    },
    {
     "data": {
      "text/markdown": [
       "Za ten **dementní** konec (vlastně skoro za celou druhou půlku) bych tomu dal nejradši ODPAD!!! Ale pak sem si řekl, že první polovina mě docela bavila, takže by to možná bylo trochu nespravedlivé. Ale pak jsem si zas řekl, že ta druhá polovina byla fakt tak **debilní** a zdlouhavá, že to zkrátka ODPAD je!!! Jenže zas oceňuji docela dobrý nápad a herecké výkony. Odpad tomu tedy nedám. Ale vážně mě drtí nesmyslné a nelogické dějové nedostatky v podobě jednání některých postav. Zejména té hlavní - tedy ´´mstitele´´. Zásadní a obzvláště **debilní** zároveň je hlavně to, že několikrát pustí na svobodu totálního šílence, vraha a kanibala, na svobodu mezi obyčejné lidi, a pak ho díky GPS a něčemu, co mu nacpe do chřtánu v jeho bezvědomí (tudíž si to vrah nemohl pamatovat!!! - další ztráta logiky), znovu a znovu najde a dál ho mučí a trýzní. Vrah a kanibal mezi tím samozřejmě zabije další lidi.. jak jinak...? Mimochodem, ten vrah měl asi nějaké pomalejší zažívání. Navíc byl jasnovidec, génius a šaman. No a proč na konci musel mstitel zaplést do toho všeho i vrahovu nevinnou rodinu.. No, těch nelogických vsuvek je tam dost, ale už mě nebaví plácat časem na tomhle komentáři... Fakt odpad! Tedy skoro.."
      ],
      "text/plain": [
       "<IPython.core.display.Markdown object>"
      ]
     },
     "metadata": {},
     "output_type": "display_data"
    },
    {
     "name": "stdout",
     "output_type": "stream",
     "text": [
      "\n",
      "Tady to musí být (2011) * 2\n"
     ]
    },
    {
     "data": {
      "text/markdown": [
       "Vlastně ani pořádně nevim, za co dávám tu jednu hvězdu, protože tohle bylo fakt o ničem. Seana Penna mam moc rád, ale tady to jaksi nebylo tak nějak ke koukání. Prostě **blbina,** kde se nelze ničeho, prostě žádný myšlenky chytnout.. Komedie to neni ani náhodou, drama vlastně taky ne. Ale o to nejde, nejde o to určit žánr, tohle je něco jako kdybych se chtěl 2 hodiny bavit s člověkem, kterej má těžkou formu Alzheimera. Prostě to nemá význam. Nikam to nepovede. Je mi líto..."
      ],
      "text/plain": [
       "<IPython.core.display.Markdown object>"
      ]
     },
     "metadata": {},
     "output_type": "display_data"
    },
    {
     "name": "stdout",
     "output_type": "stream",
     "text": [
      "\n",
      "Hannibal (TV seriál) (2013) * 4\n"
     ]
    },
    {
     "data": {
      "text/markdown": [
       "Po necelých 4 dílech musím říci, že je to tzv. **píčovina** :-) Taková ta kriminální seriálová slátaninka, která neví, co vlastně že jako má představovat. Postavy jsou všechny samozřejmě ´´trochu zvláštní´´ a Hugh Dancy v roli Willa Grahama je přímo ´´hodně zvláštní´´ a jeho herectví mě vyloženě sere! Dějově podivné a občas pěkně nelogické.. Už jen ten fakt, že Will Graham má zvláštní šestý či sedmý smysl, který mu umožňuje vidět vraždu tak, jak se stala :-) Tím tu kriminálku opravdu vkusně okořenili.. Dramatická složka je k pousmání, jako by to psal ..či režíroval ..nějaký začátečník, protože nakukal hercům, že je dobré se tvářit přehnaně dramaticky tam, kde není potřeba a tak kde je, to můžou trochu vypustit.... No, co dodat.. Nechytlo mě to :-) Ale to je dobře..."
      ],
      "text/plain": [
       "<IPython.core.display.Markdown object>"
      ]
     },
     "metadata": {},
     "output_type": "display_data"
    },
    {
     "name": "stdout",
     "output_type": "stream",
     "text": [
      "\n",
      "Ghosts... of the Civil Dead (1988) * 4\n"
     ]
    },
    {
     "data": {
      "text/markdown": [
       "Jediné, co se tu povedlo nastínit, je atmosféra, tedy ten **hnus,** ale jinak je to taková nudná sonda do duší vězňů a bachařů v jednom vězeňském zařízení, v takovém nějakém prapodivném experimentu. Bez děje, bez nějakých hlubších myšlenek, prostě jen násilí, **hnus** a šeď. Zklamání!"
      ],
      "text/plain": [
       "<IPython.core.display.Markdown object>"
      ]
     },
     "metadata": {},
     "output_type": "display_data"
    },
    {
     "name": "stdout",
     "output_type": "stream",
     "text": [
      "\n",
      "Zmizelá (2014) * 16.47\n"
     ]
    },
    {
     "data": {
      "text/markdown": [
       "Proboha, hlavně nedejte na zdejší hodnocení a filmu se VELKÝM OBLOUKEM VYHNĚTE !!! **Stupidní,** dlouhé a nudné ´´drama´´, které, ač natočeno mým oblíbencem Fincherem, postrádá všechno, co od dramat chci. Celý film je neuvěřitelná mešuge-slátanina. Pořád jsem si říkal jestli se dívám na nějaké mystery-béčko nebo jen neuvěřitelně natáhlý díl nějaké **přiblblé** seriálové kriminálky. Policie **debilní,** ale spíš se hodí slovo amatérská. Ale amatérská tak, že jsem opravdu jakože nevěřil, že tohle je vůbec možné dát do takového filmu. Furt jsem si říkal jestli sleduji to samé, co tu většina ohodnotila tak vysoce a tak kladně. Vždyť tam byla **blbost** skoro všechno. Chování téměř všech postav je úplně mimo, fakt skoro, jak z nějaké ´´lynchárny´´ (samozřejmě trochu přeháním, ale schválně, Lynch je nepřekonatelný), absolutně neuvěřitelné chování a reakce okolí na ono chování ještě neuvěřitelnější, dějové zvraty vycucané nevím odkud, nelogické, **debilně** překombinované, dialogy plytké a trapné, a herecké výkony prapodivné až k pousmání přihlouplé. No, co se dá dělat. Asi jsem viděl jiný film než zdejší většina. Ale spíš se na to jako jeden z mála dívám za pomocí normálního logického uvažování a tyhle mešuge-filmy jdou zkrátka mimo mou osobu... Já chci **kurva** film, kde se postavy chovají alespoň trochu reálně a uvěřitelně a kde není mimózní úplně všechno, jako tady...od scénáře, přes dialogy, po režii... --- Trefné komentáře: FantoMaSk , Simmons"
      ],
      "text/plain": [
       "<IPython.core.display.Markdown object>"
      ]
     },
     "metadata": {},
     "output_type": "display_data"
    },
    {
     "name": "stdout",
     "output_type": "stream",
     "text": [
      "\n",
      "The Prize Winner of Defiance, Ohio (2005) * 2\n"
     ]
    },
    {
     "data": {
      "text/markdown": [
       "Tak nebýt Julianne Moore, bylo by to nekoukatelné. A vlastně jen díky ní jsem se na to chtěl podívat.. Odpad to není a ani se mu to vyloženě neblíží, ale je to o ničem. Respektive, to o čem to je, tedy o početné americké rodině a jejích finančních peripetiích, je pojato těžce nezáživně. A to, že postava Julianne Moore ´´vydělává´´ peníze tím, že soutěží v různých televizních soutěžích, lze sice považovat za šikovnost, ale vzhledem k té neustálé vlezlé souvislosti s různými reklamami a reklamou jako takovou, mě to spíš nasíralo. Reklamy, slogany, upoutávky na žrádlo a spotřební zboží, a ty **debilní** vlezlé reklamní ´´písně´´.... ach bože jenž nejsi na nebesích... Reklama - to je kapitola sama pro sebe. Jak já jí nenávidim.."
      ],
      "text/plain": [
       "<IPython.core.display.Markdown object>"
      ]
     },
     "metadata": {},
     "output_type": "display_data"
    },
    {
     "name": "stdout",
     "output_type": "stream",
     "text": [
      "\n",
      "Poslední týden (2008) * 2\n"
     ]
    },
    {
     "data": {
      "text/markdown": [
       "Trochu moc kýče a klišé! Moc mě to nebavilo a ani si nemyslím, že by měl film nějaké velké kvality. Vlastně je to místy i dost **blbé..** Těch 30% by bylo odpovídající..."
      ],
      "text/plain": [
       "<IPython.core.display.Markdown object>"
      ]
     },
     "metadata": {},
     "output_type": "display_data"
    },
    {
     "name": "stdout",
     "output_type": "stream",
     "text": [
      "\n",
      "Na hraně zítřka (2014) * 2.5\n"
     ]
    },
    {
     "data": {
      "text/markdown": [
       "Tak tahle komedie mě moc nechytla.. OK, vim, že slátaniny jsou chtě nechtě oblíbený... Ale mojí osobě tyhle žánrový mixy a ´´multi-nápadový´´ orgie neříkaj vůbec nic. Tohle nemá vůbec smysl sledovat. Logika neexistuje, na tu rovnou hned na začátku úplně zapomeňte. O postavy se nemusíte ´´bát´´, vše se dá napravit, každá smrt jednotlivých jedinců je vlastně postupem času po x-tym opakování vyloženě **sranda.** Což znamená, že je to v první řadě akční sci-fi komedie. A tenhle mix zkrátka nejde dohromady. Nutno podotknout, že postavy se ani nesnaží, aby jste to s nima prožívali, prostě vám je po celou dobu komicky předkládáno, že ´´hmm, takže takhle ne, tak znova noo..´´, což mě už v půlce hodně nebavilo. Emily Blunt je tady k sežrání, ale to neni v hodnocení filmu vůbec důležitý. Momentálních 87% je dalším důkazem v tom, že když se něco hezky a draze zabalí, je jedno, co je obsahem."
      ],
      "text/plain": [
       "<IPython.core.display.Markdown object>"
      ]
     },
     "metadata": {},
     "output_type": "display_data"
    },
    {
     "name": "stdout",
     "output_type": "stream",
     "text": [
      "\n",
      "Bonnie a Clyde (1967) * 2.5\n"
     ]
    },
    {
     "data": {
      "text/markdown": [
       "Velké legendární, tak trochu teatrální, NIC! Nebýt přenádherné Faye Dunaway, nebylo by se na co koukat. Tahle klasika je pouze nafouklá bublina... kde se střílí, **blbě** tlachá, jezdí v autě...a to vše bohužel bez jakékoliv jiskry.. Tedy krom jisker v očích překrásné Faye... Herecky, dějově, režisérsky i scénáristicky mdlé a nepřesvědčivé. The end!"
      ],
      "text/plain": [
       "<IPython.core.display.Markdown object>"
      ]
     },
     "metadata": {},
     "output_type": "display_data"
    },
    {
     "name": "stdout",
     "output_type": "stream",
     "text": [
      "\n",
      "12 let v řetězech (2013) * 2\n"
     ]
    },
    {
     "data": {
      "text/markdown": [
       "Já nevim, ale tady se někdo pravděpodobně rozhodl pokusit se udělat rekord v počtu klišé a nacpat je do jednoho historického filmu. Ne, dělám si **srandu,** existují v tomto ohledu o moc ´´lepší´´ filmy. Nicméně...zkrátka mě to nebavilo. Nakonec jsem posledních 12 minut ani nedokoukal...."
      ],
      "text/plain": [
       "<IPython.core.display.Markdown object>"
      ]
     },
     "metadata": {},
     "output_type": "display_data"
    },
    {
     "name": "stdout",
     "output_type": "stream",
     "text": [
      "\n",
      "Ostrov (2005) * 6.5\n"
     ]
    },
    {
     "data": {
      "text/markdown": [
       "Bay je v podstatě **idiot,** jen bohužel žijeme v době, nebo lépe řečeno ve světě, kde i **idioti** se stávají bohatými, slavnými a úspěšnými... Což je přesně případ Michaela Baye. Samozřejmě - neznám ho osobně, soudím jen podle toho, co natáčí a hlavně jakým způsobem to natáčí. Tenhle film, resp. moc dobrý námět, zabíjí klasický hollywoodský přístup...a provedení... Ale až trapně! Což je fakt škoda.. Jenže to je prostě Bay.. V popisu tvůrce je uveden citát, že nepřišel léčit rakovinu, ale bavit lidi. OK, proč ne, ale on zkrátka jen využívá primitivní lidské emoce a vlastnosti, a předkládá nám jen velké drahé nic a to nic je doslova nacpané stovkami nelogických **blbostí** a událostí nad nimiž i minimálně přemýšlející jedinec musí kroutit hlavou... A to platí v podstatě ve všech případech filmů, které natočil. Jediný koukatelný, a dá se říci kvalitní, film od Baye je Skála, ale i tu jsem už dlouho neviděl, takže nevím...třeba si na ní upravím názor až bude příležitost... Ve všech filmech, které jsem od něj viděl mi připadá, že prostě jen vzal nějaký námět nebo scénář a hrozně draze a hrozně drahou technikou natočil snůšku dějových událostí a nikdo se nezaobíral tím jestli to z dějového hlediska je uvěřitelné a reálné... A to nemluvím o sci-fi tricích, mluvím o normálním ději, o prazvláštních náhodách a dialozích, a samozřejmě neskutečném hrdinství, patriotismu a glorifikaci jednotlivých postav... Co se týče tohoto filmu - dva lidé, muž a žena, na úrovni patnáctiletých dětí se dostanou do našeho světa o kterém nevědí vůbec nic, nemají zkušenosti v podstatě s ničím, co umožňuje, nabízí a co v něm hrozí... A honí je komando nejlepších vojáků na světě, a samozřejmě se jim daří unikat. Už jen tohle je tak pitomé, že mi to hlava nebere. A to opomíjím detaily, jakým způsobem se jim to daří... No nic, ale fakt škoda, protože nápad a scénář jsou vážně parádní. Bohužel to točil Bay..."
      ],
      "text/plain": [
       "<IPython.core.display.Markdown object>"
      ]
     },
     "metadata": {},
     "output_type": "display_data"
    },
    {
     "name": "stdout",
     "output_type": "stream",
     "text": [
      "\n",
      "Světová válka Z (2013) * 2\n"
     ]
    },
    {
     "data": {
      "text/markdown": [
       "Předstíraný hollywoodský orgasmus! Tedy velké nic! Už od prvních minut jsem byl svědkem něčeho, co se musí brát hodně moc s rezervou.. Jenže ono to takhle pokračovalo pořád a pořád.. a v půlce už mi došla trpělivost. Nakonec jsem to tedy dokoukal, ale málem jsem si ukroutil hlavu. Na začátku je zácpa (aut) jak **prase!** Ale nějaké nákladní auto jí projede jak nůž máslem, jak kdyby byla ostatní auta z papíru. Samozřejmě Brad, otec rodiny, se z té zácpy dostane úplně jednoduše, dokonce i přes vojenské zátarasy. Ale přes ty bych se dostal taky. Vše je doprovázeno od začátku do konce spoustou divných náhod. Brad je vyslán na misi. Do různých států. Hlavně do Izraele:-) Všude kam přiletí, začnou zombies zlobit víc než kdy dřív. Vždycky si všimne něčeho jako první, vždy se vše děje v jeho blízkosti. Všechno přežije, i pád letadla. Spolu s agentkou Mossadu, které zachránil život tím, že jí usekl nakaženou ruku. Ten pád letadla způsobí Brad sám, výbuchem granátu :-) Lidské životy jsou, jak je hollywoodským zvykem, zanedbatelné. Každou chvíli si někdo hraje na hrdinu, ale to je taky hollywoodským zvykem. Film není ani v ničem originální. Brada mám jako herce moc rád, ale sem se prostě nehodil. Tohle měl hrát Bruce Willis. Ne, že by to pak bylo lepší, ale logičtější. Kdybych měl vypsat vše, co se mi na tom nelíbilo do detailu, napsal bych opravdu knížku..."
      ],
      "text/plain": [
       "<IPython.core.display.Markdown object>"
      ]
     },
     "metadata": {},
     "output_type": "display_data"
    },
    {
     "name": "stdout",
     "output_type": "stream",
     "text": [
      "\n",
      "Temný úsvit (2006) * 11.47\n"
     ]
    },
    {
     "data": {
      "text/markdown": [
       "Tak.. ..musim říct, že **debilnější** film jsem už moooc dlouho neviděl. Kdybych měl vypisovat všechny **debility** v ději a chování postav, strávil bych tim fakt věčnost! Tam neni ve svý podstatě vůbec nic logickýho nebo normálního nebo snad pravdivýho. To vypadá jako neskutečně vážně braná parodie na vietnamskou válku.. To je tak moc **blbej** film, že je mi skoro líto to nedokoukat :-) Protože se opravdu strašně bavim tim, jak může mít tady na ČSFD něco takovýho 75%. To, že Bale, kterej je bezpochyby prvotřídní herec, vlezl do tohohle, si vysvětluju jednoduše tak, že ho někdo musel vydírat. Chudák! Musel podstoupit tohle filmový utrpení a ponížení... Nevim do jaký šlamastiky se dostal a kdo na něj co věděl, ale musela to bejt síla, aby ho to donutilo hrát v tomhle.. Panebože proberte se!!! Ten scénář muselo psát dítě. A dialogy trochu větší a trochu chytřejší dítě. A fakt jen o trochu... PS: Tohle je úplně novej žánr - draparodie! Ale vlastně proč ne? A má to i jasnou definici - drama tak moc absurdní až je vyloženě směšné, které má jasný cíl - pobavit (ve smyslu humorném). PS2: Tak jsem to po několika dnech úspěšně dokoukal.. Žádnej zajateckej tábor určitě nevypadá tak jako v tomhle filmu. Tohle byl takovej drsnější letní dětskej tábor, kde se každej den podnikla nějaká ´´bojovka´´ nebo bobřík šeptání. Po útěku to bylo přeci jen lepší a alespoň se na to dalo koukat, takže jsem na chvíli přehodnotil to moje odpadní hodnocení a chtěl dát jednu hvězdu. Ale zas ten konec... PROBOHA! Možná to neni klasickej odpad, ani tak jak já si filmovej odpad představuju, ale prostě musim.. protože tohle je vážně tak moc nadhodnocený, že je to až neuvěřitelný! PS3: A tak jó, dobře, dám tomu tu jednu hvězdu.. za Balea a za úžasnou přírodu.."
      ],
      "text/plain": [
       "<IPython.core.display.Markdown object>"
      ]
     },
     "metadata": {},
     "output_type": "display_data"
    },
    {
     "name": "stdout",
     "output_type": "stream",
     "text": [
      "\n",
      "Želvy mohou létat (2004) * 2\n"
     ]
    },
    {
     "data": {
      "text/markdown": [
       "Tak to je fakt k smíchu....tedy to, jak drtivá většina lidí, kteří dali 3 hvězdy, film víceméně shodili a vytkli mu téměř vše, co se dá a nakonec ho ohodnotí 60ti procenty. 3 hvězdy = 60%! Můžete to okecávat, jak chcete, ale 60% je v podstatě průměr až mírný nadprůměr. To se pak člověk nemůže divit, že má tak vysoké hodnocení, když lidi nehodnotí vůbec podle vlastního úsudku. I když o tom strašně chytře píší a s despektem mluví o nudě a nehercích a já nevim o čem ještě, nakonec mu lupnou tři hvězdy a je to :-) No, to by se z toho jeden **posral..** Jinak, film je to opravdu k uzoufání. Téma samozřejmě silné, to je nezpochybnitelné, ale natočené je to tak moc neslaně/nemastně, že jsem se přemlouval, abych to dokoukal. Nezaujalo mě tam v podstatě vůbec nic, navíc jsem to viděl se španělským dabingem, který z toho dělal skoro komedii.. Nuda, šeď, absolutní ne-cit pro plynulost děje a dramatičnost. I když - děj to v podstatě ani nemá."
      ],
      "text/plain": [
       "<IPython.core.display.Markdown object>"
      ]
     },
     "metadata": {},
     "output_type": "display_data"
    },
    {
     "name": "stdout",
     "output_type": "stream",
     "text": [
      "\n",
      "Gangster Ka (2015) * 2\n"
     ]
    },
    {
     "data": {
      "text/markdown": [
       "Trapné! Pokud čeští tvůrci chtějí udělat akční nebo gangsterský film, dopadne to vždycky naprosto **idiotsky!** Až je mi to vážně líto.. Strašné, jak moc se snaží to udělat kultovní. V podstatě vždycky je to ale jen kopírka nějakých už dávno viděných standardů. Originalita žádná. O to ale tolik nejde, jen kdyby si to alespoň na nic nehrálo. Tenhle film mě tedy alespoň úplně nenudil. Ale to je jako plus docela málo:-) Nic jiného tam vypíchnout nelze. A kdybych měl vyloženě kritizovat, upsal bych se k smrti.. Protože toho je fakt hromada! Hromada trapných věcí, trapných lidí a trapných událostí..."
      ],
      "text/plain": [
       "<IPython.core.display.Markdown object>"
      ]
     },
     "metadata": {},
     "output_type": "display_data"
    },
    {
     "name": "stdout",
     "output_type": "stream",
     "text": [
      "\n",
      "Příběh kmotra (2013) * 6\n"
     ]
    },
    {
     "data": {
      "text/markdown": [
       "Tak tahle rádoby gangsterka, která je jakože podle skutečných událostí, bohužel s jinými jmény dotyčných osob, je jedna velká katastrofa! Hrozně mě rozesmívá ta fakt až komická doslovnost v dialozích. To asi aby to pochopil i naprostý **idiot.** Tohle ale není bůhvíjak složitý film a děj, tady se fakt nikdo neztratí.. Nejde jen o doslovnost, jde o úplně nový rozměr, vytvořený tak, aby se do každého rozhovoru vešlo všechno důležité a bylo to naprosto nepochybně jasné a beznadějně nematoucí. Nemám rád ani úplný opak, tedy když je něco okatě, jakože efektně, matoucí. Ale tohle? Tahle režie? Tak to je snad vtip! Bohužel to s reálnými lidskými rozhovory a emocemi má společného fakt málo. Působí to, jak jsem již bystře podotkl, dosti komicky, až si člověk ťuká na čelo jestli to fakt myslí s tou doslovností a zároveň zkratkovitostí vážně... Hodně špatný film. Herecky taktéž... velmi **debilní** ..takzvaně **pičou** ke zdi! Češi prostě kriminálky absolutně neumí!"
      ],
      "text/plain": [
       "<IPython.core.display.Markdown object>"
      ]
     },
     "metadata": {},
     "output_type": "display_data"
    },
    {
     "name": "stdout",
     "output_type": "stream",
     "text": [
      "\n",
      "Skore profilu: 338.9\n",
      "Pomer unikatnich a vsech slov 0.3513833566584132\n"
     ]
    }
   ],
   "source": [
    "profil = profile_summary('https://www.csfd.cz/uzivatel/149092-schuldiner/', print_command=True)"
   ]
  },
  {
   "cell_type": "code",
   "execution_count": 207,
   "metadata": {},
   "outputs": [
    {
     "name": "stdout",
     "output_type": "stream",
     "text": [
      "https://www.csfd.cz/uzivatel/172466-frajer42/\n",
      "Rec 2 (2009) 4\n"
     ]
    },
    {
     "data": {
      "text/markdown": [
       "Po fatálně **blbém** prvním dílu jsem si řekl, že druhý díl nemůže být horší. Spletl jsem se. Stupidita prvního dílu nabrala ještě větších rozměrů. Horor? V žádném případě. Tento film má blíže ke komedii, i kdyby jen proto, že v situacích, kde jde o holý život, tak je první a jediné co postavy zajímá kamera. Primárně vše zdokumentovat. **Sekundárně** se zachránit. Při té příležitosti, taky naní na škodu si za pomocí směšného křížku pokecat s ďáblem. (Režisér, dá - li se tak osoba zodpovědná za tento nesmysl nazvat, zřejmě hledal inspiraci ve vymítači ďábla.) Pevně doufám, že se nedočkáme trilogie. Těžko říct, kde by se tahle sračička ze Španělska mohla až zastavit."
      ],
      "text/plain": [
       "<IPython.core.display.Markdown object>"
      ]
     },
     "metadata": {},
     "output_type": "display_data"
    },
    {
     "name": "stdout",
     "output_type": "stream",
     "text": [
      "\n",
      "https://www.csfd.cz/uzivatel/172466-frajer42/\n",
      "Mrtvá nevěsta Tima Burtona (2005) 2.5\n"
     ]
    },
    {
     "data": {
      "text/markdown": [
       "Trapné, jako strčit šroubovák do zásuvky. Jeden z mála filmů, kde plně docením krátkou stopáž.(Déle bych to nevydržel.) Zajímavý barevný přechod mezi životem a smrtí (viz. POMO). Méně zajímavý děj a **stupidní** pointa aneb a žili šťastně až do smrti ( v tomto případě zřejmě i po ní). Tim Burton by mohl sloužit jako reklama na nepřímou úměrnost. Čím více filmů od něj člověk vidí tím méně ho uznává."
      ],
      "text/plain": [
       "<IPython.core.display.Markdown object>"
      ]
     },
     "metadata": {},
     "output_type": "display_data"
    },
    {
     "name": "stdout",
     "output_type": "stream",
     "text": [
      "\n",
      "https://www.csfd.cz/uzivatel/172466-frajer42/\n",
      "Grindhouse: Planeta Teror (2007) 2.5\n"
     ]
    },
    {
     "data": {
      "text/markdown": [
       "Zásadní chyba, které se divák při sledování tohoto filmu může dopustit je začít přemýšlet. Jakmile začnete o tomto nesmyslu přemýšlet pozitiva nenajdete. Tohle byl typický zástupce B - éčkového formátu, která v oblibě nemám. Celé tohle bylo tak neuvěřitelně **debilní** až to bylo místy i vtipné. Ono bylo nejspíš úmyslné zajít až do stupidity, ale tvůrci zašli o mnoho dál. Pokud se tenhle nápad někomu zrodí v hlavě, tak ten člověk vrhá určité pochybnosti. Film o nulovém potenciálu. Možná, že si zaslouží hvězdičku za účinkování Wilise, nebo za cestu hlavního hrdiny na minimotorce, či za umění střílet M16 umístěné místo nohy bez mačkání spouště. Ale očekával jsem zhruba o 100% víc. Pro mě film o nulovém potenciálu. Spolupráce Tarantino - Rodriguez už prosím nikdy více."
      ],
      "text/plain": [
       "<IPython.core.display.Markdown object>"
      ]
     },
     "metadata": {},
     "output_type": "display_data"
    },
    {
     "name": "stdout",
     "output_type": "stream",
     "text": [
      "\n",
      "https://www.csfd.cz/uzivatel/172466-frajer42/\n",
      "Lolita (1997) 6.5\n"
     ]
    },
    {
     "data": {
      "text/markdown": [
       "Vlastně ani nevím proč jsem se odhodlal na tenhle film podívat, ale asi po 20 - ti minutách jsem začal litovat. Chcete špatný film? Obsaďte do hlavních rolí nesympatické herce. Tahle lechce incestní záležitost určite **negradovala.** S postupem času se postupně degradovala na úplné dno. Špatní herci + **stupidní** děj(pro ten neexistuje slov) = ODPAD. Možná se mnou mnoho z vás nebude souhlasit, nebo vám moje hodnocení přijde přísné. Nicméně ze 137minutové stopáže jsem se nudil asi 130 minut. Zbylých 7 minut jsem se díval, kdy ta **blbost** konečně nabere konce. Tímhle se zavděčíte asi jenom zapřísáhlému romantikovi!"
      ],
      "text/plain": [
       "<IPython.core.display.Markdown object>"
      ]
     },
     "metadata": {},
     "output_type": "display_data"
    },
    {
     "name": "stdout",
     "output_type": "stream",
     "text": [
      "\n",
      "https://www.csfd.cz/uzivatel/172466-frajer42/\n",
      "https://www.csfd.cz/uzivatel/172466-frajer42/\n",
      "Občan Kane (1941) 5.98\n"
     ]
    },
    {
     "data": {
      "text/markdown": [
       "I kdybych tohle viděl tak před 60 lety, troufám si tvrdit, že by to na mém hodnocení příliš nezměnilo.Dnes, v rozjetém 21. století marně hledám slušná slova, kterými bych film hodnotil. Jediné slušné a zároveň naprosto výstižné slovo jsem přece jen našel...NUDA!!!... Pokud se kvalitní film vyznačuje nesnesitelnou nudou, tak tohle je skutečně klenot, který nemá v celé historii kinematografie konkurenci. Opravdu jen nevěřícně kroutím hlavou nad tím, v čem někomu připadá tahle **sračka** vyjímečná. Nevidím tu žádný výrazný převrat v kinematografii, snad až na kameru, která svoji dobu předběhla, ale co je platná dobrá kamera ve filmu, který postrádá vše ostatní. Troufnu si tvrdit, že nudnější film jsem za celý svůj život neviděl. Asi 40 minut před koncem jsem to musel vypnout. Opravdu déle to snášet nešlo. Uplatnění filmu shledávám snad jen jako mučící nástroj, protože než abych tuhle **sračkoidní** nudu musel vidět do konce, tak bych přiznal snad cokoliv.. Kam se hrabe water boarding. Takhle vysoké hodnocení zde si dokážu vysvětlit snad jen tak, že mnoho uživatelů je o mnoho chytřejší než já a téhle sračce se obloukem vyhne a nebo mnoho uživatelů je zbabělých a bojí se napsat vlastní názor a vydat se cestou proti davu. Jestli tohle někomu připadá na 5 #, tak by zde bylo asi potřeba hodnocení v rozsahu, tak 250 #. Abychom mohli být zcela objektivní. Co dodat na závěr? Snad jen, že je mi opravdu líto, že nemohu s vámi onanovat nad tímto obrovským klenotem kinematografie. A všem hodnotícím 3# a výše přeji ten nejkvalitnější a dvě hodiny trvající kinematografický orgasmus."
      ],
      "text/plain": [
       "<IPython.core.display.Markdown object>"
      ]
     },
     "metadata": {},
     "output_type": "display_data"
    },
    {
     "name": "stdout",
     "output_type": "stream",
     "text": [
      "\n",
      "https://www.csfd.cz/uzivatel/172466-frajer42/\n",
      "https://www.csfd.cz/uzivatel/172466-frajer42/\n",
      "Tajnosti (2007) 4.5\n"
     ]
    },
    {
     "data": {
      "text/markdown": [
       "Mohl bych tu nejrůznějšími vulgarismy toho nejsprostějšího formátu zhodnotit veškeré faktory tohoto vtipu, který se ani slovem film označit nedá. A nebo by mohlo stačit konstatovaní, že pokud tento film byl u nás v roce 2007 tím nejlepším co se urodilo, tak rok 2007 byl filmově velmi chudý. Kdyby byla ještě o trochu horší hudba, tak se tento film mohl stát prvním filmem co jsem nedokázal dokoukat. Nuda, nuda, šeď, šeď. Film naprosto o ničem. A tím naprosto myslím NAPROSTO. **Fuj.** **Hnus.** Kdo neviděl a čte si tento komentář, nechť dá od tohohle ruce pryč."
      ],
      "text/plain": [
       "<IPython.core.display.Markdown object>"
      ]
     },
     "metadata": {},
     "output_type": "display_data"
    },
    {
     "name": "stdout",
     "output_type": "stream",
     "text": [
      "\n",
      "https://www.csfd.cz/uzivatel/172466-frajer42/\n",
      "Hymna aneb Urfidlovačka (divadelní záznam) (2000) 2\n"
     ]
    },
    {
     "data": {
      "text/markdown": [
       "S lítostí oznamuji, že tohle se nepovedlo. Scénky byly **debilní.** Zpěv nestál za nic, tím chci říct, že zde zazněly pěkné hymny nepěkným způsobem. # dostal Cimrman v říšu hudby a tohle bylo ještě o kousek horší. A nezachrání to ani krátká stopáž. Ačkoliv velmi nerad, tak ten lepší odpad prostě dát musím."
      ],
      "text/plain": [
       "<IPython.core.display.Markdown object>"
      ]
     },
     "metadata": {},
     "output_type": "display_data"
    },
    {
     "name": "stdout",
     "output_type": "stream",
     "text": [
      "\n",
      "https://www.csfd.cz/uzivatel/172466-frajer42/\n",
      "Tanec s vlky (1990) 2\n"
     ]
    },
    {
     "data": {
      "text/markdown": [
       "Nějak jsem se v tomhle přihlouplém ději prostě nenašel. Kevin Costner nepatří mezi mé oblíbence. Hudba zde byla příšerná, což je nesmírná škoda, protože to celé mohla vyšperkovat a dát průchod emocím. Takhle jsem zůstal celý film chladným a těšil se až tahle **blbost** skončí. Po třech hodinách jsem se dočkal. Filmu, který asi 2h 40minut neuvěřitelně nudí tu hvězdičku prostě dát nemohu. Odpad! Naprosté nevyužití potenciálu."
      ],
      "text/plain": [
       "<IPython.core.display.Markdown object>"
      ]
     },
     "metadata": {},
     "output_type": "display_data"
    },
    {
     "name": "stdout",
     "output_type": "stream",
     "text": [
      "\n",
      "https://www.csfd.cz/uzivatel/172466-frajer42/\n",
      "https://www.csfd.cz/uzivatel/172466-frajer42/\n",
      "https://www.csfd.cz/uzivatel/172466-frajer42/\n",
      "https://www.csfd.cz/uzivatel/172466-frajer42/\n",
      "https://www.csfd.cz/uzivatel/172466-frajer42/\n",
      "Batman (1989) 4\n"
     ]
    },
    {
     "data": {
      "text/markdown": [
       "Dámy a pánové já mám jasno. Tohle bych označil za špatný pokus o komedii. Bohužel nepotlačím nutkání srovnávat. A srovnávat budu s novější adaptací. Tenhle Batman byl příšerný a to po všech stránkách, Michael Keaton mi v roli Batmana absolutně nesedl. Christian Bale ho zničil na plné čáře. Efekty srovnávat nehodlým, protože se pohybujeme v absolutně odlišné časové dimenzi. A tohle, že měl být Joker? To byl prostě **debil.** A **debilně** napsanou roli nezachránil ani Jack Nicholson. Trapné, že se to ani slovy nedá patřičně popsat. Hodnocení odpad je možná kruté, ale nemůžu si pomoct. Tohle byl nevydařený nesmysl."
      ],
      "text/plain": [
       "<IPython.core.display.Markdown object>"
      ]
     },
     "metadata": {},
     "output_type": "display_data"
    },
    {
     "name": "stdout",
     "output_type": "stream",
     "text": [
      "\n",
      "https://www.csfd.cz/uzivatel/172466-frajer42/\n",
      "https://www.csfd.cz/uzivatel/172466-frajer42/\n",
      "https://www.csfd.cz/uzivatel/172466-frajer42/\n",
      "Matrix Revolutions (2003) 6.5\n"
     ]
    },
    {
     "data": {
      "text/markdown": [
       "Jsem velmi rád, že mám celou sérii za sebou. Podruhé bych to nechtěl spatřit ani kdyby to byl poslední film na zemi. Jediná věc co se mi na téhle **debilní** sérii líbila, byla akce na dálnici v druhém dílu. Vše ostatní, a teď to řeknu hodně slušně, stálo za **hovno.** Tahle **sračka** u mě vytvořila alergii na slovo ,,vědma\"! Dialogy slovy nepopsatelně odporné. ODPAD a to hned 3x! Tohle nelze ohodnotit jinak."
      ],
      "text/plain": [
       "<IPython.core.display.Markdown object>"
      ]
     },
     "metadata": {},
     "output_type": "display_data"
    },
    {
     "name": "stdout",
     "output_type": "stream",
     "text": [
      "\n",
      "https://www.csfd.cz/uzivatel/172466-frajer42/\n",
      "Matrix Reloaded (2003) 11.0\n"
     ]
    },
    {
     "data": {
      "text/markdown": [
       "**Idiotské** kecy byly vystřídány méně **idiotskou** akcí. Jednoznačně se mi tento díl líbil více než ten první, protože jsem přesvědčen o tom, že akce a efekty jsou to na čem Matrix postavil ,,úspěch\". Přestože akce na dálnici se mi líbila velmi, tak dokud se v Matrixu budou vyskytovat ty rádoby filosofické **sračky,** tak ode mne neuvidí jedinou hvězdičku. **Kreténská** jména všech postav jen podtrhují tento nesmysl světového formátu. Ať se na mě Wachowski brothers nezlobí, ale tento nápad se mohl zrodit jen v hlavě naprostého **IDIOTA!** Lidi co se děje? To jste snad vysadili předepsanou dávku léků? Pan doktor to s vámi myslí dobře! ODPAD ! ! !"
      ],
      "text/plain": [
       "<IPython.core.display.Markdown object>"
      ]
     },
     "metadata": {},
     "output_type": "display_data"
    },
    {
     "name": "stdout",
     "output_type": "stream",
     "text": [
      "\n",
      "https://www.csfd.cz/uzivatel/172466-frajer42/\n",
      "Matrix (1999) 3.0\n"
     ]
    },
    {
     "data": {
      "text/markdown": [
       "Příšerné. Nechápu čím tak **blbý** příběh mohl zaujmout tolik lidí. Uznávám, že efekty byly na svoji dobu dobré. Tento film, že zaujímá horní hranici TOP 20? To má být vtip ne? Zveličování ničeho. Většinu rolí mají svěřenou nesympatičtí herci. Tohle není geniální film, tohle je prostě obrovský omyl, který neměl být nikdy natočen. Já se prostě nudil. Cca. 10 minut filmu stojí za zmínku (jedna scénka). Stopáž má však něco přes 2 hodiny. Čistý průstřel. ODPAD! Kdo hodnotí výše než já, ten nejspíš žije v Matrixu."
      ],
      "text/plain": [
       "<IPython.core.display.Markdown object>"
      ]
     },
     "metadata": {},
     "output_type": "display_data"
    },
    {
     "name": "stdout",
     "output_type": "stream",
     "text": [
      "\n",
      "https://www.csfd.cz/uzivatel/172466-frajer42/\n",
      "Princezna Mononoke (1997) 16.5\n"
     ]
    },
    {
     "data": {
      "text/markdown": [
       "Jejda. Uživatelé CSFD se nám znovu zbláznili. Předem bych upozornil na relativně vysoký výskyt vulgárních slov v následujícím komentáři. Moc se za to omlouvám, ale můj slovník zkrátka nedisponuje potřebným množstvím slov slušných, abych mohl komentář sepsat s absencí vulgarismů. Větší **sračku** v žánru pohádka si nedokážu zrovna vybavit. Tady bylo špatně úplně všechno. Přizdisráčský příběh vhodný pro děti snad do dvou let. Všechny postavy mají naprosto totožné rypáky, takže jste shopní rozeznat asi 4 postavy, což by mi ještě tak nevadilo. Film se tváří jako animovaný film. Dospěl jsem k názoru, že jím není. Proč? Citováno z wikipedie: ,,Animovaný film je druh filmu, který je snímaný po jednotlivých fázích (neboli snímcích filmového pásu) tak, aby se jeho přehrátím PLNOU RYCHLOSTÍ vytvořil dojem PLYNULÉHO pohybu. Tomuto způsobu rozpohybování se říká animace.\" V případě tohoto filmu se v žádném případě nejednalo o plynulý pohyb. Já prostě viděl jednotlivé obrázky, v žádném případě né animaci. A dokonce i ty jednotlivé obrázky byly tak **hnusné** a tak zastaralé, že člověka akorát po celou dobu neskutečně sraly. Nevěřil jsem, že na CSFD je takové % lidí užívajících pravidelě omamné látky. Tato mozaika **hnusných** obrázků (tuhle **sračku** nelze pojmenovat jako animovaný film) je silným důkazem jak šeredně jsem se mýlil. Jsem si zcela jistý, že člověk při plném vědomí nemůže být tímto **zasraně** nudným příběhem omámen. Tudíž za pocitem omámení stojí zcela jistě něco jiného. Něco málo si ještě pamatuji, tak se pokusím příběh stručně rekapitulovat. Začne to zcela nenápadně. Jednoho krásného dne z lesa vyběhne kanec obalený v špagetách. Kance zabije přibližně třináctiletej kluk. Bohužel při té příležitosti se tomu puber´tákovi několik špaget obmotá kolem ruky. Špagety byly asi kontaminované, neb chlapce zastihne prudká infekce a zranění se mu celý příběh rozrůstá. Tak chlapce vyhostí. Ten se vydá hledat ducha lesa, aby mu jeho bolístku pofoukal. Chlapec zjistí, že panuje příšerná válka mezi zvířaty a lidmi. Zvířátka jsou to vskutku vyjímečná, neboť dokážou zcela plynule hovořit bez sebemenšího záchvěvu úst, což mi neskutečně vadilo. Chlapec se rozhodne pomoct nastolit opět mír. Jestli se mu to povede asi každý úspěšně odhadne cca. po 10 minutách obrázkové mozaiky. Takže mi nezbývá než nechápavě kroutit hlavou a udělit jeden z mnoha mých odpadů. Když však vidím davové hodnocení, tak mě napadají jen dvě slova. Zlatí pokémoni. Co Pokémoni, ale i Digimoni. Uff. nevěřil jsem, že tohle někdy napíšu."
      ],
      "text/plain": [
       "<IPython.core.display.Markdown object>"
      ]
     },
     "metadata": {},
     "output_type": "display_data"
    },
    {
     "name": "stdout",
     "output_type": "stream",
     "text": [
      "\n",
      "https://www.csfd.cz/uzivatel/172466-frajer42/\n",
      "Cesta do pravěku (1955) 14.48\n"
     ]
    },
    {
     "data": {
      "text/markdown": [
       "Jestli jsem zde s nějakým hodnocením už několikrát nesouhlasil, tak s hodnocením u tohoto filmu mám vážný problém. Pamatuji si, že už jako dítěti se mi tento film příliš nezamlouval, protože mi ta zvířata přišla prostě ,,divná\". A čím jsem starší, tak tím mi přijde tento film více a více **debilní.** Čtyřčlená parta **blbounů.** Proč **blbounů?** Chovají se jako **blbouni,** mluví jako **blbouni** a dokonca tak i vypadají. Takže čtyřčlenná parta **blbounů** najde zkamenělinu trilobita a nějakým zvláštním způsobem se ocitnou na cestě napříč vývojem planety. Vy vážně nemáte s tou ,,animací\"(animace asi na úrovni extrémně nekvalitního kresleného filmu) problém?? Nikdo z vás? Vážně?? Já teda obrovský. Kdybych to měl říct hodně mírně, tak mě ta ,,animace\" zvířat či rostlin dost výrazně srala. Ale mě sral vlastně celý film. Neuvěřitelná slátanina nesmyslů a strašných dětských herců. Jsem si zcela jistý, že tímto filmem by pohrdaly i dnešní děti odkojení na násilí a pokemonech. A jestli jsem si byl někdy odpadem super jistý, tak je to tento případ. !!!ODPAD!!! A kdybych mohl dát 2 odpady, tak dám raději 3."
      ],
      "text/plain": [
       "<IPython.core.display.Markdown object>"
      ]
     },
     "metadata": {},
     "output_type": "display_data"
    },
    {
     "name": "stdout",
     "output_type": "stream",
     "text": [
      "\n",
      "https://www.csfd.cz/uzivatel/172466-frajer42/\n",
      "https://www.csfd.cz/uzivatel/172466-frajer42/\n",
      "Jak jsem poznal vaši matku (TV seriál) (2005) 24.0\n"
     ]
    },
    {
     "data": {
      "text/markdown": [
       "Viděl jsem útržkovitě pár dílů z tohoto seriálu, dokud neuvidím ten pilotní, tak s odpadem počkám. EDIT(po pár dnech). Tak už mám za sebou i ten pilotní. A musím vám říct jedno. Božínku takhle jsem se u seriálu už dlouho nenasmál(rovná nula). A to se musí přece ocenit....odpadem. Člověk nemá potřebu vidět ani další díl, protože už ten název napoví o čem tahle **sračkoidní** **sračka** bude. Charaktery trapné. Herci **hnusní.** Příběh **debilní.** Vtip žádný. Na romantiku jim seru. Nadpozemská **sračka.** Tady jsou snad všichni na drogách a já nedostal. Myslel jsem, že větší trapná **pičovina** než Přátelé nemůže vzniknout. Ach, jak jsem se mýlil. Chápu, že na mentálně zaostalé jedince ( a že jich tu je ) může ten smích v pozadí působit a postupně jim sugerovat myšlenku: ,, Jé to je **sranda,** když se všichni tolik smějí. \" Veškerý rádoby vtip je tu založen na situacích typu: ,,Vem si oblek!...Proč sis nevzal oblek? CHA CHA CHA SMĚJU SE AŽ SE VÁLÍM PO ZEMI. Začínám dospívat k názoru, že ty české **sračky** ( které mimochodem hodnotím stejně ) jsou v mnoha ohledech lepší. Je tam totiž něco na co tady páni autoři úplně zapomněli....NĚJAKÝ DĚJ. I když v Ordinacích, VKV apod. je ten děj tak příšerně **debilní,** tak jsem pořád názoru, že něco je stále víc než nic. No ale ať si kldině HIMYM slouží jako téma k diskuzi pro slabomyslné, nebo děti předškolního věku: ,,Viděl jsi včera HIMYM?\" ,,Jo ten Barney zase válel, řekl LEGENDARY.\" ,,Ty vole, tak to je ukrutnej borec a vtip.....a teď si počkej, ale určitě víč co bude následovat.....álek těžkýho kalibru\" Mě však prosím z podobných dialogů vynechte. ODPAD!! Jeden z nejméně perspektivních seriálů, které jsem měl možnost vidět. Jako útěcha může sloužit pouze fakt, že jich mnoho nebylo."
      ],
      "text/plain": [
       "<IPython.core.display.Markdown object>"
      ]
     },
     "metadata": {},
     "output_type": "display_data"
    },
    {
     "name": "stdout",
     "output_type": "stream",
     "text": [
      "\n",
      "https://www.csfd.cz/uzivatel/172466-frajer42/\n",
      "Futurama (TV seriál) (1999) 6.48\n"
     ]
    },
    {
     "data": {
      "text/markdown": [
       "No, když člověk slýchá ze všech stran chválu na adresu tohoto seriálu, tak prostě nepřemůže nutkání se na tento seriál vrhnout. Budiž jsem si pustil první díl. Moje dojmy byly asi následovné: Nuda, nuda, nezajímavá animace, nuda, nesympatické charaktery postav, nuda, nesympatické osoby samotné. Že by všechen tolik slibovaný vtip unikl? Byl zde vůbec ten vtip? Pro jistotu jsem si v krátké době pustil druhý díl, a tak mohu s čistým svědomím prohlásit neunikl, on tam není. A fakt, že jsem útržkovitě od té doby viděl ještě pár dalších dílů v TV moje prvotní dojmy pouze upevnil. Seriál, který disponuje takovým počtem zajímavých charakterů(0), mi nedává sebemenší důvod ve sledování pokračovat. Takže mi nezbývá než se rozloučit se seriálem slovy ODPAD!!! Omlouvám se všem, které jsem urazil tím, že jsem si tenhle **sračkoidní** nesmysl seriálem vůbec odvážil označit. Chápu, že označení **sračka** je mnohem výstižnější, slovo seriál jsem použil jen z úcty ke jménům tvůrců."
      ],
      "text/plain": [
       "<IPython.core.display.Markdown object>"
      ]
     },
     "metadata": {},
     "output_type": "display_data"
    },
    {
     "name": "stdout",
     "output_type": "stream",
     "text": [
      "\n",
      "https://www.csfd.cz/uzivatel/172466-frajer42/\n",
      "Teorie velkého třesku (TV seriál) (2007) 9.5\n"
     ]
    },
    {
     "data": {
      "text/markdown": [
       "Nedokážu a ani nechci si tento seriál představit bez Sheldona. Ten jediný zapříčinil, že jsem u tohoto seriálu vydržel až do konce třetí série a abych pravdu řekl, tak na čtvrtou se ani nechystám. Ostatní postavy nejsou příliš zajímavé. Samozřejmě některé díly jsou lepší a některé horší. Všechny jsou však o tom samém, neschopnosti se seznámit. Myšlenka sama o sobě neperspektivní. Vysoko nad ní však stojí výborně napsaná a výborně zahraná postava Shledona, který chrlí hlášku za hláškou a ostatní postavy s přehledem upozaďuje. Jestli tohle nezařadím do mé seriálové topky, tak co už? Znovu a naposled musím všechny uvědomit, že je to pouze za postavu Sheldona. Všichny ostatní scénky, kterých se Sheldon neúčastní stojí tak cirka z 90% za takovou tu hnědou věc nejrozmanitějších tvarů a velikostí, která mívá tvar, barvu a zápach podle toho, co jste zrovna snědli. # # # # .....EDIT..... Tak po delší době(cca 10 měsíců) jsem se rozhoupal i ke zhlédnutí 4. série, která stále drží vysoký standart. Přibylo několik nových postav a jsem si téměř jistý, že 5. série na mě nebude dlouho čekat. Třeba i hodnocení zvednu. .....EDIT..... 5. série začala celkem **sračkoidně,** ale zvládla se vrátit do starých kolejí. Následující 6. sérii jsem sjel tak rychle, jako feťák svoji lajničku. 7. sérii jistě nevynechám. Podobných seriálů je málo a z toho mála si málokterý udrží i po 6. sérii takhle vysokou kvalitku, takže hodnocení zvedám na plný počet. ....EDIT.... Bohužel, 7. série byla v mých očích zklamáním. Nudný díl střídal ještě o kousek nudnější. Těch opravdu vydařených bylo pouze pár. Přibyde nějaká ta nová postavička. Arab ke konci dokonce zasune, ale už to není ten starý Big Bang, u kterého jsem se vydržel smát většinu stopáže. Na 8. sérii už se netěším až tolik, jako na všechny předcházející, ale nedovedu si představit, že bych její zhlédnutí vynechal. .....EDIT..... Během 8. série musím sáhnout ke zcela netypickému kroku, seriál absolutně **zesračkovatěl** a já jsem stálým divák už výhradně ze setrvačnosti. Absolutně se vytratil původní koncept a tlupě nerdů. Mnohem více, tak má divák možnost nakouknout na dívčí sešlosti a prožívat tak hodiny nesnesitelné nudy. V ojedinělých případech se dokonce uskutečňují sešlosti celorodinné, které si brzy začnu pouštět s dost vysokým zrychlením. O frajerech už to prakticky není vůbec. Člověk je vidí pohromadě s tak nízkou frekvencí, že by nebylo úplně na škodu zapít každý jejich výskyt sklenkou archivního vína. Hodnocení tedy srážím už nyní a kdoví kam až klesne po skončení série. Kdybych byl tvůrcem, tak více než jednu další, třeba i zkrácenou sérii, už na svět v žádném případě nevypouštím. Velmi nerad bych z původních 5 # vyrobil odpad. Bohužel to k tomuto katastrofickému scénáři dost přímo směřuje. .....EDIT..... Po zhlédnutí celé 8. série nemám ani moc chuť něco dodávat. Z 24 dílů jsem se zasmál maximálně tak u třech. Seriál zamířil strmým směrem do sraček. O absolutně **debilním** konci raději vůbec nemluvit. Hodnocení srážím na 3 # a osobně bych byl nejraději, kdyby 9. série nikdy nevznikla. Z divácké setrvačnosti bych ji asi také zhlédl, přestože bych vůbec žádné zlepšení rozhodně nečekal. Spíše naopak. Nejsem si jistý, jestli z těch hoven, kde se seriál momentálně nachází vede nějaká tajná cesta ven... .....EDIT..... 9. série stála dle očekávání za hovínko. Jednalo se ovšem o hovínko malinko pěknější, než bylo k vidění v sérii minulé. Zasmát se u několika dílů trošku dalo. Nic dramatického. Pokračuje se v hraní si na trapný vztahový blábol. Někdo by měl tvůrce včas zneškodnit. Někam se jim totiž zatoulala soudnost. .....EDIT..... Po zhlédnutí 14. dílu 10. série se se seriálem definitivně loučím. Nemám zájem sledovat tohle utrpení. Tvůrci se snad záměrně snaží odhánět své diváky. Absolutně se u toho nedá zasmát. Celé se to zvrhlo v nesledovatelnou píčovinu. Se slzami v očích vzpomínám na vynikající úvodní série. Hodnocení upravuji na nejnižší možné, neboť tvůrci nebyli schopní v sobě najít trošku soudnosti a celé to utnout, dokud byl čas."
      ],
      "text/plain": [
       "<IPython.core.display.Markdown object>"
      ]
     },
     "metadata": {},
     "output_type": "display_data"
    },
    {
     "name": "stdout",
     "output_type": "stream",
     "text": [
      "\n",
      "https://www.csfd.cz/uzivatel/172466-frajer42/\n",
      "Noční můra v Elm Street 3: Bojovníci ze sna (1987) 10.64\n"
     ]
    },
    {
     "data": {
      "text/markdown": [
       "A tohle mělo být co? Že to není strašidelné na to si člověk už zvyknul, ale ono to tentokrát není ani vtipné. Trapné, ano to je to správné slovo. Herecky neuvěřitelně **debilní.** Taková banda **kreténů** se vidí zřídka. A celý příběh je naprosto přihřátý. A o speciálních schopnostech postav lepší nemluvit, ale já si to neodpustím. Jeden negřík bourá zdi, druhá čupka dělá salta a bůhví co ještě a aby toho nebylo málo, tak jeden brejlatej **idiot** dokonce kouzlí. Omg. A ta kostra v závěru, mimochodem perfektně technicky zvládnutá ( doufám, že je z toho dostatečně cítit ironie ) tomu dodala korunu. Takhle si zahrávat s legendárním jménem, za to by měl být kriminál. Jestli jsem druhý díl označil za přetažený za vlasy, tak co je potom **kurva** tohle? Nezlobte se na mě. Odpad!!!! Scénář byl zřejmě psán v nějaké podobné léčebně."
      ],
      "text/plain": [
       "<IPython.core.display.Markdown object>"
      ]
     },
     "metadata": {},
     "output_type": "display_data"
    },
    {
     "name": "stdout",
     "output_type": "stream",
     "text": [
      "\n",
      "https://www.csfd.cz/uzivatel/172466-frajer42/\n",
      "Blade Runner (1982) 3.0\n"
     ]
    },
    {
     "data": {
      "text/markdown": [
       "Tak já ten odpádek přece jenom dám. Abych řekl pravdu díval jsem se na to jen kvůli hudbě od Vangelise, která mi zde příliš neseděla. Je to moderní hudba k technicky vyspělým filmům. Tento film je po technicé stránce velmi nízko. Je to sice spjato s jeho stářím, ale na to hledět nehodlám. Rovněž si myslím, že Harrison Ford prostě není hercem úplně vhodným do sci -fi, i když ho jako herce takového obdivuji. Celý film má hrozně **stupidní** a hrozně roztahaný děj, z kterého jsem plnými doušky nasával jen a pouze nudu. Jediné co tady cením je filmová zvukomalebnost. V tom vynikal Ridley Scott už tehdy a stále to zdokonaluje. A samozřejmě cením hudbu Vangelise, která je sama o sobě perfektní. V tomhle filmu však svojí kvalitou stojí vysoko nad filmem a tím film ještě více shazuje, jestli to je ještě vůbec možné. Uznávám, že kdybych film viděl dříve bylo by moje hodnocení zcela odlišné. A stačilo by asi ,,pouze\" 20 let. Nezastávám zdejší heslo:,,NUDU JE POTŘEBA OCENIT\", a tak mi nezbývá nic jiného než dát jeden malý, zato však maximálně spravedlivý odpad."
      ],
      "text/plain": [
       "<IPython.core.display.Markdown object>"
      ]
     },
     "metadata": {},
     "output_type": "display_data"
    },
    {
     "name": "stdout",
     "output_type": "stream",
     "text": [
      "\n",
      "https://www.csfd.cz/uzivatel/172466-frajer42/\n",
      "Ohnivé vozy (1981) 2\n"
     ]
    },
    {
     "data": {
      "text/markdown": [
       "Použil bych zde slovo nuda, kdyby se film alespoň z části nudě přibližoval. Film byl daleko za ní a od odpadu ho nezachránila ani výborná hudba. 2x usnout během jednoho filmu se mi dlouho nepovedlo. Nesympatické postavy. **Stupidní** kamera. Příšerně moc nudný děj, který stál na místě. Myslím, že k tomu už není potřeba nic dodat. Kdo mi nevěří, ať se na film podívá. Předtím však vřele doporučuji dát si minimálně šálek velmi silné kávy. Přesto však nemohu zaručit, že film zdárně dokoukáte až do konce. Osobně jsem měl šálky dva..."
      ],
      "text/plain": [
       "<IPython.core.display.Markdown object>"
      ]
     },
     "metadata": {},
     "output_type": "display_data"
    },
    {
     "name": "stdout",
     "output_type": "stream",
     "text": [
      "\n",
      "https://www.csfd.cz/uzivatel/172466-frajer42/\n",
      "https://www.csfd.cz/uzivatel/172466-frajer42/\n",
      "Vetřelec ³ (1992) 6\n"
     ]
    },
    {
     "data": {
      "text/markdown": [
       "Jediné co je tu lepší než v předchozích dílech je provedení vetřelce. Režisér už se nebojí ho častěji ukazovat. Díl jako celek je však o mnoho řádů horší než první dva. Sigourney Weaver je s novým hairstylem ještě **hnusnější** než dříve. Herecky je to absolutně **debilní** a nesympatické. A to se neodvažuji mluvit o samotném příběhu, který tvoří vrcholný stupeň **debilismu.** Vetřelec zkrátka nikdy nebyl, není a velmi pravděpodobně nikdy nebude mým šálkem kávy. Většina filmu pronuděná. Nemohu jinak než čistý odpad!"
      ],
      "text/plain": [
       "<IPython.core.display.Markdown object>"
      ]
     },
     "metadata": {},
     "output_type": "display_data"
    },
    {
     "name": "stdout",
     "output_type": "stream",
     "text": [
      "\n",
      "https://www.csfd.cz/uzivatel/172466-frajer42/\n",
      "Moulin Rouge (2001) 14\n"
     ]
    },
    {
     "data": {
      "text/markdown": [
       "Co k tomu ještě napsat, abych se nemusel opakovat. **Debilní** předloha v ještě několikanásobně **debilnějším** filmovém provedení. Tenhle muzikál, či jak to mám nazvat je horší než nic. Naprosto chaotické tempo, které mi vyhovovalo tak možná 10 minut, poté mi to příšerně lezlo na nervy. Všechny postavy ( snad z nadměrného požívání Absinthu ) se chovají jako banda **idiotů** ze snad jiné galaxie. Abych jenom nekritizoval, tak vám taky povím co se mi zde líbilo...Byly to asi dva songy podpořené sborovým zpěvem nepříliš valné kvality. Nemám nejmenší tušení na co si film míní hrát, či co nám všem chce dokázat, ale já měl obrovskou chuť ten chaotický nesmysl vypnout, pak by ale moje hodnocení mohlo být zkreslené. Takhle jsem si tu nadpozemskou hovadinu mohl s chutí vychutnat až do posledního doušku. A stálo to za to. Nejhorší muzikál co jsem, kdy viděl? Nad tímto žánrem se nijak nerozplývám, ale možná že jo. Naprostá ztráta času. Tohle bych nedoporučil ani nejlepšímu příteli mého nepřítele. **Sračka!** **Sračka!** **Sračka!** Doufám, že to takhle stačí. Musí to stačit. Na ohodnocení téhle **sračky** není v našem ani v nějakém jiném jazyku dostatek vhodných slov."
      ],
      "text/plain": [
       "<IPython.core.display.Markdown object>"
      ]
     },
     "metadata": {},
     "output_type": "display_data"
    },
    {
     "name": "stdout",
     "output_type": "stream",
     "text": [
      "\n",
      "https://www.csfd.cz/uzivatel/172466-frajer42/\n",
      "Pí (1998) 4.5\n"
     ]
    },
    {
     "data": {
      "text/markdown": [
       "Ten film mi připadá naprosto nedotažený. Nějak jsem tam nepochopil ty čachry s tím náboženstvím. Prostě pro mě je to nekvalitní sci-fi, žádnou genialitu v tom opravdu nenalézám. Darren Aronofsky pro mě asi nadobro zůstane číslo PÍ. V jeho tvorbě jsou výborné filmy jako Requiem za sen, či Wrestler a na druhé straně je schopen stvořit rádoby filisofické **sračky** jako je tohle, nebo Fontána. Naštěstí vytvořil také **sračkoidní** Černou labuť a tím se pro mě (možná nadobro) zařadil mezi ty méně oblíbené režiséry. Pro mě jasný odpádek."
      ],
      "text/plain": [
       "<IPython.core.display.Markdown object>"
      ]
     },
     "metadata": {},
     "output_type": "display_data"
    },
    {
     "name": "stdout",
     "output_type": "stream",
     "text": [
      "\n",
      "https://www.csfd.cz/uzivatel/172466-frajer42/\n",
      "Krysař (1985) 2\n"
     ]
    },
    {
     "data": {
      "text/markdown": [
       "Nebyl jsem seznámen s německou legendou o krysaři, ale od díla Viktora Dyka se tohle zpracování odlišuje až neskutečně. Z téhle hodinové **blbosti** se dal udělt i povedený krátkometrážní animák o 25 - 30 minutové stopáži. Moc nemám v oblibě stále se opakující sekvence, kterých zde byl přehršel. Stejně tak se mi nelíbila ani kulisa. Zřejmě pro vykreslení tehdejších poměrů byla dobře zvolená, ale prostě mě ty ze dřeva vytesané postavičky spíše vadily. Ještě více mi však vadily skřeky, které vydávaly. Celý tento film mi přišel jako jeden nepovedený pokus zpracovat legendu. Viktor Dyk tohle zvládl ve své knize o 110% lépe a o mnoho let dříve. Tenhle film byl průser. Odpad!"
      ],
      "text/plain": [
       "<IPython.core.display.Markdown object>"
      ]
     },
     "metadata": {},
     "output_type": "display_data"
    },
    {
     "name": "stdout",
     "output_type": "stream",
     "text": [
      "\n",
      "https://www.csfd.cz/uzivatel/172466-frajer42/\n",
      "https://www.csfd.cz/uzivatel/172466-frajer42/\n",
      "American Horror Story - Murder House (série) (2011) 6\n"
     ]
    },
    {
     "data": {
      "text/markdown": [
       "5 dílů jsem zvládl celkem v pohodě. Ovšem v dílu šestém začíná seriál značně **debilovatět** a nemíní s tím přestat. Začal jsem se v tom dosti ztrácet. Pořádně nevíte, kdo je naživu, kdo ne a kdo je naživu jen na Halloween a čekat na nějaké přihlouplé vysvětlení dalších 5 dílů se mi tedy příliš nechce. Ta rodinka mi také příliš nepřirostla k srdci. Žena je opticky tak o 10 let starší než její choť. Kdybych ji potkal na ulici odhadoval bych jí tak 55. Není se tedy moc čemu divit, že jí manžel zahýbá s nějakou mentálně indisponovanou studentkou s rozumem přibližně někde na úrovni 10 letého dítěte. Společně vlastní dcerku se sebepoškozovacími sklony, která se od **retardované** sousedky a její kamarádky dozví, že je vlastě vyvolená. Co to bude obnášet se kvůli předčasnému ukončení mého sledování tohoto seriálu už asi nikdy nedovím. Ledaže by byl někdo až tak hodný a řekl mi to. Postav je tu spousta. Tak 70% tvoří **retardovaní** duchové, 20% klasičtí duchové a zbytek rodinka, sousedka, jejiž existence je pochybná a jeden černý policista, který určitě brzy sesmilní s paní domu. Upřímně to s hororem, jak název optimisticky uvádí, nemá společného vůbec nic. Mám takový nepříjemný zlozvyk. Jekmile se rozhodnu, že daný seriál mě natolik nebaví, že už z něj nemám potřebu vidět ani jediný díl, tak mám silnou tendenci dát odpad. V tomto případě tomu nebude jinak. Berte však ten odpad jako odpad z kategorie těch lepší a hlavně mi za to nenadávejte, nedsuzujte mě a zbytečně nespamujte moji poštu, která se má nejlépe, když je prázdná..."
      ],
      "text/plain": [
       "<IPython.core.display.Markdown object>"
      ]
     },
     "metadata": {},
     "output_type": "display_data"
    },
    {
     "name": "stdout",
     "output_type": "stream",
     "text": [
      "\n",
      "https://www.csfd.cz/uzivatel/172466-frajer42/\n",
      "https://www.csfd.cz/uzivatel/172466-frajer42/\n",
      "https://www.csfd.cz/uzivatel/172466-frajer42/\n",
      "https://www.csfd.cz/uzivatel/172466-frajer42/\n",
      "Gilmorova děvčata (TV seriál) (2000) 2.5\n"
     ]
    },
    {
     "data": {
      "text/markdown": [
       "Na začátek bych rád projevil lítost vůči všem členům fanklubu tohoto seriálu a popřál jim brzké uzdravení. Myslím, že tento seriál byl v TV vysílán tak často, že se mi mnohokrát posmůlilo přepnout na něj, tudíž se domnívám, že jsem viděl dost, abych si byl schopen udělat závěr. Vlastně ani nevím o čem ten seriál je. Přišlo mi, že je spíše o ničem než o něčem, a proto mě taky udivuje těch 154 dílů, ve kterých se vlastně nic neděje. Chvíle prožité ve společnosti tohoto seriálu bych snad ani nudou nenazval. Bylo to čiré utrpení. Vrcholný imbecilismus. Doufám, že svým tvrzením, za kterým si pevně stojím nikoho neurazím. Tenhle seriál se prostě lidem nad 60 IQ nemůže líbit. Takže buď jsou uživatelé na CSFD banda **dementů,** nebo banda lhářů. A hádám, že ten, kdo se cítí uražen spadá do první skupiny. Jednoznačný odpad a jeden z těch naprosto nejhorších seriálů, na které jsem kdy vůbec přepnul."
      ],
      "text/plain": [
       "<IPython.core.display.Markdown object>"
      ]
     },
     "metadata": {},
     "output_type": "display_data"
    },
    {
     "name": "stdout",
     "output_type": "stream",
     "text": [
      "\n",
      "https://www.csfd.cz/uzivatel/172466-frajer42/\n",
      "Červený trpaslík (TV seriál) (1988) 8\n"
     ]
    },
    {
     "data": {
      "text/markdown": [
       "Musím se přiznat, že po zhlédnutí prvního dílu jsem si skutečně myslel, že jsem narazil na další geniální seriál. Druhý díl už byl o poznání slabší a jakmile se tam ocitnul ten **debilní** **negr** křížený s kočkou či co to bylo, tak jsem si byl naprosto jistý, že s touhle **sračkou** si řekneme vzájemně ahoj. Šanci jsem tomu dával, protože všechny scénky, kde ten koucour nebyl vyloženě špatné nebyly. Ovšem čtvrtý díl, převážně jeho konec mě tak neuvěřitelným způsobem vadil, že už to riziko vidět pátý díl prostě nejsem schopen podstoupit. Navíc jsem největším možným odpůrcem umělého smíchu v seriálech. Obzvlášť v seriálech, kde se ani není smát moc čemu. Promiňte mi, že se znovu vracím k tomu **negrovi,** kterého nazývají kocour, ale tato osoba dala slovu trapný zcela nový rozměr, který tu kdykoli dříve prostě nebyl. A kdyby tu ten můj odpad měl být jenom za něj, tak s tím nebudu mít větší problém. Ale mohu vás uklidnit, zbylé osoby nejsou také nějací závratní sympaťáci, takže ten odpad je přibližně jen z 90% za koucoura."
      ],
      "text/plain": [
       "<IPython.core.display.Markdown object>"
      ]
     },
     "metadata": {},
     "output_type": "display_data"
    },
    {
     "name": "stdout",
     "output_type": "stream",
     "text": [
      "\n",
      "https://www.csfd.cz/uzivatel/172466-frajer42/\n",
      "Ajťáci (TV seriál) (2006) 2\n"
     ]
    },
    {
     "data": {
      "text/markdown": [
       "Takže další seriál, na který jsem šel cestou 3× a dost, i když tady jsem si byl takřka jistý už po díle prvním, že Ajťáci a já nenajdeme společnou řeč. Za tři díly jsem se zasmál jednou, a to je na seriál, který se snaží být neustále vtipný trošku málo. Chris O'Dowd je jako ajťák věrohodný, ale Richard Ayoade je naprostý **dement,** který mi neuvěřitelným způsobem vadí. O něco více mi leze na na nervy ještě Katherine Parkinson, která mi způsobuje neuvěřitelné stresy, které by se ani nevešly do měřícího rozsaha stresoměru z tuším že druhého dílu. Je zarážející, jak smích v pozadí dokáže mnohé ovlivnit. Na druhou stranu jsem rád, že tam je, protože bez něj by bylo pro mě opravdu těžké poznat, když se vůbec po mne vyžadovalo zasmát se. Další ze seriálů, pro které nenacházím jiná slova než odpad!"
      ],
      "text/plain": [
       "<IPython.core.display.Markdown object>"
      ]
     },
     "metadata": {},
     "output_type": "display_data"
    },
    {
     "name": "stdout",
     "output_type": "stream",
     "text": [
      "\n",
      "https://www.csfd.cz/uzivatel/172466-frajer42/\n",
      "Přátelé (TV seriál) (1994) 5.800000000000001\n"
     ]
    },
    {
     "data": {
      "text/markdown": [
       "Na úvod bych uvedl, že kdykoliv jsem v televizi na tento výplod choré mysli narazil, tak jsem okamžitě hledal dálkový ovladač, abych svoje trápení razantně ukončil. Pokud někde existuje nějaká předepsaná hranice IQ, do které to člověku přijde vtipné, tak mi nezbývá než se tvůrcům za svoji genialitu omluvit a dát bez milosti odpad. Pokud ta hranice neexistuje, tak se tvůrcům neomluvím, krátce to zkritizuji a odpad dám taky. Předpokládejme variantu č. 2, (t.z. ta hranice neexistuje). Tudíž bych začal hodinou matematiky. Snad 238 dílů. Každý díl má snad 22 minut. Nabízí se tedy tyto dvě hodnoty mezi sebou vynásobit. 238 × 22 minut. Pokud moje kalkulačka není lhář a já věřím že není, tak nám vyjde číslo 5236 minut. Kontrolovat to nemusíte, já lhář nejsem rovněž. Pro jasnější představu bych si dovolil i takovou menší frajeřinku, kterou vy doma rozhodně nezkoušejte a týká se toho, že číslo 5236 minut bych si tedy dovolil podělit 60. Kalkulačka vyhodila strašně strašidelné číslo 87,266666666666 a tak dále pořád a pořád 66666, protože ale já mám pro strach uděláno a kalkulačce plně věřím, tak se hluboce zamyslím. Po chvilce dumání jsem přišel na to, že to číslo znázorňuje počet hodin. Pro přesný výsledek bych byl však nucen provést frajeřinku č. 2, která je však hrozně složitá, takže je zbytečné ji vysvětlovat. Zkrátka získáme 2 čísla 5220 a 16. Obě znázorňují počet minut. Když sestavíme a následně dosadíme do hrůzostrašné rovnice dojdeme zdárně k naprosto přesnému výsledku. a/60 + b = c, přičemž a=5220minut, b=16minut, c= celkový čas promrhaný při sledování tohoto seriálu. Po dosazení: 5220/60 + 16 minut = 87hodin 16minut. Věřím, že toto číslo už si každý dovede přibližně představit. Pokud však ne, tak vám prozdradím, že jsou to 3dny 15hodin a 16 minut. Pro milovníky základních jednotek soustavy Si přikládám stejné číslo v **sekundách** 314 160 s. Jistě jste si všimli obtížnosti posledních výpočtů, takže jsou samozřejmě rovněž bez názorného vysvětlení, které by bylo opět vysvětlením zcela zbytečným. Určitě se teď, když jsme všichni chytřejší nabízí položit otázku co se za tento čas mohlo udělat alespoň trošku smysluplných nesmyslů. Mohl bych tu teď o tom napsat celý odstavec, ale protože už cítím, jak se vám z mých ďábelských výpočtů vaří mozky, tak v zájmu zachování vašeho zdraví vám prozradím, že se mám fajn, nepiju, nekouřím a v neděli chodím do kostela. Jo a málem bych zapomněl na ten odpad. Takže tady je."
      ],
      "text/plain": [
       "<IPython.core.display.Markdown object>"
      ]
     },
     "metadata": {},
     "output_type": "display_data"
    },
    {
     "name": "stdout",
     "output_type": "stream",
     "text": [
      "\n",
      "https://www.csfd.cz/uzivatel/172466-frajer42/\n",
      "Dexter (TV seriál) (2006) 8.5\n"
     ]
    },
    {
     "data": {
      "text/markdown": [
       "No takhle hodnocený seriál se přede mnou dlouho skrývat nemohl a dlouho ani neskrýval. Našel jsem ho. Po zhlédnutí prvního dílu jsem to však viděl příliš bledě. Kopec nesympatických postav v čele s Dextrem(Michael C. Hall), kterému nevěřím ani jméno Dexter natož to, že je brutální sériový vrah, který zabíjí každého koho si zabít usmyslí. Pracuje jako znalec krvavých stříkanců takže má vše slušně zmáknuté a všechno mu prostě projde. Nápad je fajn, ale proč tam obsadili takového vola je mi naprostou záhadou. Po zhlédnutí druhého dílu jsem byl naprosto smířen s faktem, že se jedná a další ubohou kriminálku vycházející z Las Vegas či dalších pozoruhodných měst, po kterých nesou jména. Aby se však tento seriál alespoň trochu odlišil, tak tam autoři šupnuli naprosto pofidérně udělané scénky, kde Dexter standartní cestou - injekce, spoutání izolepou, krevní vzorek, porcování - dotyčného zlikviduje. Přičemž poslední část, tedy porcování tvůrci tak trošku pozapomněli vložit do té strašně zajímavé a napínavé stopáže. Doufám, že nemáte stejný problém jako Dexter a z poslední věty CÍTÍTE značný sarkasmus. Bohužel jsem byl natolik hloupý a řekl si, že když jsou první dva díly ubohé, tak ten třetí bude lepší. Přibližně za 50 minut jsem se dozvěděl, že lepší není. Naprosto **debilní** psychologické profily všech postav podpořené **hnusnými** ksichty a **stupidními** dialogy přetrvaly skutečně i do závěrečných titulků třetího dílu. Jestli je stejně ubohý i díl č.4 nevím. Mám však pádné důvody domnívat se, že ano. Každopádně zjišťovat to se již neodvážím. Co se týče zpracování, tak i z toho cítím naprostý amaterismus. Je tu i naprostá abscence veškerých efektů. Neuražte se, ale i ta kriminálka z Las Vegas na mne zanechala větší dojem. Abych však pořád někritizoval, tak vám přiznám, že se mi tam jedna věc líbila - úvodní intro. Je to však asi trochu málo. Takže už se na mne prosím, tak **blbě** nedívejte, nevyčítejte mi to a nezlobte se na mne. Někdo už vám prostě musel říct, že Dexter je naprostý blábol a dát vám konečně do ruky lístek zpět do reality."
      ],
      "text/plain": [
       "<IPython.core.display.Markdown object>"
      ]
     },
     "metadata": {},
     "output_type": "display_data"
    },
    {
     "name": "stdout",
     "output_type": "stream",
     "text": [
      "\n",
      "https://www.csfd.cz/uzivatel/172466-frajer42/\n",
      "https://www.csfd.cz/uzivatel/172466-frajer42/\n",
      "Barbar Conan (1982) 4.5\n"
     ]
    },
    {
     "data": {
      "text/markdown": [
       "Co tento film dělá tak proklatě vysoko je mi minimálně stejnou záhadou jako počet zbývajících nalezišť ropy ve světě. Naprosto průseroidní film, kde kdybych moc chtěl něco vyzvednout, tak bych mohl maximálně tu hudbu, protože ta byla opravdu výborná. Bohužel k filmu mi příliš neseděla. Nepochopil jsem co dělá tak velkolepá hudba v takhle **stupidním** filmu. Rozhodně nerozumím tomu, proč se tvůrci **sebedebilnější** scénku snaží tak vehementně roztahovat, což nakonec vyústilo k nesnesitelné dvouhodinové stopáži, která subjektivně zabírá hodiny alespoň tři. Docela by mě zajímalo, co lidé kteří v tomto filmu spatřují cokoli vizuálně na výši pravidelně užívají, popřípadně, kde se to dá sehnat. Moje hodnocení je v tomto případě tedy zcela jasné. Ačkoliv Arnieho skutečně obdivuji, tak tohle se prostě absolutně nepodařilo a odpovídat tomu bude moje hodnocení. ODPAD!"
      ],
      "text/plain": [
       "<IPython.core.display.Markdown object>"
      ]
     },
     "metadata": {},
     "output_type": "display_data"
    },
    {
     "name": "stdout",
     "output_type": "stream",
     "text": [
      "\n",
      "https://www.csfd.cz/uzivatel/172466-frajer42/\n",
      "https://www.csfd.cz/uzivatel/172466-frajer42/\n",
      "Rok ďábla (2002) 6\n"
     ]
    },
    {
     "data": {
      "text/markdown": [
       "Já hlupák si důkladně neprostudoval popis a potm se celý film cítil poškozen, že si ze mě někdo dělá až nadpozemskou **prdel,** což absolutně vyvrcholilo okamžikem, kdy se Karel Plíhal jen tak z dlouhé chvíle rozprsknul. Když si to člověk tak v hlavě přehrává, tak nemá ucelený obrázek, co bylo myšleno vážně a co už ne. Pár písní od Nohavice znám, ale že bych měl prostudován životopis jeho nebo Čechomoru to se naprosto říct nedá. Ale řeknu to takhle nic proti ním nemám, tedy neměl jsem do doby než jsem zhlédnul tento paskvil. Abych nezapomněl,tak jsem chvíli prospal, ale abych náhodou o něco nepřišel, tak jsem si pustil prospanou stoupáž znovu. Vidím, že se k tomu nikdo nemá, tak se zhostím této nelehké úlohy já a konečně vás proberu ze snu a povím vám zcela otevřeně, že tento film je naprostá **sračka.** Fantasy/Mysteriózní **sračka** podaná dokumentární podobou, toť vše. Zázraky se vskutku nedějí a nejinak je tomu v případě tohoto nesmyslu, co se snaží tvářit jako spása z nebes, ale přitom nepřichází s ničím převratným a hlavně né novým.(minimálně za plného vědomí ne) Takže když to všechno shrnu, tak takové filmy se dají hodnotit jedině odpadem. V tomto případě rovnou dvojnásobným."
      ],
      "text/plain": [
       "<IPython.core.display.Markdown object>"
      ]
     },
     "metadata": {},
     "output_type": "display_data"
    },
    {
     "name": "stdout",
     "output_type": "stream",
     "text": [
      "\n",
      "https://www.csfd.cz/uzivatel/172466-frajer42/\n",
      "Návrat idiota (1999) 2\n"
     ]
    },
    {
     "data": {
      "text/markdown": [
       "Nerozumím tomu a bojím se, že po naší planetě nechodí nikdo, kdo by mi to dokázal vysvětlit. Za co tento film dostal lva? Taková klasická komedie, která rozhodně v ničem nepřevyšuje své vrstevníky, ba dokonce za nimi zaostává. A nebýt Pavla Lišky, kterého mám rád, tak bych dost možná i usnul. S vtipem se tedy sakra šetřilo. Herecké výkony sice tak akorát, ale děj mi neskutečně lezl na moje chatrné nervy. Do této chvíle jsem díky Bohu nebyl seznámen se Sašou Gedeonem, ale pokud se jeho filmy táhnou asi někde v duchu tohoto, tak jsem za to neskutečně rád. Proč další film nepojmenovat ,,Tvůrčí konec **idiota\"** a komedii na chvíli poslat k ledu a zkusit vytvořit životopisné drama. Jsem si jistý, že u mě by sklidilo mnohem větší ovace ať už by byla jeho kvalita jakákoliv. Tento film není čistý odpad, ale vzhledem k počtu ocenění, které ze záhadných důvodů sklidil, či kvůli zdejšímu relativně pozitivnímu ohlasu vás už někdo prostě musí upozornit na fakt, že tento film není tak kvalitní, jak se může na první pohled zdát a vidět ho je zcela zbytečné. Tím někdo myslím sebe, a tím upozorněním myslím odpad."
      ],
      "text/plain": [
       "<IPython.core.display.Markdown object>"
      ]
     },
     "metadata": {},
     "output_type": "display_data"
    },
    {
     "name": "stdout",
     "output_type": "stream",
     "text": [
      "\n",
      "https://www.csfd.cz/uzivatel/172466-frajer42/\n",
      "https://www.csfd.cz/uzivatel/172466-frajer42/\n",
      "https://www.csfd.cz/uzivatel/172466-frajer42/\n",
      "Misfits: Zmetci (TV seriál) (2009) 6.5\n"
     ]
    },
    {
     "data": {
      "text/markdown": [
       "Trošku **kokotinka,** nemyslíte? Parta lehce zlobivých dětiček získá zázrakekm(úderem bleskem) superschopnosti, které jsou z velké části zkopírované od seriálů podobného ražení. Tento seriál má však ve srovnání s jinými jeden zásadní problém. Hrozně nesympatické hlavní hrdiny a totálně **debilní** příběh, dá - li se to tedy z dvou dílů, které jsem byl ochoten podstoupit vůbec hodnotit. Pokud máte z matematiky jedničku, tak jste si asi správně spočítali, že to jsou problémy vlastně dva a dovolím si tvrdit, že to nejsou problémy zdaleka jediné. Na tom seriálu je špatně přibližně úplně všechno. V seriálu hrozně cítím snahu být hrozně vtipný prakticky celou stopáž. Já se za dva díly zasmál sotva jednou trošku. Přeji hodně štěstí všem, kterým tahle **sračkoidní** hovadina bohatě stačí k ukájení jejich sexuálních potřeb. Hádám, že se to týká uživatelů ve věku přibližně 9 - 16 let, ale určitě se najdou dokonce i vyjímky v řadách místních filosofů, intelektuálů, feťáků a úchylů, kteří vlastě tvoří i naprostou většinu zdejších hodnotitelů, čímž bych se samozřejmě nerad kohokoli dotkl, a s tím je nejspíš přímo spojeno i zdejší přehnaně vysoké hodnocení tohoto nesmyslu. Můj šálek kávy to prostě není. Je to trapné každým coulem. ODPAD!"
      ],
      "text/plain": [
       "<IPython.core.display.Markdown object>"
      ]
     },
     "metadata": {},
     "output_type": "display_data"
    },
    {
     "name": "stdout",
     "output_type": "stream",
     "text": [
      "\n",
      "https://www.csfd.cz/uzivatel/172466-frajer42/\n",
      "Kokain (2001) 2\n"
     ]
    },
    {
     "data": {
      "text/markdown": [
       "Obrovská nuda a jeden z nejhorších filmů s Johnny Deppem, co jsem kdy viděl. Nějak mi prostě Johhny Depp do role George Junga, drogového překupníka, neseděl. Totálně jsem mu to nevěřil. Celý film je hrozně **dementně** a nudně zpracovaný. Totálně o ničem. Osudy všech postav jsou vám naprosto lhostejné. O emoce tady nezavadíte. Naprosto nechápu důvod zdejší oblíbenosti i hodnocení tohoto nesmyslu. Musím prostě dát jednoznačný odpad."
      ],
      "text/plain": [
       "<IPython.core.display.Markdown object>"
      ]
     },
     "metadata": {},
     "output_type": "display_data"
    },
    {
     "name": "stdout",
     "output_type": "stream",
     "text": [
      "\n",
      "https://www.csfd.cz/uzivatel/172466-frajer42/\n",
      "Vzpomínky na lásku (2004) 4\n"
     ]
    },
    {
     "data": {
      "text/markdown": [
       "Naprostá **sračka** o dvou šikmookých šikmoočkách, kteří se do sebe zamilují. Měl jsem tu smůlu vidět tu delší verzi, tedy tu 144 minutovou. Z toho je první polovina totálně nestravitelná **sračka** a druhá polovina už pouze obrovská nuda. Svoje znechucení bez patřičných spoilerů asi nezvládnu dát najevo. Takže mi je v případě, že jste film neviděli a jste natolik hloupí, že se k jeho vidění chystáte a čirou náhodou můj komentář právě čtete, prosím odpusťte. Dvě šikmoočka se mají děsně rádi a k dokonalému zachování tuctovosti nechť je jedno z šikmooček z bohaté rodiny, a to druhé z chudé až žádné. Potom máte jedinečnou možnost sledovat pár hodin, jak se jejich vztah vyvíjí, takže pokud náhodou jste unavení, tak vám mohu zaručit, že si u filmu kvalitně pospíte, a to třeba hned několikrát. Já 2x. Pokud unavení nejste, tak si pospíte nejspíš taky, protože film má schopnost vás unaveným udělat. Já 1x. Poté ve filmu nastane jediný zlomový okamžik a šikmoočka z bohaté rodiny se potvrdí Alzheimerova choroba, která je ve filmu naznačována už dlouho předlouho předem. A co by to bylo za pěknou pohádku z východu, kdyby neměla šťastný konec. Tohle je jeden z mála filmů z Asie, u kterého jsem neměl problém rozlišovat jednotlivé postavy, protože těch hlavních je tu asi tak 6. Na mém hodnocení to ovšem nic nemění. Jednoznačný odpad."
      ],
      "text/plain": [
       "<IPython.core.display.Markdown object>"
      ]
     },
     "metadata": {},
     "output_type": "display_data"
    },
    {
     "name": "stdout",
     "output_type": "stream",
     "text": [
      "\n",
      "https://www.csfd.cz/uzivatel/172466-frajer42/\n",
      "https://www.csfd.cz/uzivatel/172466-frajer42/\n",
      "I Love You Phillip Morris (2009) 4.5\n"
     ]
    },
    {
     "data": {
      "text/markdown": [
       "Tak tohle ne. Komedie a drama? Na komedii tomu chyběl vtip a na drama zase drama. Je to nudný film, a to naprosto nehorázně. Nemůžu si zrovna vybavit **blbější** komedii než tohle. Rovněž nepřekousnu přihřátý příběh a ani samotný pohled na **buzny,** nebo na někoho, kdo buznovství předstírá. A to mi třeba takové lesby vůbec nevadí. Skoro až naopak. Proč tedy nevzniklo něco podobného s lesbama? Já bych se necítil pohoršen a na CSFD by bylo o odpad méně. Poslední dobou se mi zdá, že být homosexuál je děsně cool a pověstná 4 % by potřebovala aktualizovat. Dokonce už se najdou i takoví pochybní jedinci, kteří se nebojí o tom točit filmy a znepříjemňovat mi tak život. Já jsem asi děsně divný. Ve filmech mi nevadí nekončící násilí vraždy všeho živého včetně dětí, nekonečné mučení, řezaní naprosto všech údů atd. Ale vidět spolu dělat nemravné záležitosti dva teplouše, to je na můj žaludek nesnesitelná zátěž."
      ],
      "text/plain": [
       "<IPython.core.display.Markdown object>"
      ]
     },
     "metadata": {},
     "output_type": "display_data"
    },
    {
     "name": "stdout",
     "output_type": "stream",
     "text": [
      "\n",
      "https://www.csfd.cz/uzivatel/172466-frajer42/\n",
      "The Artist (2011) 5.0\n"
     ]
    },
    {
     "data": {
      "text/markdown": [
       "Nuže, asi si neodpustím srovnání s filmem zpracovávajícím podobné téma, ale diametrálně odlišnou cestou. Ano, mluvím o Hugo a jeho velký objev. Kdybych měl mezi těmito dvěma filmy zvolit ten, který mi připadal lepší, tak by to byl asi Hugo. Popravdě se mi, ale nijak výrazně nelíbil ani jeden z nich. Zatímco Hugo vsadil na nejmodernější 3D technologii, tak The Artist se vrátil o více než pár desítek let zpět. Ústřední herecká dvojice hrála pěkně a pěkně i vypadala. Alespoň co se tedy něžnější polovičky týče. Ovšem příběh už pěkný nebyl. Přesněji řečeno, příběh byl **debilní.** Musím se přiznat, že jsem se nudil, a to tak že hodně. Naštěstí tento film disponuje dostatečně poslouchatelnou hudbou, takže jsem se zvládl dívat až do konce. Stejně jsem ten konec neustále vehementně přivolával. A tak trochu jako reakci na vaše přehnaně vysoké hodnocení tomu svému trošku uberu a dám odpad. P.S. A to má tahle **blbost** náběh i na oscara! EDIT: Taky že ho dostala."
      ],
      "text/plain": [
       "<IPython.core.display.Markdown object>"
      ]
     },
     "metadata": {},
     "output_type": "display_data"
    },
    {
     "name": "stdout",
     "output_type": "stream",
     "text": [
      "\n",
      "https://www.csfd.cz/uzivatel/172466-frajer42/\n",
      "https://www.csfd.cz/uzivatel/172466-frajer42/\n",
      "Šílení (2005) 2\n"
     ]
    },
    {
     "data": {
      "text/markdown": [
       "Nějak jsem nemohl pochopit smysl těch animovaných scének, kde pochodují různé kusy masa a orgánů. Nějaký náznak jejich smysluplnosti jsem našel až v samotném závěru přesto si nejsem úplně jistý zda jsem to chápal správně. Na každý pád byla ta animace děsně ošklivá, ale tak už to u animací od Švankmajera bývá. Samotný příběh tohoto nesmyslu je nudný a **debilní.** Posledních asi 20 minut tvoří vyímku. Tam byl snad i nějaký náznak, že se mi to líbilo. Pavel Liška i Jan Tříska, dva herci které mám více než docela rád, mi do tohoto nesmyslu prostě nezapadali. Škoda, že jsem povídky, ze kterých pan Švankmajer údajně vychází nečetl. Jsem si však téměř jistý, že by tento film na Edgara Allana Poea dojem rozhodně neudělal. Je nad moje síly hodnotit něco tak ubohého jinak než odpadem."
      ],
      "text/plain": [
       "<IPython.core.display.Markdown object>"
      ]
     },
     "metadata": {},
     "output_type": "display_data"
    },
    {
     "name": "stdout",
     "output_type": "stream",
     "text": [
      "\n",
      "https://www.csfd.cz/uzivatel/172466-frajer42/\n",
      "https://www.csfd.cz/uzivatel/172466-frajer42/\n",
      "Chirurgové (TV seriál) (2005) 4.5\n"
     ]
    },
    {
     "data": {
      "text/markdown": [
       "Docela nemálo **sranec,** a to jsem viděl pouze první díl. Nemá pro mě další přínos ve sledování pokračovat. Hned v prvním dílu se mi stihla znechutit kupa postav včetně té hlavní. Teď něco z kvalitnějšího soudku. Písně jsou tu skutečně výtečné, ale strašně je kazí videodoprovod, tedy pro pomalejší tím myslím seriál samotný. Je to prostě ubohý seriál o vztazích zasazený do nemocničního prostředí a dalo by se říct, že takové seriály nenávidím. Už po prvním díle je mi jasné, že nebude dlouho trvat než se stane nemocnice prošukanou skrz na skrz a hlavní hrdinka se stane tou nejrespektovanější osobou na celém širém světě. A jestli tohle nejsou znaky tuctovosti posledních let, tak bych rád slyšel, které jiné jimi jsou. Jednoznačný ODPAD a cítím upřímný soucit s těmi, kteří tenhle **stupidní** nesmysl sledují permanentně."
      ],
      "text/plain": [
       "<IPython.core.display.Markdown object>"
      ]
     },
     "metadata": {},
     "output_type": "display_data"
    },
    {
     "name": "stdout",
     "output_type": "stream",
     "text": [
      "\n",
      "https://www.csfd.cz/uzivatel/172466-frajer42/\n",
      "https://www.csfd.cz/uzivatel/172466-frajer42/\n",
      "Zoufalé manželky (TV seriál) (2004) 2.5\n"
     ]
    },
    {
     "data": {
      "text/markdown": [
       "Jaj. Úplně si nejsem jistý zda jsem viděl dostatek, abych mohl hodnotit, ale i kdyby ne, tak si ten odpad prostě nemohu odpustit. Kdysi jsem na to několikrát nechtěně přepnul a nestačil se divit, kam až lidská **debilita** může sahat. Podobné seriály nesnáším. Celé se to točí kolem sexu. A až si už každý zašuká s každým, tak jsou do seriálu implantovány nové postavy, aby veselé smilnění mohlo pokračovat. Až už ani tohle nezabere, tak se do seriálů nacpe tuna záhad pro udržení diváků, protože divák je tvor zvědavý. Zoufalé manželky je zkrátka seriál pro zoufalé diváky a hlavně zoufalé divačky. Trapné, nevtipné, nudné. Zkrátka k uzoufání. ODPAD!"
      ],
      "text/plain": [
       "<IPython.core.display.Markdown object>"
      ]
     },
     "metadata": {},
     "output_type": "display_data"
    },
    {
     "name": "stdout",
     "output_type": "stream",
     "text": [
      "\n",
      "https://www.csfd.cz/uzivatel/172466-frajer42/\n",
      "Nešika (TV seriál) (2011) 7.0\n"
     ]
    },
    {
     "data": {
      "text/markdown": [
       "No páni, kdo by si kdy býval pomyslel, že **debilita** Twilight bude něčím překonána. Tenhle **blbý** seriál je tomu více než podobný akorát s tím rozdílem, že tu chybí ty zářící postavičky, které v Twilight nazývali upíry ačkoliv jimi nebyli. Jediné pozitivum v tomto paskvilu je snad to, že tady jsou docela pěkné herečky. Bohužel se na seriály nedívám primárně pro to, abych viděl pěkné 20 leté i starší herečky snažící se hrát postavy 15 leté. Seriál je však určen pro naprosto jiný věk a hlavně pohlaví než je to moje. Takže ten pomyslný pes bude možná zakopán právě tady. A právě tyto 10 leté fanynky dostaly hodnecní téhle **sračky** někam, kam naprosto nepatří. P.S. V životě jsem neviděl seriál, kde by někdo cenzuroval zdvižený prostředníček. Myslím, že už tohle je pádný důkaz, že je seriál skutečně určen těm, které jsem zmínil a kousek výše. ODPAD!"
      ],
      "text/plain": [
       "<IPython.core.display.Markdown object>"
      ]
     },
     "metadata": {},
     "output_type": "display_data"
    },
    {
     "name": "stdout",
     "output_type": "stream",
     "text": [
      "\n",
      "https://www.csfd.cz/uzivatel/172466-frajer42/\n",
      "Obyčejní lidé (1980) 7.800000000000001\n"
     ]
    },
    {
     "data": {
      "text/markdown": [
       "Nestačím se divit, co jsou tu někteří jedinci schopni psát. Pro mě je tento film jasně odpadová záležitost. Pokud se všechny filmy Robert Redforda nesou v tomto, nebo v podobném duchu, tak jako režisér prostě selhal, i když k němu jako herci určitý respekt v srdci nosím. Tenhle film je naprosto **debilní** a troufnu si říct, že to nebylo jen tím mimořádně ubohým slovenským dabingem, ve kterém jsem měl tu smůlu film zhlédnout a slyšet. Ač jsem se snažil sebevíc, tak 2x jsem během filmu prostě spánku neodolal. Samozřejmě, že jsem poté film přetáčel směrem vzad, abych náhodou o něco nepřišel, i když tedy vlastně nebylo ani o co přijít. Vysvětlení proč má film takhle vysoké hodnocení a takhle nízkou kvalitu je prosté a skrývá se v čísle označujícím počet hodnocení. Film je určen asi pro velmi uzoučkou skupinku diváků, do které rozhodně nezapadám. A chce se mi říct, že jsem za to i nekonečně rád. Tímto k vám vysílám obrovské varování, že tenhle film obyčejný rozhodně není. Je neobyčejně **debilní,** a kdo ho ještě neviděl a snad se na to chystá, by se měl předem připravit na nejhorší, protože to nejhorší skutečně příjde. Přijde brzy a až do konce filmu se ho nezbavíte. ODPAD!!!!!"
      ],
      "text/plain": [
       "<IPython.core.display.Markdown object>"
      ]
     },
     "metadata": {},
     "output_type": "display_data"
    },
    {
     "name": "stdout",
     "output_type": "stream",
     "text": [
      "\n",
      "https://www.csfd.cz/uzivatel/172466-frajer42/\n",
      "Vyvrženci pekla (2005) 4.5\n"
     ]
    },
    {
     "data": {
      "text/markdown": [
       "Z mého pohledu bylo toto pokračování ještě horší než jeho předchůdce. Humor byl sice zhruba zachován, ale všechny ostatní prvky mi příšly výrazně horší. Celý film se táhne v příšerně nudném tempu, které prostě sem tam trefná hlášky výrazně nenaruší. Natěšen jsem očekával až ten nesmysl skončí. Horor to není rozhodně a nějakou větší zvrácenost v tom taky nevidím. Vlastně v tom nevidím nic za zmínku stojícího. Oškliví herci. **Debilně** sestavená rodinka, kde nejste ani schopen s kýmkoliv z nich sympatizovat. Ten film je prostě **debilní** a myslím, že nastal ten pravý čas si to přiznat. ODPAD!"
      ],
      "text/plain": [
       "<IPython.core.display.Markdown object>"
      ]
     },
     "metadata": {},
     "output_type": "display_data"
    },
    {
     "name": "stdout",
     "output_type": "stream",
     "text": [
      "\n",
      "https://www.csfd.cz/uzivatel/172466-frajer42/\n",
      "https://www.csfd.cz/uzivatel/172466-frajer42/\n",
      "https://www.csfd.cz/uzivatel/172466-frajer42/\n",
      "Romeo a Julie (1968) 2.5\n"
     ]
    },
    {
     "data": {
      "text/markdown": [
       "Shakespearea nemám rád. Tahle adaptace světově uznávané hry, kterou neuznávám je prostě jen další z mnoha. Zahrané vše mohlo být jakkoliv dobře, ale pokud je zde takhle **blbý** děj, těžko ze svého hodnocení vykouzlím něco jiného než odpad. Tahle hra je shodou okolností pro mě asi tou od Shakespearea nejodpudivější. Pro mě tento autor, respektive to co na něm a jeho hrách všichni obdivují zůstane asi navždy naprosto nepochopeno. ODPAD!"
      ],
      "text/plain": [
       "<IPython.core.display.Markdown object>"
      ]
     },
     "metadata": {},
     "output_type": "display_data"
    },
    {
     "name": "stdout",
     "output_type": "stream",
     "text": [
      "\n",
      "https://www.csfd.cz/uzivatel/172466-frajer42/\n",
      "https://www.csfd.cz/uzivatel/172466-frajer42/\n",
      "Romance pro křídlovku (1966) 7.0\n"
     ]
    },
    {
     "data": {
      "text/markdown": [
       "Jak asi může dopadnout filmová adaptace naprosto **blbé** knížky? Nabízí se napsat, že jedině **blbě.** Tady to však není úplně pravda, neboť tato adaptace dopadla pouze zle. Rozhodně mi dívání se na film přiadalo méně bolestivé než četba kniha, ačkoliv skoro vždy to bývá naopak. Na každý pád bych se obešel bez toho, abych znal detailní popis Hrubínova života. Z toho vyplývá, že film stojí na naprosto nezajímavém a **debilním** příběhu. V kolonce režie by tedy mohlo stát jméno klidně PÁN BŮH, v kolonce herci potom Ježíš a já, ale nic by to na výsledné kvalitě tohoto snímku nezměnilo. A ocenění film získal pouze proto, že naprosto nikoho tehdy nepohoršoval a ani nikdy pohoršovat nebude. (Jedná se o čistou romantiku, a ta nikdy nikoho nepohoršovala. Maximálně vás může unudit k smrti jako se to přihodilo mně.) Rozhodně ocenění nezískal proto, že by snad čirou náhodou někoho přivedl až k orgasmu. Nevidím důvod jít s davem a nalhávat si, že se mi tenhle film tak strašně líbil. Jak to mnoho uživatelů očividně činí. Za sebe čistý odpad!"
      ],
      "text/plain": [
       "<IPython.core.display.Markdown object>"
      ]
     },
     "metadata": {},
     "output_type": "display_data"
    },
    {
     "name": "stdout",
     "output_type": "stream",
     "text": [
      "\n",
      "https://www.csfd.cz/uzivatel/172466-frajer42/\n",
      "Velký flám (1966) 2\n"
     ]
    },
    {
     "data": {
      "text/markdown": [
       "Já jsem tedy docela hodně zklamán. Očekával jsem super komedii, u které se budu řezat smíchy tak, jak je to v komediích s Louis de Funésem obvyklé. Nestalo se. Děj je hrozně zdlouhavý a nudný. Budu se muset vydat tou nepříjemnou cestou proti proudu, ale já si prostě nemohu pomoct, tenhle film je hrozná **blbost** a takhle vysoké hodnocení zde je naprostý omyl. A flustrace je tak obrovská, že se zde uchýlím k odpadu. Obrovské zklamání."
      ],
      "text/plain": [
       "<IPython.core.display.Markdown object>"
      ]
     },
     "metadata": {},
     "output_type": "display_data"
    },
    {
     "name": "stdout",
     "output_type": "stream",
     "text": [
      "\n",
      "https://www.csfd.cz/uzivatel/172466-frajer42/\n",
      "Pretty Woman (1990) 8.5\n"
     ]
    },
    {
     "data": {
      "text/markdown": [
       "Tenhle film je totální nudná **kokotina,** která zapříčinila moji doživotní zaujatost vůči hlavnímu hrdinovi, kterým není nidko menší než Richard Gere. Je to **sračka,** totální **sračka,** která je rok co rok cpána do televize. Nestačím se zdejšímu hodnocení divit. Tohle se vážně někomu může líbit? Tahle **sračka?** To už tady jedou všichni na drogách? Totální odpad a naprosté dno nejen hollywoodské kinematografie a každý komu se tohle líbí by se měl vážně zamyslet nad svým mentálním stavem. Toť můj názor. ODPAD!"
      ],
      "text/plain": [
       "<IPython.core.display.Markdown object>"
      ]
     },
     "metadata": {},
     "output_type": "display_data"
    },
    {
     "name": "stdout",
     "output_type": "stream",
     "text": [
      "\n",
      "https://www.csfd.cz/uzivatel/172466-frajer42/\n",
      "Prci, prci, prcičky: Školní sraz (2012) 4.5\n"
     ]
    },
    {
     "data": {
      "text/markdown": [
       "Toho na čem předchozí série stavěly svůj úspěch je tu ze všech dílů snad nejméně. Většinu nedlouhé stopáže zde zaujímají totálně **debilní** a nevtipné dialogy postav. Tenhle díl je hrozně nudný a **debilní,** že má v současnosti nejvyšší hodnocení ze všech dílů si vysvětlují pouze tím, že se dostal většinou pod ruky fanouškům. Myslím, že přišel ten správný čas napařit některému dílu odpad, protože těžko už si dovedu představit větší zklamání. A nebo už jsem prostě jen z tohoto žánru vyrostl. Odpověď přijde snad jen z dalším dílem. ODPAD!"
      ],
      "text/plain": [
       "<IPython.core.display.Markdown object>"
      ]
     },
     "metadata": {},
     "output_type": "display_data"
    },
    {
     "name": "stdout",
     "output_type": "stream",
     "text": [
      "\n",
      "https://www.csfd.cz/uzivatel/172466-frajer42/\n",
      "Tři oříšky pro Popelku (1973) 2\n"
     ]
    },
    {
     "data": {
      "text/markdown": [
       "Pohádky a zejména pak ty české opravdu v lásce příliš nemám. Pravda, že tato pohádka patří k těm vůbec nejlepším českým, ale to nic nemění na tom, že pohádky skutečně v lásce příliš nemám. A protože tohle je česká pohádka, a jak už asi víte, tak české pohádky příliš v lásce nemám, tak nemám v lásce ani tuto českou pohádku. Bohužel tato česká pohádka se u nás stala symbolem Vánoc a žádné Vánoce se bez ní prostě neodehrají. Já osobně kromě nenávisti vůči českým pohádkám a pár dalším žánrům, trpím i averzí vůči opakovanému zhlédnutí stejného díla. Existuje ve světě filmů skutečně jen málo kousků, které bych si dobrovolně střelil opakovaně. Popelka k nim určitě nepatří a nejenom proto, že je to česká pohádka. Svůj odpad si obhajuji více tím, že jsem byl nucený tuhle českou pohádku vidět několikrát a méně její samotnou kvalitou. Nalijme si sklenici čistého vína. Tahle pohádka není tak vyjímečná, aby musela být vysílána každé Vánoce. Na stranu druhou při druhé sklenici stejně čistého vína si musíme připustit, že mnoho lepších pohádek u nás asi bohužel nenajdeme a cpát na Vánoce něco jiného než hloupé a **stupidní** pohádky by bylo asi nešťastné."
      ],
      "text/plain": [
       "<IPython.core.display.Markdown object>"
      ]
     },
     "metadata": {},
     "output_type": "display_data"
    },
    {
     "name": "stdout",
     "output_type": "stream",
     "text": [
      "\n",
      "https://www.csfd.cz/uzivatel/172466-frajer42/\n",
      "https://www.csfd.cz/uzivatel/172466-frajer42/\n",
      "Vertigo (1958) 2\n"
     ]
    },
    {
     "data": {
      "text/markdown": [
       "Opravdu jsme viděli stejný film? Takové věci, nad kterými se tu mnoho uživatelů uspokojuje, mojí pozornosti poněkud unikly. Já viděl pouze jeden dosti přímočarý příběh s ubohou zápletkou. Stále jsem čekal na nějaký zásadní zvrat, který by mě ohromil. Po dvou hodinách jsem si ráčil povšimnout, že se tento zvrat nedostaví. Ovšem místo něj přijde ta znovu zmíněná tupá zápletka. Mnoho uživatelů uvádí tento film tím nejlepším, co kdy Hitchcock stvořil. Já bych tento film naopak označil tím nejhorším, co jsem od něj zatím měl možnost vidět. A vzhledem k tomu, jak se mi znechutil příběh tak vytáhnu i takové maličkosti, které bych si jinak nechal pro sebe. Takže je celkem zřetelně na několika záběrech vidět, kde hlavní hrdince začíná paruka. A za další se mi docela nelíbily scénky, kde byly určité scenérie nahrazeny **hnusnými** tapetami, kde bylo na první pohled jasné, že se jedná o tapetu a ke všemu dost odfláklou. Herecké výkony tak žalostnou záležitost zachránit opravdu nemohly. I kdyby tento příběh hráli pánbůh č.1 a pánbůh č.2, tak by byl film opět žalostný. Musím se uchýlit k odpadu. Čekal jsem něco nesrovnatelně méně nudného."
      ],
      "text/plain": [
       "<IPython.core.display.Markdown object>"
      ]
     },
     "metadata": {},
     "output_type": "display_data"
    },
    {
     "name": "stdout",
     "output_type": "stream",
     "text": [
      "\n",
      "https://www.csfd.cz/uzivatel/172466-frajer42/\n",
      "https://www.csfd.cz/uzivatel/172466-frajer42/\n",
      "Námořní vyšetřovací služba (TV seriál) (2003) 2.5\n"
     ]
    },
    {
     "data": {
      "text/markdown": [
       "Totální **sračka.** Viděl jsem tedy jen pár úseků, protože si myslím, že jsem stále normální, nebo si to alespoň nalhávám. Hrozně mi to připomínalo všechny ty nejrůznější kriminálky, které tolik nesnáším. Tudíž jsem si velmi rychle dokázal vybudovat nesnášenlivost i vůči téhle sračce. A to se přece musí patřičně ocenit. ODPAD!"
      ],
      "text/plain": [
       "<IPython.core.display.Markdown object>"
      ]
     },
     "metadata": {},
     "output_type": "display_data"
    },
    {
     "name": "stdout",
     "output_type": "stream",
     "text": [
      "\n",
      "https://www.csfd.cz/uzivatel/172466-frajer42/\n",
      "https://www.csfd.cz/uzivatel/172466-frajer42/\n",
      "Kriminálka Las Vegas (TV seriál) (2000) 6\n"
     ]
    },
    {
     "data": {
      "text/markdown": [
       "Krimi seriály příliš nemám rád. Po několika dílech se většinou okoukají, což ovšem není případ tohoto seriálu, kde se nemělo okoukat co. Mnohokrát jsem na tuhle **sračku** omylem přepl a pokud se nepletu, tak pouze v jednom případě jsem díl dokoukal. Nějak celkově mi vyšetřovatelé přišli takoví nemastní neslaní a většina příběhů je **debilní.** A netřeba snad ani hovořit o nesmyslnosti a zázračných rozuzleních. Jasný odpad a divím se všem, kdo hodnotí jinak."
      ],
      "text/plain": [
       "<IPython.core.display.Markdown object>"
      ]
     },
     "metadata": {},
     "output_type": "display_data"
    },
    {
     "name": "stdout",
     "output_type": "stream",
     "text": [
      "\n",
      "https://www.csfd.cz/uzivatel/172466-frajer42/\n",
      "Sedm životů (2008) 8\n"
     ]
    },
    {
     "data": {
      "text/markdown": [
       "Tento film se dá popsat dvěma diametrálně odlišnými způsoby. Buď se dá film označit jedním slovem, které ho vystihuje v plném rozsahu. To kouzelné slůvko není nic menšího než slovo \"kýč\" a nebo se dá film detailněji rozepsat. Jak asi správně tušíte, tak já sem si vybral tu delší variantu. Pan režisér a všichni ostatní, kteří se na vzniku filmu podíleli předpokládají, že všichni diváci jsou parta **kreténů.** Vzhledem ke zdejšímu početnému fanklubu nebyli daleko od pravdy, což mě zaráží, udivuje a překvapuje současně. Připadá vám, že ta 3 slovesa mají podobné významy. V takovém případě máte pravdu. Moje city film minul s odchylkou několika světelných let. Neodpustím si ani poznámku, že tohle je naprosto **nejdebilnější** film, kde jsem měl tu smůlu Willa Smithe spatřit a úplně mi není jasné, jaký druh zoufalství ho k tomuto počinu přinutil. Hodně mi vadila i Rosario Dawson, která byla, když to řeknu hodně mírně, naprosto **hnusná.** Po herecké stránce to bylo vůbec strašné. Samozřejmě největší průser je zde scénář, ale dost mizerná mi přišla i samotná režie. Hudba stojí za **hovno** a střih je odfláknutý. Prostě tenhle film by mohl sloužit jako návod, jak film nedělat. To mi opravdu někdo chce namluvit, že se mu tento příběh zamlouval a že mu vůbec, třeba jen koutkem duše, věřil? Dávám samozřejmě odpad, ale neodpustím si jeden spoiler na závěr, ve kterém několika větami popíšu o co tu vlastně skoro 2 hodiny jde. Takže...Jeden kripl(WIll Smith) zaviní dopravní nehodu, ve které zdechne jeho manželka a několik dalších lidí ze srazivšího se auta. Má potom hrozné výčitky svědomí a nenaučí se s tím žít. Nutno vzít v potaz, že v se s tím nenaučí žít v americe, kde už jsou pro podobné situace běžně používané polykací tabletky a pěkná fůra psychologů k tomu jako bonus. Tak se Will rozhodne, že rozdá svoje orgány pro obecné blaho. Super. Paráda. Čas pro pláč..."
      ],
      "text/plain": [
       "<IPython.core.display.Markdown object>"
      ]
     },
     "metadata": {},
     "output_type": "display_data"
    },
    {
     "name": "stdout",
     "output_type": "stream",
     "text": [
      "\n",
      "https://www.csfd.cz/uzivatel/172466-frajer42/\n",
      "Poslední Mohykán (1992) 2\n"
     ]
    },
    {
     "data": {
      "text/markdown": [
       "Jako opravdu se na mě nehněvejte, ale mě tento film téměř totálně nebavil. Jediné co se mi líbilo a čemu jsem tedy zároveň věnoval trošku z mojí pozornosti bylo to samotné vysokohorské finále. Vše je zakomponováno do totálně **blbého** příběhu. Michael Mann prostě není režisér, který by se mi líbil. Poslední Mohykán je třetí film, který jsem z jeho režijní filmografie viděl a možná je zároveň filmem posledním. Rovněž je druhý ze tří jeho filmů, který musím opět ohodnotit odpadem, protože té nudy zde bylo skutečně velmi mnoho. Prakticky celý film je jedna obrovská nuda. Vyjímkou je pouze to výše zmíněné finále, které dohromady nemá více než 15 minut. Mimochodem ten český dabing byl totálně příšerný, ale v orginále by to asi nebylo o moc lepší."
      ],
      "text/plain": [
       "<IPython.core.display.Markdown object>"
      ]
     },
     "metadata": {},
     "output_type": "display_data"
    },
    {
     "name": "stdout",
     "output_type": "stream",
     "text": [
      "\n",
      "https://www.csfd.cz/uzivatel/172466-frajer42/\n",
      "V Bruggách (2008) 4\n"
     ]
    },
    {
     "data": {
      "text/markdown": [
       "Další zdejší nadhodnocená **blbost.** V tom filmu se totálně nic neděje a nesnažte se mi namluvit že ano. Strašně nesympatičtí herci byli posláni platit za svoje činy do strašně ošklivých Brug. Příběh totálně **kreténský** a humor žádný. Vážně nechápu, co tady někoho mohlo zaujmout. Navíc se vše hrozně táhne, protože se skoro pořád žvaní. Takže film vám přijde mnohonásobně delší než kolik udává stopáž. Jasný odpad a dovolte mi se divit všem ostatním hodnocením."
      ],
      "text/plain": [
       "<IPython.core.display.Markdown object>"
      ]
     },
     "metadata": {},
     "output_type": "display_data"
    },
    {
     "name": "stdout",
     "output_type": "stream",
     "text": [
      "\n",
      "https://www.csfd.cz/uzivatel/172466-frajer42/\n",
      "30 dní dlouhá noc (2007) 2\n"
     ]
    },
    {
     "data": {
      "text/markdown": [
       "To s tím hodnocením asi úplně vážně nemyslíte, že ne? Možná by film měl nést spíše název ,,113 minut dlouhá nuda\", protože se o takhle dlouhou nudu skutečně jednalo. Moc jsem se těšil až ta **blbost** skončí. O co tu vlastně jde? Nastává polární noc a partička strašně nesympatických kterénů nestihla odjet. Z dír vyskáčou ještě více nesympatičtí upíři a začíná bitva. Já opravdu nevěděl komu mám fandit, protože jsem si přál smrt všech zúčastněných. Tento film je dobrý skutečně jen na usnutí. Totální odpad. Horší upírovina už je pouze Stmívání, zato však všechny jeho díly!"
      ],
      "text/plain": [
       "<IPython.core.display.Markdown object>"
      ]
     },
     "metadata": {},
     "output_type": "display_data"
    },
    {
     "name": "stdout",
     "output_type": "stream",
     "text": [
      "\n",
      "https://www.csfd.cz/uzivatel/172466-frajer42/\n",
      "Monstrum (2008) 6\n"
     ]
    },
    {
     "data": {
      "text/markdown": [
       "**Blbost,** **blbost,** **blbost.** Už jsem film viděl dávno a ne úplně všechno si z něj pamatuji. Vím akorát, že mě hrozně nebavil. Několik šašků a jeden kameraman s roztřesenou rukou sami nevědí před čím utíkají. Pak se mu tedy podaří hrozbu zvěčnit. Myslím, že ke konci se konečně začalo něco dít, ale za moc a ani za druhé zhlédnutí to rozhodně nestálo. To bych si teď pamatoval o mnoho víc a rozhodně bych nedával odpad, který dávám teď."
      ],
      "text/plain": [
       "<IPython.core.display.Markdown object>"
      ]
     },
     "metadata": {},
     "output_type": "display_data"
    },
    {
     "name": "stdout",
     "output_type": "stream",
     "text": [
      "\n",
      "https://www.csfd.cz/uzivatel/172466-frajer42/\n",
      "Vlasy (1979) 12.5\n"
     ]
    },
    {
     "data": {
      "text/markdown": [
       "Už jsem si v hlavě vybíral vulgarismy, kterými tento film znehodnotím. Bohužel ale přišel moc pěkný závěr, který byl jediným pěkným momentem, a proto se budu muset s vulgarismy kontrolovat. Ovšem označit zhruba 105 až 110 minut za totální **pičovinu** s **vykurveně** špatnými songy si ještě dovolit mohu. Vlasy jsou třetí film, který jsem od Miloše Formana viděl. Vlasy jsou zároveň naprosto jednoznačně nejhorší z těchto třech filmů, respektive jediný nekoukatelný, zato ale nekoukatelný totálně. Nechce se mi ani věřit, že fanklub k dnešnímu dni tvoří neuvěřitelných 781 chudáků. To mi vážně někdo chce namluvit, že tahle **sračka** je jedním z deseti nejlepších filmů, které za svůj život viděl? To tedy měl na filmové zážitky život dost chudý...OŠKLIVÝ ODPAD! Jako muzikál bych tuhle **sračku** řadil k totální muzikálové spodině typu Moulin Rouge a další zbytečné **sračky.**"
      ],
      "text/plain": [
       "<IPython.core.display.Markdown object>"
      ]
     },
     "metadata": {},
     "output_type": "display_data"
    },
    {
     "name": "stdout",
     "output_type": "stream",
     "text": [
      "\n",
      "https://www.csfd.cz/uzivatel/172466-frajer42/\n",
      "500 dní se Summer (2009) 26\n"
     ]
    },
    {
     "data": {
      "text/markdown": [
       "Totální **kokotina** pro **kokoty** o jednom **kokotovi** a jedné **kokotce.** Opravdu jsem se nemohl dočkat okamžiku až se přede mnou zjeví číslo 500 v závorce a já se budu moci zaradovat, že konec je blízko. Příběh je maximálně **debilní** a ještě více nudný. **Kokot** miluje **kokotku** a **kokotka** **kokota** ne. O takové **kokotině** to celé je. Možná vám připadá výskyt slova **kokot** ve všech jeho variantách lehce stereotypní, ale právě na podobně stereotypnosti je vystaven celý ,,film\". Slovo film je samozřejmě v úvozovkách, protože se tuhle hovadinu za film stydím označit. Chvíli to **kokotům** klape a chvíli zase ne. Aby si tvůrci zachovali alespoň trošku orginality, tak je ,,film\" vyprávěn na přeskáčku a občas do toho všeho pronese vypravěč 2 až 3 věty nesmyslů. Netuším, kde kdo přišel na to, že si tahle **blbost** zaslouží nést označení komedie. Já se prostě nesmál. Hlavní herci jsou odporní a přál jsem jim, aby na samém konci alespoň jeden z nich spáchal sebevraždu a zapříčinil tak divákovi alespoň jeden pozitivní moment. Z celého srdce lituji všechny, kterým se tenhle nesmysl zamlouval a přeji jim při volbě dalšího filmu o mnoho šťastnější ruku. Dávám samozřejmě odpad, protože odpad považuji za jediné možné hodnocení."
      ],
      "text/plain": [
       "<IPython.core.display.Markdown object>"
      ]
     },
     "metadata": {},
     "output_type": "display_data"
    },
    {
     "name": "stdout",
     "output_type": "stream",
     "text": [
      "\n",
      "https://www.csfd.cz/uzivatel/172466-frajer42/\n",
      "Velmi nebezpečné známosti (1999) 15.0\n"
     ]
    },
    {
     "data": {
      "text/markdown": [
       "Tak čekal jsem, že to bude **kokotina,** to se dá vytušit už z obsahu. Ale že to byla **kokotina** až taková, tak to mě docela překvapilo. Totálně kriplovsky zahrané. Hercům a herečkám jsem nevěřil ani že jsou. Celkový děj, dá-li se to za děj považovat, si netroufám ani podrobněji rozebírat, protože je to **kokotina** za **kokotinou.** A z těchle malých **kokotin** je vlastně vybudována jedna velká. Tomu příběhu tady vážně někdo věří a bere ho vážně? Vždyť ten film předpokládá, že každý divák je totální **kokot,** který přemýšlet nezvládne. Mnoho uživatelů se tady rozplývá nad předlohou. Předlohu jsem nečetl(ani nebudu, tahle kriplovina mě dostatečně odradila), ale nepředpokládám, že by byla čirou náhodou zasazena do stejné doby, protože žiji bláhovou představou, že autoři knih nejsou až tak úplně vypatlaní. **Kokotina** někde na úrovni tomu nesmyslu o upírech, co si říká Stmívání. Jednoznačný ODPAD! P.S. Každý kdo hodnotil 4# a více v mých očích výrazně klesl, protože začínám pochybovat o jeho mentálním schopnostech."
      ],
      "text/plain": [
       "<IPython.core.display.Markdown object>"
      ]
     },
     "metadata": {},
     "output_type": "display_data"
    },
    {
     "name": "stdout",
     "output_type": "stream",
     "text": [
      "\n",
      "https://www.csfd.cz/uzivatel/172466-frajer42/\n",
      "Hříšný tanec (1987) 13.5\n"
     ]
    },
    {
     "data": {
      "text/markdown": [
       "Totální **sračka.** A tato dvě slova dvakrát podtržené. Totální **hovnovina,** která se může líbit pouze slečnám a teploušům, kteří jako jediní mají právo najít si v tomto nesmyslu nějaké zalíbení, protože oni jsou jinak smýšlející tvorové. Pokud se neřadíte ani do jedné skupiny a přesto se vám tenhle výplod chorého a neuznávaného režiséra líbí, tak potom byste měli zvážit návštěvu nějakého uznávaného psychologa, který by vám pomohl odhalit vaše skryté odchylky od normálu. Nevzpomínám si, že bych tuhlu **blbost** někdy viděl celou v jednom kuse. Vždy tak 5 až 10 minut. Při delším sledování bych si asi způsobil nějakou disfunkci některé části mozku a za to mi to nestojí. Pokud vás někdo požádá vidět tuhle **kokotinu** celou s ní/ním ( zvolte si podle orientace), tak si rychle najdětě supervýmluvu a prchejte. A protože jsem hrozně hodný a mám pro vás pochopení, tak zde přikládám seznam těch nejpoužívanějších výmluv, které je potřeba střídat. Vymyslet další je otázka pouze vaší fantazie.: 1)Bolí mě ruka/hlava/noha/břicho/záda/zub/zuby jdu tedy spát. 2)Jsem unavený. Jdu spát. 3)Brzy ráno vstávám. ##Rozhodně tyto výmluvy nezaměňte s frázemi jako jsou: ,,Jdu na pivo!\" nebo ,,Chci se dívat na fotbal/hokej/baseball/tenis/basketbal/porno/rugby/NFL/další oblíbené EXISTUJÍCÍ sporty.\" Mohlo by to nadělat problémy. Myslím, že se z mého komentáře dá vycítit můj postoj k této **zmrdovince** a není tedy potřeba se více rozepisovat. TOTÁLNÍ ODPAD."
      ],
      "text/plain": [
       "<IPython.core.display.Markdown object>"
      ]
     },
     "metadata": {},
     "output_type": "display_data"
    },
    {
     "name": "stdout",
     "output_type": "stream",
     "text": [
      "\n",
      "https://www.csfd.cz/uzivatel/172466-frajer42/\n",
      "https://www.csfd.cz/uzivatel/172466-frajer42/\n",
      "Faunův labyrint (2006) 21.0\n"
     ]
    },
    {
     "data": {
      "text/markdown": [
       "Chci znát jméno. Chci znát jméno toho **blbouna,** co zařadil tento film do žánru horor. Chci znát důvod. Chci znát důvod, který ho k takové nezodpovědné **blbosti** vedl. Jak asi tušíte, těšil jsem se na horor. Co jsem dostal? Totálně hloupou polopohádku, kde se přibližně polovinu filmu válčí s partyzány a polovinu filmu se mluví se smyšlenými bytostmi. Vy říkáte 74. nejoblíbenější film. Já říkám **hovno.** Tohle jinak nazvat ani nelze. Menší SPOILER. Totálně nesympatická a špatně hrající začínající herečka španělského původu si povídá nejdříve s nějakýma **kokotama** s křídlama, poté zavítá kamsi do podzemí za divným kozlem, který ji dává totálně ujeté úkoly. Ve své fantazii tak zažívá totálně **debilní** lapálie. Krmí ropuchu, ukradne jídlo jednomu volovi, který se dívá rukama a žere malé děti. Kreslí si křídou dveře a má v mléku naložený kořen stromu. KONEC SPOILERU. Naproti tomuto divnému světu fantazie stojí občanská válka. Tak tu máme parádní kontrast dvou rozdílných prostředí. Mám nápad. **Posereme** se všichni z toho a dáme všichni 5# a budeme psát jak ohromná je to paráda a jak jsme si film užili! Nene, tohohle já se s vámi účastnit rozhodně nehodlám. A za to, že generál občas někomu rozmašíruje ksicht se # ještě nedává. JEDNOZNAČNÝ ODPAD A NEJHORŠÍ, RESPEKTIVE JEDINÝ VYLOŽENĚ ŠPATNÝ FILM, KTERÝ JSEM ZATÍM OD GUILLERMA DEL TORA VIDĚL!"
      ],
      "text/plain": [
       "<IPython.core.display.Markdown object>"
      ]
     },
     "metadata": {},
     "output_type": "display_data"
    },
    {
     "name": "stdout",
     "output_type": "stream",
     "text": [
      "\n",
      "https://www.csfd.cz/uzivatel/172466-frajer42/\n",
      "Metropolis (1927) 6\n"
     ]
    },
    {
     "data": {
      "text/markdown": [
       "Děláte si **srandu,** že ano? Nic proti starým filmům nemám. Dokonce jsem viděl i starší filmy než je tento a líbily se mi. Metropolis je ovšem totální hovadina. **Hnusně** nalíčení herci, kteří vypadají jako banda teploušů. Totálně **debilní** příběh čerpající z biblických motivů. A především hrubě přemrštěná stopáž. To vše dohromady dělá jeden z nejnudnějších filmů, které jsem za dobu svého života viděl. Takhle vysoké hodnocení si vysvětluji pouze tím, že film neunikl pozornosti všem zdejším pseudointelektuálům, kteří zde tvoří dost rozrostlou komunitu. (Jejich seznam naleznete ve fanklubu tohoto filmu.) Běžný divák se této sračce vyhne, a proto tu těch odpadů není mnoho. Já tu však jeden zanechám. Tohle totiž nelze hodnotit jinak."
      ],
      "text/plain": [
       "<IPython.core.display.Markdown object>"
      ]
     },
     "metadata": {},
     "output_type": "display_data"
    },
    {
     "name": "stdout",
     "output_type": "stream",
     "text": [
      "\n",
      "https://www.csfd.cz/uzivatel/172466-frajer42/\n",
      "https://www.csfd.cz/uzivatel/172466-frajer42/\n",
      "https://www.csfd.cz/uzivatel/172466-frajer42/\n",
      "Smrtihlav (1998) 2.5\n"
     ]
    },
    {
     "data": {
      "text/markdown": [
       "Tak tenhle film mě tedy supernebavil. Totálně nic zajímavého se tady neděje. Partička **kokotů** z vesmíru zavítá na naši malebnou planetku a pohrává si s lidmi. To je vše oč tu běží. Nicméně už jsem si zvykl, že většinu hodnotících uživatelů tvoří nevyléčení feťáci a vyléčení alkoholici, takže se relativně vysokému hodnocení ani moc nedivím. Tenhle film je prostě omyl. ODPAD!"
      ],
      "text/plain": [
       "<IPython.core.display.Markdown object>"
      ]
     },
     "metadata": {},
     "output_type": "display_data"
    },
    {
     "name": "stdout",
     "output_type": "stream",
     "text": [
      "\n",
      "https://www.csfd.cz/uzivatel/172466-frajer42/\n",
      "Žena v černém (2012) 4\n"
     ]
    },
    {
     "data": {
      "text/markdown": [
       "Tak takhle nudná **blbost** se rozhodně nevidí každý den. Chtěl jsem se na to podívat jeden večer, ale po pěti minutách jsem usnul, takže jsem to doukoukal den příští za světla. Atmosféra zde jakási je. Film vyniká hlavně po zvukové stránce, protože vše ostatní je bída a utrpení. Scénář je totálně **dementní.** Zdejší hodnocení chápejte jako žert. Pokud se 95 minut nechcete kousat nudou, tak tenhle film opravdu raději vynechte. Žena v černém nefunguje jako horor a ani jako film. Jednoznačný odpad!"
      ],
      "text/plain": [
       "<IPython.core.display.Markdown object>"
      ]
     },
     "metadata": {},
     "output_type": "display_data"
    },
    {
     "name": "stdout",
     "output_type": "stream",
     "text": [
      "\n",
      "https://www.csfd.cz/uzivatel/172466-frajer42/\n",
      "Asterix v Británii (1986) 2\n"
     ]
    },
    {
     "data": {
      "text/markdown": [
       "Zatímco 12 úkolů pro Asterixe byl film alespoň vtipný, tak o tomto se nedá z pozitivního soudku vytáhnout téměř nic. Celý film je vybudován na dělání si **srandy** z britů, britského života, britské kultury a britských zvyků. Já si tedy nemohu pomoci, ale celý film jsem se nudil a v samotném závěru jsem dokonce i usnul, a to se jedná o velmi krátký film. Asi jsem měl přehnaná očekávání. O to více jsem teď zklamán. Odpad! Opravdu těch vtipných momentů, kde existuje alespoň malá reálná šance se pousmát je tu méně než prstů na jedné běžné ruce."
      ],
      "text/plain": [
       "<IPython.core.display.Markdown object>"
      ]
     },
     "metadata": {},
     "output_type": "display_data"
    },
    {
     "name": "stdout",
     "output_type": "stream",
     "text": [
      "\n",
      "https://www.csfd.cz/uzivatel/172466-frajer42/\n",
      "https://www.csfd.cz/uzivatel/172466-frajer42/\n",
      "Město andělů (1998) 4\n"
     ]
    },
    {
     "data": {
      "text/markdown": [
       "Město andělů s andělem Nicolasem by bylo město andělů pěkně na **hovno.** Nick by už konečně měl pochopit, jaké filmy ano a a jaké filmy ne. Poté bychom mohli být všichni šťastní. Film jsem viděl strašně dávno a pamatuji si z něho pouze to, že se mi totálně nelíbil. Myslím, že jsem ho tehdy ani moc nesledoval, protože to byla strašná **sračka.** Jinak se mám fajn."
      ],
      "text/plain": [
       "<IPython.core.display.Markdown object>"
      ]
     },
     "metadata": {},
     "output_type": "display_data"
    },
    {
     "name": "stdout",
     "output_type": "stream",
     "text": [
      "\n",
      "https://www.csfd.cz/uzivatel/172466-frajer42/\n",
      "https://www.csfd.cz/uzivatel/172466-frajer42/\n",
      "Kamarád taky rád (2011) 14.5\n"
     ]
    },
    {
     "data": {
      "text/markdown": [
       "Nad výsledným ohodnocením, které se této sračce chystám udělit se nemá cenu pozastavovat. Bude to pochopitelně odpad. Odpad je také jediné hodnocení, které zde může mentálně způsobilý jedinec zanechat, tudíž se troufám za jednoho takového považovat. O mentální způsobilosti fanklubu nemá smysl ani přemýšlet. Ti jsou jasní. Podobně špatnou **sračku** už jsem docela dlouho nezahlédl. Docela vážně jsem uvažoval, že si ukončím trápení s pořádným předstihem a že se tahle **sračka** stane 3. filmem, jehož konec už se nikdy nedovím. Nestalo se. Nějak jsem to zvládl. Konec jsem sice odpočítával každou vteřinu. Nakonec skutečně přišel. Bohužel asi o 100 minut později než jsem si přál. Teď tedy ve zkratce něco o filmu. Film je totální šablonovitá **sračka,** kterých už byly natočeny statisíce. To žánrové zařazení mezi komedie je pochopitelně fake, ale to už mi bylo jasné dlouho před zhlédnutím, protože tyto **sračky** vtipné prostě nebývají. Zůstane mi tedy asi doživotní záhadou, co na těchto filmech lidi pořád vidí. Již před zhlédnutím musí být každému jasné nejenom jak to celé nakonec dopadne, ale především kompletní detailní průběh, tím myslím, že divák přesně ví, kdy se dostaví zápletka a další podobné **srance.** Proč se tedy vůbec na takové **sračky** dívat? Zbytečně se pak stane XYZ. nejoblíbenějším filmem a potom se stane ta strašlivá věc - všimnu si ho."
      ],
      "text/plain": [
       "<IPython.core.display.Markdown object>"
      ]
     },
     "metadata": {},
     "output_type": "display_data"
    },
    {
     "name": "stdout",
     "output_type": "stream",
     "text": [
      "\n",
      "https://www.csfd.cz/uzivatel/172466-frajer42/\n",
      "Kristián (1939) 8\n"
     ]
    },
    {
     "data": {
      "text/markdown": [
       "Neskutečná **sračka.** Takhle nudnou hovadinku už jsem opravdu dlouho neviděl. Prý komedie... Cha. Cha. Cha. Scénář psal asi člověk, který byl léta na houbičkách. Někde jsem slyšel, že takhle **blbým** filmům se dává pouze odpad. Abych tedy nebyl pozadu, tak honem s jedním přispěchám. Opravdu **sračka.** Viděl jsem i mnohem starší komedie, dokonce i českého původu, a ty byly nesrovnatelně vtipnější. Bída a utrpení. Nechce se mi ani věřit, že tenhle nesmysl posbíral nějaké fanoušky. To musejí být správní **retardéři.**"
      ],
      "text/plain": [
       "<IPython.core.display.Markdown object>"
      ]
     },
     "metadata": {},
     "output_type": "display_data"
    },
    {
     "name": "stdout",
     "output_type": "stream",
     "text": [
      "\n",
      "https://www.csfd.cz/uzivatel/172466-frajer42/\n",
      "TRON: Legacy 3D (2010) 6.5\n"
     ]
    },
    {
     "data": {
      "text/markdown": [
       "Jo, bylo to v pohodě. Ovšem asi tak do doby než se ten **idiot** dostal do toho **debilního** světa her, či co to bylo. Bohužel do tohoto světa zavítal docela brzy. V ten okamžik se z filmu stala ubohá **sračka,** kterou film zůstal až do samotného konce. Takový příval nudy se opravdu úplně běžně nepotkává. 3D bylo slabé a nepomohla mu ani ta neustálá tma. Myslím si, že vystoupilo z obrazovky do vzdálenosti asi 10 cm jedno kolečko, které se ihned vrátilo. Zbytek toho slavného 3D se odehrává ,,za televizí\". Dokumenty od imaxu mají 3D naprosto nesrovnatelně lepší a po obsahové stránce neznechucují diváky. Takže jediným světlým bodem zůstala vysoká bluray kvalita, kterou divák ocení v občasných akčních scénkách, které jsou pěkné, když po sobě hrdinové zrovna nehází externími hard disky. Ovšem jakmile některá postava otevře držku a chce něco chytrého říct, tak všechno pěkné z filmu zapomenete a jste prakticky rozhodnuti dát odpad. Totální prázdnota. Vacuum. Ten film je naprosto o ničem a prázdný, kdyby alespoň to 3D za něco stálo, tak bych mu tu jeho prázdnost třeba částečně odpustil. ODPAD!"
      ],
      "text/plain": [
       "<IPython.core.display.Markdown object>"
      ]
     },
     "metadata": {},
     "output_type": "display_data"
    },
    {
     "name": "stdout",
     "output_type": "stream",
     "text": [
      "\n",
      "https://www.csfd.cz/uzivatel/172466-frajer42/\n",
      "Sunshine (2007) 10.0\n"
     ]
    },
    {
     "data": {
      "text/markdown": [
       "Někdo zvládá popsat scénář třama větama a někdo ho zvládne popsat jedním slovem: ,,NESMYSL\". Myslím si, že každý člověk absolvující alespoň základní školu musí vědět, že umírajícímu Slunci jedna **debilní** jaderná bomba rozhodně plnou a ani částečnou funkčnost nezajistí. Tento omyl mě tak nasral, že se mi znechutil celý další průběh filmu a nepřikládal už jsem mu naprosto žádnou váhu. Samozřejmě to není omyl jediný. Posádku kosmické lodi tvoří **dementní** nesympatičtí čuráci, takže po této stránce je to rovněž totální ubohost. Efekty, kterými se film pyšní v popisu nepřinášejí naprosto nic převratného a to ani na svoji dobu ne. Takže v celkovém součtu je to opravdu ubohá a nesmyslná **sračka.** A přitom Danny Boyle rozhodně umí. Ukázal to ve filmu Trainspotting a ani jeho Milionář z chatrče nebyl průser. Dokonce si velmi solidně zrežíroval zahajovací ceremoniál LOH v Londýně. Asi se mu v této sračce ukázat jeho schopnosti prostě nechtělo. A raději úplně pomlčím o tom, že se jedná o svatokrádež Kubrickovi vesmírné odysey, neboť těch ,,podobností\" je zde mnohem více než by mohlo být zdravé. Nemám nic proti žánru sci-fi, když si pojednává o věcech, o kterých zatím máme jen mlhavou představu. Bohužel už mám nakoukáno několik desítek hodin dokumentů o vesmíru a prostě nedokážu všechny vědomosti na 107 minut zapomenout. To prostě nejde, takže mě film neskutečně uráží. Troufnu si říct, že uráží vlastně každého, kdo není úplný **debil.** ODPAD! P.S. Všimněte si, že většina zdejších oslavných chorálů je z roku 2007. Poté už jde hodnocení postupně do hoven, kam film i patří."
      ],
      "text/plain": [
       "<IPython.core.display.Markdown object>"
      ]
     },
     "metadata": {},
     "output_type": "display_data"
    },
    {
     "name": "stdout",
     "output_type": "stream",
     "text": [
      "\n",
      "https://www.csfd.cz/uzivatel/172466-frajer42/\n",
      "Scott Pilgrim proti zbytku světa (2010) 8\n"
     ]
    },
    {
     "data": {
      "text/markdown": [
       "73 %? Na to se dá povědět pouze: ,,chňo, chňo, chňo\"! Tento film je totální ujetá **zmrdovinka** a hlavně strašně dlouhá nuda. Je zde přibližně 3 - 5 úsměvných hlášek, které dohromady nezaberou ve stopáži o málo více než minutu. Všechno ostatní je jeden velký omyl, který se tvůrci snaží maskovat za spousty efektů a režisérských hříček. Vlastně ten nosný příběh je natolik krténský, banální a ubohý, že ty samotné hříčky jsou to jediné o čem se dá psát se vší slušností. Herce, který nese jméno Michael Cera jsem viděl v tomto filmu podruhé a pevně věřím, že už ho nikdy více neuvidím, protože se mi stihl slušně zprotivit. Vlastně celkový výběr herců a hereček byl naprosto žalostný. Ale nalejme si sklenku čistého vína. Taková **sračka** si ani lepší herce nezasloužíla. Opravdu je mi záhadou, že se tady najde tolik **debilů.** Ano, fanklub je docela rozrostlý, ale neberte si to nikdo prosím osobně. Má úcta a jasný odpad!"
      ],
      "text/plain": [
       "<IPython.core.display.Markdown object>"
      ]
     },
     "metadata": {},
     "output_type": "display_data"
    },
    {
     "name": "stdout",
     "output_type": "stream",
     "text": [
      "\n",
      "https://www.csfd.cz/uzivatel/172466-frajer42/\n",
      "Hledání Země Nezemě (2004) 8\n"
     ]
    },
    {
     "data": {
      "text/markdown": [
       "**Sračka,** nuda, průser, **fuj.** To jsou moje bezprostřední dojmy. Johhny Depp mě skutečně, upsáním se této sračce, nasral. Ach jo. Kdy už zdejší uživatelé vyrostou a přestanou vynášet do nebes takové **sračky.** Doufám, že k plnohodnotnému diváckému zážitku není nutné znát i film Peter Pan, protože to už bych opravdu nezvládl vstřebat. Jen abych vše uvedl na pravou míru, tak Kate Winslet a Dustin Hoffman mě nasrali zhruba stejně jako Johnny Depp. Myslím si, že když dám odpad, tak nebudu úplně mimo. Vlastně je to jediné hodnocení, které takové sračce náleží. Myslím, že pro děti je film příliš složitý a pro dospělé zase příliš **debilní,** takže v celkovém součtu to není film vůbec pro nikoho a zdejší božské superuživatelstvo je jen banda pokrytců a lhářů."
      ],
      "text/plain": [
       "<IPython.core.display.Markdown object>"
      ]
     },
     "metadata": {},
     "output_type": "display_data"
    },
    {
     "name": "stdout",
     "output_type": "stream",
     "text": [
      "\n",
      "https://www.csfd.cz/uzivatel/172466-frajer42/\n",
      "RocknRolla (2008) 10\n"
     ]
    },
    {
     "data": {
      "text/markdown": [
       "Tak tento film mi úplně nesedl. Vychází z hrozně **debilního** příběhu, kde se nic zajímavého prostě neděje. Většina herců hraje jako banda **čuráků.** Karel Roden mě docela nasral, protože mi k němu jeho role prostě neseděla. Celé je to vlastně úplně **debilní.** Akce, která by stála za zmínku zde není. Prostě se pořád kecá o hovnech. Navíc mám velkou výtku k tomu žánrovém zařazení filmu jako komedie, protože stále trpím asi myslnou představou, že komedie by měly být vtipné, což se této totální sračce říct rozhodně nedá. Já tuhle **sračku** považuji za typického zástupce odpadu."
      ],
      "text/plain": [
       "<IPython.core.display.Markdown object>"
      ]
     },
     "metadata": {},
     "output_type": "display_data"
    },
    {
     "name": "stdout",
     "output_type": "stream",
     "text": [
      "\n",
      "https://www.csfd.cz/uzivatel/172466-frajer42/\n",
      "https://www.csfd.cz/uzivatel/172466-frajer42/\n",
      "Nekonečný příběh (1984) 20\n"
     ]
    },
    {
     "data": {
      "text/markdown": [
       "Už když jsem byl dítě, tak se mi tahle **blbinka** naprosto nelíbila. Nicméně když jsem si ji pustil dnes, tak jsem vyloženě trpěl. Tento film je naprostá nudná **debilovina,** u které jsem zvládl usnout, né jednou, né dvakrát, ale rovnou třikrát dámy a pánové. Opravdu je to naprostá kriplovina, na které se mi líbila pouze ústřední písnička. Zahráno je to partou **zmrdů,** která už by si nikdy nikde hrát nezasloužila. Efekty jsou samozřejmě **idiotské.** Ale film není nejmladší, takže vem je čert. Ono to na té **debilitě** stejně moc neubere. Příběh je tu hrozně **debilní.** Jeden hrozně šikanovaný **zmrdeček** si čte jednu **debilní** knížku. Naprosto přehnaně vysoké hodnocení si vysvětluji pouze nikdy nekončící nostalgií zdejšího hodnotitelstva. Další pokračování moc rád vynechám. Jasný odpad!"
      ],
      "text/plain": [
       "<IPython.core.display.Markdown object>"
      ]
     },
     "metadata": {},
     "output_type": "display_data"
    },
    {
     "name": "stdout",
     "output_type": "stream",
     "text": [
      "\n",
      "https://www.csfd.cz/uzivatel/172466-frajer42/\n",
      "https://www.csfd.cz/uzivatel/172466-frajer42/\n",
      "Deník Bridget Jonesové (2001) 2\n"
     ]
    },
    {
     "data": {
      "text/markdown": [
       "Film je předvídatelný jako **prase.** Asi zhruba v 5. minutě je vám jasné, jak to celé dopadne. Má to být prý komedie. Nezasmál jsem se ani jednou. Jediné čemu se eventuálně zasmát dalo, bylo to tříchodové menu. Zejména pak modrá polévka, kterou se všcihni báli začít jíst a čekali až tak učiní ten druhý. Teď k hercům a herečkám. Renéé Zellweger, na které celý film stojí, je neuvěřitelně ošklivá ženská. Nedalo se na ni dívat. Colin Firth byl opět skvělý. Ten je ale výborný všude. Hugh Grant nezklamal. Ve zbytku herců a hereček už jsem nenašel nikoho, kdo by mě sral. Myslím si však, že když vás sere hlavní postava, tak vás film nemůže už nijak ohromit. Celkově bych to viděl na takový pěknější odpádek, protože podobně orientované filmy prostě v oblibě nemám."
      ],
      "text/plain": [
       "<IPython.core.display.Markdown object>"
      ]
     },
     "metadata": {},
     "output_type": "display_data"
    },
    {
     "name": "stdout",
     "output_type": "stream",
     "text": [
      "\n",
      "https://www.csfd.cz/uzivatel/172466-frajer42/\n",
      "Podvodníci z New Jersey (1994) 8.5\n"
     ]
    },
    {
     "data": {
      "text/markdown": [
       "Totálně **debilní** a nevtipná **sračka** plná strašně nesympatických postav. Celé je to jakési amatérské. To s tím hodnocením vážně myslíte vážně? Vážně by mě zajímalo, co ty zvláštní jedince, kteří hodnotí 4# či 5# tak ohromilo. Vždyť v této sračce se totálně nic neděje. Dva strašně nesympatičtí lidé si v obchodě povídají o **sračkách** a nesmyslech. Prý kult? **Sračka** je to. ODPAD!"
      ],
      "text/plain": [
       "<IPython.core.display.Markdown object>"
      ]
     },
     "metadata": {},
     "output_type": "display_data"
    },
    {
     "name": "stdout",
     "output_type": "stream",
     "text": [
      "\n",
      "https://www.csfd.cz/uzivatel/172466-frajer42/\n",
      "P.S. Miluji Tě (2007) 16.5\n"
     ]
    },
    {
     "data": {
      "text/markdown": [
       "No to tedy byla **zkurvená** **kokotina.** Taková **sračka** se vážně někomu může líbit? Takového člověka by měli podrobit zkoumání. Hlavní postava - Hilary Swank je naprosto **hnusná** kedra, na kterou se člověk musí bohužel dívat 2 hodiny, protože tahle kriplovská **sračka** je mimo jiné strašně dlouhá. Gerard Butler mě tedy neskutečně nasral. Nevím jaký stupeň zoufalství ho dohnal k takovému omylu, jako bylo upsání se takové sračce. Jinak celkové herecké osazenstvo je totálně **debilní.** Je to tam samý **hovnoksicht,** kuřbuřt, **koňomrd,** zoofil a kdoví kdo ještě. Raději úplně pomlčím o všech herečkách, protože pro ně zatím nemá náš mateřský jazyk vhodné vulgarismy, které by je dokázaly charakterizovat v plném rozsahu jejich ošklivost. Jediné emoce, které u mě zvládl film vyvolat byly nuda a vztek. EDIT: Jelikož se jedná o jeden z nejoblíbenějších spolusledovatelčiných filmů, tak jsem to utrpení musel podstoupit znovu, abych se ujistil, že jsem se poprvé v hodnocení nezmýlil. Nezmýlil jsem se. I podruhé jsem vydatně trpěl. Ne tolik jako poprvé, neboť za pět let moje romantická duše přeci jen trošku změkla, ale i tak jsem prostě trpěl. Tentokrát jsem ovšem odhalil příčinu. Scénář nebyl vyloženě průser. Průser byl obsadit do hlavní role někoho tak strašně odporného. Hilary Swank je opravdu pomyslným vrškem herecké šerednosti. Není divu, že si Gerard nechal voperovat do mozku tumor. Její předkus byl po moje oči nesnesitelně iritující. Člověk nejdříve slyšel klapat zuby, poté kilometr nikdo nikde a až kdesi v dáli šel za zuby zbytek hereččina těla. Obávám se, že je tento snímek čistě ženskou záležitostí. Přeci jenom jsem od zhlédnutí tohoto snímku viděl obrovskou spoustu sraček, tudíž už tento snímek nevnímám až tak negativně. U odpadu zůstanu, ale už je takový mírnější. V některých momentech se člověk v hrdinech dokonce malinko pozná."
      ],
      "text/plain": [
       "<IPython.core.display.Markdown object>"
      ]
     },
     "metadata": {},
     "output_type": "display_data"
    },
    {
     "name": "stdout",
     "output_type": "stream",
     "text": [
      "\n",
      "https://www.csfd.cz/uzivatel/172466-frajer42/\n",
      "Hodiny (2002) 2\n"
     ]
    },
    {
     "data": {
      "text/markdown": [
       "Já si z tohoto filmu odnesu minimálně to, že všechny ženy jsou alespoň částečně lesby a naprosto všechny trpí depresemi. Zahrané je to samozřejmě exkluzivně. Když si přečtete jména hereček, tak vlastně ani nic jiného nečekáte. Ovšem naprosto totálně mě to nezajímalo. To je film pro takové ty věčně vystresované a uplakané ženy a slečny. Nic pro frajery, jako jsem já. V jedné části jsem dokonce natvrdo usnul. Prostě naprostá **sračka.** Režisér je nejspíš teplouš a o těch tvorech, kteří psali knihu, ze které tento film vychází raději ani nemluvím. Prostě odpad!"
      ],
      "text/plain": [
       "<IPython.core.display.Markdown object>"
      ]
     },
     "metadata": {},
     "output_type": "display_data"
    },
    {
     "name": "stdout",
     "output_type": "stream",
     "text": [
      "\n",
      "https://www.csfd.cz/uzivatel/172466-frajer42/\n",
      "Pokání (2007) 4\n"
     ]
    },
    {
     "data": {
      "text/markdown": [
       "Očekával jsem, že to bude **blbost** a měl jsem pravdu. Ono už se to dá vytušit z první věty obsahu, kde je zmínka o filmu Pýcha a předsudek, který byl **blbý.** Tohle prostě nejsou filmy pro mě a divím se, že jsou vůbec pro někoho. Jedna zápletka a na ní je vybudován celý nudný film. A nuda to byla rozhodně ohromná. Kdyby zde chyběly dvě známé tvůře, tak bych dost nahlas přemýšlel o předčasném ukončení. Na mysli mám samozřejmě předčasné ukončení filmu a né životu. Za to tahla hovadina vskutku nestojí. Neřadím se mezi takové ty zvláštní jedince, kteří když vidí pěkné kostýmy, tak si vesele zaslintají a uchrochtnou blahem a o nic víc se nestarají. Tenhle film je kriplovina a myslím, že nastal správný čas si to přiznat. Dokonce i ta tolik zde chválená hudba až tak parádní není. Pěknější odpad!"
      ],
      "text/plain": [
       "<IPython.core.display.Markdown object>"
      ]
     },
     "metadata": {},
     "output_type": "display_data"
    },
    {
     "name": "stdout",
     "output_type": "stream",
     "text": [
      "\n",
      "https://www.csfd.cz/uzivatel/172466-frajer42/\n",
      "Pomáhat a chránit (2011) 5.800000000000001\n"
     ]
    },
    {
     "data": {
      "text/markdown": [
       "Naprostá hovadina. Jediné, co si zaslouží zmínku byl irský přízvuk zúčastněných. Vtipný není film ani malinko. A pokud komedie není vtipná, tak postrádá význam, aby byla viděna. Režisér i všichni zúčastnění by měli za trest žrát **hovna.** Totálně zbytečný film ubohé kvality. Absolutně nejhorší byl na filmu scénář, který nemá totálně co nabídnout. ODPAD!!!!!!!"
      ],
      "text/plain": [
       "<IPython.core.display.Markdown object>"
      ]
     },
     "metadata": {},
     "output_type": "display_data"
    },
    {
     "name": "stdout",
     "output_type": "stream",
     "text": [
      "\n",
      "https://www.csfd.cz/uzivatel/172466-frajer42/\n",
      "Bad Taste - Vesmírní kanibalové (1987) 4\n"
     ]
    },
    {
     "data": {
      "text/markdown": [
       "Ani se mi nechce věřit, že mistr Peter Jackson začínal svoji kariéru něčím tak strašně **debilním.** Smysl pro humor on nikdy neměl a asi ani v budoucnu se toho od něj nedočkáme. Naštěstí se od komedíí přeorientoval. Ale zpátky k tomuhle kriplovskému filmu. To, že není ani trošičku vtipný bych snad ještě překousl, ale on je bohužel naprosto **debilní.** Je to práce amatéra. Možná hravého a kreativního amatéra, ale je to stále amatér. O hereckých výkonech zbytku se nezmiňuji, protože pro ně v našem jazyce stále neexistuje vhodný termín, a to je čeština na tyto výrazy tak bohatá. Totální odpad!"
      ],
      "text/plain": [
       "<IPython.core.display.Markdown object>"
      ]
     },
     "metadata": {},
     "output_type": "display_data"
    },
    {
     "name": "stdout",
     "output_type": "stream",
     "text": [
      "\n",
      "https://www.csfd.cz/uzivatel/172466-frajer42/\n",
      "https://www.csfd.cz/uzivatel/172466-frajer42/\n",
      "Pohádka o Honzíkovi a Mařence (1980) 6\n"
     ]
    },
    {
     "data": {
      "text/markdown": [
       "Lehce se mi líbil asi 3 minutový úvod a 5 minutové rytířké souboje. Všechno ostatní bylo maximálně **debilní** a **kreténské.** Dnešní děti by s takovou pohádkou poslaly člověka do **prdele** a děti v roce 1980 asi také zrovna neslinataly blahem. Kostra příběhu je klasicky pohádková. Totálně vypatlaný jedinec, který z nabízených 2 možností vždy zvolí tu horší se vydá do světa. Občas něco zakdáká Helenka Vondráčková a to je úplně vše. Zdejší vysoké hodnocení je totální nesmysl. Už dlouho jsem nedal odpad. Šup sem s ním."
      ],
      "text/plain": [
       "<IPython.core.display.Markdown object>"
      ]
     },
     "metadata": {},
     "output_type": "display_data"
    },
    {
     "name": "stdout",
     "output_type": "stream",
     "text": [
      "\n",
      "https://www.csfd.cz/uzivatel/172466-frajer42/\n",
      "Led Zeppelin: The Song Remains the Same (1976) 4\n"
     ]
    },
    {
     "data": {
      "text/markdown": [
       "Po všech stránkách příšerný dokument. Úplně nejhorší je jeho zpracování. Někdo se snažil být strašně umělecký, avšak postrádal veškerý talent. Není mi příliš blízká ani hudba, kterou se Led Zeppelin prezentují a zazní pouze jedna poslouchatelná píseň. Zdejší hodnocení je tak vysoké, protože tuhle **sračku** vyhledávají výhradně fanoušci této kapely. Ostatní se na dokument vyserou. Taky bych se na něj vysral, kdyby ho skupinka nadšenců nekatapultovala mezi 300 nejlepších filmů. Za sebe musím dát odpad."
      ],
      "text/plain": [
       "<IPython.core.display.Markdown object>"
      ]
     },
     "metadata": {},
     "output_type": "display_data"
    },
    {
     "name": "stdout",
     "output_type": "stream",
     "text": [
      "\n",
      "https://www.csfd.cz/uzivatel/172466-frajer42/\n",
      "Hrob světlušek (1988) 8\n"
     ]
    },
    {
     "data": {
      "text/markdown": [
       "Předem se omlouvám, že se bude moje hodnocení rozcházet s davovým šílenstvím, neboť se domnívám, že nastal ten správný čas vykřičet do světa pravdu o téhle odporné sračce. Úplně se všeho nejvíce mi vadilo, že tahle **kravina** není animovaná. Spíše by se dala označit, jako mnoho navazujících obrázků, mezi kterými je příšerná prodleva a iluze pohybujícího obrazu se zcela vytrácí. Jako druhý bod, který je zcela vhodný k nasrání je bezpochyby ten ošklivý, rozmazlený, uřvaný fracek. Nějaký snesitelný příběh na pozadí bezesporu je, ale je tak velmi upozaděn, že není těžké ho přehlédnout. Dalo mi mnoho práce se prokoukat až ke konci, který byl jen a pouze vysvobozením. Jeden z lepších odpádků. Tyhle **debilní** japonské **sračky** mi k srdíčku nikdy nebudou blízko. A všimněte si, že raději ani nezmiňuji, jak moc je tahle **sračka** sentimentální."
      ],
      "text/plain": [
       "<IPython.core.display.Markdown object>"
      ]
     },
     "metadata": {},
     "output_type": "display_data"
    },
    {
     "name": "stdout",
     "output_type": "stream",
     "text": [
      "\n",
      "https://www.csfd.cz/uzivatel/172466-frajer42/\n",
      "Prolomit vlny (1996) 6\n"
     ]
    },
    {
     "data": {
      "text/markdown": [
       "Naprosto žalostně zahraná **píčovina** o jednom kriplovi a druhém downovi, která se odehrává v prostředí plném **debilů** aneb hledejme genialitu v hovně. Něco tak **debilního** jsem vážně dlouho neviděl. Nemám ani nejmenší tušení, co tolik diváků uchvátilo. Lars von Trier už je v mých očích navždy gayem a pevně věřím, že se s dalším jeho filmem už nikdy nepotkám. U tohoto filmu lze docenit snad pouze originalitu. Odpadu se ovšem nelze ubránit."
      ],
      "text/plain": [
       "<IPython.core.display.Markdown object>"
      ]
     },
     "metadata": {},
     "output_type": "display_data"
    },
    {
     "name": "stdout",
     "output_type": "stream",
     "text": [
      "\n",
      "https://www.csfd.cz/uzivatel/172466-frajer42/\n",
      "Samsara (2001) 4\n"
     ]
    },
    {
     "data": {
      "text/markdown": [
       "Sledování jsem ukončil chvíli po tom, než jsem si uvědomil, že jsem koupil jiný film(asi hodinku jsem trpěl), než jsem zamýšlel. Větší **pičovinu** jsem snad roky neviděl. Netvrďte mi, že tahle **sračkoidní** hovadina vznikala 7 let. Já bych ji sfoukl za odpoledne, kdybych měl k dispozici podobné prostředí. Kdybych neměl, tak bych byl s filmem hotov přibližně za týden. Když si vzpomenu, že jsem film kupoval na ulož.to alespoň 20 minut, tak je mi toho času od srdce líto."
      ],
      "text/plain": [
       "<IPython.core.display.Markdown object>"
      ]
     },
     "metadata": {},
     "output_type": "display_data"
    },
    {
     "name": "stdout",
     "output_type": "stream",
     "text": [
      "\n",
      "https://www.csfd.cz/uzivatel/172466-frajer42/\n",
      "Mentalista (TV seriál) (2008) 8\n"
     ]
    },
    {
     "data": {
      "text/markdown": [
       "Mentalista je hrozná hovadina o jednom nazrzlým **kokotovi.** Viděl jsem asi dva až tři díly a stálo mě to mnoho sil. Najít takovou **sračku** není vůbec jednoduché. Možná kdbyby v hlavní roli byl nějaký sympaťák, tak by se moje hodnocení mohlo diametrálně lišit. Ale to jsou samá kdyby a ty neplatí na CSFD.cz a ani v životě. Ty **sračky,** které vypouští z úst snad ani nepotřebují další komentář. Možná kdbybych měl o IQ méně, tak bych byl býval nadšen. Takhle to bude odpádek."
      ],
      "text/plain": [
       "<IPython.core.display.Markdown object>"
      ]
     },
     "metadata": {},
     "output_type": "display_data"
    },
    {
     "name": "stdout",
     "output_type": "stream",
     "text": [
      "\n",
      "https://www.csfd.cz/uzivatel/172466-frajer42/\n",
      "Magie v ulicích (TV pořad) (2008) 6\n"
     ]
    },
    {
     "data": {
      "text/markdown": [
       "**Kokotina** o tom, jak se jeden hloupej **blbeček** snaží vytřít zrak cigánům a bezdomovcům. Přijde mi to ještě **blbější** než ta americká hovadina s tím dlouhovlasým kriplem. Navíc je mi ten český jouda silně nesympatický. Odpádek."
      ],
      "text/plain": [
       "<IPython.core.display.Markdown object>"
      ]
     },
     "metadata": {},
     "output_type": "display_data"
    },
    {
     "name": "stdout",
     "output_type": "stream",
     "text": [
      "\n",
      "https://www.csfd.cz/uzivatel/172466-frajer42/\n",
      "Nenávist (2002) 4\n"
     ]
    },
    {
     "data": {
      "text/markdown": [
       "Ach jo, jen **blbec** může vytvořit horor s takhle překombinovaným příběhem. To je pouze první problém. Druhý, který je ještě větší, je ten, že film není ani trošičku napínavý nebo strašidelný. Přitom jsem přistoupil k ověřené metodě. Film jsem zhlédl v noci a sám. Bohužel, parta **kokotů** natřená bílou barvou ve mne vzbudila spíše smích než cokoli jiného. V závěru jsem navíc začal usínat, takže z mé strany to bude zkrátka odpad. O děsivosti mám naprosto odlišné představy než pan režisér."
      ],
      "text/plain": [
       "<IPython.core.display.Markdown object>"
      ]
     },
     "metadata": {},
     "output_type": "display_data"
    },
    {
     "name": "stdout",
     "output_type": "stream",
     "text": [
      "\n",
      "https://www.csfd.cz/uzivatel/172466-frajer42/\n",
      "Hádej, kdo přijde na večeři (1967) 6.5\n"
     ]
    },
    {
     "data": {
      "text/markdown": [
       "Hrozně nudná πčovina o tom, kterak mladá a naivní dívka lásku k černým klobásám pocítila. Co naplat, že je vše exkluzivně zahrané, když je příběh tak neuvěřitelně **debilní.** Tento film je totálně **debilní** a totálně o ničem. Vůbec nechápu, co dělá takhle vysoko. Stanley Kramer mi už několikrát ukázal, že umí. Tohle bylo brutálně pod jeho standart. Oscar za scénář rovněž totálně nechápu. Vždyť tu tvůrci vytasili jeden ubohý nápad a všichni se ho pevně drží. Vše je totálně předvídatelné. Dialogy musel psát naprostý **idiot.** A ten srdceryvný závěr měl znamenat co? ODPAD!"
      ],
      "text/plain": [
       "<IPython.core.display.Markdown object>"
      ]
     },
     "metadata": {},
     "output_type": "display_data"
    },
    {
     "name": "stdout",
     "output_type": "stream",
     "text": [
      "\n",
      "https://www.csfd.cz/uzivatel/172466-frajer42/\n",
      "Laurel a Hardy (1965) 4\n"
     ]
    },
    {
     "data": {
      "text/markdown": [
       "Pokud má být tento paskvil vážně výběr toho nejlepšího a nejvtipnějšího od této možná kdysi komediální dvojice, tak bych se velmi bál vidět zbytek. Naprosto trapná a **debilní** scénka střídá další. Veškerý humor je zde vybudován na tom, že někdo někoho kopne/bouchne, ba dokonce se občas někdo zraní. Vážně k posrání. Totálně nechápu, který **idiot** přišel s tím nápadem, že se této, časem pohřbené, ,,zábavě\" bude hromadně pálit 5#. A to přitom nemám nic proti němým filmům. Mnoho Chaplinovek se mi dokonce líbilo. Tohle bude ovšem pouze pěknější odpádek."
      ],
      "text/plain": [
       "<IPython.core.display.Markdown object>"
      ]
     },
     "metadata": {},
     "output_type": "display_data"
    },
    {
     "name": "stdout",
     "output_type": "stream",
     "text": [
      "\n",
      "https://www.csfd.cz/uzivatel/172466-frajer42/\n",
      "https://www.csfd.cz/uzivatel/172466-frajer42/\n",
      "V moci ďábla (2005) 2\n"
     ]
    },
    {
     "data": {
      "text/markdown": [
       "Docela netradiční kombinace krimi s několika mála hororovými prvky. Těžko říct, která část je méně povedená. Přišlo mi, že tvůrcům vůbec nešlo o to, aby vyděsili diváka, ale znovu chtěli poukázat na střet víry s vědou. Ta soudní část byla příšerná. Naprosto slabé argumenty všech zúčastněných jsou ubíjející a mnohokrát se o mě pokoušel spánek. Hororová část je také o ničem. Děvče se párkrát křečovitě přetočí a párkrát zakřičí a to má být z toho děsivého asi vše. Když už jsem zavětřil nějaký náznak solidně tajemné atmosféry, tak to netrvalo ani pár minut a přešlo se do soudní síně, kde se opět nic nedělo. Vůbec mi nesedl tento styl vyprávění. Bylo to uděláno naprosto **blbě.** Ve finále film nepůsobí ani jako dobrý horor a ani jako dobré soudní drama. Za sebe tvrdím, že tohle je jeden z nejhorších filmů s vymítačskou tématikou. Ani se mi nechce věřit, že stejný režisér později vytvořil velmi solidní Sinister. Pěknější odpádek."
      ],
      "text/plain": [
       "<IPython.core.display.Markdown object>"
      ]
     },
     "metadata": {},
     "output_type": "display_data"
    },
    {
     "name": "stdout",
     "output_type": "stream",
     "text": [
      "\n",
      "https://www.csfd.cz/uzivatel/172466-frajer42/\n",
      "Sanjuro (1962) 6\n"
     ]
    },
    {
     "data": {
      "text/markdown": [
       "Tak prvních 40 minut jsem nevěděl, na kterou stranu mám odvracet zrak od televize, ale poté se to trošičku zlepšilo. Film jsem nakonec doukoukal a žádnou psychickou ujmu jsem nezaznamenal. Toširó Mifune byl fajn a dokonce nebyl vlastníkem naprosto **debilní** paruky, která mě u ostatních zúčastněných nepopsatelným způsobem vadila a chtělo se mi z ní dokonce i blít. Nakonec jsem v sobě zvratky přeci jen udržel. V noci bych nemohl oka zamhouřit, kdybych si teď nepostěžoval na samurajské „souboje\". Akira Kurosawa mě těmito souboji totálně rozesmál. Nevím, zda to šikmá japonská oči vidí jinak, ale tohle přeci nemohl myslet vážně. Něco tak **debilního** bych se styděl vypustit do světa filmu dokonce i já. S ohledem na ubíjející první čtyřiceti minutovku nemohu dát jiné hodnocení než odpad! p.s. Velmi mi vadilo těch **debilních** 9 Japonců s kriplovskými sestřihy, kteří se táhli za Toširem, jako smrad za cigánama."
      ],
      "text/plain": [
       "<IPython.core.display.Markdown object>"
      ]
     },
     "metadata": {},
     "output_type": "display_data"
    },
    {
     "name": "stdout",
     "output_type": "stream",
     "text": [
      "\n",
      "https://www.csfd.cz/uzivatel/172466-frajer42/\n",
      "Led Zeppelin – Celebration Day (koncert) (2012) 2\n"
     ]
    },
    {
     "data": {
      "text/markdown": [
       "Záznamy koncertů by měly mít samostatnou kategorii a necpat se mezi 300 nejlepších filmů. Přiznám se, že jsem se vydržel na 3 spocené dětky a tlustého bubeníka dívat asi hodinu. Druhou hodinu už jsem pouze poslouchal. Zeppelinskou tvorbu nemám rád. Líbí se mi pouze hit Stairway to Heaven. Všechno ostatní jsou totální **sračky** a udivuje mě, co na této kapele lidi vidí a slyší. Nudou jsem málem pomřel. Na jejich koncert bych se nikdy nevydal. Dávám odpad!"
      ],
      "text/plain": [
       "<IPython.core.display.Markdown object>"
      ]
     },
     "metadata": {},
     "output_type": "display_data"
    },
    {
     "name": "stdout",
     "output_type": "stream",
     "text": [
      "\n",
      "https://www.csfd.cz/uzivatel/172466-frajer42/\n",
      "Vše, co jste kdy chtěli vědět o cestování v čase (2009) 10\n"
     ]
    },
    {
     "data": {
      "text/markdown": [
       "No to tedy byla **sračka.** Prý komedie. Dovolte, abych se zasmál. Příběh byl do určité doby zajímavý. **Kretén** se jde vychcat a vrátí se do jiné doby. Fajn nápad neomezených možností, tak proč **kurva** poté následoval sled totálně nudných a **debilních** nápadů? Herecké trio bylo tvořeno totálními **kretény.** Konec filmu pohřbil i poslední náznaky koukatelnosti. Lepší odpad!"
      ],
      "text/plain": [
       "<IPython.core.display.Markdown object>"
      ]
     },
     "metadata": {},
     "output_type": "display_data"
    },
    {
     "name": "stdout",
     "output_type": "stream",
     "text": [
      "\n",
      "https://www.csfd.cz/uzivatel/172466-frajer42/\n",
      "Insidious 2 (2013) 10\n"
     ]
    },
    {
     "data": {
      "text/markdown": [
       "**Kokotům,** kteří neumí s videokamerou manipulovat by neměly být videokamery prodávány. Může totiž nastat taková situace, že si takový **kokot** půjde do kina natočit film. Bohužel si poté nekvalitně natočený film nenechá, ale dá ho k dispozici celému světu. Musím za sebe říct, že neexistuje mnoho filmů, které bych viděl v tak katastrofální podobě, jako tento snímeček. **Idiot,** který ho natáčel si sednul asi do 4. řady, takže dobrá třetina plátna nebyla vůbec vidět, a to skutečně nepřeháním. Navíc se **idiotovi** zdálo, že je toho vidět na plátně zbytečně moc, takže vesele zoomoval až na absolutní detaily, takže je většinu stopáže vidět třeba jen polovina obličeje herců a hereček. Alespoň, že s přibývající stopáží ubývalo zoomování. Takové ty detaily, kdy se **dementovi** rozostřil obraz úplně přehlížím to se stává, i když ne v takové hojnosti, i mnohem lepším kameramanům - pirátům. Teď se pozvolna přesunu k samotnému filmu. Film se mi nelíbil, protože jsem z něj pomalu nic neviděl, a to málo co jsem viděl jsem pořádně nepobral. První díl se mi moc líbil, ale absolutně nic si z něj nepamatuji. Vím pouze to, že se mi líbil. Pokud tohle mělo na první díl navazovat, tak bohužel...Způsob vyprávění mi přišel zbytečně překombinovaný a komplikovaný, což se myslím, že do něčeho, co by bylo rádo hororem prostě nepatří. Během tohoto filmu jsem se nejenom nebál, ale já se ani neleknul. Zato jsem asi v polovině usnul. Moc jsem od filmu učekával, protože u jedničky mě mrazilo v zádech. Očekávání zůstala absolutně nenaplněna. Jen nevím do jaké míry je to zásluhou kvality obrazu a zvuku. V kině se sešlo snad celé oddělení tuberáků. Třeba si film někdy střihnu v lepší kvalitě znovu. Zatím to bude odpádek."
      ],
      "text/plain": [
       "<IPython.core.display.Markdown object>"
      ]
     },
     "metadata": {},
     "output_type": "display_data"
    },
    {
     "name": "stdout",
     "output_type": "stream",
     "text": [
      "\n",
      "https://www.csfd.cz/uzivatel/172466-frajer42/\n",
      "Jako bych tam nebyla (2010) 2\n"
     ]
    },
    {
     "data": {
      "text/markdown": [
       "Odporná artová **kokotina.** Film se mi absolutně nelíbil ani esteticky a ani dějově. O příběhu je obrovská škoda mluvit, protože něco tak primitivního tu nebylo snad roky. Veškeré artovinky, kde se tvůrci snažili z hromadného pomočení hlavní hrdinky udělat vysoce estetickou záležitost, při které se nejeden človíček uslintá blahem, jsou naprosto trapné. Navíc je to všechno neskonale nudné a soundtrack je otřesný. Citově jsem nebyl políben ani z rychle projíždějícího vlaku. Jako bych tam také nebyl. Herci i herečky nestáli vůbec za nic. To musel poznat úplně každý. Jediným pozitivem byla hlavní hrdinka, která byla alespoň pěkná, když už zanedbávala hodiny, ba i celé dny herectví. Asi prvních 45 minut je film totálně o ničem. Poté se alespoň začne znásilňovat. V mých měřítkách to nestačí ani na jedinou hvězdičku. Byl jsem zaživa požírán nudou."
      ],
      "text/plain": [
       "<IPython.core.display.Markdown object>"
      ]
     },
     "metadata": {},
     "output_type": "display_data"
    },
    {
     "name": "stdout",
     "output_type": "stream",
     "text": [
      "\n",
      "https://www.csfd.cz/uzivatel/172466-frajer42/\n",
      "V pasti (2005) 20.5\n"
     ]
    },
    {
     "data": {
      "text/markdown": [
       "Já jsem ochotný se přiznat bez jakéhokoli mučení. Celou dobu jsem fandil pedofilovi. Nikam neodcházejte, hned se dozvíte proč. Jediným důvodem byla Ellen Page. **Hnusnější** mladou herečku jsem v životě neviděl. Nevím, jestli to býl scénáristův záměr, protože ve filmu se vlastně nedovíte vůbec nic, ale nikoho tak nesnesitelně **blbého** **hnusného** a otravného, koho byste neměli chuť pouze zabít, ale zabít opravdu velmi bolestivě, jsem už dlouho ve filmu nezahlédl. Bohužel, pedofil nebyl pouze pedofil, ale i totálně **retardovaný** imbecil, takže můžete hádat, jak to celé dopadlo a já se mohu pouze řádně **nasraný** uchýlit k spánku. Vše začalo hrozně mile, ale bohužel jsem v tomhle filmu poprvé poznal ten pocit, když jste ve společnosti někoho, koho bytostně nenávidíte a jehož každé slovo vás vytáčí k nepříčetnosti. A já neměl kam utéct. Samozřejmě jsem mohl film vypnout, či se mrknout na závěr, přičemž mi bylo stejně jasné, že ta malá, **hnusná** a nepříjemná **kurva** zvítězí, ale tohle já nedělám. Zaťal jsem zuby a dokoukal film do konce. Závěr byl stejně **stupidní,** jako kompletní děj. David Slade mi už potřetí ukázal, jak příšerný režisér vlastně je. Celý film ta šeredka vlastně žvatlá totální **kokotiny** a nic závratného se neděje. Kdo se má na takové **srance** koukat? ODPAD!"
      ],
      "text/plain": [
       "<IPython.core.display.Markdown object>"
      ]
     },
     "metadata": {},
     "output_type": "display_data"
    },
    {
     "name": "stdout",
     "output_type": "stream",
     "text": [
      "\n",
      "https://www.csfd.cz/uzivatel/172466-frajer42/\n",
      "Rabín Jákob (1973) 2\n"
     ]
    },
    {
     "data": {
      "text/markdown": [
       "Naprostá **kokotina.** Není to vůbec vtipné. Postavy mi dost vadily, abych to napsal slušně. Kdo filmu dá něco jiného než odpad, tak filmům vůbec nerozumí. Během sledování jsem byl dokonce v náladičce, ale film mě o ni dokonale připravil. Skoro tak špatné, jako Lakomec. Nečekal jsem od filmu příliš, ale tohle byl extrém. Jirka Krampol tomu dodal korunu."
      ],
      "text/plain": [
       "<IPython.core.display.Markdown object>"
      ]
     },
     "metadata": {},
     "output_type": "display_data"
    },
    {
     "name": "stdout",
     "output_type": "stream",
     "text": [
      "\n",
      "https://www.csfd.cz/uzivatel/172466-frajer42/\n",
      "Scrubs: Doktůrci (TV seriál) (2001) 2\n"
     ]
    },
    {
     "data": {
      "text/markdown": [
       "Viděl jsem 5 dílů a netoužím vidět více. Nejedná se o úplně **debilní** seriál, ale nemám důvod ve sledování pokračovat. Humor mi příliš nesedí. Usměju se snad 1x za 3 díly, což je po čertech málo. Hrdinové jsou především nesympatičtí, s vyjímkou primáře a sprostého doktora. Věřím, že se některým lidem může seriál pořádně líbit, ale já do této skupinky nepatřím. Seriál se tváří brutálně cool, dokonce ho cool i vysílá. Ozvučené jsou i různé otočky a celkem orginální jsou pohledy do hlavy hlavního teplého doktůrka. Ale, jak už jsem nastínil, není to úplně můj cup of tea, abych byl tedy taky cool. Odpádeček."
      ],
      "text/plain": [
       "<IPython.core.display.Markdown object>"
      ]
     },
     "metadata": {},
     "output_type": "display_data"
    },
    {
     "name": "stdout",
     "output_type": "stream",
     "text": [
      "\n",
      "https://www.csfd.cz/uzivatel/172466-frajer42/\n",
      "West Side Story (1961) 8\n"
     ]
    },
    {
     "data": {
      "text/markdown": [
       "Jako muzikál to stojí za πču, jako film je to ještě o řád horší. Nejsem muzikálový nadšenec, avšak přesto jsem viděl mraky vydařených. Tenhle mezi ně rozhodně nepatří. **Stupidní** příběh plný **stupidních** písní o **stupidní** válce dvou neskutečně **stupidních** gangů. Pokud bych si v tomhle momentě měl vzpomenout na horší muzikál, tak si vybavuji pouze Moulin Rouge. Ano, až takhle to bylo špatné. Nudil jsem se úplně celou stopáž. Jestli zazněl jeden poslouchatelný song, tak velmi přeháním. Už několikaminutový barevný opis města v samém začátku naznačoval, že se bude jednat o nestandartní hovadinu. V roce 1961 se zřejmě oscarovalo za mimofilmové aktivity a zdejší herečky byly v kouření jedničky. Nevěřím, že se film někomu líbil, když se na něm nemá líbit co."
      ],
      "text/plain": [
       "<IPython.core.display.Markdown object>"
      ]
     },
     "metadata": {},
     "output_type": "display_data"
    },
    {
     "name": "stdout",
     "output_type": "stream",
     "text": [
      "\n",
      "https://www.csfd.cz/uzivatel/172466-frajer42/\n",
      "Lovci duchů (TV seriál) (2005) 8\n"
     ]
    },
    {
     "data": {
      "text/markdown": [
       "Totálně **debilní** seriál a když píšu totálně, tak to tak i myslím. Dva nepředstavitelně **debilní** **idioti** jezdí svým fárem po státech a loví ,,duchy\". Děj je k nasrání. Postavy k posrání. Lovení duši nejsou vidět. A celková **debilita** filmu je k pochcání. Nedovedu si představit, jaká drzost vedla k tvůrce k zařazení seriálu mezi hororové. Až příliš to připomíná Akta X, když si ovšem odmyslíte veškeré napětí, zajímavost, rozmanitost tamějších dílů a dobré hlavní herce. Po třech dílech se nobojím poslat seriál tam, kde je jeho místo - do koše."
      ],
      "text/plain": [
       "<IPython.core.display.Markdown object>"
      ]
     },
     "metadata": {},
     "output_type": "display_data"
    },
    {
     "name": "stdout",
     "output_type": "stream",
     "text": [
      "\n",
      "https://www.csfd.cz/uzivatel/172466-frajer42/\n",
      "Battlestar Galactica (TV seriál) (2004) 4\n"
     ]
    },
    {
     "data": {
      "text/markdown": [
       "Nakonec jsem se uchýlil k vidění 5 dílů, neboť jsem byl neustále na vážkách, jestli tedy ano nebo ne. Většina každého dílu byla totálně o hovně, ale vždycky se našlo alespoň pár minutek, které za něco stály. Samozřejmě se jedná o seriál, takže kvůli omezenému rozpočtu se místo nějakého poutavého sci-fi setkáváme s telenovelou o mezilidských vztazích partičky nesympatických imbecilů. V podobných seriálech jsou pro mě nejpodstatnější 2 věci. Příběh a postavy. Příběh je v jádru zřejmě moc pěkný, ale je servírován po hodně malých kouscích a s pořádnou dávkou omáčky, která chutná odporně. Postavy jsou úděsné. Z celé flotily jsem si našel sympatie pouze k tomu **idiotovi,** kterého hraje Jamie Bamber, a to je vzhledem k celkovému počtu postav hrozně málo. Takže mi dovolte se omluvit fanjšmekrům, kdybych se neomluvil, tak by se určitě našli jedinci, kteří mě budou obtěžovat poštou. Zkrátka nehodlám koukat na seriál, ve kterém za něco stojí cirka 5 minut v každém dílu. Lepší odpádek. Už je to takový můj zvyk. Nemám chuť pokračovat v koukání na seriál = odpad, i když to 100% **sračka** třeba není."
      ],
      "text/plain": [
       "<IPython.core.display.Markdown object>"
      ]
     },
     "metadata": {},
     "output_type": "display_data"
    },
    {
     "name": "stdout",
     "output_type": "stream",
     "text": [
      "\n",
      "https://www.csfd.cz/uzivatel/172466-frajer42/\n",
      "Scény z manželského života (1973) 12\n"
     ]
    },
    {
     "data": {
      "text/markdown": [
       "Kdybych film viděl přibližně za 30 let, tak bych ho asi hodnotil a komentoval úplně jinak. Manželství je nesmysl, to už ví dnes asi každý a jen čekám na den, kdy bude něco tak **stupidního** oficiálně zrušeno. Film je nám servírován strašně nudnou a nepříjemnou cestou aneb kecy, prdy, mašinky. Postavy vypouštějí z úst jednu píčovinu za druhou a zřejmě si u toho připadají hrozně důležitě. Prakticky celý film jsem se neskutečně těšil na jeho konec. A vůbec, k filmu jsem před jeho zhlédnutím choval dost silné předsudky. Toulal se mi na hardisku snad něco přes 2 roky, několikrát změnil složku a jednou i samotný hardisk. Za sousedy míval skvosty světové kinematografie i laciné porno. Moc dobře jsem věděl proč zhlédnutí tak dlouho odkládám. Na něco takového jsem se musel cítit v naprosté psychické pohodě, aby existovala alespoň teoretická šance, že ten paskvil dokoukám. Zadařilo se. Film mi nabídl přesně to, co jsem od něj dlouhé roky očekával, tudíž se jedná a naprosto nekoukatelnou **sračku.** Velmi rád ho nyní přemístím do odpadkového koše i s přiloženými titulkami, přičemž netuším, zda je švédština tak **debilní** jazyk a nebo jestli je překladatel až takový **retard,** když postava 30 vteřin mluví a je to přeloženo 5 slovy. Je tu však ještě jedna věc, která mi udělá větší radost, než přemístění této **sračky** do odpadkového koše. Vysypání koše. Bergmana už zřejmě nikdy více aneb třikrát a dost."
      ],
      "text/plain": [
       "<IPython.core.display.Markdown object>"
      ]
     },
     "metadata": {},
     "output_type": "display_data"
    },
    {
     "name": "stdout",
     "output_type": "stream",
     "text": [
      "\n",
      "https://www.csfd.cz/uzivatel/172466-frajer42/\n",
      "Frasier (TV seriál) (1993) 2\n"
     ]
    },
    {
     "data": {
      "text/markdown": [
       "Kouknul jsem na první tři díly, protože mám takovou teorii, že první tři díly odhalí celkový potenciál seriálu. Seriál mě nezaujal vůbec ničím. Všechno je v něm špatně a všechno bych udělal jinak. Nezasmál jsem se ani jednou. Veškeré postavy mi příjdou krajně nesympatické a naprosto obyčejné. Zkrátka zde chybí totální **magor,** který by děj dovedl nějak oživit. Úplně nejvíc mi vadí ústřední postava poloplešárda. Dále mně hrozně lezl na nervy umělý smích, který zní v naprosto nevhodné okamžiky. Moc se omlouvám, že mi nepříjde vtipné, když třeba někdo řekne ,,ahoj\". Rozhodně nelze očekávat, že by mělo dojít k nějakému zlepšení, tudíž se sledováním končím a zanechávám zde jeden upřímný odpádek."
      ],
      "text/plain": [
       "<IPython.core.display.Markdown object>"
      ]
     },
     "metadata": {},
     "output_type": "display_data"
    },
    {
     "name": "stdout",
     "output_type": "stream",
     "text": [
      "\n",
      "https://www.csfd.cz/uzivatel/172466-frajer42/\n",
      "Sběratelé kostí (TV seriál) (2005) 6\n"
     ]
    },
    {
     "data": {
      "text/markdown": [
       "Kdykoli to vidím, přepínám. Já tyhle **dementní** kriminálky, kde jsou všichni hrozně cool a nejde ani tak o kriminalistiku, nýbrž o další trapnou sociální **sračku,** poněkud nemusím. Odpádek."
      ],
      "text/plain": [
       "<IPython.core.display.Markdown object>"
      ]
     },
     "metadata": {},
     "output_type": "display_data"
    },
    {
     "name": "stdout",
     "output_type": "stream",
     "text": [
      "\n",
      "https://www.csfd.cz/uzivatel/172466-frajer42/\n",
      "Zavěste červené lucerny (1991) 14\n"
     ]
    },
    {
     "data": {
      "text/markdown": [
       "**Píčovina** jako vrata. Takhle nudný, **debilní** a **dementní** film v jednom jsem dlouho neviděl. Těch 86 % se sem vykouzlilo jak? Děj je naprostá zhovadilost, která se nikam neposouvá a táhne se svým **hnusně** pomalým tempem jako **sraní.** Soupeření 4 z vnějšku **hnusných** konkubín a z vnitřku ještě **hnusnějších** za asistence domovníka a jedné služky. Na ostatní postavy se z vysoka kašle a jsou vidět pouze omylem. Nutno dodat, že úplně záměrně. Koho by něco takového zajímalo? Tím spíše pokud má to něco 2 hodiny. Zrovínka si nevybavuji 2 hodiny, které by v mém životě byly tolik promrhané. Totální odpad!"
      ],
      "text/plain": [
       "<IPython.core.display.Markdown object>"
      ]
     },
     "metadata": {},
     "output_type": "display_data"
    },
    {
     "name": "stdout",
     "output_type": "stream",
     "text": [
      "\n",
      "https://www.csfd.cz/uzivatel/172466-frajer42/\n",
      "Život Adèle (2013) 18.479999999999997\n"
     ]
    },
    {
     "data": {
      "text/markdown": [
       "Vzhledem k tomu, že nabral komentář takovou délku, tak jsem se rozhodl připravit i jeho kratší verzi. Tady je. Nekoukejte na to, je to **debilní** a prázdná **sračka.** Kdo se dočetl až sem a má dostatek odvahy, tak si může přečíst následující rozkouskovaný komentář. Rozkouskovaný je proto, že jsem si v 27. minutě uvědomil, že není v mých silách koukat na takovou **blbost** tři hodinky bez přerušení. Tenhle komentář bude zřejmě vypadat, jako zápisky v deníčku. Koho to rozhořčilo, nechť přestane číst. 1:34:00 Tak tohle bude teror. Normálně mám ve zvyku komentovat film až po jeho zhlédnutí, ale tady si dovolím udělat vyjímku. Mám za sebou 27 minut a musím se svěřit, že tak nezáživnou **sračku** jsem dlouho neviděl. Děsí mě představa, že má tento snímek 3 hodiny! 3 dlouhé hodiny. Dokoukat to každopádně chci, protože mám strach, že by mě ta volovina mohla strašit ve snech. Co to má do **prdele** být? Pohádka o dívce, která nemluví, několikrát denně si bezdůvodně popláče, opakuji bezdůvodně a nedávno zjistitla, že je velmi pravděpodobně lesba, což jsem věděl už před zhlédnutím. Tak už zbývá asi jen 2 a půl hodin počkat, než si konečně olížou pičulky. To bude určitě žůžo. To se jistě udělám s nimi. Tak hurá do toho a půl je hotovo. 2:30:00 Tak už jsem skoro v půlce. Já vím, jsem frajer. Tak poté co ošklivá Adélka navštívila několik teplých barů si konečně definitivně ujasnila, že jí nechutnají klobásy a tvaroh. Navíc ukázala, že není teplá jen ona, ale i dobrá polovina žabožroutů. Pár dní na to došlo konečně na tolik očekávané lízání bobrů. No, už jsem nabýval dojmu, že se se svojí modrovlasou známostí nedolížou konce. Nakonec to děvčátka zvládla. Zbývá už jen zjistit, jestli má modrovláska modrý přeliv i v dolních partiích. Škoda, že jsou dívky tak šeredné a vypadají asi na 12 let. Člověk u toho nemůže ani prohnat hada. Tedy, abych byl přesný, tak většina zdejšího hodnotitelstva svá háďátka vesele prohání. Měl jsem to lépe specifikovat. Myslel jsem samozřejmě normální člověk. Tak hurá pokračovat. Půlka by byla. Bohužel, půlky bývají obvykle dvě. A ty z filmy jsou dosti ošklivé. 3:26:00 Musel jsem si střihnout další pauzu, neboť film kráčí do větších a větších sraček. Modrovlas už si stihnul obarvit vlasy na blond. Bohužel vznikla nová otázka, zda si při té příležitosti obarvil i bobra. Otázka byla brzy zodpovězena. V tomhle snímku bobři nejsou. Poslední hodinu budu muset nějak přetrpět. Už mě nic ze snímku nezajímá. Tiše doufám, že vše dopadne špatně a já dostanu alespoň mírné zadostiučinění, že jsem té sračce věnoval tři hodinky. 4:21:00 Já jsem takový borec, že jsem to zvládl dokoukat. V poslední hodince se děvčátka pouze rozkmotřila a dokonce nedošlo ani na usmiřovací sex v hospodě, ačkoli se k němu velmi schylovalo. Jinak se nedělo vůbec nic zvláštního. Asi jako 99,95 % filmu. Na závěr se Adélka lehoulince odlesbila a stala se bezorientovanou. Děvčátka jsou ve skutečném životě jistě teplá, protože nevěřím, že lze něco takového pouze zahrát. Ale zase je nepochybně lehčí natočit lesbickou scénku, než teploušskou. Ženy jsou tomu mnohem přístupnější. Dělat, že si olizují bobry se ještě dá. Nedovedu si však představit, že by si nějaký heterák nechal hadem lechtat vývod ze střev. Co kdyby se odlepila páska a had se dotkl... Jinak nemám vůbec žádné předsudky vůči lesbám ani gayům. No, spíše proti lesbám a některým gayům. Takový ten typ, co nosí růžovoučké oblečení a mluví přihřátě moc nemusím. Jinak bych si samozřejmě moc přál mít kamarádku lesbu, protože by mě jistě neobtěžovala se sexem. Tento snímek je hrozně **debilní.** Je nepěkně stereotypní. Tři hodiny kecá o tom samém a párkrát se to polesbí. Bohužel, pod pojmemem \"to samé\" se v tomto případě skrývá jedno obrovské nic. Mě skutečně tahle **blbost** neměla co nabídnout. Adele má svůj vlastní život a svůj vlastní svět. Tak jí ho dopřejme. Ať se lesbí podle libosti. Na závěr si dovolím malé filosofické okénko, když už mě účinkující obtěžovaly se svými názory. Proč vlastně koukáme na filmy? Filmy nám mohou rozšiřovat obzory, u filmů můžeme snít, u filmů se můžeme bát, plakat, smát se a dobře bavit. Prostě nám musejí dát alespoň něco. Jinak se sledování stává bezúčelným. U této dvojité píčoviny jsem pouze čekal až skončí a očima posouval čas. Absolutní odpad! Tento komentář je tu jednak proto, že jsem si potřeboval ulevit a jednak jako upozornění pro každého, kdo snímek neviděl: !!!NEKOUKAT!!!"
      ],
      "text/plain": [
       "<IPython.core.display.Markdown object>"
      ]
     },
     "metadata": {},
     "output_type": "display_data"
    },
    {
     "name": "stdout",
     "output_type": "stream",
     "text": [
      "\n",
      "https://www.csfd.cz/uzivatel/172466-frajer42/\n",
      "Velká nádhera (2013) 10\n"
     ]
    },
    {
     "data": {
      "text/markdown": [
       "Žádná velká nádhera, nýbrž velká **blbost.** Dokonce tak velká, že se to i **blbě** popisuje. Jediné, co se mi občas zalíbilo byla hudba. Vše ostatní jako by nebylo stvořeno pro moje oči. Čekal jsem nějakou zábavu okořeněnou zajímavými filosofickými názory. Já vím jsem vůl. Od party diskutujících **debilů,** kteří měli pouze více štěstí než ostatní se nic moudrého čekat nedá. Dočkal jsem se tedy pouze obrovského množství prázdných keců, která s přibývající stopáží nabíraly na intenzitě nudnosti. A humor zůstal zřejmě v pořádné dáli. S tou komedií se tu nějaký **idiot** pořádně upsal. Jsem si jistý, že jsem z téhle **sračky** nepobral úplně vše, co se mi snažila říct, ale další zhlédnutí by mohlo být smrtelné, takže se budu raději utápět v nevědomosti. Odpad, ale opravdový! Kdo má jen trošku dobrý vkus, nechť od tohoto nesmyslu utíká rychle a daleko."
      ],
      "text/plain": [
       "<IPython.core.display.Markdown object>"
      ]
     },
     "metadata": {},
     "output_type": "display_data"
    },
    {
     "name": "stdout",
     "output_type": "stream",
     "text": [
      "\n",
      "https://www.csfd.cz/uzivatel/172466-frajer42/\n",
      "https://www.csfd.cz/uzivatel/172466-frajer42/\n",
      "Hunger Games: Vražedná pomsta (2013) 14\n"
     ]
    },
    {
     "data": {
      "text/markdown": [
       "Už vidím, jak mi zase budou někteří **kokoti** spamovat poštu. ,,Když se ti tak nelíbila jednička, tak proč ses díval na dvojku?\" Zřejmě ze zvědavosti. Vážně mě zajímalo, jaký to trhák láká do kin takové spousty diváků. Tohle pokračování je mnohem horší než jednička. Je to totální **sračka** pro malé haranty. Dlouho jsem neviděl nic tak **debilního.** Málem jsem to ani nedokoukal, protože se to nedalo. Všichni herci mi neustále kazili zážitek svojí **debilitou.** Více než hodinku se v tomhle filmu pouze kecá o strašných **sračkách.** To je absolutně nekoukatelná část. Pak se film mírně zlepší a konečně se začnou **debilní** děti zabíjet v aréně. Ono tedy ani tak moc nejde o to zabíjení. Haranti pobíhají po lese, jako šílení. Nakonec z filmu vyplyne, že je stejně všechno domluvené. Prostě se zde jednalo od tvůrců o naprostou vyjebávačku se všemi diváky. Vážně bych chtěl vidět třeba jen jednoho mozkově zdravého člověka, kterému se taková **sračka** líbila. Ani těm šikmookým bastardům se film nelíbil a neustále v kině kecali. Jestli chcete viděl totalitu, tak si přečtěte Orwellův román 1984, nebo koukněte na stejnojmený film. Tohle je výškrabek z nejhlubšího místa přeplněného septiku. Bohužel nedisponuji dostatečnou slovní zásobou sprostých slov, abych tento pytel hoven vystihl v plném rozsahu, takže jsem v tomto komentáři nekvalitu filmu pouze nastínil."
      ],
      "text/plain": [
       "<IPython.core.display.Markdown object>"
      ]
     },
     "metadata": {},
     "output_type": "display_data"
    },
    {
     "name": "stdout",
     "output_type": "stream",
     "text": [
      "\n",
      "https://www.csfd.cz/uzivatel/172466-frajer42/\n",
      "Perverzní průvodce filmem (2006) 32\n"
     ]
    },
    {
     "data": {
      "text/markdown": [
       "Slavoj Žižek je **kokot.** Dvě a půl hodiny kecá o tom samém, což by příliš nevadilo, kdyby se ovšem pod pojmem ,,to samé\" neskrývala hromádka takových nesmyslů. Tedy, abych mu úplně nekřivdil, tak občas je nějaká myšlenka hodna hlubokého zamyšlení, ale většinu stopáže opakuje to samé, co si přečetl v geniálních dílech Freuda a když náhodou přidá něco, co pochází z jeho hlavy, tak je to většinou absolutní **kokotina.** Od dokumentu jsem očekával něco naprosto jiného. Člověku, který už má ledacos nakoukáno a nekouká pouze na hollywoodské výplachy, se může zdát jaksi bezpředmětné pitvat se ve filmech, které kinematografii povznáší, nebo se to o nich alespoň povídá. Čekal jsem, že budu seznámen s dalšími filmy, které by mi rozšířily moje kinematografické obzory. Nestalo se, když nebudu počítat starší kousky, ve kterých zrovna není Chaplin a opomenu Čaroděje ze země koz, jednu Lynchovku, kterou mám vidět v plánu a jednu Kubrickovku, kterou mám v plánu též, tak mohu prohlásit, že jsem viděl vše. Dále musím dokumentu vytknout jeho příšerně nudnou a brutálně uspávací formu, kterou považuji za absolutně největší kámen úrazu celého dokumentu. Dokonce více nesnesitelnou než příšerný slovanský přízvuk Slavoje Žižeka, z kterého mi málem praskly ušní bubínky a vytekl mozek. Dále musím dodat, že Lynche naprosto nesnáším, neboť je to také **kokot.** Viděl jsem pět jeho sraček a nejlépe jsem ohodnotil Lost Highway. Lynch je naprosto mimo realitu. Tvoří filmy určené výhradně sadistům a další podobné verbeži. Bohužel, David Lynch je rozhodně Žižekův největší oblíbenec a v dokumentu dostává více prostoru, než by bylo zdrávo. Docela mě to překvapuje, protože Žižek svojí vybroušenou angličtinou říká něco ve smyslu, že filmaři točí děsné **sračky** a jejich úkolem je zakrýt to, že je film **sračkou.** Podle mého úsudku je tohle přesně Lynchův postup. Před každým filmem si jistě odskočí na houby a vytvoří absolutní **sračku,** kterou zamaskuje tak, jak málokterý jiný filmař. Nacpe do ní tři hromady metafor a dalších zbytečných **kokotin.** Poté přicházejí na scénu Žižeci a další fousatí **kokoti,** kteří obyčejně nemají na práci nic lepšího, než se v podobných filmech velmi důkladně pitvat, honit si u nich péro, nacházet v nich věci, které snad ani samotnými autory nebyly zamýšleny a zdokonalovat tak tyto filmy v očích ,,náročných diváků\", nebo nenáročných diváků, kteří si z neznámých důvodů na ,,náročné diváky\" pouze hrají. Docela by mě zajímalo, co Žižek nitrožilně přijímá, protože to zaujetí, se kterým o vybraných **sračkách** hovoří nepůsobí ani trošku přirozeně a už vůbec ne zdravě. Jsem toho názoru, že je naprosto zbytečné komplikovat filmy a dělají to pouze **kreténi.** Pokud je film **debilní,** tak v mých očích **debilním** zůstane, i když se to tvůrci pokusí sebevíce zamaskovat. Je zajímavé, že třeba takový Kubrick, jehož filmy mají hlavu, patu a dokonce i nějakou myšlenku a poselství, tvoří filmy, které jsou odvyprávěny zcela jednoduchou formou a rozumí jim každý. Troufám si říct, že je to proto, že mají co říct. A co takový Stalker od Tarkovského? Také nic přehnaně složitého k pochopení. Lynch by měl být za jeho filmy opravdu lynčován. Tady ovšem nehodnotím Lynche, nýbrž Žižekův dokument, za který by autor zasloužil lynčování také. Když je takoýá borec, který všude byl, všechno zná a všichni kolem něj jsou **kokoti,** tak by svůj dokument mohl udělat tak, aby se na něj dalo alespoň trošičku kouknout. Ale k dnešnímu dni tu svítí 83 %, takže jsem **kokotem** třeba já. Spíše jsem však toho názoru, že se zdejší celkové hodnocení každého filmu odvíjí od prvních několika mála hodnocení. Osobně to zde mám odzkoušeno. Něco mi říká, že se první zdejší hodnotitelé pitvají ve filmech moc rádi. Za sebe dávám odpad, protože mi dokument přišel absolutně nudný a plný **blbých** keců."
      ],
      "text/plain": [
       "<IPython.core.display.Markdown object>"
      ]
     },
     "metadata": {},
     "output_type": "display_data"
    },
    {
     "name": "stdout",
     "output_type": "stream",
     "text": [
      "\n",
      "https://www.csfd.cz/uzivatel/172466-frajer42/\n",
      "Doodlebug (studentský film) (1997) 8\n"
     ]
    },
    {
     "data": {
      "text/markdown": [
       "I Christopher Nolan nějak začínal. Tohle je jedním slovem hovadina, dvěma slovy absolutní hovadina a třemi slovy absolutně **zkurvená** hovadina. Někdo už to sem zkrátka napsat musel. Extrémně **debilní** mi přijde fakt, že místnost má měřítko našeho hrdiny a dvě jeho zmenšeniny a jedna zvětšenina žijí v naprosto **debilním** a nepraktickém světě. Přes tohle jsem se nepřenesl, takže veškeré skryté pointy a božská poselství s chutí ignoruji. Velké štěstí, že se Nolan z toho feťáctví později vyléčil. Jinak bychm byli ochuzeni o výbornou (zatím) trilogii s Batmanem a pokračoval by zřejmě v **sračkách** mementovského typu. Drogy jsou svině. Těžkým feťákům se snímeček zřejmě líbit bude."
      ],
      "text/plain": [
       "<IPython.core.display.Markdown object>"
      ]
     },
     "metadata": {},
     "output_type": "display_data"
    },
    {
     "name": "stdout",
     "output_type": "stream",
     "text": [
      "\n",
      "https://www.csfd.cz/uzivatel/172466-frajer42/\n",
      "O sexu (2008) 18.5\n"
     ]
    },
    {
     "data": {
      "text/markdown": [
       "Nevím, jakým způsobem myslí průměrný **retard,** ale vždy jsem si myslel, že přibližně tak jako malé dítě. Když si zkusím vybavit sebe v útlém věku, tak bych to nejspíš nepobral. Zpracování mi přijde mnohem komplikovanější, než jak to kdysi někdo vysvětlil mně, či dalším zdravím jedincům. Naprosto šílené mi přijde, že byla vůbec mentálně indisponovaným představena ta možnost, že by mohli mít dítě, pokud chtějí. Jak může někdo, kdo nedovede normálně myslet vůbec něco chtít. Takový člověk může pouze nesmět nebo muset. To je absolutní zvrácenost. Dále. Hormonální antikoncepce. Totální hovadina. Už vidím, jak si **retardátorka** vezme KAŽDÝ den tabletku. To je těžké si pamatovat, i když **retard** nejste. Já osobně bych to rozhodně řešil budíkem. Pro ženu se tedy za použitelnou variantu nabízí pouze tělísko. My muži to naštěstí, jako ostatně skoro všechno, máme mnohem jednodušší. Jedinou variantou je latexová gumička. Na to člověk jen tak nezapomene, ale **retard** by opět klidně mohl. Jinak se tu **retard** dozví plno báječných rad do života. Třeba když má chuť si zašukat, tak má zavolat do práce a lhát o nemoci. Když dostane na koupališti erekci, tak se má posadit a čumět na své nohy. Rozhodně není vhodné ukazovat na koupališti nikomu péro. Osahávat smí jen toho, kdo mu to dovolí. A konečně, nikoho by neměl znásilnit, nebo půjde do vězení. Animace je extrémně **hnusná.** Dlouho jsem nic tak **hnusného** neviděl. Jediným pozitivním bodem celého snímku shledávám doprovodný komentář Pavla Lišky, kterému by tu **retardaci** nejeden člověk uvěřil. Smutné je, že tak mluví běžně. Vlastně je to veselé a mám ho proto rád. Musím se uchýlit k odpadu. Je to zřejmě vhodné jen pro velmi úzkou skupinu **retardovaných.** Rozhodně se to nedá použít globálněji."
      ],
      "text/plain": [
       "<IPython.core.display.Markdown object>"
      ]
     },
     "metadata": {},
     "output_type": "display_data"
    },
    {
     "name": "stdout",
     "output_type": "stream",
     "text": [
      "\n",
      "https://www.csfd.cz/uzivatel/172466-frajer42/\n",
      "Gotham (TV seriál) (2014) 4\n"
     ]
    },
    {
     "data": {
      "text/markdown": [
       "Povídání o přenádherném městečku Gotham v době, kdy Batman byl ještě malý harant a čerstvý sirotek. Kriminalita teprve začíná vzkvétat a komisař Gordon proti ní bojuje, jakožto poslední nezkorumpovaný človíček v Gothamu. Nemám žádné výhrady vůči obsazení rolí, ale absolutně se nedovedu zbavit dojmu totálně nevyužitého potenciálu. Ano, viděl jsem sice pouze 3 díly, ale postrádám veškerou touhu vidět další. Jeden byl nudnější než druhý. Každý obsahoval zápletku jako **prase,** kupu stereotypu a hromady zvratků a **blbých** keců. Seriál těží pouze ze svého jména. Jedná se o velmi špatnou kriminálku zasazenou, když už nic jiného, do zajímavého prostředí. Té kriminálky je tam bohužel vážně moc a ze 40 minutové minutáže už nezbývá dostatek prostoru pro ostatní. Takoví ti gothamští super padouši, ať už budoucí, nebo ti současní se pouze občas někde mihnou. Pokud se to má do budoucna napravit, tak já hlásím, že moje trpělivost byla vyčerpána. Jediným stabilním článkem je mladý psycho tučňák, který sem tam někoho zabije. S postupem času už výhradně mimo záběr. Čekal jsem něco jiného. Hodně uživatelů tu kráčí kolem horké kaše, tak já to tedy načnu. Odpad! Takové hodnocení mám ve zvyku dávat seriálům, u kterých nehodlám pokračovat ve sledování. Velké zklamání a nuda k uzoufání."
      ],
      "text/plain": [
       "<IPython.core.display.Markdown object>"
      ]
     },
     "metadata": {},
     "output_type": "display_data"
    },
    {
     "name": "stdout",
     "output_type": "stream",
     "text": [
      "\n",
      "https://www.csfd.cz/uzivatel/172466-frajer42/\n",
      "Coherence (2013) 14\n"
     ]
    },
    {
     "data": {
      "text/markdown": [
       "Zřejmě tu nic pozitivního nevymyslím. Tento film je nadpozemská **sračka.** To se vám takhle jednoho večera sejde u večeře hromada ochotnických herců. Show začíná. Respektive show v žádném případě. Pouze nekonečné žvanění o naprostých hovnech. Velký zvrat filmu! Člověk v koutu duše doufá, že teď to bude zajímavější. Venku právě prolétává kometa a kdykoli zhasnou světla, tak se členové večeře náhodně promíchají se stejnými členy stejné večeře, ovšem jiného vesmíru, na což i přes pokročilé **stádium** **debilismu** asi 15 minut před koncem příjdou. V jiném vesmíru jsou to **retardi** úplně stejní, takže se po této stránce pro diváka nezmění k lepšímu vůbec nic a nuda nevesele pokračuje. Čekal jsem nějaké příjemné sci-fi o cestování v čase a dostal jsem pouze to cestování v čase. V absolutně **debilním** a silně amatérském kabátě. Zahrané skupinkou nudných a nesympatických **debilů.** Kameraman má na rukou zřejmě karpály, protože neudrží ani 30 **sekund** kameru v normální poloze. Většinu stopáže tedy vidíte například detailní záběr kousku stolu, či polovinu dveří. Z mého pohledu se jedná o naprosto nesledovatelný blábol. Absolutní odpad!"
      ],
      "text/plain": [
       "<IPython.core.display.Markdown object>"
      ]
     },
     "metadata": {},
     "output_type": "display_data"
    },
    {
     "name": "stdout",
     "output_type": "stream",
     "text": [
      "\n",
      "https://www.csfd.cz/uzivatel/172466-frajer42/\n",
      "Sesterská láska (1994) 2\n"
     ]
    },
    {
     "data": {
      "text/markdown": [
       "Velmi silně depresivní snímek, pojednávající o nekonečné lásce mezi dvěma sestrami, která přerostla až v intimní vztah. Když si představím, že bych měl v podobné době existovat, tak to není pomyšlení vůbec pěkné. Život všech ze 4 hlavních aktérek musel být neuvěřitelně nudný, nesmyslný a zbytečný. Není tedy divu, že všechny 4 byly zralé na umístění do peřin nějakého příjemného ústavu pro duševně choré. Jediné, čím obyvatel toho odporného domu mohl bavit byl sex, hra na piano a šití. Přičemž poslední dvě zmíněné činnosti dlouhodobě nemohou bavit zřejmě nikoho, takže je můžeme vyškrtnout. Obě děvčátka jsou v letech, kdy je jejich sexuální aktivita na maximu, takže spolu velmi často kopulovávaly. Jak taky tu trošku volného času trávit v takových podmínkách jinak?! Ze všeho nejvíc mě deprimovalo celkové hrozně pomalé plynutí celého snímku. Za 86 minut se nestihlo stát skoro nic. První polovinu se nestalo vůbec nic a tu druhou na sebe děvčátka dělala nadržené pohledy a sem tam došlo i na incestní lesbení. Ono by se nic nestihlo stát, ani kdyby měl snímek o 3 hodiny víc, protože v tomhle domě se nemělo stát co. Já se tedy musím přiznat, že valnou část stopáže jsem pociťoval extrémně silnou a hrozně nepříjemnou nudu. Konec snímku jsem velmi intenzivně popoháněl kupředu. Ten jediný je jako závan svěžího větru, protože konečně dojde na vytoužené finále, kdy pohár potlačované **nasranosti** psychicky labilní dívky se zcela naplní. Snímek na mě nezapůsobil nijak. Celou stopáž jsem byl absolutně chladný a k osudu dívek maximálně lhostejný. Jsem přesvědčen, že snímek mnohem více osloví něžnou a citlivou ženskou dušičku. S pánů si přijdou na své maximálně 4 % populace, mezi která jsem se nevešel. Nemohu si pomoci a musím sáhnout po hodnocení zcela nejnižším."
      ],
      "text/plain": [
       "<IPython.core.display.Markdown object>"
      ]
     },
     "metadata": {},
     "output_type": "display_data"
    },
    {
     "name": "stdout",
     "output_type": "stream",
     "text": [
      "\n",
      "https://www.csfd.cz/uzivatel/172466-frajer42/\n",
      "Ticho nad oblakmi (2009) 4\n"
     ]
    },
    {
     "data": {
      "text/markdown": [
       "Oblak, lidově též mrak nebo mračno (1. p. množného čísla a 4. p. oblaky i oblaka, 2. p. oblaků i oblak), je viditelná soustava malých částic vody nebo ledu (případně jiných látek) v atmosféře Země nebo jiných planet. Oblaky vznikají tehdy, když se vlhkost vzduchu zkondenzuje na kapky nebo ledové krystalky. Výška, ve které se děj odehrává, bývá různá a hranice, za kterou se voda v plynném skupenství mění na kapalinu se nazývá rosný bod. Závisí na stabilitě vzduchu a množství přítomné vlhkosti. Průměrná oblaková kapka nebo ledový krystalek má v průměru přibližně 0,01 mm. Studená oblaka tvořící se ve velkých výškách obsahují pouze ledové krystalky, nižší, teplejší oblaka obsahují pouze vodní kapky. (Okopírováno z wikipedie) ← V tomhle pokusu o dokument přesně tohle vidíte. Neuvěřitelných 65 minut **hnusných** záběrů mraků. Bohužel, název pseudo dokumentu je trošku zavádějící, neboť místo toho slibovaného ticha slyšíte příšernou meditační hudbu. Znovu zdůrazňuji, že příšernou. K záběrům ani trošku nesedí. Vážně mi uniká, jak v sobě někdo může najít tu drzost něco takového vypustit do světa. Vydržel jsem to sledovat asi 15 minut, po kterých mi došlo, že dokoukat tento nesmysl do konce je absolutně nepřínosné. Zbytek jsem tedy jen tak rychle prolétl. Jedná se o třetí snímek, který jsem nezvládl dokoukat. Vzhledem k počtu filmů, které jsem viděl to není tak zlé. Pokud netrpíte nějakou těžkou **retardací,** tak zhlédnutí vynechejte. Tohle mělo mít, když to extrémně přeženu, maximálně 15 minut. 65 minut je absolutní zhovadilost. Mohu hrdě prohlásit, že film podobné nekvality bych za jedno odpoledne zvládl vytvořit taky."
      ],
      "text/plain": [
       "<IPython.core.display.Markdown object>"
      ]
     },
     "metadata": {},
     "output_type": "display_data"
    },
    {
     "name": "stdout",
     "output_type": "stream",
     "text": [
      "\n",
      "https://www.csfd.cz/uzivatel/172466-frajer42/\n",
      "Awakening (2010) 2\n"
     ]
    },
    {
     "data": {
      "text/markdown": [
       "V podstatě tohle všechno a mnohem víc nastínila série dokumentů Zeitgeist. Opakování je matka moudrosti, ale ve společnosti zdejšího uspávače hadů a vůbec všeho živého mi to vůbec nesedlo a potenciál kohokoli oslovit je téměř nulový. Každý kdo viděl některý z dokumentů Zeitgeist a kouká na svět kolem sebe trošku obezřetněji, tak tomu tohle 32 minutové, až se mi chce napsat, amatérské video nemá naprosto co říct. Takhle se prostě videa, která mají touhu někomu změnit pohled na svět, či promluvit do duše, nedělají. Forma je opravdu **hnusná.** Mělo by to být mnohem údernější. 32 minut povídání stejným tónem hlasu doplněných o pár obrázků, přičemž není ani nastíněno žádné řešení problému a jsou k dispozici pouze dva odkazy, kde ho lze najít. Z mého pohledu se jedná o naprosto zbytečný počin a budu muset svým odpadem trošku rozházet současných nepochopitelných 93 %. Vidím tu spíše kontraproduktivní efekt. Noví potenciální bojovníci za lepší svět budou převážně odrazeni."
      ],
      "text/plain": [
       "<IPython.core.display.Markdown object>"
      ]
     },
     "metadata": {},
     "output_type": "display_data"
    },
    {
     "name": "stdout",
     "output_type": "stream",
     "text": [
      "\n",
      "https://www.csfd.cz/uzivatel/172466-frajer42/\n",
      "https://www.csfd.cz/uzivatel/172466-frajer42/\n",
      "https://www.csfd.cz/uzivatel/172466-frajer42/\n",
      "Dvanáct (2007) 6\n"
     ]
    },
    {
     "data": {
      "text/markdown": [
       "Tak ani nevím, kde začít. Každopádně tak hrozně zprzněnou klasiku jsem snad ještě nikdy neviděl. Nikita Michalkov, aby neopisoval, protože to Rus od Američana nemůže, tak si svůj příběh zasadil do své krajiny. Čímž to celé **zkurvil.** Na film se absolutně nedalo koukat a na méně než 4 fáze bych ho zhlédnout nedovedl. Působilo to na mě, jako kdyby to náš milý Nikita schválně natočil tak kurevsky špatně. 11 krajně nesympatických lidí bez špetky charizma a Nikita sedí kolem stolu v **debilní** tělocvičně a rozhodují o osudu čečenskécho hošíka. Já vám nevím, ale kdyby můj osud visel na vlásku, tak bych o něm velmi nerad nechal rozhodnout 12 totálně vygumovaných a vychlastaných hlav. Takže co všechno mi vadilo? Asi by bylo mnohem jednodušší vyjmenovat, co mi nevadilo, což ostatně mohu udělat okamžitě. Hotovo. Na snímku není vážně pěkné zhola nic. Strašně mi vadily záběry na chlapcův pobyt v cele a jeho **debilní** tanečky, či co to mělo sakra být. Působilo to hrozně rušivě. Dále byly totálně zbytečné veškeré flashbacky, které neřekly zhola nic. Také bych odstranil všechny zbytečné πčoviny, které ctění páni porotci během porady dělali a které totálně nesouvisely vůbec s ničím. Film mohl být o celou hodinu extrémních sraček kratší, a to absolutně nepřeháním. Místo smysluplných argumentů přišel mnohokrát 20 minutový dramatický příběh ze života, který totálně nesouvisel s případem a na jehož základě 1 až 3 porotci změnili své rozhodnutí. No to snad ne! Stálo mě spousty sil a přemáhání zvládnout to dosledovat do konce. Tohle jsem od člověka, který má na svědomí tak vydařený film jako Unaveni Sluncem opravdu nečekal. Jsem moc rád, že si pro tenhle obrovský paskvil zvolil alespoň odlišné jméno. Jinak bych to chápal jako obrovskou a naprosto úmyslnou sprostou urážku klasiky. Dlouho mě žádný film neurazil. Až mám skoro chuť za to ten odpad nedat. Absolutně nerozumím mentální způsobilosti všech, kteří hodnotí jinak než já."
      ],
      "text/plain": [
       "<IPython.core.display.Markdown object>"
      ]
     },
     "metadata": {},
     "output_type": "display_data"
    },
    {
     "name": "stdout",
     "output_type": "stream",
     "text": [
      "\n",
      "https://www.csfd.cz/uzivatel/172466-frajer42/\n",
      "https://www.csfd.cz/uzivatel/172466-frajer42/\n",
      "22 Jump Street (2014) 2\n"
     ]
    },
    {
     "data": {
      "text/markdown": [
       "Tak zatímco předchozí Jump Street byl plný nezapomenutelných momentů, tak tahle vysokoškolsá taškařice není vůbec taškařicí. Za celý snímek jsem se nezasmál ani jednou. Nepřišlo mi to absolutně vtipné. Spíše to na mě působilo, jako by film parodoval sám sebe. **Blbý** příběh by člověk bez problémů oželil, neboť o ten tu nejde skoro vůbec. Celý film je o upevňování homovztahu dvou hlavních homohrdinů. Očekával jsem vážně hodně a nedostalo se mi vůbec ničeho, takže trošku s hodnocením přitvrdím. Hodně lidí zde opěvuje závěrečné titulky, které mi taky nepřišly ani trošičku vtipné. Ztráta času. Víc v tomhe snímku nevidím. Lepší odpad!"
      ],
      "text/plain": [
       "<IPython.core.display.Markdown object>"
      ]
     },
     "metadata": {},
     "output_type": "display_data"
    },
    {
     "name": "stdout",
     "output_type": "stream",
     "text": [
      "\n",
      "https://www.csfd.cz/uzivatel/172466-frajer42/\n",
      "Sedím na konári a je mi dobre (1989) 2\n"
     ]
    },
    {
     "data": {
      "text/markdown": [
       "Myslím si, že je třeba danou dobu zažít, aby se mi snímek mohl alespoň trošičku líbit. Já, naštěstí, v dané době nebyl ještě ani v plánu, a to zdaleka ne. Bolka Polívku mám jako herce neskutečně rád. V tomhle snímku mi ale nepopsatelně vadil. Film mi vůbec nesedl. Měl takovou prazvláštní atmosféru, jako kdyby byl pan režisér během natáčení poprvé na hříbkách, nevzal si s sebou houbového průvodce a jen odhadoval, jak hříbek vypadá. Úplně mi tam neseděl ani zvuk. Přišlo mi to, jako by se dodával později, ale to může být pouze můj prazvláštní pocit. Příběh je hrozně zmatený. Dvě hrozně nesympatické postavy, jako by bez cíle pajdají světem. Tenhle film bych nedoporučil vidět ani svému potenciálnímu nepříteli. Šílené, nudné a celkově neuvěřitelně **debilní.** Jestli tohle bylo vážně cílem, tak potom je pan Jakubisko opravdu genius."
      ],
      "text/plain": [
       "<IPython.core.display.Markdown object>"
      ]
     },
     "metadata": {},
     "output_type": "display_data"
    },
    {
     "name": "stdout",
     "output_type": "stream",
     "text": [
      "\n",
      "https://www.csfd.cz/uzivatel/172466-frajer42/\n",
      "MUDr. Munnabhai (2003) 2\n"
     ]
    },
    {
     "data": {
      "text/markdown": [
       "Motorem ke zhlédnutí tohoto snímku bylo to, že mě pan režisér zcela sestřelil s jeho Třemi **idioty.** Musel jsem si tedy ověřit, zda máme tu čest s geniálním režisérem, nebo jsme svědci obrovské náhody. Byla to náhoda. Tento snímeček mě nebavil prakticky vůbec. Nejvíce mi nesedla hrozně přestřelená stopáž. Prasád byl hrozně nesympatická postava. A všeho všudy se absolutně nic závratného celý snímek neděje. Přitom po přečtení obsahu je jistě nejeden člověk v očekávání, že by něco vtipného přijít mohlo. Nudu střídá nuda a sem tam se režisér vytasí s malou hromádkou sentimentu. Vážně není o co stát. Takhle tedy ne. Budu muset na scénu s odpadem."
      ],
      "text/plain": [
       "<IPython.core.display.Markdown object>"
      ]
     },
     "metadata": {},
     "output_type": "display_data"
    },
    {
     "name": "stdout",
     "output_type": "stream",
     "text": [
      "\n",
      "https://www.csfd.cz/uzivatel/172466-frajer42/\n",
      "https://www.csfd.cz/uzivatel/172466-frajer42/\n",
      "Soudce (2014) 4\n"
     ]
    },
    {
     "data": {
      "text/markdown": [
       "Režisér David Dobkin a oba autoři scénářů by se měli na své řemeslo vysrat a jít dělat něco, v čem jim bylo naděleno více talentu. Dobkin a Dubuque jsou nevyvratitelní **kokotové,** ale u Nicka Schenka se cítím mírně překvapen, neboť má na svědomí úžasné Gran Torino, které evidentně někdo opsal, protože nemá na svědomí nic dalšího - povedeného. Celý tento paskvil se motá okolo vztahu otce a syna. Otec je dobrosrdečný borec - soudce. Syn je úspěšný právník - **hajzl,** které ze všeho nejvíc touží po otcově uznání. Všechny ostatní postavy jsou jednoznačně navíc, film ruší a dělají ho ještě méně snesitelnějším. Schválně si mimo hru tipněte, jestli se Iron Manovi nakonec uznání dostane. Ano, máte pravdu. Stejný koncept už tu byl minimálně tisíckrát a ve většině případů snad i za něco stál. Tohle je více než 2 hodinová reklama na nudu a uspávání diváků, která za něco stojí opravdu jen kratičkými místy. Absolutně se snímku nepodařilo jakkoli mě vtáhnout do děje. Je to neuvěřitelně povrchní a tuctová hovadina. V podstatě nemám co pochválit. Z mé strany čistý odpad, který nikdy neměl spatřit světlo filmového světa."
      ],
      "text/plain": [
       "<IPython.core.display.Markdown object>"
      ]
     },
     "metadata": {},
     "output_type": "display_data"
    },
    {
     "name": "stdout",
     "output_type": "stream",
     "text": [
      "\n",
      "https://www.csfd.cz/uzivatel/172466-frajer42/\n",
      "Temný případ (TV seriál) (2014) 10.5\n"
     ]
    },
    {
     "data": {
      "text/markdown": [
       "Ve vrcholném **stádiu** trpění jsem přežil celé dva díly, které se rovnaly cirka dvěma hodinám sledování. Za tu dobu už člověk zřejmě dokáže odhadnout, jakým směrem se seriál bude vyvíjet a má-li smysl v jeho sledování pokračovat. Já osobně mohu napsat chválu pouze úvodnímu soundtracku. Vše ostatní je z mého pohledu absolutně špatné. Nejvíce ze všeho mě sralo, že seriál plyne hrozně pomalu. Divák je v neustálém očekávání, že zkrátka zákonitě musí přijít nějaký zvrat a věci se dají konečně do pohybu. Nevím, jak je tomu v pozdější fázi seriálu, ale úvodní dva díly nenabízejí absolutně nic. Dva detektivové stále povídají o svém bídném životě s několika stovkami existenčních hovadinových odboček, které absolutně nesouvisí s případem a jsou totálně nudné. Jsou to tak enormní borci, že za dva díly najdou neuvěřitelné dva důkazy, jako **prase.** Zapletené větvičky a obrázek na zdi kostela. No, WOW. Jestli to takhle půjde dále, tak vrah bude objeven nejdříve v závěru sedmdesáté série a já v sobě bohužel nemám tolik divácké výdrže. Je pro mě opravdu nevyřešitelnou záhadou, kde se tu vůbec vzala červená čísla. Nikdo zřejmě nechce být za toho prvního **kreténa,** který bez bázně a hany označí tento film adekvátními slovy. Já se toho s hrdostí ujmu. Je to **debilní** πčovina. Pokud nechcete nudou spáchat sebevraždu, tak se téhle bezvýznamné **kokotině** vyhněte."
      ],
      "text/plain": [
       "<IPython.core.display.Markdown object>"
      ]
     },
     "metadata": {},
     "output_type": "display_data"
    },
    {
     "name": "stdout",
     "output_type": "stream",
     "text": [
      "\n",
      "https://www.csfd.cz/uzivatel/172466-frajer42/\n",
      "WWE Royal Rumble (TV pořad) (2013) 2\n"
     ]
    },
    {
     "data": {
      "text/markdown": [
       "Závěrečná předstíraná rubačka stojí za extrémně tekuté a prudce zapáchající **hovno** a pro vše co jí předcházelo a následovalo není v žádném světovém jazyce dostatek sprostých slov. Tudíž se o žádný smysluplný komentář nebudu ani pokoušet. A hádejte, kdo vyhrál? Ano, on. Honzík Cena je mi velmi sympatický, ale tohle už je nepěkně trapné."
      ],
      "text/plain": [
       "<IPython.core.display.Markdown object>"
      ]
     },
     "metadata": {},
     "output_type": "display_data"
    },
    {
     "name": "stdout",
     "output_type": "stream",
     "text": [
      "\n",
      "https://www.csfd.cz/uzivatel/172466-frajer42/\n",
      "WWE Royal Rumble (TV pořad) (2011) 12\n"
     ]
    },
    {
     "data": {
      "text/markdown": [
       "No, co k tomu napsat. Klikal jsem tak dlouho, než se začalo vyhazovat. A kdybych klikal i dále, tak by se vlastně vůbec nic nestalo. Do ringu přicházel jeden **retard** za druhým. Ze 40 zúčastněných jsem slyšel asi tak o necelé desítce. Takže tu nostalgie rozhodně nepropukla. Zbytek byl **kokot** vedle **kokota,** přičemž každý z **kokotů** pobyl v ringu asi 30 vteřin, protože ten punk rocker, tlusťoch a další dva chcípáci vytvořili ďábelskou čtyřku a každého nově příchozího okamžitě poslali si opět odpočinout. Tedy do doby, než přišla mega star Honzík Cena, který k pravému, upřímnému a obrovskému překvapení všech 300 miliónů Američanů a mě celou čtyřku z ringu vyhostil a to jen proto, (ani neohlásím spiler, protože na tu **sračku** vlastně stejně nikdo koukat nebude), aby nakonec podvodem vypadl. Proč podvodem, protože ve vesmíru neexistuje nikdo kdo by Jendu Cenu vyřadil férově. Co vám mám povídat... Vyhrál to šašek ve zlatých slipech. Ztráta času."
      ],
      "text/plain": [
       "<IPython.core.display.Markdown object>"
      ]
     },
     "metadata": {},
     "output_type": "display_data"
    },
    {
     "name": "stdout",
     "output_type": "stream",
     "text": [
      "\n",
      "https://www.csfd.cz/uzivatel/172466-frajer42/\n",
      "Valmont (1989) 4\n"
     ]
    },
    {
     "data": {
      "text/markdown": [
       "Zvažoval jsem Miloškovo čestné zařazení mezi své úžasné oblíbence a tímto snímkem se to právě mělo rozhodnout. Film účel splnil. Skutečně se rozhodlo. Bohužel v Mildův neprospěch. Dvouhodinová reklama na nudu. Přehlídka nehezkých dobových kostýmu a celkem krásných interiérů, která byla obalena pořádnou rouškou nudy. Postavy byly krajně nezajímavé, a to včetně těch hlavních. Colin mi do dané role nepasoval a s dlouhými vlasy vypadal jako žalud. Děj tohoto paskvilu bylo čiré utrpení. I novější bráška se v mých krásných očích jevil jako totální **hnus.** V koutku duše jsem ale opravdu doufal, že se s daným materiálem Miloš zvládne poprat podstatně lépe. Navíc s úžasňoučkým Colinem Firthem v zádech. Ze samotného plakátu jsem úplně **zhnusen.** Až po skončení snímku a na následné upozornění jsem si všiml, jakou zvrácenou perverznost vlastně zobrazuje. Zobrazovat obnažený zadek, v té době, 15leté dívky, musel být v dané době pořádný šok. Tím spíše představa, co s tímto zadkem Colin následně prováděl a zda vůbec zvolil správnou \"cestu\", jestli mi rozumíte. Každopádně na to šel pěkně zhurta. Bylo hotovo, než by člověk řekl \"tri, dva, jedna, teraz\". Nefalšované zklamání a zřejmě dosud nejhorší Formanův film. Nerozumím poměrně častému nadšení. Slušný vizuál záporného obsahu."
      ],
      "text/plain": [
       "<IPython.core.display.Markdown object>"
      ]
     },
     "metadata": {},
     "output_type": "display_data"
    },
    {
     "name": "stdout",
     "output_type": "stream",
     "text": [
      "\n",
      "https://www.csfd.cz/uzivatel/172466-frajer42/\n",
      "Ip Man 3 (2015) 10\n"
     ]
    },
    {
     "data": {
      "text/markdown": [
       "Všechno špatně. Když zapátrám v paměti a vzpomenu si, jak úžasný první Ip Man byl, tak je mi skoro až do pláče, v jakou neskutečnou **sračku** se zvrhl. Příběh je opravdu těžce **debilní** a koukatelné zůstávají výhradně solidní choreografie soubojů, kterých je tu brutálně moc, ale vzhledem k tomu, že příběh byl evidentně psán rukou těžce lobotomizovaného **retarda,** tak to všechno všecičko vyznívá to ztracena. Skoro z každého záběru je cítit, jak hrozně to tvůrci tlačili na nějaký ten 3D efekt. Kdybych to býval tušil, počkal bych si na pořádnou 3D verzi. Takhle jsem pro spousty záběrů nenašel pochopení. O nejvtipnější, respektive jediné vtipné pasáže, se staral ten potetovaný, dnes již obtloustlý, negřík, který jediný dovedl, v celé historii Ip Manova dobrodružství, nakopat mistrovi, pro kterého obvykle 69 nepřátel v jednom okamžiku nepředstavuje problém, jeho čínskou sedinku. Kdyby tomu tak nebylo, jeho ego by mu nedovolilo se této taškařice zúčastnit. Kromě Majkího je k vidění ještě jeden tradiční bažant, který se domnívá, že jeho Kung-fu je to nejlepší pod sluncem, takže dojde k tradičnímu srovnání sil. Aby se zahrálo i na sentiment, tak nechybí nějaká ta rakovinka. Konec této taškařice byl vrcholný **kokotismus.** Brutální zklamání, které je třeba náležitě ohvězdičkovat a varovat svět před utrpením, kterého se mi dostalo v míře obrovské!"
      ],
      "text/plain": [
       "<IPython.core.display.Markdown object>"
      ]
     },
     "metadata": {},
     "output_type": "display_data"
    },
    {
     "name": "stdout",
     "output_type": "stream",
     "text": [
      "\n",
      "https://www.csfd.cz/uzivatel/172466-frajer42/\n",
      "Dravci (1999) 4\n"
     ]
    },
    {
     "data": {
      "text/markdown": [
       "Za nějaké to zatoulané pěkné slůvko stojí velmi pěkný soundtrack a úvodní Nietzscheho moudro. Zbytek je od první minutky do poslední obrovskou hromadou hoven. Kdybych se chtěl zachovat šovinisticky, tak bych napsal něco v tom stylu, že mě ani moc nepřekvapuje, že má tento kousek na svědomí žena. Opravdu delikátní a nadpozemská **sračka.** Tento pokus o film připomíná situaci, kdy se člověk nejde celý den vysrat a navečer to ze sebe vyžene vše najednou. Není to děsivé, není to vtipné a už vůbec to není ani za mák zajímavé. Vážně netuším, proč takový paskvil překročil práh střižny. Až na 3. pokus jsem film dotáhl do zdárného konce, a to má jen 97 minut. Hrozná **píčovina,** dokonce taková, že na sebe snad nemohla ani vydělat. Snímek je vhodný snad výhradně pro TV nova, a to kolem 4 až 5 ranní, kdy většina populace spí."
      ],
      "text/plain": [
       "<IPython.core.display.Markdown object>"
      ]
     },
     "metadata": {},
     "output_type": "display_data"
    },
    {
     "name": "stdout",
     "output_type": "stream",
     "text": [
      "\n",
      "https://www.csfd.cz/uzivatel/172466-frajer42/\n",
      "https://www.csfd.cz/uzivatel/172466-frajer42/\n",
      "https://www.csfd.cz/uzivatel/172466-frajer42/\n",
      "https://www.csfd.cz/uzivatel/172466-frajer42/\n",
      "Andaluský pes (1929) 6\n"
     ]
    },
    {
     "data": {
      "text/markdown": [
       "Těžko vědomím hodnotit snímek, který by měl bydlet ve vašem podvědomí. Přiznám se, že mi sled náhodných myšlenek a obrazů nedával ani nejmenší smysl. Zaregistroval jsem snad to, že se točí kolem partnerského vztahu. Na ostatních detailech, jako by snad ani nezáleželo. Dokonce nemám ani nejmenší tušení proč se snímek jmenuje Andaluský pes, když s ničím takovým ani ve skrytu duše nesouvisí. Zřejmě právě z toho důvodu, aby název s dějem co nejméně souvisel. Horko těžko hledat \"něco\" v něčem, kde úmyslně vůbec nic není. Dost mi to připomíná Lynchovu tvorbu a to není vůbec dobré znamení. Snad s tím rozdílem, že Davídek je lékařsky uznaným **retardem,** minimálně v mých očích, kdežto tomuhle se vznešeně říká Surrealismus a je to hrozně cool. Surrealismus patří na malířské plátno, kde vám může posloužit jako fešná výzdoba nejedné místnůstky. Nic proti tomu, ale nepovažuji za umění seškrabat pár gramů omítky, střelit si to do žíly, usnout, nechat si zdát šílené sny a ráno stvořit něco takového. Na tomto počinu je dobrá jen hudba. Dokonce nemohu napsat ani to, že mě snímek nudil. Během sledování jsem neměl vůbec žádné pocity. Nasadil jsem konstantní \"co se to **kurva** děje\" výraz a ten mě do poslední minutky neopustil. Kdo si čas od času zamasturbuje u některého z Lynchova \"\"skvostů\"\" (kdo by nerozuměl tomuto symbolu, tak jsou to dvojité uvozovky a jsou zde proto, protože obyčejné by v tomhle případě prostě byly těžce nedostatečné), ten zřejmě stihne dospět k orgasmu i během 16 minut ve společnosti tohoto velkofilmu. Já neměl ani erekci a nestydím se za to. Tohle je zkrátka 16 minut ničeho. Což je záležitost nehodnotitelná. Já však zatím ohodnotil vše a rád bych v tomhle nastoleném trendu pokračoval. Takže se pokusím svým hodnocením ke skutečné kvalitě snímku alespoň co nejvíce přiblížit. Nabízí se tedy pouze odpad. Když k tomu přidám fakt, že mi tento snímek připomněl, toho výše zmíněného, **kokota** Lynche, se kterým už jsem nechtěl mít nikdy nic společného, tak je odpad potvrzen. Viděno v rámci Filmové výzvy. Film jsem dostal od uživatele ytheri."
      ],
      "text/plain": [
       "<IPython.core.display.Markdown object>"
      ]
     },
     "metadata": {},
     "output_type": "display_data"
    },
    {
     "name": "stdout",
     "output_type": "stream",
     "text": [
      "\n",
      "https://www.csfd.cz/uzivatel/172466-frajer42/\n",
      "Honba za diamantem (1984) 2\n"
     ]
    },
    {
     "data": {
      "text/markdown": [
       "Zemeckis, Silvestri, Dougles. Tolik slavných jmen a mnou milovaných tvůrců a takhle **debilní** film?! To jako vážně?! Tak je mi jasné, že i takový borec jako je Robert Zemeckis musel na nějaké sračce začít, vyzkoušet si, jak už nikdy žádný film nedělat a čeho se rozhodně do budoucna vyvarovat. Soudě dle pozdějších snímků se mu to podařilo. Kdyby páska s tímto paskvilem kdysi někomu, samozřejmě omylem, spadla do kamen, tak by svět absolutně o nic nepřišel. Z mého pohledu se jedná o hrubě nezáživný film. Příběh je totální tuctovka, který snad mohla oslovit v roce 1984 děti do 12 let. Nikoho jiného. K těm zdejším 78 % musela snímek vystřelit pouze pravá nostalgie, protože rozhodně nevěřím, že by taková ptákovina mohla oslovit někoho ze současníků. Kdyby s podobnou píčovinou někdo vyrukoval nyní, tak nejenom, že by jako tvůrce skončil, ale velmi pravděpodobně by mu pomohl ze světa nějaký filmový nadšenec, který by nestrpěl takové prznění kinematografie. Slovo \"nuda\" vystihuje veškeré moje pocity, které mi snímek zprostředkoval. Odpad! Viděno v rámci Filmové výzvy. Film jsem dostal od uživatele fimler."
      ],
      "text/plain": [
       "<IPython.core.display.Markdown object>"
      ]
     },
     "metadata": {},
     "output_type": "display_data"
    },
    {
     "name": "stdout",
     "output_type": "stream",
     "text": [
      "\n",
      "https://www.csfd.cz/uzivatel/172466-frajer42/\n",
      "https://www.csfd.cz/uzivatel/172466-frajer42/\n",
      "https://www.csfd.cz/uzivatel/172466-frajer42/\n",
      "https://www.csfd.cz/uzivatel/172466-frajer42/\n",
      "https://www.csfd.cz/uzivatel/172466-frajer42/\n",
      "https://www.csfd.cz/uzivatel/172466-frajer42/\n",
      "https://www.csfd.cz/uzivatel/172466-frajer42/\n",
      "Zamilovaný duch (2005) 4\n"
     ]
    },
    {
     "data": {
      "text/markdown": [
       "Já se mám vážně skvěle. Snímky rozhodně nesleduji v nějaké náladě, ve které bych měl sklony k tomu, že bych nedovedl docenit jejich nezpochybnitelnou úžasnost. K Indii mám také veskrze pozitivní vztah. Když se řekne Indie, tak si představím spoustu Indů koupajících se ve vlastních i nevlastních fekálií, které řece Ganze denně odevzdávají a ona je na oplátku oblažuje blahodárnými účinky. Ti odvážnější z této vody vaří a ti úplně největší frajeři z dané řeky dokonce pijí. Frajer se tam pozná snadno. Obvykle umírá o pár desítek let dříve než ti bohatší, kteří si mohou dovolit život na vysoké noze a třeba i účast v nějakém špičkovém indickém filmu. Filmu, jako jsou například 3 **Idiots.** Ten film mi vyvstane na mysl kdykoli si Indii vybavím. Naprosto luxusní záležitost. Tohle bohužel úžasný film nebyl, i když se dá najít s dříve zmíněným filmem pár společných znaků, které jsou pro indické filmy typické: nekonečná barevnost, potoky slz, spousta hudby a spousta nevhodně načasovaných tanečních čísel. Bohužel, narozdíl od dříve zmíněného snímku, tento disponoval krajně otravným pohádkovým dějem o zamilovaném duchovi, který se umí proměnit v ptáka, ve veverku, a dokonce si zvládne vykouzlit velblouda. Místo toho, aby si vykouzlil vlastní slečnu, kterou by měl jen pro sebe. Tak vleze do zelí strašně sympatickému pánovi, který odjel na služební cestu vydělávat penízky. Duch pána zastoupí i na manželském loži a zajistí, pevně věřím, paní panně neposkvrněné početí. Duši bývají samozřejmě nesmrtelní, takže jakmile paní zemře, tak si pravděpodobně najde další nenaplněnou duši. Duch je totiž evidentní kurevník. Dalším nesnesitelným faktorem byly hojně se vyskytující písně, které byly nositelkami tak strašně **debilních** textů, že by stálo za to se pozastavit nad duševní rovnováhou člověka, z jehož pera či péra vzešly. Osobně se přikláním k druhé verzi. Působilo to dojmem, že byl k jejich tvorbě použit nějaký generátor náhodných slov. Osobně lituji překladatele, který vytvářel k písním titulky. Dále lituji veškerých zvířat, zejména velbloudů, že se něčeho takového vůbec musela účastnit. Před zhlédnutím jsem měl poměrně vysoká očekávání. O to více jsem z celého filmu zklamán. Otřesná záležitost. Bohužel se budu muset uchýlit ke třetímu odpadu v řadě. Nevím, co se to s filmy stalo! Viděno v rámci Společné výzvy s Lucinkou. Film nám vybrala uživatelka harfuska."
      ],
      "text/plain": [
       "<IPython.core.display.Markdown object>"
      ]
     },
     "metadata": {},
     "output_type": "display_data"
    },
    {
     "name": "stdout",
     "output_type": "stream",
     "text": [
      "\n",
      "https://www.csfd.cz/uzivatel/172466-frajer42/\n",
      "https://www.csfd.cz/uzivatel/172466-frajer42/\n",
      "Krotitelé duchů (1984) 8\n"
     ]
    },
    {
     "data": {
      "text/markdown": [
       "Ryzí ukázka toho, kterak vzpomínky na dětství dokáží znehodnotit zdejší hodnocení. Tento snímek je ryzí **sračka,** jejíž jedinou světlou stránkou a důvodem, proč se nachází v červených číslech, je doba vzniku. Když se ti stejní diváci koukli na novodobé pokračování, tak se jasně ukázala opravdová pozice snímku ve filmovém světě. Během sledování jsem opravdu trpěl. Triky jsou pochopitelně **debilní.** Scénář je nezajímavý a rovněž **debilní.** Vtípky absolutně nefungují a věřte nebo ne, jsou taky **debilní.** Pokud před zhlédnutím nevypijete něco extrémně alkoholického, tak budete pravděpodobně během sledování znuděni obdobným způsobem jako já. Rovněž jsem si nemohl nepovšimnout cíleného rasismu vůči černému členovi týmu a můj dojem nevylepšil ani fakt, když jsem viděl hloupého pána, který způsobil duší katastrofu. Pán byl shodou okolností zrzoun. Abych zakončil komentář pozitivně, tak si dovolím pochválit ústřední světoznámou melodii. Na odpadu ovšem vůbec nic nemění."
      ],
      "text/plain": [
       "<IPython.core.display.Markdown object>"
      ]
     },
     "metadata": {},
     "output_type": "display_data"
    },
    {
     "name": "stdout",
     "output_type": "stream",
     "text": [
      "\n",
      "https://www.csfd.cz/uzivatel/172466-frajer42/\n",
      "Akira (1988) 4\n"
     ]
    },
    {
     "data": {
      "text/markdown": [
       "Totálně překombinovaná **sračka.** I když byla během sledování moje krev čistá jako lilie, tak jsem se v tom ději prostě nezvládl zorientovat. Když jsem si po skončení přečetl, o čem že to vlastně celé mělo být, tak toho, že jsem to nepochopil vlastně ani nelituji. Příběh je extrémně lobotomická záležitost. Zřejmě cítím podvědomě vůči anime žánru jakousi nenávist. Srozumitelnosti příliš neprospívá ani půl druhého milionu postav, přičemž se u žádné postavy nejde do hloubky, ale jsou jen jaksi ledabyle načrtnuty. Animace je stará a tím pádem i **hnusná.** Za pochvalu stojí snad pouze soundtrack, ale ten sám o sobě na odpadu vůbec nic nemění."
      ],
      "text/plain": [
       "<IPython.core.display.Markdown object>"
      ]
     },
     "metadata": {},
     "output_type": "display_data"
    },
    {
     "name": "stdout",
     "output_type": "stream",
     "text": [
      "\n",
      "https://www.csfd.cz/uzivatel/172466-frajer42/\n",
      "https://www.csfd.cz/uzivatel/172466-frajer42/\n",
      "https://www.csfd.cz/uzivatel/172466-frajer42/\n",
      "13 hodin: Tajní vojáci z Benghází (2016) 6.0\n"
     ]
    },
    {
     "data": {
      "text/markdown": [
       "Z mistra Baye se stal totální šulin. Odporná propagandistická lež. Ničím jiným tento snímek není. Za pochvalu stojí vyloženě jen speciální efekty a akce, kvůli které se na film každý kouká, ale ani ta akce není nějaký extrémně úžasným zázrakem. Úvodních 40 minut je 40 nejulhanějších minut, které jsem za hodně dlouhou dobu viděl. Už ty úvodní žvásty, co si Bay troufl napsat do titulek, jsou hodně silným kafíčkem a ustojí je jen ti úplně duševně nejomezenější diváci a divačky. **Fujtajb!.** Celá zápletka stojí za tím, že si \"nejmírumilovnější\" USA, šířící ve světě mír a lásku, postaví v centru Libye \"diplomatickou\" základnu (NIKOLI AMBASÁDU), kde se plánují protilibyjské operace. Je to zhruba totéž, jako by si jednotky ISIS postavily vedle Bílého domu teroristický areál. Samozřejmě, že tak rozsáhlý komplex je trnem v oku každého rozumného Libyjce. Kdo by se cítil příjemně, kdyby se k němu nastěhoval nepřítel. Dalším **hnusem** jsou ty všudepřítomné patriotistické žvásty, které mi rvaly uši. Vůbec tím nejtrapnějším bylo na celém snímku sledovat asi 20 minutové rozhovory všech zúčastněných vojáků s rodinami. Samozřejmě, úplně každý měl manželku a minimálně 2 malé děti, aby v očích všech diváků vypadali jako ti nejvíc hrdinští tatínkové, kteří dělají ze světa lepší místo. Sem tam mrkla na diváka odporná reklama, třeba když se jela jedna těhotná manželka s dětmi občerstvit do McDrivu. To bylo opravdu kouzelné! Samozřejmě, že po dojemných hovorech nemohlo následovat nic jiného než boj tatínků proti odporným teroristům, kteří bránili svoji vlast před invazí nepřítele. Bez amerických píčovin se dnes již neobejde téměř žádný americký film. Tady to ovšem blilo do očí od první minuty a prezentované lži u filmu, který se honosí tím, že je \"based on true story\", to opravdu nebylo v mých silách přehlédnout. Film určený výhradně pravidelným návštěvníkům nějakého lobotomického ústavu. Závěr potom byla trapárna toho nejvyššího kalibru. Pokud se kouknete zhruba od 45. minuty, tak se to v rámci možností přežít dá. Bohužel jako celek je to odpad nejhrubšího zrna."
      ],
      "text/plain": [
       "<IPython.core.display.Markdown object>"
      ]
     },
     "metadata": {},
     "output_type": "display_data"
    },
    {
     "name": "stdout",
     "output_type": "stream",
     "text": [
      "\n",
      "https://www.csfd.cz/uzivatel/172466-frajer42/\n",
      "Konkurs (1963) 2\n"
     ]
    },
    {
     "data": {
      "text/markdown": [
       "Taková hvězdná pěchota Superstars let minulých. Ošklivá a špatná zpěvačka je střídána ještě ošklivější a horší zpěvačkou. Taková sešlost zrůdiček, která byla navíc napěchovaná neposlouchatelnými pokusy o zpěv. Bída a utrpení. Snad ještě větší **blbinka** než předskokan nesoucí název \"Kdyby ty muziky nebyly\". Nechápu, proč o něčem tak bezvýznamném točit snímek. Naštěstí z této mladické nerozvážnosti Miloš brzy vyrostl. Nemůžu si pomoci, ale zase je nutné sáhnout po odpádku."
      ],
      "text/plain": [
       "<IPython.core.display.Markdown object>"
      ]
     },
     "metadata": {},
     "output_type": "display_data"
    },
    {
     "name": "stdout",
     "output_type": "stream",
     "text": [
      "\n",
      "https://www.csfd.cz/uzivatel/172466-frajer42/\n",
      "Blízká setkání třetího druhu (1977) 6\n"
     ]
    },
    {
     "data": {
      "text/markdown": [
       "Ani Steven Spielberg není dokonalý a má určitě právo na podobná selhání. Opravdu do vesmíru volající **píčovina.** Zub času ohlodal snímek až do morku kostí, ale stáří určitě nebylo jediným problémem. Děj je extrémní **debilismus,** který byl napsán tak nezáživně, jak to jen bylo v našem Vesmíru možné. Pokud už jste snad absolvovali nějaký vyhlídkový let talířem, tak se třeba ve filmu alespoň malinko najdete. Ostatním ale zřejmě nemá moc co nabídnout a já skutečně žasnu nad zdejším přestřeleným hodnocením. Celý film je o čekání. Člověk čeká, čeká, čeká a čeká, ačkoli naprosto netuší na co vlastně čeká, pokud předem negooglil. Ve finále se tedy dozví, že čekal zbytečně. Závěr je sice o něco lepší než zbytek filmu, ale ne nějak dramaticky. Herci byli úplně trapní. V čele stál psychoRoy, který byl ze všech nejtrapnější. Děj je z velké části hlavně o tom, že pár lidem zablikalo nad hlavami několik talířů a všichni se stali posedlými vyrobit něco, co mi značnou část stopáže připomínalo **hovno.** Dost mi také vadilo, že angličtina byla ve filmu poměrně utlačovaným jazykem. Mluvilo se všelijak. Chvíli se dokonce komunikovalo s emzáckou lodí zvuky, ale ta angličtina ne a ne se dostat ke slovu. Samotný závěr ušel, ale erekce z něj u mě neproběhla, takže od odpádku se určitě neodchýlím. Nepopsatelné zklamání. Nějak jsem podvědomě asi tušil, proč se tomu filmu tak dlouho podvědomě vyhýbám. Krásně jej vystihuje slovo \"neosobní\". Minimálně tedy z mého diváckého pohledu."
      ],
      "text/plain": [
       "<IPython.core.display.Markdown object>"
      ]
     },
     "metadata": {},
     "output_type": "display_data"
    },
    {
     "name": "stdout",
     "output_type": "stream",
     "text": [
      "\n",
      "https://www.csfd.cz/uzivatel/172466-frajer42/\n",
      "https://www.csfd.cz/uzivatel/172466-frajer42/\n",
      "Den patriotů (2016) 6\n"
     ]
    },
    {
     "data": {
      "text/markdown": [
       "Spoilery! Na film podobného typu čas od času dostanu chuť, a když se tak stane, tak si sledování zpravidla užiji. Toto bylo výjimka potvrzující pravidlo. Podobnou píčovinu aby člověk opravdu pohledal. Stopáž je brutální, a když si k tomu přidáte nesnesitelnou první polovinu, tak máte o zkažený večer postaráno. Na teroristický útok se divák dívá s kilometrovým odstupem očima nadbytečně roztřesené kamery. To co vidíte vás tedy nechává absolutně chladnými. Do role obávaných teroristů byli obsazení naprostí **kreténi.** Hlavním lákadlem tohoto snímku mělo být zřejmě herecké obsazení. V tomto případě dostal od tvůrců divák ránu mezi oči. Užijete si pouze Wahlberga, pokud ho máte aspoň trošku rádi. Zbytek se objevuje jen namátkově. 2 výbuchy se odehrají asi během dvou minut. Zbytek stopáže se zoomují kamerové záběry a pátrá se po dvou \"extrémně nebezpečných\" **kokotech.** Když se konečně podaří dva **retardy** dopadnout, tak následuje velká sláva a vlna odporného závěrečného patriotismu. Polovinu filmu jsme se spolusledovatelkou pozorovali zrychleně. Odporná záležitost."
      ],
      "text/plain": [
       "<IPython.core.display.Markdown object>"
      ]
     },
     "metadata": {},
     "output_type": "display_data"
    },
    {
     "name": "stdout",
     "output_type": "stream",
     "text": [
      "\n",
      "https://www.csfd.cz/uzivatel/172466-frajer42/\n",
      "https://www.csfd.cz/uzivatel/172466-frajer42/\n",
      "Útěk z vězení - Cesta do Phaecie (S05E06) (epizoda) (2017) 4\n"
     ]
    },
    {
     "data": {
      "text/markdown": [
       "Tohle snad páni tvůrci nemohli myslet vážně. Nejlépe by udělali, kdyby si tento díl strčili někam hluboko do **prdele.** Z mého odborného pohledu se jednalo o zatím nejméně záživný díl. Na režisérské židli vystřídal Paul Scheuringa žlutý filmový kazisvět Kevin Tancharoen a rozdíl v kvalitě je propastný. Pouštní naháněná s **kokotem** kyklopem mi tedy s adrenalinem nepohnula. Zoufalý díl se zcela předvídatelným a neskutečně nudným průběhem. Konečně dokážu pojmenovat důvod, proč je tato nová série horší než ty předešlé. Můžou za to především katastrofálně vybrané vedlejší postavy. Nejenom, že mi jsou osudy těchto postav naprosto lhostejné, to bych ještě nějak překousl. Nicméně, ony mě ke všemu neskutečně iritují (čti serou). Na prvním místě v otravnosti je rozhodně ta bílovlasá píča. Takovou postavu mohl napsat jen naprostý píčus, který se brutálně minul povoláním. Nevěřil jsem, že někdy dojde k tomu, že svůj oblíbený seriál takto pohaním, ale toto je od tvůrců plivnutí do ksichtu a já nemohu hodnotit jinak než odpadem. Nejsmutnější na tom je, že ten žlutý píčus bude reřírovat i následující díl. Už teď zvracím!"
      ],
      "text/plain": [
       "<IPython.core.display.Markdown object>"
      ]
     },
     "metadata": {},
     "output_type": "display_data"
    },
    {
     "name": "stdout",
     "output_type": "stream",
     "text": [
      "\n",
      "https://www.csfd.cz/uzivatel/172466-frajer42/\n",
      "Penelope (2006) 4\n"
     ]
    },
    {
     "data": {
      "text/markdown": [
       "Zřejmě jsem objevil novou herečku, kterou budu z hloubi duše nenávidět. Co může být horšího než absolutně nudná **sračka?** Absolutně nudná **sračka** se zrůdou v hlavní roli. Aby byl divácký zážitek co možná nejhorší, tak byl odporné krávě ještě zhoršen už tak krajně odpudivý zevnějšek. Neskutečně jsem trpěl. V tomto paskvilu nebyla koukatelná jediná minuta. Mylně jsem si troufl očekávat komedii. Pokus o humor se absolutně nepotkal s tím mým. Snímek se vyvíjí zcela beznadějným způsobem. Celou stopáž směřuje ke zrušení neskutečně trapné kletby a směřuje k tomu snad tím nejtrapnějším způsobem. Postavy vypouštějí z úst samé píčoviny. Zhruba polovinu filmu jsem sledoval dvojnásobnou rychlostí. Opravdu utrpení a dost dobře nechápu všeobecně vysoké hodnocení. Za účast dvou fajn herců rozdávat hvězdičky nehodlám. Viděno v rámci Filmové výzvy 2017. Film mi vybrala uživatelka gegina31."
      ],
      "text/plain": [
       "<IPython.core.display.Markdown object>"
      ]
     },
     "metadata": {},
     "output_type": "display_data"
    },
    {
     "name": "stdout",
     "output_type": "stream",
     "text": [
      "\n",
      "https://www.csfd.cz/uzivatel/172466-frajer42/\n",
      "https://www.csfd.cz/uzivatel/172466-frajer42/\n",
      "https://www.csfd.cz/uzivatel/172466-frajer42/\n",
      "Animatrix: Přijímací zkouška (2003) 2\n"
     ]
    },
    {
     "data": {
      "text/markdown": [
       "Dost dobře nerozumím tomu, proč byl **nejdebilnější** díl zároveň dílem nejdelším. Nuda a utrpení. Odporně divná animace. K jejímu docenění mi v žilách kolovalo málo drog. Těžce vstřebatelné. Nebavilo mě to a ztrácel jsem pozornost, tudíž to celé bylo i obtížně pochopitelné. V podstatě mi to vyznělo jako příběh o ochočení robota."
      ],
      "text/plain": [
       "<IPython.core.display.Markdown object>"
      ]
     },
     "metadata": {},
     "output_type": "display_data"
    },
    {
     "name": "stdout",
     "output_type": "stream",
     "text": [
      "\n",
      "https://www.csfd.cz/uzivatel/172466-frajer42/\n",
      "Dračí srdce (1996) 2\n"
     ]
    },
    {
     "data": {
      "text/markdown": [
       "Spoilery! Já mám vůči většině pohádek zřejmě nějakou skrytou averzi, která mi během sledování způsobuje takřka až depresivní náladu. Tento snímek mě opravdu neskutečným způsobem nebavil. Dovedu ocenit snad pouze velmi příjemnou hudbu, sympatického hlavního hrdinu a na svoji dobu velmi kvalitně zpracovaného draka. Zbytek pro mě bylo naprosté utrpení. Zbytkem myslím zejména žalostný příběh, který v sobě neskrýval ani špetku nějaké zajímavosti. Naopak byl neskutečně **stupidní.** Pojednával o podprůměrně inteligentním rytíři, který nabral chybného dojmu, že mu drak zkazil dobré mravy nadcházejícího krále, který ve skutečnosti nikdy dobrý nebýval. Rytíř se tedy rozhodne začít zabíjet všechny draky v království. Poslední drak, který byl příčinou rytířova rozhořčení nad zabitím svých druhů mávne rukou a stane se s rytířem největším kamarádem, za kterého neváhá klidně položil život. Představte si podobnou situaci v běžném životě. Jste například německý učitel. Jednou jdete na nákupy k židovskému prodejci a něco si od něj koupíte. Židovský prodejce vám vrátí méně peněz, než si myslíte, že by vám měl vrátit. Velmi vás tato domněnka rozzlobí, stanete se diktátorem a rozhodnete se celou židovskou rasu vyhubit. Opravdu si nemyslím, že je tato pohádkou ideálním krmivem, které by mělo formovat mysli mladému publiku. Osobně bych se nad stupiditu příběhu klidně povznesl, ale brutálně mě snímek nudil, a to jsem se na něj celkem těšil a vkládal do něj své naděje. I když musím objektivně pochválit několik kvalitních prvků, tak je můj celkový divácký dojem žalostný. Viděno v rámci Filmové výzvy 2017. Film mi vybrala uživatelka gegina31."
      ],
      "text/plain": [
       "<IPython.core.display.Markdown object>"
      ]
     },
     "metadata": {},
     "output_type": "display_data"
    },
    {
     "name": "stdout",
     "output_type": "stream",
     "text": [
      "\n",
      "https://www.csfd.cz/uzivatel/172466-frajer42/\n",
      "Toni Erdmann (2016) 2\n"
     ]
    },
    {
     "data": {
      "text/markdown": [
       "Spoilery! Nevidím to, co na snímku viděli ostatní. Že se lidé rádi a často přetvařují není snad žádnou novinkou. Každý je sám sebou až v okamžiku, kdy se schová za nějakou masku. Z tříhodinové stopáže jsem měl neskutečný strach. Nicméně nesmírně pozitivní ohlasy všech mých oblíbenců mě ke zhlédnutí přinutily. Měl jsem stejný problém jako moje spolusledovatelka. Taktéž jsem měl problém udržet svoji pozornost na delší dobu. Rozhodně to nebylo tím, že jsme se na film koukali společně. Svojí nepozorností jsem vlastně ani o nic nepřišel. Příběh pojednává o totálně **hnusné** a neskutečně netalentované workoholičce, která se snaží prorazit. Její snaha však vyznívá dost naprázdno a tato workoholička bývá i přes svůj neatraktivní zevnějšek spíše prorážena. Nedivím se, že do snímku bylo třeba vložit dvě úchylné scénky(zákusek se smetanou a oslava nahoře i dole bez), jejichž prostřednictvím jsem udržel pozornost alespoň na chvíli, neboť něco tak divného puritánsky zaměřený člověk přeci jen nevídá a nezažívá denně. Proč byl snímek tak špatný jsem pochopil, až po nahlédnutí na režisérskou židli - ona tam celou dobu seděla cicina. Celkem mě zaskočilo, že vztah otce s dcerou napravilo až to, když si tatínek prohlédl svoji dceru nahou. Z mého pohledu je tento snímek jedním velkým a prázdným zklamáním. Mnoho povyku pro nic!"
      ],
      "text/plain": [
       "<IPython.core.display.Markdown object>"
      ]
     },
     "metadata": {},
     "output_type": "display_data"
    },
    {
     "name": "stdout",
     "output_type": "stream",
     "text": [
      "\n",
      "https://www.csfd.cz/uzivatel/172466-frajer42/\n",
      "Perinbaba (1985) 4\n"
     ]
    },
    {
     "data": {
      "text/markdown": [
       "Ani nevím, co to přesně mělo být, ale bylo to nekonečně divné. S Jurajem Jakubiskem jsme si naprosto nesedli do noty. Tohle byl druhý \"skvost\", který jsem měl tu smůlu od něj vidět a podruhé uděluji nejnižší hodnocení. Zřejmě mám velice málo slovenského původu ke vstřebání takových filmových skvostů. Celý tento počin měl neskutečně divnou a nepříjemnou atmosféru. Příběh pojednává o krajně otravném Jakubkovi s květákem místo vlasů, kterého už nebavil pobyt v nebi s peřinovou tetou a vyhlídl si na zemi čerstvou cicinu. Dabing cizích herců a hereček byl v tomto snímku krajně otravný a na první poslech zaznamenatelný. Nechce se mi věřit, že by se do hlavních úloh nenašli herci slovenského původu. Zřejmě si nepřál mít nikdo nic s touto **sračkou** společného. Během sledování jsem tak nějak postupně polevoval v pozornosti. Jen sadista rodič by tohle pustil svým dětem. Tenhle paskvil by měl sloužit budoucím pohádkářům jako vzorový odstrašující případ, jak by pohádka za žádných okolností neměla vypadat. **Fuj!** Viděno v rámci Filmové výzvy 2017. Film mi vybrala uživatelka harfuska."
      ],
      "text/plain": [
       "<IPython.core.display.Markdown object>"
      ]
     },
     "metadata": {},
     "output_type": "display_data"
    },
    {
     "name": "stdout",
     "output_type": "stream",
     "text": [
      "\n",
      "https://www.csfd.cz/uzivatel/172466-frajer42/\n",
      "https://www.csfd.cz/uzivatel/172466-frajer42/\n",
      "Zabil jsem Einsteina, pánové... (1969) 4\n"
     ]
    },
    {
     "data": {
      "text/markdown": [
       "Totálně otravný, nekonečně nudný a absolutně nevtipný blábol. Tohle Lipský posral na plné čáře. Katastrofální **sračka,** u které jsem dvakrát usnul. Nemám tušení, proč ten člověk vysazoval předepsané léky. Ta trapnost s těmi ženskými vousy mohla napadnout vyloženě jen totálního **kokota.** To byl opravdu vrchol nevkusu. Einstein mohla být neskutečně zajímavá postava. Netuším, zda měl Čepek přikázané ho zahrát takhle neskutečně nezajímavě. Opravdu odporný film, který měl být ve střižně rozstříhán a následně rituálně spálen."
      ],
      "text/plain": [
       "<IPython.core.display.Markdown object>"
      ]
     },
     "metadata": {},
     "output_type": "display_data"
    },
    {
     "name": "stdout",
     "output_type": "stream",
     "text": [
      "\n",
      "https://www.csfd.cz/uzivatel/172466-frajer42/\n",
      "Tři zločinci ve skryté pevnosti (1958) 6\n"
     ]
    },
    {
     "data": {
      "text/markdown": [
       "Naprosto mi uniká, proč se zde tolik uživatelů snaží předstírat, že se jim tahle **píčovina** líbila. Kurosawa má veliké štěstí, že je již mrtvý. Jinak bych od něj vyžadoval vrácení mých skoro dvou a půl hodin života. Neskutečná nudírna. Většinu stopáže sledujete dva japonské mongoloidní sedláky, kteří se všelijak pitvoří, plazí se z místa A na místo B a při té příležitosti nepřetržitě vřískají a vydávají další nesnesitelné zvuky. Po chvíli se k nim přidá japonská herecká ikona Toširó Mifune, který dobrou polovinu stojí s rozkročenýma nohama, založenýma rukama a kouká se nepřítomně před sebe. Vůbec se neodvažuji hovořit o ději, neboť to byla extrémně nezáživná **píčovina.** Vůbec nechápu důvod vzniku totálně bezobsažného snímku jako je tento. Veškerý humor se Kurosawa pokoušel postavit na chamtivosti úvodních dvou **debilů.** Můj šálek japonského čaje to tedy nebyl. V tomto snímku není ze slibovaných žánrů zhola nic. Akci by věrohodněji předvedla parta cigánů, o dobrodružství tu vskutku nezavadíte a místo humoru tu poletuje totální trapnost. Film k uzoufání zlý."
      ],
      "text/plain": [
       "<IPython.core.display.Markdown object>"
      ]
     },
     "metadata": {},
     "output_type": "display_data"
    },
    {
     "name": "stdout",
     "output_type": "stream",
     "text": [
      "\n",
      "https://www.csfd.cz/uzivatel/172466-frajer42/\n",
      "Poslední bitva (1983) 6\n"
     ]
    },
    {
     "data": {
      "text/markdown": [
       "Moc hezký film. Luc Besson se rozhodl svým nebohým divákům nudou provrtat díru do hlavy. Dlouho jsem neviděl nic, co by bylo tak strašně o ničem a u čeho by se mi chtělo permanentně spát. Ani se nechce věřit, že tentýž pán přišel po tomto selhání s celou řadou kvalitních snímků. Opravdu neskutečná **píčovina,** kde bylo špatně snad úplně všechno. S výjimkou Rena maximálně otravní herci. Naprosto **dementní** soundtracky, který vždy spolehlivě zazdil, když se ojediněle příjemně rozjížděla nějaká scénka. Také mě docela sralo, že snímek začal lehce dávat smysl až přibližně 30 minut před koncem. Do té doby to bylo bezcílné bloudění postav ve světě, kde nebylo bloudit kam. Ani na pár okamžiků jsem nedostal od režiséra pozvánku do děje. Celé to bylo tak strašně nezáživné, že jsem nevěděl kam se mám dívat. Všichni jsme byli mladí a plní **blbých** nápadů, takže tohle mladistvé selhání Bessonovi budiž odpuštěno. Každopádně odpad. Kdo se mnou nesouhlasí, tak je zřejmě bohužel píča a měl by se sebou něco dělat. Takhle umění rozhodně nevypadá. Takhle nevypadá ani pokus o umění. Tento blábol neměl nikdy vzniknout."
      ],
      "text/plain": [
       "<IPython.core.display.Markdown object>"
      ]
     },
     "metadata": {},
     "output_type": "display_data"
    },
    {
     "name": "stdout",
     "output_type": "stream",
     "text": [
      "\n",
      "https://www.csfd.cz/uzivatel/172466-frajer42/\n",
      "Zbytečná krutost (1984) 2\n"
     ]
    },
    {
     "data": {
      "text/markdown": [
       "Ještě, že na takový filmový klenot a skvost byli ti šulini dva. Kdoví jak by to dopadlo, kdyby to tvořil jen jeden packal. Celý problém snímku se ukrývá v šíleně špatně napsaných postavách. Naprosto všichni zúčastnění jsou krajně nezajímaví. Sledujete fádní osudy několika fádních Texasanů, kteří jsou ke všemu bohužel i maximálně otravní. Po celou stopáž jsem nefalšovaně trpěl. Naprosto **debilním** a ubíjejícím shledávám i zpracování, které se hlemýždím tempem plazí ke předem očekávanému konci. Tvůrci se snažili být tak strašně komorní, až se dostali do absolutně nezdravé roviny komornosti a na film se nedalo dívat. Začátky Coenů byly evidentně velice kruté. Naštěstí na sobě postupem času oba pořádně zamakali a na jejich současnou tvorbu už se dívat dá. Styděl bych se mít s touhle píčovinou spojované jméno. Alespoň, že jsem si hezky pospal."
      ],
      "text/plain": [
       "<IPython.core.display.Markdown object>"
      ]
     },
     "metadata": {},
     "output_type": "display_data"
    },
    {
     "name": "stdout",
     "output_type": "stream",
     "text": [
      "\n",
      "https://www.csfd.cz/uzivatel/172466-frajer42/\n",
      "Perníkový táta - Otevřený dům (S04E03) (epizoda) (2011) 22\n"
     ]
    },
    {
     "data": {
      "text/markdown": [
       "Spoilery! **Fuj,** **hnus!** To se zase tvůrci jednou předvedli. Zřejmě se doposud jednalo o **nejdebilnější** díl. Skyler se proměnila v otravnou pseudo emancipovanou píču, které to divák s fungujícími smysly prostě nemůže žrát. Její **debilní** sestra pro změnu dosáhla nejvyššího **stádia** **debility** a otravnosti. Málem jsem se pozvracel. Takřka celý díl jsem sledoval v dvojnásobné až trojnásobné rychlosti. Celou epizodu se skáče od jedné **píče** k té druhé. Občas to tvůrci proloží zajímavou vsuvkou z feťáckého doupěte. Naprostou většinu stopáže se ovšem řeší **zkurveně** nezajímavá myčka a **debilní** psychické problémy **píče** od Hanka. Takhle **debilní** díl už bych v rámci seriálu viděl velmi nerad."
      ],
      "text/plain": [
       "<IPython.core.display.Markdown object>"
      ]
     },
     "metadata": {},
     "output_type": "display_data"
    },
    {
     "name": "stdout",
     "output_type": "stream",
     "text": [
      "\n",
      "https://www.csfd.cz/uzivatel/172466-frajer42/\n",
      "Černé zrcadlo - San Junipero (S03E04) (epizoda) (2016) 4\n"
     ]
    },
    {
     "data": {
      "text/markdown": [
       "Spoiler! Názorná ukázka neodpustitelně promrhaného potenciálu. Tvůrci opět vytáhli z rukávu myšlenku, která sama o sobě nebyla určitě zlá. Bohužel kolem ní vystavěli totálně nudnou až **debilní** lovestory o dvou lesbách gerontech, které dohánějí promeškané. Absolutně mi není jasné nad čím si tolik zdejších uživatelů ustříkává ze svých intimních partií. Místo skýtající neomezené možnosti a obyvatelstvo se zde každodenně omezuje na alkohol a sex? Osobně mě to přestalo bavit asi po 10 minutách. Odporný stereotypní teror s naprosto odporným závěrem. Žádal si snad někdo v sérii Black Mirror happyend? Je to stejně nežádoucí a nesmyslné, jako kdyby jste byli na ulici znásilněni partou obdařených **negrů** a tento váš zážitek skončil vaším orgasmem. Nezbývá mi než věřit a doufat, že se jednalo o ojedinělý omyl a tvůrci se v nadcházejících dílech podstatně polepší. Totálně předvídatelná reklama na nudu, kterou se vám tvůrci pokoušeli provrtat díru do hlavy."
      ],
      "text/plain": [
       "<IPython.core.display.Markdown object>"
      ]
     },
     "metadata": {},
     "output_type": "display_data"
    },
    {
     "name": "stdout",
     "output_type": "stream",
     "text": [
      "\n",
      "https://www.csfd.cz/uzivatel/172466-frajer42/\n",
      "https://www.csfd.cz/uzivatel/172466-frajer42/\n",
      "Válka o planetu opic (2017) 14\n"
     ]
    },
    {
     "data": {
      "text/markdown": [
       "Spoilery! Oba předchozí díly stály za **hovno.** Stejný názor sdílela i jistá osoba, které se ovšem tento díl z nějakého prapodivného důvodu líbil. Inu, zavětřil jsem podezření, že by přeci jenom mohl skutečně za něco stát. Ano, za jednu věc skutečně stál - za **hovno.** Dlouho jsem u žádného snímku neprožíval takové utrpení. Od úvodního přepadení **opiček,** kde jakýsi **negr** střílel do vlastních řad a podle všeho si to ani neuvědomoval až po maximálně **kreténský** pobyt v opičím gulagu. Jediným prvek, díky kterému jsem tuhle píčovinu dokázal dokoukat a nezrychlovat, byl Woody Herrelson, který se s přibývající stopáží objevoval více a více. Všichni opičí představitelé mě neskutečně srali. Nejvíce rozhodně ten starý **zmrd,** který měl zřejmě bavit nejmenší diváky a divačky. Katastrofa. Nudný, stereotypní film bez špetky nějakého vývoje. bez špetky zajímavosti. Člověk u tohoto snímku úplně postrádá jakékoli napětí. Osudy všech opic mi byly lhostejnější než osud smradlavého bezdomovce žadonícího o cígo. Pokud se tvůrci pokusí o další pokračování, tak zdvořile odmítnu. Dlouho jsem neviděl nic, co by mě nejenom absolutně nezajímalo, ale kde by mě všechny postavy neskutečně sraly a děj těžce iritoval. Odporná věc!"
      ],
      "text/plain": [
       "<IPython.core.display.Markdown object>"
      ]
     },
     "metadata": {},
     "output_type": "display_data"
    },
    {
     "name": "stdout",
     "output_type": "stream",
     "text": [
      "\n",
      "https://www.csfd.cz/uzivatel/172466-frajer42/\n",
      "https://www.csfd.cz/uzivatel/172466-frajer42/\n",
      "https://www.csfd.cz/uzivatel/172466-frajer42/\n",
      "https://www.csfd.cz/uzivatel/172466-frajer42/\n",
      "https://www.csfd.cz/uzivatel/172466-frajer42/\n",
      "Banditi (2001) 2\n"
     ]
    },
    {
     "data": {
      "text/markdown": [
       "Nevstřebatelná dvouhodinová nuda a bezkonkurenčně nejodpornější film, jaký jsem s Willisem doposud viděl. Takovou neskutečnou píčovinu snad ani Levinson nemohl myslet vážně. Humor se zakopal extrémně hluboko pod zem a celý film se neukázal. Ústřední duo **retardů** mě celou stopáž neskutečně iritovalo. Můj divácký zážitek nezachránila ani Cate Blanchett, ze které dostávali diváci i divačky během filmu orgasmy, i když musím přiznat, že ji to zde brutálně seklo. Z celého filmu mě oslovil pouze závěr. Fakt netuším, nad čím se zde diváci rozplývají. Film zcela postrádal grády a šťávu. Tento film by měl být zničen! Přitom jsem se na něj po přečtení obsahu tak těšil. Pokud se na film chcete dodívat, tak si jej rozhodně nepouštějte večer a ani při jakémkoli náznaku únavy. Katastrofa! Viděno v rámci Filmové výzvy 2017. Film mi vybrala uživatelka Khalesi."
      ],
      "text/plain": [
       "<IPython.core.display.Markdown object>"
      ]
     },
     "metadata": {},
     "output_type": "display_data"
    },
    {
     "name": "stdout",
     "output_type": "stream",
     "text": [
      "\n",
      "https://www.csfd.cz/uzivatel/172466-frajer42/\n",
      "https://www.csfd.cz/uzivatel/172466-frajer42/\n",
      "Alenka v říši divů (2010) 2\n"
     ]
    },
    {
     "data": {
      "text/markdown": [
       "Předlohu jsem nečetl, tudíž budu vycházet z příběhu, který nastolil tento film. Příběh se mi nelíbil vůbec. I na pohádku byl velmi primitivní a **stupidní.** Animaci jsem očekával daleko lepší. Vzhledem k tomu, že je to pohádka, nemá ani smysl komentovat dialogy. Po dlouhém váhání v rozmezí 0 - 1 . Dávám nakonec # za obsazení Johnyho Deppa ( ve filmech Tima Burtona neodmyslitelného ), jindy skvěle hrajícího, v tomto případě hluboko podprůměrného a také nesmím opomenout pár vtipných hlášek už né tak vtipných postav."
      ],
      "text/plain": [
       "<IPython.core.display.Markdown object>"
      ]
     },
     "metadata": {},
     "output_type": "display_data"
    },
    {
     "name": "stdout",
     "output_type": "stream",
     "text": [
      "\n",
      "https://www.csfd.cz/uzivatel/172466-frajer42/\n",
      "Avatar (2009) 6.5\n"
     ]
    },
    {
     "data": {
      "text/markdown": [
       "Film, který nemá absolutně čím překvapit. Po 15 - ti minutách už s jistotou víte jak ten dvou a půl hodinový nesmysl dopadne. Nejlepší herecký výkon tu podala počítačová technika. Dlouho nikdo. Druhý nejlepší herecký výkon sympaťák Sam Worthington, dovolím si tvrdit, že ho zcela jistě v nějakém velkofilmu ještě spatříme. Ostatní výkony nestojí za zmínku. Tento film bych řadil na filmové dno hlavně proto, že to byl film od kterého se skutečně hodně čekalo, už jen protože se režie ujal James Cameron. Příběh jako z laciné telenovely. Nezajímavý, **stupidní.** Nepatřím k těm, kteří se nechají strhnout velmi kvalitním prostředím doplněným o 3D. Ano prostředí té planetky obývané těmi modrými mužíky bylo líbivé, nicméně zabalené v absolutně **debilním** ději (promiňte mi to slovo, ale tady se to jinak označit nedalo). Charakter postavy snad ani neměly. Pochopil bych, že se to může líbit dětem v rozmezí 2- 12 let, protože 2 roky stačí k tomu tento **přiblblý** děj pochopit a od 13-ti vás začnou srát hloupé dialogy. Jeden z mála filmů, kde lidem stačí velmi podprůměrné IQ k jeho zhlédnutí (možná taky proto má film až tak vysoké hodnocení - nerad bych se tímto někoho dotknul). Absolutně chápu hodnocení typu odpad. Asi jsem se nechal omámit přírodou či efekty. Možná je to jen z úcty vůči panu Cameronovi. Dávám po obrovském sebepřemáhání #."
      ],
      "text/plain": [
       "<IPython.core.display.Markdown object>"
      ]
     },
     "metadata": {},
     "output_type": "display_data"
    },
    {
     "name": "stdout",
     "output_type": "stream",
     "text": [
      "\n",
      "https://www.csfd.cz/uzivatel/172466-frajer42/\n",
      "Crows Zero (2007) 16\n"
     ]
    },
    {
     "data": {
      "text/markdown": [
       "Chovám velký obdiv ke všem divákům, kteří tento japonský **hnus** dokázali zhlédnout na jeden zátah. Já u této trapné píčoviny 2x úspěšně usnul. Něco tak krajně nezajímavého a **debilního,** se opravdu moc často nevidí. Již jsem s touto píčovinou ztratil příliš mnoho času, takže se alespoň v komentáři pokusím být stručný. Děj se točí kolem toho, že 30kiloví šikmoocí žlutí středoškoláci svádí na jakési **debilní** škole boj o to, kdo z nich bude do konce roku ten největší **čurák.** Děj je tak krajně **dementní** u nudný, že se mi nepodařilo udržet pozornost ani na souvislých 5 minut, tudíž mi zcela unikaly souvislosti v té sračce a vlastně mi to ani nijak nevadilo. Postavy se všechny chovaly jako stejní čůráci, a tak se stalo, že mi splynuly v postavu jedinou, což mi rozhodně nepřidalo v tom, aby se mi jakkoli podařilo se zorientovat v tom **dementním** ději. Postavy musel napsat nějaký nadpozemský **čurák,** protože ani jedna z nich nebyla ani malinko zajímavá. Bitky točil samozřejmě opět nějaký **pičus** s roztřepanou prackou, takže ani z těch si divák nedostal šanci pranic odnést. Obrovská ztráta času a neskutečný žlutý průser. Moc nechápu zdejší červené hodnocení, asi by mi ti nemocní feťáci měli dát kontakt na svého dealera."
      ],
      "text/plain": [
       "<IPython.core.display.Markdown object>"
      ]
     },
     "metadata": {},
     "output_type": "display_data"
    },
    {
     "name": "stdout",
     "output_type": "stream",
     "text": [
      "\n",
      "https://www.csfd.cz/uzivatel/172466-frajer42/\n",
      "Hráči (1998) 8\n"
     ]
    },
    {
     "data": {
      "text/markdown": [
       "Ani sebelepší herci by nedokázali zachránit tu režisérskou bídu a scénáristickou prázdnotu. Totální zprznění nejlepší karetní hry, která byla nemilosrdně utopená v naprosto **dementním** příběhu. Film přímo stvořený ke zhlédnutí s dokonalým \"poker face\". Totální nuda bez špetičky napětí a zcela postrádající jakoukoli hlubší logiku. Úžasný polobůh Mattík Démon, který pozná podle drobného zachvění řasy na levém oku, a to pod slunečními brýlemi, jak silné karty zrovínka protivník dříme v rukou, ale jaksi přehlédne způsob, kterak Ukrajinec Malkovich žere sušenky. Respektujte potom takový film. Rekapitulace známých pokerových faktů zasazena do nesnesitelně **debilního** příběhu o jakési **kreténské** a nudné volbě mezi netolerantní píčou ženou a vášní a ke všemu navíc otrávena scénáristikými dochucovadly a totálně neschopnou režií, která nevyprodukovala jediný moment, který by vás chytil za koule, nebo byste pocítili alespoň náznak napětí. Přitom poker, **kurva,** k něčemu takovému přímo vybízí a nabízí milion nástrojů. Film, který docení snad pouze nekaretní diváctvo, potažmo maximálně pouze příležitostní hráči Prší při pravidelných víkendových seancích knižního klubu."
      ],
      "text/plain": [
       "<IPython.core.display.Markdown object>"
      ]
     },
     "metadata": {},
     "output_type": "display_data"
    },
    {
     "name": "stdout",
     "output_type": "stream",
     "text": [
      "\n",
      "https://www.csfd.cz/uzivatel/172466-frajer42/\n",
      "Persona (1966) 4\n"
     ]
    },
    {
     "data": {
      "text/markdown": [
       "Z filmu jsem měl silný pocit, že je to Bergmanova masturbace a příliš se necílí na mínění těch nejdůležitějších - diváků. Dialogy, respektive spíše monology, možná mohly za něco stát, kdybych dokázal udržet pozornost alespoň pár **sekund.** Ten neskutečně nudný **hnus** se ovšem nedal poslouchat. Sdělení zcela zřejmé pravdy u fungování masek v naších životech a mnohovrstvost a nekonečná nestálost ženských duší, ovšem zcela neatraktivní a nestravitelnou formou. I přes krátkou stopáž divák velice záhy podlehne prudké bolesti způsobené obrovskou nudou. Abych ale jen nekritizoval, pokud trpíte v noci nespavostí a hledáte spolehlivý lék s takřka okamžitým nástupem účinků, po kterém spadnou víčka, potom stojí za to Personu vyzkoušet. Pokusil jsem se přijmout pozvání na exkurzi dovnitř ženy (tentokrát lehce odlišným způsobem), ale nedalo se. Zřejmě nejsem cílovou skupinou, a to Bergmana uznávám a považuji ho vůbec za nejlepšího filmového tvůrce z hlediska zkoumání psychologie lidí. Tento film také mohl být dobrý, kdyby ho netvořil proto, aby mu stálo úžasem péro v pozoru, ale pokusil se spíše postavit péra nebohých diváků. Celkový koncept postavený na \"rozhovoru\" dvou žen, které komunikují o všedních píčovinách jejich nudných životů, o jejich životních rozhodnutích a hledat v těchto slovech cestu do jejich nitra, to je opravdu něco, co se chce dělat málokterému diváku. Dělám to nerad mistře, protože mám v hlavě úžasné filmy jako Sedmá pečeť nebo Ze života loutek, kdy mi tekly sliny blahem a mozek se mi spokojeně rochnil v mozkomíšním moku, ale nezbývá než dát v tomto případě zasloužený odpad."
      ],
      "text/plain": [
       "<IPython.core.display.Markdown object>"
      ]
     },
     "metadata": {},
     "output_type": "display_data"
    },
    {
     "name": "stdout",
     "output_type": "stream",
     "text": [
      "\n",
      "https://www.csfd.cz/uzivatel/172466-frajer42/\n",
      "U konce s dechem (1960) 6\n"
     ]
    },
    {
     "data": {
      "text/markdown": [
       "Tento film zaručeně patří na večerní promítání pro pseudo intelektuály a čůráky v pražské kavárně. Bohužel tato kritiky (čti píčusi bez vkusu) přeceňovaná **sračka** v dnešní době zkrátka nemá inteligentním, mladým a sexy mužům co nabídnout. Pokud vám dnešní zdegenerovaná doba nevymlátila všechen vkus z hlavy, tak se této reklamě na nudu velkým obloukem vyhněte. Jean-Luc Godard si coby začínající filmař jednoho krásného dne hrál s kamerou a omylem vypustil do světa toto ryzí kamerové cvičení, které oslnilo nějakého hloupého šulina a začal mu bezdůvodně přisuzovat kvality, které rozhodně nemá. Tento snímek je po svoji kompletní stopáž nekonečně otravný. Všemožné píčoviny s kamerou a různé nahodilé skřeky působí maximálně rušivě a bezúčelně. Jsou zde v podstatě pouze proto, aby se snížilo riziko toho, že divák u něčeho tak nudného usne. Není náhodou, že se drtivá většina filmařských postupů z této píčoviny v dnešních filmech již nepoužívá, nebo se používá v naprosto minimálním měřítku, když to má nějaké opodstatnění. Belmondo ukázal, že byl ve svých mladých letech mimořádně slizký a nechutný herec a do role jakéhosi svůdníka se tedy vůbec nehodil, ale možná mám jen přehnaná měřítka, protože muže porovnávám s referenčním vzorkem, který obdivuji každé ráno v zrcadle. Takhle nevypadá umění, toto není ani hra na umění. Tento film je nadpozemskou **sračkou,** která se nedopatřením dostala do povědomí širší veřejnosti. Nejhorším úsekem filmu je rozhodně 30minutový rozhovor **dementa** s píčou na posteli, ze kterého jsem si málem provrtal uši šroubovákem. Jestli je i pod tímto dialogem podepsán Jean-Luc Godard (jako že asi je), tak je to skutečnost nanejvýš smutná. Opravdu nemám potřebu ztratit 30 minut života poslechem tak neuvěřitelně bezobsažných žvástů. Kdyby kterýkoliv filmař postavil na 90 minut kameru někam do parku a zachytil cokoli, co by tam zrovna bylo k vidění, tak by vznikl film větší hodnoty, než je tahle ubohost. Nejsem fanouškem tohoto hraní si na zachycení civilního života jakýchsi dvou nudilů, kteří tím, že se to snaží hrát, tak jsou ještě o stupeň nudnější. Viděno v pražské kavárně."
      ],
      "text/plain": [
       "<IPython.core.display.Markdown object>"
      ]
     },
     "metadata": {},
     "output_type": "display_data"
    },
    {
     "name": "stdout",
     "output_type": "stream",
     "text": [
      "\n",
      "https://www.csfd.cz/uzivatel/172466-frajer42/\n",
      "Romeo a Julie (1996) 18.5\n"
     ]
    },
    {
     "data": {
      "text/markdown": [
       "Zřejmě napíšu tomu šulinovi Luhrmannovi, aby mi vrátil 2 hodiny života, které jsem ztratil s touhle neskutečnou **sračkou.** Tvůrci snad ani nemohou myslet vážně tvorbu něčeho tak strašně zbytečného, jako je tento paskvil. Výprava jako **prase** a tenhle nesledovatelný **hnus** měl být jako výsledkem? Tohle bylo nakopání všech diváků do **prdele.** Leonardo DiCaprio patří mezi moji malou skupinku oblíbených herců a doteď jsem na něj nedal dopustit. Když jsem ho ovšem teď uviděl hrát toho nesnesitelně otravného mlíčňáka, kterého by odfoukl i lehký vánek, tak se mi zvedal kufr. Ze 17 filmů, kde jsem ho k dnešnímu dni viděl, byl tady naprosto bezkonkurenčně nejhorší. Tento film byl pro Shakespeara krutější trest, než kdyby byl análně znesvěcen tlupou nadržených **negrů.** Chtělo by to mít trošku soudnosti a cti ke kinematografii, potom by nebylo možné pustit do éteru takovou neuvěřitelnou píčovinu, která měla shořet ve střižně se všemi, co přiložili ruce k dílu a zapříčinili vůbec její vznik. Něco tak **debilního** a nudného jsem neviděl dlouhé roky. Černé transky a větší výskyt **buzerantů** na krychlovém metru, než je k vidění na těch jejich LGBT průvodech, odmítám úplně komentovat v rámci zachování zdravé hranice svého adrenalinu. Kromě občasného pěkného hudebního tónu se mi v tomto případě nelíbilo na snímku vůbec nic. Až mě někdy někdo nasere, tak vím zcela bezpečně, který film tomu **hajzlovi** doporučím. Tohle byla zřejmě největší **píčovina,** jakou jsem viděl za poslední roky."
      ],
      "text/plain": [
       "<IPython.core.display.Markdown object>"
      ]
     },
     "metadata": {},
     "output_type": "display_data"
    },
    {
     "name": "stdout",
     "output_type": "stream",
     "text": [
      "\n",
      "https://www.csfd.cz/uzivatel/172466-frajer42/\n",
      "https://www.csfd.cz/uzivatel/172466-frajer42/\n",
      "https://www.csfd.cz/uzivatel/172466-frajer42/\n",
      "Creed II (2018) 12\n"
     ]
    },
    {
     "data": {
      "text/markdown": [
       "Sylvester Stallone už má na senilitu věk a nemůže ho za to nikdo soudit. Každopádně by měl sesbírat poslední špetky soudnosti a na podobná pokračování slavných titulů, které by už pokračování mít neměly, by se měl nadobro vysrat. Tento omyl, kde si cvičí svoji bojovou opičku neměl nikdy spatřit světlo světa. Odpudivá **sračka,** kde jsou jedinými koukatelnými momenty souboje v ringu, dle tradice, na míle vzdálené reálnému průběhu. Film má nesnesitelně přepálenou stopáž, a tak se bohužel diváctvo nevyhne naprosto **pičoidně** **debilním** dialogům, které vede hlavní opice se svojí opičí nastávající manželkou. Člověka začnou po chvíli intenzivně bolet uši, když musí poslouchat taková **hovna.** Opravdu nehorázná stereotypní **píčovina.** Nesnáším **čuráka** Jordana, který si s hereckým talentem zrovna netyká. Potěšila mě snad jen účast starých známých. Odpadu se ovšem nevyhnu."
      ],
      "text/plain": [
       "<IPython.core.display.Markdown object>"
      ]
     },
     "metadata": {},
     "output_type": "display_data"
    },
    {
     "name": "stdout",
     "output_type": "stream",
     "text": [
      "\n",
      "https://www.csfd.cz/uzivatel/172466-frajer42/\n",
      "Báječní muži s klikou (1978) 4\n"
     ]
    },
    {
     "data": {
      "text/markdown": [
       "Ačkoli Menzela mám nesmírně rád a jeho jméno velebím kudy chodím, tak tento snímeček byl opravdu mimořádný omyl. Nic tak šíleně nudného jsem opravdu velmi dlouho neviděl. Přestože bych očekával, že jako filmovému maniakovi mi bude toto téma blízké, tak jsem byl mimořádně zklamán. Celou stopáž se děje totální **hovno.** Právě totálně nezajímavý děj dokonale pohřbil veškerý potenciál snímku. Kromě krátké ukázky filmové techniky dob minulých, jsem si z filmu odnesl vyloženě jen zvýšený adrenalin při trpění u pohledu na ten nevtipný a nezajímavý paskvil. Takhle, pane Menzele, už nikdy více! Jinak začnu v hospodě u piva všem vykládat o tom, že jste **čurák.**"
      ],
      "text/plain": [
       "<IPython.core.display.Markdown object>"
      ]
     },
     "metadata": {},
     "output_type": "display_data"
    },
    {
     "name": "stdout",
     "output_type": "stream",
     "text": [
      "\n",
      "https://www.csfd.cz/uzivatel/172466-frajer42/\n",
      "Spy Game (2001) 2\n"
     ]
    },
    {
     "data": {
      "text/markdown": [
       "Katastrofální film, kde tvůrci posrali, co se dalo. Nechápu, jak se zde někdo může ohánět inteligentním scénářem, když to byla naprosto předvídatelná fraška. Redforda i Pitta mám rád, ale bohužel byly obsazení do maximálně nezajímavých rolí. Snímek je neskutečně užvaněný, přitom se děj takřka nehne z místa. Absolutně mi neseděla forma retrospektivních vzpomínek. Druhou hodinu už jsem hleděl vyloženě jen do stropu. Obrovské zklamání. Tento film je velice špatný i na břídila Tony Scotta. **Fuj!**"
      ],
      "text/plain": [
       "<IPython.core.display.Markdown object>"
      ]
     },
     "metadata": {},
     "output_type": "display_data"
    },
    {
     "name": "stdout",
     "output_type": "stream",
     "text": [
      "\n",
      "https://www.csfd.cz/uzivatel/172466-frajer42/\n",
      "Vše o mé matce (1999) 6\n"
     ]
    },
    {
     "data": {
      "text/markdown": [
       "Totálně nudná **sračka.** Sonda do života lepší spodiny společnosti. Divák sleduje celou stopáž dialogy otravných kurev a jejich nehezké osudy, které samozřejmě nebyly jejich zásluhou. Prostě k ním byl život nemilosrdný. Bohužel **kurvy** zřejmě sdílely málo motivačních citátů, a tak se nedokázaly postavit na vlastní nohy a stát se úspěšnými, tudíž jen tiše trpěly. Otřesný film plný nudných a otravných neherců. Tohle je tedy těžce nadhodnocovaná **píčovina.**"
      ],
      "text/plain": [
       "<IPython.core.display.Markdown object>"
      ]
     },
     "metadata": {},
     "output_type": "display_data"
    },
    {
     "name": "stdout",
     "output_type": "stream",
     "text": [
      "\n",
      "https://www.csfd.cz/uzivatel/172466-frajer42/\n",
      "Věčný svit neposkvrněné mysli (2004) 2\n"
     ]
    },
    {
     "data": {
      "text/markdown": [
       "Tak tady se bude bohužel moje hodnocení zcela rozcházet s davovým. Herecky povedené na tom se asi všichni shodneme, ale ten příběh stál, slušně řečeno, za **hovno.** Možná, že se najdou jedinci, kterým příběh vyhovoval, ale já jsem prožíval jednu dlouhou nudu. Podle mého názoru naporstá orginalita režie ještě nezaručuje kvalitní film. Někdy prostě méně znamená více. Není vždy potřeba být za každou cenu orginální a ubírat tak na srozumitelnosti příběhu. Ale možná jsem ten konec dostatečně nepobral, a to hlavně proto, že už jsem tomu samou nudou nevěnoval dostatečnou pozornost. Na rady některých uživatelů nedám. Nemám v úmyslu se znovu dívat na film, který se mi na první zhlédnutí nelíbil. Nicméně se to bez větších potíží dokoukat dalo. Zážitek je však téměř nulový. #"
      ],
      "text/plain": [
       "<IPython.core.display.Markdown object>"
      ]
     },
     "metadata": {},
     "output_type": "display_data"
    },
    {
     "name": "stdout",
     "output_type": "stream",
     "text": [
      "\n",
      "https://www.csfd.cz/uzivatel/172466-frajer42/\n",
      "https://www.csfd.cz/uzivatel/172466-frajer42/\n",
      "https://www.csfd.cz/uzivatel/172466-frajer42/\n",
      "https://www.csfd.cz/uzivatel/172466-frajer42/\n",
      "https://www.csfd.cz/uzivatel/172466-frajer42/\n",
      "https://www.csfd.cz/uzivatel/172466-frajer42/\n",
      "Je to i můj život (2009) 2\n"
     ]
    },
    {
     "data": {
      "text/markdown": [
       "Tenhle film se vám snaží atakovat city ze všech stran, ale tak nějak neúspěšně. Nějak mě to nechalo po celou dobu naprosto emočně chladným. A pokud se takhle zaměřenému filmu s tak choulostivým tématem prostě nepodaří dojmout, je asi něco špatně. Herecké výkony v rámci žánru přiměřené. Stejně tak hudba. Dávám # jen proto, že film má alespoň nějaké poselství, které se snaží předat, tím pádem není tak úplně **debilní.**"
      ],
      "text/plain": [
       "<IPython.core.display.Markdown object>"
      ]
     },
     "metadata": {},
     "output_type": "display_data"
    },
    {
     "name": "stdout",
     "output_type": "stream",
     "text": [
      "\n",
      "https://www.csfd.cz/uzivatel/172466-frajer42/\n",
      "https://www.csfd.cz/uzivatel/172466-frajer42/\n",
      "https://www.csfd.cz/uzivatel/172466-frajer42/\n",
      "Absolvent (1967) 2\n"
     ]
    },
    {
     "data": {
      "text/markdown": [
       "Vynikající Dustin Hoffman a snad ještě lepší hudební doprovod. Tím jsem vyčerpal vše pozitivní. Zbývá už jen přihlouplý děj a průměrné dialogy. Pointa se dala shrnout na úroveň krátkometrážního snímku. Komedie? - Zasmál jsem se přesně 0x. Drama? - Zůstal jsem emočně prázdným. Romantický? - Nedokážu posoudit, neboť tenhle žánr vyloženě nesnáším. Naprosto **stupidní** film, který mi nic výjimečného nedokázal nabídnout. A málem bych zapomněl na velmi vychvalovanou finální scénku. Slovo ,,trapná\" se ani nepřibližuje. Vždy perfektní Dustin Hoffman + impozantní soundtrack asi někomu stačí k udělení 5 - ti hvězdiček. Já za to dávám hvězdičku jednu."
      ],
      "text/plain": [
       "<IPython.core.display.Markdown object>"
      ]
     },
     "metadata": {},
     "output_type": "display_data"
    },
    {
     "name": "stdout",
     "output_type": "stream",
     "text": [
      "\n",
      "https://www.csfd.cz/uzivatel/172466-frajer42/\n",
      "Big Lebowski (1998) 2\n"
     ]
    },
    {
     "data": {
      "text/markdown": [
       "Opravdu jsme viděli stejný film? Tenhle kousek má ke geniální komedii asi tak blízko, jako cikán k neplacený brigádě. Nemohl jsem se dočkat až tahle **blbost** skončí. Po zhlédnutí jsem byl otrávenej, jak zrní pro potkany. Mnoho jsem od toho očekával. Očekávání zůstalo nenaplněno. Pohádka o tom, jak člověku dokáže změnit život jeden pochcanej koberec. Dávám # za neoddiskutovatelnou orginalitu."
      ],
      "text/plain": [
       "<IPython.core.display.Markdown object>"
      ]
     },
     "metadata": {},
     "output_type": "display_data"
    },
    {
     "name": "stdout",
     "output_type": "stream",
     "text": [
      "\n",
      "https://www.csfd.cz/uzivatel/172466-frajer42/\n",
      "https://www.csfd.cz/uzivatel/172466-frajer42/\n",
      "https://www.csfd.cz/uzivatel/172466-frajer42/\n",
      "https://www.csfd.cz/uzivatel/172466-frajer42/\n",
      "https://www.csfd.cz/uzivatel/172466-frajer42/\n",
      "https://www.csfd.cz/uzivatel/172466-frajer42/\n",
      "https://www.csfd.cz/uzivatel/172466-frajer42/\n",
      "https://www.csfd.cz/uzivatel/172466-frajer42/\n",
      "Mlha (2007) 2\n"
     ]
    },
    {
     "data": {
      "text/markdown": [
       "Tak tohle se panu Darabontovi trošičku nepovedlo. Začal bych tak nějak od konce, který jediný na mě tak nějak zapůsobil a díky němu tak nějak nedávám odpad. Dále. Příběh není vyloženě **debilní,** nicméně se příšerně táhne. Když jsem se k tomuto filmu odhodlal, tak mě zajímalo hlavně jak si povede Frank Darabont v hororovém žánru, neboť jsem si ho v tomto ohledu nedovedl představit a stejně tak si nedovedu představit, že by v režírování hororů pokračoval, protože jim chybí jedna taková nepatrná maličkost....nejsou strašidelné. Takže tento film nechť je průserem. Doporučuji ho však dokoukat do konce, protože přijde světélko na konci tunelu. #"
      ],
      "text/plain": [
       "<IPython.core.display.Markdown object>"
      ]
     },
     "metadata": {},
     "output_type": "display_data"
    },
    {
     "name": "stdout",
     "output_type": "stream",
     "text": [
      "\n",
      "https://www.csfd.cz/uzivatel/172466-frajer42/\n",
      "https://www.csfd.cz/uzivatel/172466-frajer42/\n",
      "https://www.csfd.cz/uzivatel/172466-frajer42/\n",
      "https://www.csfd.cz/uzivatel/172466-frajer42/\n",
      "https://www.csfd.cz/uzivatel/172466-frajer42/\n",
      "Anglický pacient (1996) 2.5\n"
     ]
    },
    {
     "data": {
      "text/markdown": [
       "No, myslím že bych v tomhle filmu našel alespoň hodinku nudy bez které bych se v tomto filmu obešel. Opravdu nechápu proč film disponuje tak dlouhou stopáží, když se valnou většinu nic za zmínku stojícího neděje. Emočně to jelo obrovskou objížďkou mimo mě. Jediné, co si v tomhle filmu zaslouží skutečné uznání, tak to jsou herecké výkony snad všech hlavních postav. Jinak je to příšerná nuda, bez kapky náboje. Dva lidi se zamilují. Vážně si myslíte, že je to něco co tu ještě nebylo? Vážně si myslíte, že už to téma je hodno oskara? Stokrát zopakované téma v nepříliš originální a zajímavé podobě. Ten film tohle ocenění pouze ztrapňuje a snižuje jeho hodnotu. Možná mělo padnout ocenění za kostýmy, možná za herecké výkony, možná i něco za hudbu, ale film jako celek je příšerná NUDNÁ **sračka.** Z filmu si neodnáším naprosto žádné pozitivní dojmy. Jak pomalu uplynul, tak rychle na něj zapomenu. Už..#"
      ],
      "text/plain": [
       "<IPython.core.display.Markdown object>"
      ]
     },
     "metadata": {},
     "output_type": "display_data"
    },
    {
     "name": "stdout",
     "output_type": "stream",
     "text": [
      "\n",
      "https://www.csfd.cz/uzivatel/172466-frajer42/\n",
      "Interview s upírem (1994) 2\n"
     ]
    },
    {
     "data": {
      "text/markdown": [
       "Tak nějak mi to celé přišlo trochu o ničem. Děj se příšerně táhne. Jako by měl pan režisér předepsanou stopáž a snažil se ji zaplnit a neměl pořádně čím. Trio Cruise Pitt a Banderas bylo však vysoce koukatelné a tak nějak alespoň z části mi vykompenzovalo **stupidní** příběh bez jiskry a náboje. Já vám nevím, ale nebýt těch jmen v kolonkách zúčastněných na tomhle filmu, možná že by skončil v propadlišti dějin. Ty jména tam však byla a z úcty k nim nedám odpad, přesto se moje hodnocení odpadu blíží.#"
      ],
      "text/plain": [
       "<IPython.core.display.Markdown object>"
      ]
     },
     "metadata": {},
     "output_type": "display_data"
    },
    {
     "name": "stdout",
     "output_type": "stream",
     "text": [
      "\n",
      "https://www.csfd.cz/uzivatel/172466-frajer42/\n",
      "https://www.csfd.cz/uzivatel/172466-frajer42/\n",
      "Vetřelec (1979) 2\n"
     ]
    },
    {
     "data": {
      "text/markdown": [
       "Než jsem se patřičně rozkoukal, tak jsem měl velké problémy zvyknout si na stařičký interiér lodi. Nejsem ani příznivcem tohoto druhu sci - fi žánru, který vyvrací veškeré zákony vesmíru. Strach? Možná rok až dva po premiéře. Na dnešní poměry působí jak atmosféra, tak i provedení vetřelce spíše směšně. Co si budem povídat, postavy jednají maximálně **debilně,** a tak po zásluze jedna po druhé zemřou a nebýt toho, že vesmír v tomhle filmu vychází asi z něčeho o moc vyspělejšího než je teorie relativity, kterou bez mrknutí oka opovrhuje, tak díky tomuhle faktoru nám tu alespoň hlavní hrdinka utekla ze spárů strašně zlého vetřelce. Až na hlavní hrdinku jsem si nenašel sympatie vůbec k nikomu, a tak jsem tiše fandil vetřelci. Dávám #. Za dobově dostačující efekty a za pár divácky atraktivních míst, ovšem mnohdy v rozporu s lidským chápáním. Zdejšímu hodnocení se jen tiše směji. To by člověk nevěřil kolik je tu pamětníků, jinak si tak vysoké hodnocení nejsem schopen vysvětlit."
      ],
      "text/plain": [
       "<IPython.core.display.Markdown object>"
      ]
     },
     "metadata": {},
     "output_type": "display_data"
    },
    {
     "name": "stdout",
     "output_type": "stream",
     "text": [
      "\n",
      "https://www.csfd.cz/uzivatel/172466-frajer42/\n",
      "https://www.csfd.cz/uzivatel/172466-frajer42/\n",
      "Pýcha a předsudek (2005) 2\n"
     ]
    },
    {
     "data": {
      "text/markdown": [
       "Citově naprosto prázdný film o rodině plné žen, které se rodiče snaží za každou cenu provdat. Děj naprosto **stupidní** vytáhnutý bůh ví odkud. Omlouvám se, ale nepatřím mezi nadšence do tohoto žánru, do žánru, kde se pěkně tančí, všichni jsou zdvořilí a jinak se nic závratného neděje. Přesto jsem názoru, že film disponuje určitou noblesou, tudíž si myslím, že hodnocení odpad sem prostě nepatří. Zkusím vypíchnout pár věcí, kvůli kterým se snad film může líbit. Kostýmy, hudební doprovod, Keira Knightley, Matthew MacFadyen. Myslím, že z tohoto se ta hvězdička vytáhnout dá. Víc ode mne nečekejte, na dvouhodinovou nudu je moje hodnocení až přehnaně vysoké."
      ],
      "text/plain": [
       "<IPython.core.display.Markdown object>"
      ]
     },
     "metadata": {},
     "output_type": "display_data"
    },
    {
     "name": "stdout",
     "output_type": "stream",
     "text": [
      "\n",
      "https://www.csfd.cz/uzivatel/172466-frajer42/\n",
      "Ex Drummer (2007) 2.5\n"
     ]
    },
    {
     "data": {
      "text/markdown": [
       "Netvrďte mi, že tohle pan režisér myslel skutečně vážně? Nevím zda to mám chápat jako vydařenou komedii, či něco úplně odlišného vysoce zvráceného. Film naprosto jedinečným způsobem provokuje naprosto celou společnost. Nemám ponětí z čeho pan režisér vycházel, neboť s naprosto čistým svědomím mohu říct, že mezi českými kapelami to takhle nevypadá. A nevypadá to tak ani ve společnosti mnou prozatím poznané. Naprostá neúcta k rodičům, incest. Na každým kroku gay, nejnenáviděnější postava ve společnosti. Na každým druhém kroku šílenec, či **idiot.** Nemám ani tušení, jakou myšlenku, či poselství se nám tenhle film, založený na absolutní degeneraci společnosti a přemíře násilí, snaží předat. Možná někteří, kteří si do té doby nevážili života si ho vážit začnou. Nicméně tohle je naprosto amatérská filmařina. Maximálně nesympatičtí herci, příšerná hudba. A nebýt toho 5-ti minutového finále, tak bych nad odpadem asi neváhal. Takhle odpad dát nemohu za nesmírnou orginalitu a nebojácnost se vydat zrovna touhle nepříjemnou cestou. Tohle však nepovažuji za žádný druh umění. Tohle byl výplod nejzvrácenějších představ nějakého mentálně indisponovaného člověka. # sem přesto patří. P.S. Tenhle film má tak vysoké hodnocení asi hlavně proto, že ho zrovna moc lidí nevidělo, to svědčí o jeho kvalitě."
      ],
      "text/plain": [
       "<IPython.core.display.Markdown object>"
      ]
     },
     "metadata": {},
     "output_type": "display_data"
    },
    {
     "name": "stdout",
     "output_type": "stream",
     "text": [
      "\n",
      "https://www.csfd.cz/uzivatel/172466-frajer42/\n",
      "https://www.csfd.cz/uzivatel/172466-frajer42/\n",
      "https://www.csfd.cz/uzivatel/172466-frajer42/\n",
      "https://www.csfd.cz/uzivatel/172466-frajer42/\n",
      "https://www.csfd.cz/uzivatel/172466-frajer42/\n",
      "Malá Velká Británie v USA (TV seriál) (2008) 2.5\n"
     ]
    },
    {
     "data": {
      "text/markdown": [
       "Stejné hodnocení jako u Malé Velké Británie ve Velké Británii. Zase určité scénky ( vozíčkář, kulturisti, astronaut ) výborné. Zbytek totální nuda a **hnus,** který jsem opět a znovu přetáčel. A vzhledem k tomu, že USA má o dvě série méně než Británie, tak jsem seriál sjel ještě rychleji. Hodnocení však zůstane stejné. Opět #."
      ],
      "text/plain": [
       "<IPython.core.display.Markdown object>"
      ]
     },
     "metadata": {},
     "output_type": "display_data"
    },
    {
     "name": "stdout",
     "output_type": "stream",
     "text": [
      "\n",
      "https://www.csfd.cz/uzivatel/172466-frajer42/\n",
      "Malá Velká Británie (TV seriál) (2003) 2.5\n"
     ]
    },
    {
     "data": {
      "text/markdown": [
       "Naprostá většina seriálu je tak strašně **debilní** a trapná, že je totálně nekoukatelná. Našlo se zde ovšem i pár vyjímek, které mě VŽDY rozesmály. Vyjímkami mám na mysli učitele a jeho třídu, vozíčkáře a jeho bráchu, pidičlovíčka a pokusy o zápis do Guinnessovy knihy rekordů. Tyto koukatelné vyjímky však dostávají celkově v seriálu nebezpečně málo prostoru. Moje sledování asi od třetího dílu probíhalo stylem, rychlého přetáčení a zastavení pouze v momentech, když tyhle vyjímky měly vystoupení, tudíž jsem celý seriál sjel velmi rychle. Takže odpad ne, ale více než # z toho asi nedostanu."
      ],
      "text/plain": [
       "<IPython.core.display.Markdown object>"
      ]
     },
     "metadata": {},
     "output_type": "display_data"
    },
    {
     "name": "stdout",
     "output_type": "stream",
     "text": [
      "\n",
      "https://www.csfd.cz/uzivatel/172466-frajer42/\n",
      "Uprchlík (1993) 2\n"
     ]
    },
    {
     "data": {
      "text/markdown": [
       "Naprostá tuctovka. Vážně nechápu, co dělá tenhle film něčím vyjímečným. Naprosto hloupá zápletka. Vražda. Obrovská konspirace všech. Především pak těch nejdůvěryhodnějších. Falešné obvinění a následné odsouzení k trestu smrti. Nehoda při převozu a následný útěk. Efekty z dnešního pohledu totálně zastaralé. Tento film se dokonce neliší ani v samotné **debilitě** nejrůznějších situací, kde hlavní hrdina, doktor, který je hledaný půlkou ameriky se nepozorovaně dostane do každé budovy, kde se při té příležitosti stihne i oholit, najíst, vytisknout si potřebná data z PC a ještě se převléct. Kde při skoku do přehrady neplatí totálně žádné fyzikální zákony. Kde slovo smrt prostě neexistuje. Děj je totálně předvídatelný a výsostě hloupý. Charaktery postav dost uboze napsané. Za Harrison Forda dávám #."
      ],
      "text/plain": [
       "<IPython.core.display.Markdown object>"
      ]
     },
     "metadata": {},
     "output_type": "display_data"
    },
    {
     "name": "stdout",
     "output_type": "stream",
     "text": [
      "\n",
      "https://www.csfd.cz/uzivatel/172466-frajer42/\n",
      "https://www.csfd.cz/uzivatel/172466-frajer42/\n",
      "Hugo a jeho velký objev (2011) 2.5\n"
     ]
    },
    {
     "data": {
      "text/markdown": [
       "Úplně nevím, kde mám začít. Snad u Asa Butterfielda, kterým mě neskutečným způsobem vadil. Přitom ve filmu Chlapec v pruhovaném pyžamu se mi jeho výkon docela zamlouval. Celkově mi tento film přišel tak trošku víc o ničem a kdyby náhodou dostal nějakého toho oscara, tak bych byl dost naštvaný. Na Scorseseho zaujímám takový nějaký neutrální postoj. Viděl jsem od něj filmy, které ve mne zanechaly skutečně působivý zážitek a viděl jsem od něj i filmy naprosto **debilní.** Tohle je jeden z nich. Bohužel mám takový špatný pocit, že na takové téma páni akademici poletí. Tak trošku byl z filmu vytlačen nějaký ten děj a na jeho místo byla nacpána spousta odkazů a spousta pocty všem filmům té vůbec nejrannější kinematografie, kterou si vůbec člověk troufne představit. Film disponuje docela zajímavou hudbou. Škoda, že se mi nelíbila. Jsem docel zklamán. Až na ty sekvence, co měly být jakože staré ten film nestojí vůbec za nic. A já hlupák se na něj těšil. Film jsem viděl v 2D, ale myslím, že 3D by mi na hodnocení příliš nepřidalo. #"
      ],
      "text/plain": [
       "<IPython.core.display.Markdown object>"
      ]
     },
     "metadata": {},
     "output_type": "display_data"
    },
    {
     "name": "stdout",
     "output_type": "stream",
     "text": [
      "\n",
      "https://www.csfd.cz/uzivatel/172466-frajer42/\n",
      "https://www.csfd.cz/uzivatel/172466-frajer42/\n",
      "https://www.csfd.cz/uzivatel/172466-frajer42/\n",
      "https://www.csfd.cz/uzivatel/172466-frajer42/\n",
      "https://www.csfd.cz/uzivatel/172466-frajer42/\n",
      "https://www.csfd.cz/uzivatel/172466-frajer42/\n",
      "Samotáři (2000) 4\n"
     ]
    },
    {
     "data": {
      "text/markdown": [
       "Jediným světlým bodem tohoto filmu je Jirka Macháček. Bohužel více prostoru než on dostávájí postavy zbývající, jejichž osudy jsou mi totálně volné. Skoro všichni herci mi zde neskutečně vadili. A jakmile vám ve filmu začnou vadit herci, tak už se vám film asi líbit nebude. V celkovém součtu se tedy nejedná o nic koukatelného a ani stravitelného. Po stránce zvukové je to o něco lepší. Hudba je vzhledem k tomu, že se jedná o český film nadprůměrná. Cítím z filmu obrovskou snahu něco zlomového sdělit, co by změnilo chod dějin. Bohužel to u snahy končí, protože tihle tvůrci na nic zlomového prostě nemají. Podařily se zde asi tak 2 - 3 hlášky, které dohromady nezaberou ani minutu, a to považuji v takhle dlouhém filmu jako málo. Mám však ve zvyku dávat odpad pouze v případech, kdy se mi film **hnusí** a zároveň neprojevím žádné emoce. Tady se mi film **hnusil,** ale 2 x jsem se zasmál, a proto dávám #."
      ],
      "text/plain": [
       "<IPython.core.display.Markdown object>"
      ]
     },
     "metadata": {},
     "output_type": "display_data"
    },
    {
     "name": "stdout",
     "output_type": "stream",
     "text": [
      "\n",
      "https://www.csfd.cz/uzivatel/172466-frajer42/\n",
      "Skřivánci na niti (1969) 2\n"
     ]
    },
    {
     "data": {
      "text/markdown": [
       "Mě teda tento film po všech stránkách minul, což je zapříčiněno nejvíce tím, že jsem neměl to štěstí danou dobu zažít a mohu si ji pouze představovat. Rozhodně to však není důvod jediný. Po komediální stránce to bylo holé neštěstí, neboť vtipného tady neráčilo být vůbec nic. Spousta filosofických keců o tom, jak je doba strašná, ale přesto se dovedeme radovat z maličkostí. Jeden totálně **blbý** milostný románek. A poté už v podstatě pouze závěrečné titulky. Viděl jsem 4 lepší Menzelovy filmy a zároveň žádný horší. Víc než # bych nevykouzlil ani kdybych byl mistr Evropy v praktikování černé magie."
      ],
      "text/plain": [
       "<IPython.core.display.Markdown object>"
      ]
     },
     "metadata": {},
     "output_type": "display_data"
    },
    {
     "name": "stdout",
     "output_type": "stream",
     "text": [
      "\n",
      "https://www.csfd.cz/uzivatel/172466-frajer42/\n",
      "https://www.csfd.cz/uzivatel/172466-frajer42/\n",
      "https://www.csfd.cz/uzivatel/172466-frajer42/\n",
      "Sunset Blvd. (1950) 2\n"
     ]
    },
    {
     "data": {
      "text/markdown": [
       "Tak zdejší radost a nadšení z tohoto snímku s vámi sdílet opravdu nemohu. Film mě vskutku nijak neoslnil. Pravdou však zůstává, že před faktem, že tento film vznikl v roce 1950 se prostě musí smeknout. Moje konečné hodnocení to však jen těžko ovlivní. Hlas vypravěče byl příjemný a konec správně vyhrocený. Ovšem to všechno mezi tím, co si každý divák musel vytrpět prostě opomenout nejde. Herecky je film zvládnutý bravurně, ale tak už to u těch starých klenotů prostě bývá. Ty, které herecky zvládnuté nejsou, na ty se jednoduše zapomene. Myšlenku film nemá rozhodně silnou. Jedná se o takovou lehčí kritiku, která nám vlastně ukazuje, jaké že je Hollywood zlo. Tak se z toho všeho všichni **posereme** a napálíme rovnou třeba 6 hvězd.? Já tedy hodlám hodnotit tak, jak mi napovídá moje vědomí a svědomí. Více než 1# bych ze sebe nedostal ani se silným projímadlem."
      ],
      "text/plain": [
       "<IPython.core.display.Markdown object>"
      ]
     },
     "metadata": {},
     "output_type": "display_data"
    },
    {
     "name": "stdout",
     "output_type": "stream",
     "text": [
      "\n",
      "https://www.csfd.cz/uzivatel/172466-frajer42/\n",
      "https://www.csfd.cz/uzivatel/172466-frajer42/\n",
      "https://www.csfd.cz/uzivatel/172466-frajer42/\n",
      "https://www.csfd.cz/uzivatel/172466-frajer42/\n",
      "https://www.csfd.cz/uzivatel/172466-frajer42/\n",
      "https://www.csfd.cz/uzivatel/172466-frajer42/\n",
      "https://www.csfd.cz/uzivatel/172466-frajer42/\n",
      "https://www.csfd.cz/uzivatel/172466-frajer42/\n",
      "https://www.csfd.cz/uzivatel/172466-frajer42/\n",
      "https://www.csfd.cz/uzivatel/172466-frajer42/\n",
      "https://www.csfd.cz/uzivatel/172466-frajer42/\n",
      "https://www.csfd.cz/uzivatel/172466-frajer42/\n",
      "Muž s kinoaparátem (1929) 7.49\n"
     ]
    },
    {
     "data": {
      "text/markdown": [
       "Zcela upřímně musím pronést, že ta 5 hvězdičková hodnocení naprosto nechápu. A klidně mě kvůli tomu nemějte rádi. Celý film je prakticky o tom, že si jeden frajer koupil kameru a cítí potřebu se pochlubit, a tak si filmuje CCCP. Tam si natočí porod. Tam si natočí ženy nahoře bez. Tam si natočí ruční výrobu cigaret. Tam předvede nějaké kamerové triky, které jsou na celém filmu to vůbec nejroztomilejší. Velmi krátká stopáž vám skoro zaručí, že tohle nebude film, u kterého by se vám podařilo usnout. Myslím si, že teď je ten úplně nejvhodnější okamžik, abych se opřel do hudebního doprovodu. Hrůza. **Fuj.** **Fuj.** **Fuj.** Pevně věřím, že nejsem jediný člověk, který to slyšel. Pevně si stojím za tím, že podobný experiment měl vzniknout minimálně o 15 let dříve. Potom bych se nemusel stydět slýchat v souvislosti s tímto filmem slovo \"kult\". Dal bych klidně i 2#, ale bohužel mě nějak nenapadá za co."
      ],
      "text/plain": [
       "<IPython.core.display.Markdown object>"
      ]
     },
     "metadata": {},
     "output_type": "display_data"
    },
    {
     "name": "stdout",
     "output_type": "stream",
     "text": [
      "\n",
      "https://www.csfd.cz/uzivatel/172466-frajer42/\n",
      "Let číslo 93 (2006) 2\n"
     ]
    },
    {
     "data": {
      "text/markdown": [
       "Docela nezáživné zpracování mýtu o 11. září 2001. Na můj vkus ,,teroristé\" neříkali jméno ,,Aláh\" v dostatečné hojnosti, což mě velmi zklamalo. A vůbec film má ubohé uspávající tempo, takže jsem ho zkoukl na čtyři etapy a v té třetí jsem byl navíc dosti posilněn. Úplně vše, až na jeden okamžik, je zde špatné, takže jsem se rozhodl, že zde nebudu vše vypisovat a pouze sdělím ten okamžik, který se mi ve filmu líbil. Byl to samotný závěr a následné sentimentální titulky o 11. září. Vše ostatní, jak už jsem si dovolil zmínit, je nudné, ubohé a **debilní.** Takže když dám ve finále 1#, tak si myslím, že jsem strašně milosrdný. Jinak se mám fajn."
      ],
      "text/plain": [
       "<IPython.core.display.Markdown object>"
      ]
     },
     "metadata": {},
     "output_type": "display_data"
    },
    {
     "name": "stdout",
     "output_type": "stream",
     "text": [
      "\n",
      "https://www.csfd.cz/uzivatel/172466-frajer42/\n",
      "Odplata (1999) 6\n"
     ]
    },
    {
     "data": {
      "text/markdown": [
       "Lidi **neblbněte.** 85%? Za co? Čím je film výjimečný? Vážně to chcete vědět? Není výjimečný vůbec ničím. Je to vlastně naprosto trapná **blbost** s **debilním** příběhem, kde jsou asi 2 až 3 koukatelné scénky, které dohromady netrvají déle než 5 minut. Zkrátka nic moc. Spíše nic než moc. Valnou většinu stopáže okupuje nuda. 1# bude tak akorát."
      ],
      "text/plain": [
       "<IPython.core.display.Markdown object>"
      ]
     },
     "metadata": {},
     "output_type": "display_data"
    },
    {
     "name": "stdout",
     "output_type": "stream",
     "text": [
      "\n",
      "https://www.csfd.cz/uzivatel/172466-frajer42/\n",
      "Hačikó - příběh psa (2009) 2\n"
     ]
    },
    {
     "data": {
      "text/markdown": [
       "Přiznám se, že Richard Gera totálně nenávidím a řadím ho mezi ty vůbec nejnenáviděnější herce současnosti. Proč? Protože obvykle hrává v totálních, promiňte mi to slovo, **sračkách.** Na druhou stranu Lesse Hallström mě už mnohokrát velmi příjemně překvapil, tudíž jsem netušil, co bych od tohoto snímku mohl očekávat. Neodpustím si poznamenat, že celkový děj, chování postav a další věci mi připadaly totálně japonské. Když zavřu jedno oko a druhé nechám polozavřené, tak možná jihokorejské. Rozhodně však ne americké. Totální skok vedle. Na druhou stranu, kdyby nevznikl tento remake, tak bych na japonský orginál - Věrný pes Čiko (1987) asi jen těžko někdy narazil, tudíž bych neznal tu legendu o věrném pejskovi. Jaká by to byla škoda(ironie). Film mě samozřejmě totálně nebavil. Obrovskou zásluhu na divácké oblíbenosti má určitě Honza Kaczmarek a jeho sladká hra na piano, která byla sladší než zlatý Jelzin. Těch 89 minut mi přišlo jako minimálně 120 minut. Ano, takhle moc byl film svižný.(další ironie) Úplně odpadové to nebylo. Řekl bych taková pěknější 1#."
      ],
      "text/plain": [
       "<IPython.core.display.Markdown object>"
      ]
     },
     "metadata": {},
     "output_type": "display_data"
    },
    {
     "name": "stdout",
     "output_type": "stream",
     "text": [
      "\n",
      "https://www.csfd.cz/uzivatel/172466-frajer42/\n",
      "Mizerové (1995) 4\n"
     ]
    },
    {
     "data": {
      "text/markdown": [
       "Ve filmu jsou asi tak 2 až 3 slušné hlášky. Jinak je to celé lehce o hovně. Příliš nerozumím tomu relativně vysokému hodnocení. To se vám tahle **sračka** opravdu líbí? Naštěstí se jedná o Bayův první film a takové filmy mají opravdu pouze někdy slušnou kvalitku. Časem se Bay samozřejmě dost výrazně zlepšil a konečně mohl naplňovat svůj režisérský záměr - bavit lidi. To však nic nemění na tom, že Mizerové jsou zkrátka **sračka.** Dokonce jsem asi u největší akční scénky usnul a to určitě o něčem svědčí. Nicméně Téa Leoni je skutečně kus, takže právě díky ní to nebude čistý odpad."
      ],
      "text/plain": [
       "<IPython.core.display.Markdown object>"
      ]
     },
     "metadata": {},
     "output_type": "display_data"
    },
    {
     "name": "stdout",
     "output_type": "stream",
     "text": [
      "\n",
      "https://www.csfd.cz/uzivatel/172466-frajer42/\n",
      "https://www.csfd.cz/uzivatel/172466-frajer42/\n",
      "Nikdy to nevzdávej (2008) 4\n"
     ]
    },
    {
     "data": {
      "text/markdown": [
       "Když opomenu neopomenutelné, čímž mám na mysli naprosto totálně **sračkoidní** děj, který je tak šablonovitý, jak jen děj může šablonovitý být, tak se film snést dá. Neohromí, nezaujme, nebaví, ale snést se dá. Jiné by to bylo v případě, že byste čirou náhodou byli vygumovaní a hloupí čuráci. V takovém případě by klidně mohlo přilétnout třeba i 5#. Nikdy to nevzávej je film, o kterém po pár minutách víte nejenom, jak celý dopadne, ale odhadnete i jeho detailní průběh a to celkem bezchybně. Je to naivní, je to hloupé a je to hlavně totálně okopírované. A ta milostná zápletka...Raději nebudu rozvádět, co si o ní myslím, protože moje zásoby vulgarismů by v tomto případě byly nedostatečné. Film je určen opravdu tak pro děti kolem 7 let, kteří hledají inspiraci, jak nakládat s volným časem. A když se tak mírně nakouknu kolik má film fanoušků, tak je tady těch 7 letých dětí opravdu požehnaně. Odpad nedávám pouze proto, že jsou zde slušné akční scénky, i když v podání tak nesympatických **idiotů** většinu své pohlednosti ztrácejí. Jsem opravdu zklamán."
      ],
      "text/plain": [
       "<IPython.core.display.Markdown object>"
      ]
     },
     "metadata": {},
     "output_type": "display_data"
    },
    {
     "name": "stdout",
     "output_type": "stream",
     "text": [
      "\n",
      "https://www.csfd.cz/uzivatel/172466-frajer42/\n",
      "https://www.csfd.cz/uzivatel/172466-frajer42/\n",
      "Uvnitř tančím (2004) 8\n"
     ]
    },
    {
     "data": {
      "text/markdown": [
       "No zase taková paráda to rozhodně nebyla. Ale už jsem si nějak zvykl, že filmy o **retardérech** jsou zde značně nadhodnocené. Jeden **retardér** má vůli žít a předává ji dost netradičním způsobem svému okolí. O tom je v podstatě celý film. Zasmál jsem se jednou, a to konkrétně, když si naše **retardérské** duo chtělo zatančit v baru. Nechybí zde smrt. Samozřejmě neprozradím ani náznakem, o kterou postavu se bude jednat. Ovšem věřím, že se vám to podaří odhadnout minimálně stejně dobře jako mně, protože je to takový klasický slaďáček, který prostě nemá moc čím překvapit. Mnoho uplakánků tady popisuje, jak je film hrozně dojemný. Já tedy nepocítil nic, co by alespoň hodně vzdáleně dojetí připomínalo. Zato taková lehká nuda mě neopustila od začátku až do konce. Možná to dost pokazil český dabing, který byl více než strašný. Zejména dabing toho **retardéra,** kterému nešlo rozumnět mi neskutečně vadil. Lepší #. Víc nemám opravdu za co dát."
      ],
      "text/plain": [
       "<IPython.core.display.Markdown object>"
      ]
     },
     "metadata": {},
     "output_type": "display_data"
    },
    {
     "name": "stdout",
     "output_type": "stream",
     "text": [
      "\n",
      "https://www.csfd.cz/uzivatel/172466-frajer42/\n",
      "Mulholland Drive (2001) 10.5\n"
     ]
    },
    {
     "data": {
      "text/markdown": [
       "Já si prostě nejsem jistý, zda jsem tuhle **blbost** pochopil zcela správně, tedy tak jak ji zamýšlel pan režisér. Pokud se ovšem jeho záměr shoduje s vysvětlením celého filmu ve zdejším obsahu, které asi pochopíte až po zhlédnutí, tak ho chápu správně. Chvíli to smysl dává, chvíli zase ne. To bude asi tím, že skoro celý film tvoří vlastně jeden **debilní** sen a tam je možné prakticky cokoliv, třeba skákat od čertů k ďáblu. No nezlobte se, ale s takovým filmem jděte do **prdele.** Není žádné umění natočit **kokotinu** a podat ji tak, aby ji nikdo nepochopil na první pokus a mohla tak být považována za něco vyjímečného. Nějaké koukatelné zabití, nebo slušná lesbo scénka film prostě nespasí. Nehodlám se dívat na film znovu jenom proto, že režisér je **kokot** a nechce se mu natočit film srozumitelně, protože by vyplulo na povrch, že je to totální hovadina, která je na stejném levelu jako všechny filmu tomuto podobné ovšem podány srozumitelně. Raději tam nacpe milion zdánlivě nesouvisejících souvislostí a hrabte se v tom, a to že snová pasáž XY souvisí s tou reálnou XYZ označte za genialitu nejvyššího řádu a podobným způsobem si přeberte celý film tak, jak nejlíp dovedete a hlavně každý jinak, protože jednotného a správného vysvětlení každého detailu se stejně nikdy nedoberete. Výsledná myšlenka je však maximálně povrchní a dala by se shrnout jednou větou. Hollywood je zlo a dějí se zde sviňárny. Což se rozhodně dalo říct divácky atraktivnějším způsoobem. #"
      ],
      "text/plain": [
       "<IPython.core.display.Markdown object>"
      ]
     },
     "metadata": {},
     "output_type": "display_data"
    },
    {
     "name": "stdout",
     "output_type": "stream",
     "text": [
      "\n",
      "https://www.csfd.cz/uzivatel/172466-frajer42/\n",
      "V jako Vendeta (2005) 4\n"
     ]
    },
    {
     "data": {
      "text/markdown": [
       "Taková trošku v jako volovinka ne? Notak lidi. Přiznejme si, že je to **blbost.** Nač ta přetvářka. Potom tady já, zdravý člověk, vidím 126. nejoblíbenější film a podívám se na něj. To už nelze vzít zpět. Už jsem ho prostě viděl a jsem navždy poznamenán. Natalie Portman je ošklivá i s vlasy a tady jí je dokonce sundají. Kdo se na ni má potom dívat. Tak pěkný film to mohl být. Téma zajímavé a hlavní hrdina byl takový sympatický človíček se skromnou domácí **knihovnou** a maskou Shakespeara, nebo někoho podobně ošklivého. Ale takhle to poprasit? Ten děj je tady superhloupý a podáván tak hrozně nechytlavou formou až to pěkné není. Když zrovna chlápek, který si nechává říkat V, řezničí, tak se na to koukat dá. Ale všechno ostatní je jeden velký průšvih. Lepší #."
      ],
      "text/plain": [
       "<IPython.core.display.Markdown object>"
      ]
     },
     "metadata": {},
     "output_type": "display_data"
    },
    {
     "name": "stdout",
     "output_type": "stream",
     "text": [
      "\n",
      "https://www.csfd.cz/uzivatel/172466-frajer42/\n",
      "https://www.csfd.cz/uzivatel/172466-frajer42/\n",
      "https://www.csfd.cz/uzivatel/172466-frajer42/\n",
      "Galaxy Quest (1999) 10\n"
     ]
    },
    {
     "data": {
      "text/markdown": [
       "Nepopsatelná nuda se dvěmi až třemi lehoulince úsměvnými momenty. Hrozně nesympatické obsazení s velkým množstvím černovlasých vykleštěných homoklád, kteří právě obstarali ty lehoulince vtipné momenty. Jinak je to obrovská **sračka.** Star trek mi přijde jako **pičovina** sama o sobě. A dělat **pičovinu** z **pičoviny** nedá jiný výsledek než **pičovinu.** Jednu # si však film asi zaslouží."
      ],
      "text/plain": [
       "<IPython.core.display.Markdown object>"
      ]
     },
     "metadata": {},
     "output_type": "display_data"
    },
    {
     "name": "stdout",
     "output_type": "stream",
     "text": [
      "\n",
      "https://www.csfd.cz/uzivatel/172466-frajer42/\n",
      "https://www.csfd.cz/uzivatel/172466-frajer42/\n",
      "https://www.csfd.cz/uzivatel/172466-frajer42/\n",
      "Looper (2012) 4\n"
     ]
    },
    {
     "data": {
      "text/markdown": [
       "Looper, neboli smyčka. Smyčku by zasloužil samotný režisér. Přiznávám, že jsem **blbost** skutečně očekával, protože novodobé filmy, kdy se pan Willis objeví před kamerou na déle než 5 minut za nic nestojí. Pokud se k němu přidá někdo tak špatný, jako Joseph Gordon-Levitt bezesporu je, tak je neúspěch zaručen. Film se však rozhodně dá pokazit mnohem více. Stačí k tomu použít například dítě, které ignoruje gravitaci. Asi v polovině na mě dolehl spánek, ale ani po procitnutí to nebylo lepší. Akční scénky jsou nuda. Příběh je **idiotský** a zobrazená budoucnost i přítomnost mi prostě nesedla. Jediným kladným bodem může být to, že stmívání je ještě o trošku horší. 1#"
      ],
      "text/plain": [
       "<IPython.core.display.Markdown object>"
      ]
     },
     "metadata": {},
     "output_type": "display_data"
    },
    {
     "name": "stdout",
     "output_type": "stream",
     "text": [
      "\n",
      "https://www.csfd.cz/uzivatel/172466-frajer42/\n",
      "Divoká banda (1969) 4\n"
     ]
    },
    {
     "data": {
      "text/markdown": [
       "Přestřelky jsou na svoji dobu skutečně okouzlující. Děj se mi zdá docela komplikovaný a vzhledem k tomu, že jsem místy usínal, jsem se v něm brutálně ztrácel. Pravděpodobně jsem film ani nepochopil a bohužel nemám sebemenší chuť jej vidět znovu. Odnesl jsem si z něj pouze fakt, že ty **nejhnusnější** **kurvy** jsou v Mexiku. Muži té doby museli být skutečně velmi zoufalí, nebo v neustálém alkoholickém opojení. Pravděpodobně obojí. Přestřelek je ve filmu sice hned několik, ale většinu pasáže ovládlo nekonečné žvanění. Lepší 1#."
      ],
      "text/plain": [
       "<IPython.core.display.Markdown object>"
      ]
     },
     "metadata": {},
     "output_type": "display_data"
    },
    {
     "name": "stdout",
     "output_type": "stream",
     "text": [
      "\n",
      "https://www.csfd.cz/uzivatel/172466-frajer42/\n",
      "https://www.csfd.cz/uzivatel/172466-frajer42/\n",
      "https://www.csfd.cz/uzivatel/172466-frajer42/\n",
      "Pro hrst dolarů (1964) 2\n"
     ]
    },
    {
     "data": {
      "text/markdown": [
       "Sergio Leone byl bezesporu úžasný režisér, ale tento film je pouhá kopie o 3 roky staršího japonského přítele. Tušil jsem to samozřejmě už po přečtení obsahu, ale že to bude až tak podobné mě nemile překvapilo. A samozřejmě, že když jsem tuhle verzi viděl až po té japonské, tak tuhle musím shledat jednoznačně **debilnější.** Morriconeho hudba je samozřejmě opět geni(t)ální, ale je to trošku málo. Hrozně jsem se nudil a 2x během hodiny a půl usnul, a to není vůbec dobrá vizitka. Tohle je rozhodně Leoneho nejnepovedenější western, který snad ani nikdy neměl spatřit světlo světa. Jednu hvězdu vyhrabu pouze z úcty. Nehledě na to, že to ten křivozraký Japonec zpracoval mnohem lépe a vystačil si s meči."
      ],
      "text/plain": [
       "<IPython.core.display.Markdown object>"
      ]
     },
     "metadata": {},
     "output_type": "display_data"
    },
    {
     "name": "stdout",
     "output_type": "stream",
     "text": [
      "\n",
      "https://www.csfd.cz/uzivatel/172466-frajer42/\n",
      "Noc na Zemi (1991) 2.5\n"
     ]
    },
    {
     "data": {
      "text/markdown": [
       "Docela mě udivuje, co na tomhle filmu všichni vidí. Z 5 povídek se mi líbila 1 a půl. Zahráno bylo vše velmi slušně. Kamera byla ovšem naprosto **debilní.** Koukat 2 hodiny na 5 taxikářů, v 5 různých destinací, hovořících 4 různými jazyky, mi zkrátka nepřipadá jako nic geniálního. Film jsem spíše shledal naprosto nudným. Totálně jsem nebyl osloven. Tohle není film, tohle je napovedený filmový experiment. Alespoň hudba za něco stála. LA-odpad!, NY-3#, Paříž-1,5#, Řím-1,5#, Helsinky-1#. Zaokrouhleně 1#."
      ],
      "text/plain": [
       "<IPython.core.display.Markdown object>"
      ]
     },
     "metadata": {},
     "output_type": "display_data"
    },
    {
     "name": "stdout",
     "output_type": "stream",
     "text": [
      "\n",
      "https://www.csfd.cz/uzivatel/172466-frajer42/\n",
      "https://www.csfd.cz/uzivatel/172466-frajer42/\n",
      "https://www.csfd.cz/uzivatel/172466-frajer42/\n",
      "Kdo přežije: Afrika (TV pořad) (2001) 6\n"
     ]
    },
    {
     "data": {
      "text/markdown": [
       "No jo, v roce 2001 byli lidé podstatně **blbější,** takže Afrika za moc nestojí. Jeden **debilnější** soutěžící než druhý a druhý **blbější** než třetí, a tak to pokračovalo. Nebylo tedy komu fandit. Sice jsem stihnul zhlédnout pouze přibližně druhou polovinu, ale nelituji toho ani v nejmenším. Novější survivory mám mnohem raději. Tohle byla nepěkná nuda. Prosím, nezlobte se na mě. 1#"
      ],
      "text/plain": [
       "<IPython.core.display.Markdown object>"
      ]
     },
     "metadata": {},
     "output_type": "display_data"
    },
    {
     "name": "stdout",
     "output_type": "stream",
     "text": [
      "\n",
      "https://www.csfd.cz/uzivatel/172466-frajer42/\n",
      "Farma zvířat (1954) 4\n"
     ]
    },
    {
     "data": {
      "text/markdown": [
       "Velmi silný Orwellův příběh, který je zpracován tak, že je to k **poblití.** Možná, že se na filmu brutálně vyřádil čas, ale spíše si myslím, že vypadá tak **hnusně** jak vypadá hlavně kvůli nedostatku talentu pánů režisérů. Vše vypadá jak špatně vytisknuté omalovánky, což by se dalo rozdýchat nebýt celkového ozvučení, které má potenciál maximálně odhánět diváky i na velkou vzdálenost. To, že v pozadí vykukuje brilantní příběh se stává druho kolejovou záležitostí, což je v tomto případě superkurevská škoda. Orwell byl frajer a tohle si rozodně nezasloužil, a to snad ani za jeho barmské excesy. 1#"
      ],
      "text/plain": [
       "<IPython.core.display.Markdown object>"
      ]
     },
     "metadata": {},
     "output_type": "display_data"
    },
    {
     "name": "stdout",
     "output_type": "stream",
     "text": [
      "\n",
      "https://www.csfd.cz/uzivatel/172466-frajer42/\n",
      "https://www.csfd.cz/uzivatel/172466-frajer42/\n",
      "https://www.csfd.cz/uzivatel/172466-frajer42/\n",
      "Zrůda (2003) 2\n"
     ]
    },
    {
     "data": {
      "text/markdown": [
       "Zrůda je hovadina o dvou **hnusných** lesbách. V podstatě nemám nic proti lesbám, když jsou pěkné, ale ty dvě netvorky plně charakterizuje název filmu. Nejsmutnější na tom všem je, že takhle ty herečky vypadají běžně každé ráno. Film jsem viděl jako menší a nelíbil se mi. Nemyslím si, že se od té doby něco změnilo."
      ],
      "text/plain": [
       "<IPython.core.display.Markdown object>"
      ]
     },
     "metadata": {},
     "output_type": "display_data"
    },
    {
     "name": "stdout",
     "output_type": "stream",
     "text": [
      "\n",
      "https://www.csfd.cz/uzivatel/172466-frajer42/\n",
      "Muž z oceli (2013) 16.5\n"
     ]
    },
    {
     "data": {
      "text/markdown": [
       "Ale no tak lidi, nebudeme to s tím hodnocením přece přehánět. Tak dobré to nebylo. Neviděl jsem sice tu zmiňovanou skvostnou 4D verzi v kině, u které bohužel nemám ani minimální tušení, který **idiot** přišel s pojmenováním 4D, ale respektujme to. Neviděl jsem ani 3D verzi a neviděl jsem vlastně tento film ani v žádné dobré kvalitě. Opět jsem viděl pouze to, co se panu kameramanovi vešlo v kině do záběru. Kameraman to nebyl špatný. Vlezlo se mu tam snad vše. Kvalita nebyla úplně okouzlující, ale supermana jsem rozeznal a všechny ostatní, pokud nebylo přítmí, taky. Ten začátek na tom Kriplonu byl naprosto příšerný. Pak se to tedy zlepšilo, ale stejně mě film téměř vůbec nezajímal. Zbytečně se v něm moc kecá. Jsem toho názoru, že kecání by mělo být v takových filmech v minimálním zastoupení, tím spíše když se jedná o adaptaci komixu. 143 minut? To mělo znamenat jako co? Záporák byl totální nesympatický **dement.** Soundtrack byl taky docela zdechláckej, a to ho dělal frajer. Režisér taky není **debil.** Pravda, už dokázal stvořit **sračku** jako Sucker Punch, což se nepovede úplně každému, ale má ve svém životě i několik vydařených kousků. Tento snímeček mi zkrátka naprosto nesedl. Dovolte mi shrnout proč. Nejdříve se kecá. Potom se zase kecá. Příjde zápletka. Začne se znovu kecat. Pak příjde konečně čas na počítačové triky. Veškerá akce se shrne do pár desítek minut, tvůrci zvelebí ameriku a film skončí. Nic proti kecání nemám, ale tady se kecá o takových **sračkách.** Úplně se děsím toho, že se chystá pokračování. Úplně **debilní** to nebylo, ale čím víc se o filmu rozepisuji, tím mi příjde **debilnější.** Začínají mě tyhle filmy docela srát a přitom jsem ještě docela mlád a měl bych na ně stávat fronty. Ony jsou tak strašně stejné až je mi z toho zle. Co se dříve nepodařilo Dolfíkovi se nyní mlčky daří Hollywoodským režisérům. Sorry supermane, ale vyžereš si to i za ostatní. Slabá hvězdička. p.s. Jo, zapomněl jsem dodat, že autor titulků, či člověk který s nimi nějakým způsobem manipuloval je zvolil světle modré s bílými okraji. To vám lidičky povím, byla radost je číst. Zřejmě to byl anarchista."
      ],
      "text/plain": [
       "<IPython.core.display.Markdown object>"
      ]
     },
     "metadata": {},
     "output_type": "display_data"
    },
    {
     "name": "stdout",
     "output_type": "stream",
     "text": [
      "\n",
      "https://www.csfd.cz/uzivatel/172466-frajer42/\n",
      "https://www.csfd.cz/uzivatel/172466-frajer42/\n",
      "https://www.csfd.cz/uzivatel/172466-frajer42/\n",
      "Jednotka příliš rychlého nasazení (2007) 2\n"
     ]
    },
    {
     "data": {
      "text/markdown": [
       "Nic moc. Spíš nic než moc. Hlavní hrdina mi hrozně někoho připomínal. Naštěstí s POMOvým zlepšovákem stačilo tohoto herce pouze rozkliknout a bez většího pátrání mě praštilo do očí, že už jsem ho měl možnost asi 10x vidět. Film je ovšem docela velká **blbost.** Tak trošku o ničem. Velkou část stopáže jsem se silně nudil. Vtip se někam bohužel vytratil. Ani si nepamatuji, že bych se alespoň 1x zasmál. Odpadově to nevidím, ale není to od něj úplně daleko. 1#"
      ],
      "text/plain": [
       "<IPython.core.display.Markdown object>"
      ]
     },
     "metadata": {},
     "output_type": "display_data"
    },
    {
     "name": "stdout",
     "output_type": "stream",
     "text": [
      "\n",
      "https://www.csfd.cz/uzivatel/172466-frajer42/\n",
      "Fantomas kontra Scotland Yard (1967) 4\n"
     ]
    },
    {
     "data": {
      "text/markdown": [
       "Fantomas se vrátil opět do starých kolejí a je z něj opět naprosto nudná **sračka.** Chyběla dokonce i pořádná autohonička, která byla vystřídáno koňskými dostihy. Prostředí skotského hradu bylo **debilní.** Naštěstí autorům nechyběla soudnost a včas tuhle sérii utnuli. Řítila se totiž přímo do pohromy. Slabá 1#."
      ],
      "text/plain": [
       "<IPython.core.display.Markdown object>"
      ]
     },
     "metadata": {},
     "output_type": "display_data"
    },
    {
     "name": "stdout",
     "output_type": "stream",
     "text": [
      "\n",
      "https://www.csfd.cz/uzivatel/172466-frajer42/\n",
      "Dogma (1999) 4\n"
     ]
    },
    {
     "data": {
      "text/markdown": [
       "Ach ten příběh, to byl totální **hnus,** nuda, trapas a jiné nevulgární slovo k jeho vyjádření mě nenapadá. Čas od času to zachránila nějaká hláška ukecaného Jaye, nebo gesto mlčenlivého Boba, popřípadně rasistická poznámka rasistického **negra.** Ze zbytku se mi chtělo blít. Dlouho jsem neviděl film, který by mě takovým způsobem nebavil a nudil. Přes všechnu snahu nemohu dát více než 1#."
      ],
      "text/plain": [
       "<IPython.core.display.Markdown object>"
      ]
     },
     "metadata": {},
     "output_type": "display_data"
    },
    {
     "name": "stdout",
     "output_type": "stream",
     "text": [
      "\n",
      "https://www.csfd.cz/uzivatel/172466-frajer42/\n",
      "Fantomas (1964) 2\n"
     ]
    },
    {
     "data": {
      "text/markdown": [
       "Slavný Fantomas je ve skutečnosti docela obyčejný, avšak neobyčejně nudný film. Ačkoli se zde občas objeví Louis de Funés, tak přesto se zde humoru člověk nedočká. Člověk se tu vlastně nedočká vůbec ničeho. Totálně nudný film s naprosto **dementním** dějem. Člověk se upřímně celou dobu těšil na konec. To co možná vyprodávalo v minulosti kina je dnes neskutečnou ztrátou času. 1#"
      ],
      "text/plain": [
       "<IPython.core.display.Markdown object>"
      ]
     },
     "metadata": {},
     "output_type": "display_data"
    },
    {
     "name": "stdout",
     "output_type": "stream",
     "text": [
      "\n",
      "https://www.csfd.cz/uzivatel/172466-frajer42/\n",
      "https://www.csfd.cz/uzivatel/172466-frajer42/\n",
      "https://www.csfd.cz/uzivatel/172466-frajer42/\n",
      "Byl jsem při tom (1979) 2\n"
     ]
    },
    {
     "data": {
      "text/markdown": [
       "Taková milá pohádka o frajerovi, který byl při tom. Peter Sellers působí celý snímek jako člověk, který spapal příliš mnoho houbiček. Celý humor je založen na tom, že poví nějakou hovadinu, kterou si ostatní přeberou po svém a mají ho za génia. Z čehož plyne, že to vtipné samozřejmě vůbec není. Film působí pouze na rovině laskavosti, kterou vnucuje divákům plnými doušky. Sám jsem byl po hodince přesycen. Proč si tolik lidí ujíždí na filmech o retoších mi zůstává záhadou. Neshledávám ve filmu vůbec nic úžasného. Uznávám, že není úplně **debilní** a má co říct, ale orgasmus jsem u něj rozhodně neměl."
      ],
      "text/plain": [
       "<IPython.core.display.Markdown object>"
      ]
     },
     "metadata": {},
     "output_type": "display_data"
    },
    {
     "name": "stdout",
     "output_type": "stream",
     "text": [
      "\n",
      "https://www.csfd.cz/uzivatel/172466-frajer42/\n",
      "Marley a já (2008) 2\n"
     ]
    },
    {
     "data": {
      "text/markdown": [
       "Nějak mi to úplně nesedlo. Vtipný je v tomto filmu pouze plešatý šéf. Owen Wilson je tedy pan **mrdák.** Kdybych byl gayem, tak bych se určitě nechal ukecat. Jennifer Aniston v tomhle filmu nebyla tolik šukézní, jako bývá její standart. Zahrané je to jistě fajne. Největší výtku sklidí příběh. Je zbytečně roztahaný do dvou hodin a hrozně se opakuje. Mají psa. Pes kouše. Mají dítě. Přestěhují se. Mají druhé dítě. Pes stále kouše. Změna zaměstnání. Další dítě. Změna bydliště. Pes opět kouše. Další změna zaměstnání. Pes umírá. Tento stereotyp se stává po hodince nepozorovatelným. A vůbec mi nepřišlo, že by byl vztah s psíkem obzvlášť dojemným, takže jeho smrt jsem přešel s naprosto klidním srdcem. Jednoduše mě to nebavilo. Hvězdičku za plešárda, protože jeho suchý humor mě několikrát dostal."
      ],
      "text/plain": [
       "<IPython.core.display.Markdown object>"
      ]
     },
     "metadata": {},
     "output_type": "display_data"
    },
    {
     "name": "stdout",
     "output_type": "stream",
     "text": [
      "\n",
      "https://www.csfd.cz/uzivatel/172466-frajer42/\n",
      "https://www.csfd.cz/uzivatel/172466-frajer42/\n",
      "Blbec k večeři (1998) 2\n"
     ]
    },
    {
     "data": {
      "text/markdown": [
       "**Blbec** k večeři je příjemný film, ovšem téměř bez humoru. Člověk očekává od komedie mnohem víc, než jedno zasmání. Prosťoučký příběh s jednoduchou zápletkou. Bohužel je vše hrozně sucharské. Herci zřejmě také bydlí v Průměrňákově. Mnohem raději mám ztřeštěné francouzské komedie ve stylu Bažantů, které se tvořily dříve. Tohle se mi zdá lehoulince o ničem. S přihlédnutím na přiměřenou stopáž a solidní spád nedávám odpad."
      ],
      "text/plain": [
       "<IPython.core.display.Markdown object>"
      ]
     },
     "metadata": {},
     "output_type": "display_data"
    },
    {
     "name": "stdout",
     "output_type": "stream",
     "text": [
      "\n",
      "https://www.csfd.cz/uzivatel/172466-frajer42/\n",
      "https://www.csfd.cz/uzivatel/172466-frajer42/\n",
      "https://www.csfd.cz/uzivatel/172466-frajer42/\n",
      "Cesta kolem světa za 80 dní (1956) 4\n"
     ]
    },
    {
     "data": {
      "text/markdown": [
       "Film, ve kterém by se dala s lehkostí vystříhat polovina stopáže. Věřte mi, že nepřeháním. Vážně nechápu proč jsou ve filmu například odporné 10 minutové tancovačky ve španělském stylu, snad hodinové býčí zápasy a plno dalších **kokotin,** které nemají ve filmech co pohledávat. Není mi jasné dle čeho se tvořilo obsazení, ale je na můj vkus úděsné. Cenu nejnesympatičtější postavičky bych udělil **kokotovi** Passepartoutovi, který mi znepříjemňoval celý film. Naopak musím vyzdvihnout scénku, kdy ďábelští indiáni přepadnou vlak. Myslím, že na svoji dobu to bylo natočeno perfektně. Dávám 1#. Nevím, jak jinak ohodnotit film, v němž 3/4 stopáže je slovy nepopsatelná nuda."
      ],
      "text/plain": [
       "<IPython.core.display.Markdown object>"
      ]
     },
     "metadata": {},
     "output_type": "display_data"
    },
    {
     "name": "stdout",
     "output_type": "stream",
     "text": [
      "\n",
      "https://www.csfd.cz/uzivatel/172466-frajer42/\n",
      "Lemony Snicket: Řada nešťastných příhod (2004) 2\n"
     ]
    },
    {
     "data": {
      "text/markdown": [
       "Hororová komedie pro ty absolutně nejmenší děti. Velmi slušné obsazení a super burtonovská temná atmosféra v převelice **blbém** a nudném ději, který je určen skutečně pouze pro děti. Pořádně nechápu proč jsem se na film koukal. Avšak jsem přesvědčen, že tento film je rozhodně lepší volba, než jít do sálu číslo 2 na volovinku o veselém skřítkovi. Scénce s vláčkem jsem se pousmál, ale celkově film za nic nestojí. Nic v překrásném obalu je zase jenom nic. 1#"
      ],
      "text/plain": [
       "<IPython.core.display.Markdown object>"
      ]
     },
     "metadata": {},
     "output_type": "display_data"
    },
    {
     "name": "stdout",
     "output_type": "stream",
     "text": [
      "\n",
      "https://www.csfd.cz/uzivatel/172466-frajer42/\n",
      "Náhradník (1975) 2\n"
     ]
    },
    {
     "data": {
      "text/markdown": [
       "Asi 3x jsem se zasmál. Zbytek je **hnus,** který nestojí ani za zmínku. Pierre Richard mezi moje oblíbence nikdy patřit nebude a Claude Zidi mezi ně pomalu patřit přestává. Na francouzské poměry je to zkrátka velmi málo ztřeštěné a nic jiného než ztřeštěnost nedělá tyto snímky dobré. Lepší hvězda. Pokud vás ke zhlédnutí nikdo nenutí, tak film klidně vynechejte."
      ],
      "text/plain": [
       "<IPython.core.display.Markdown object>"
      ]
     },
     "metadata": {},
     "output_type": "display_data"
    },
    {
     "name": "stdout",
     "output_type": "stream",
     "text": [
      "\n",
      "https://www.csfd.cz/uzivatel/172466-frajer42/\n",
      "Hořčice mi stoupá do nosu (1974) 2\n"
     ]
    },
    {
     "data": {
      "text/markdown": [
       "Jednoznačně se jedná o to nejhorší, co jsem z dílny Claude Zidiho viděl a že toho bylo požehnaně. Jsem od něj zvyklý na větší ztřeštěnosti. Tohle byl extrémně slabý odvárek. Pierre Richard mi také do očka zrovna nepadl. Příběh je **dementní** a nudný. Přes veškerá negativa se zde dají najít asi 2 vtipné scénky, z nichž jedna je operace zakončená vtipným verdiktem chirurga a tu druhou jsem zapomněl. Více než hvězdu z toho dokáže vyčarovat pouze čeroděj Dobroděj."
      ],
      "text/plain": [
       "<IPython.core.display.Markdown object>"
      ]
     },
     "metadata": {},
     "output_type": "display_data"
    },
    {
     "name": "stdout",
     "output_type": "stream",
     "text": [
      "\n",
      "https://www.csfd.cz/uzivatel/172466-frajer42/\n",
      "Člověk pro každé počasí (1966) 1.49\n"
     ]
    },
    {
     "data": {
      "text/markdown": [
       "Film o neposkvrnitelném svědomí a o nezdolné víře, kterou náš hlavní hrdina postavil i před rodinu a to o pořádný kus. Hádejte o jakou víru se jednalo? Samozřejmě, primárně o víru v Boha. Pokud se pokusíte v tomto filmu hledat nějakou uměleckou složku, tak se asi spálíte. Zahrán je samozřejmě výtečně, ale vše ostatní je maximálně průměrné. Film vyniká výhradně svojí myšlenkou a svým poslestvím, které už ovšem dávno spláchl proud času a jsem si jistý, že na mnoho soudobých lidí, včetně mě, už žádný dojem neudělá. Film je servírován tak protivnou cestou, že se neubráním konstatováním, že se u něj dobře spí. Probudit vás dokáže pouze charismatický Jindřich VIII, který někdy rád křičí. Odpad nedávám pouze proto, abych neměl špatné svědomí."
      ],
      "text/plain": [
       "<IPython.core.display.Markdown object>"
      ]
     },
     "metadata": {},
     "output_type": "display_data"
    },
    {
     "name": "stdout",
     "output_type": "stream",
     "text": [
      "\n",
      "https://www.csfd.cz/uzivatel/172466-frajer42/\n",
      "Půlnoční kovboj (1969) 6\n"
     ]
    },
    {
     "data": {
      "text/markdown": [
       "Příběh o střetu naivity s realitou, což zákonitě nemůže nikdy dopadnout dobře. Jediné pozitivum snímku shledávám v tom, že zbytečně netlačí na pilu a nepřehání to se sentimentalitou, což jsem neočekával. Chci se dostat do nebíčka, takže hodlám psát pravdu. Film mě absoultně nebavil. Jon Voight mi přišel jako extrémně nesympatický kovboj. Dustin Hoffman byl o mnoho lepší. Už mnohokrát ukázal, že umí zahrát všechny druhy **retardů.** Příběh byl ubohý a hrozně uměle natahovaný. Záblesky minulosti byly hrozně **hnusně** udělané. S uděleným oscarem se neztotožňuji. Vážně je to neskutečná **blbost** pouze pro fajnšmekry. Za sebe dávám pěknější hvězdičku."
      ],
      "text/plain": [
       "<IPython.core.display.Markdown object>"
      ]
     },
     "metadata": {},
     "output_type": "display_data"
    },
    {
     "name": "stdout",
     "output_type": "stream",
     "text": [
      "\n",
      "https://www.csfd.cz/uzivatel/172466-frajer42/\n",
      "https://www.csfd.cz/uzivatel/172466-frajer42/\n",
      "Stará puška (1975) 2\n"
     ]
    },
    {
     "data": {
      "text/markdown": [
       "Jakmile se začne střílet, tak film začíná za něco stát. Kdo by to do něj řekl do doktůrka. No jo, náckové ho připravili o smysl jeho života. Pokud se člověk dostane do situace, kdy nemá co ztratit, tak začne být zatraceně nebezpečný. Neodpustil bych si, kdybych nevychválil soundtrack, takže ho tímto chválím. Jistě mi nějakou hodinku ještě bude znít v uších. Akční scénky byly na rok 1975 kvalitní. Veškeré flashbacky byly neatraktivní, nudné a téměř zbytečné. Osobně by mi stačilo letmo nahlédnout do hrdinovi minulosti, abych měl dostatečnou představu o míře **nasranosti.** Vzpomínka před každým zabitím? Tohle si vysvětluji pouze tím, že tímto tvůrci pouze vyplňovali stopáž. Kdybych se pokusil zavzpomínat, kolik minut bylo koukatelných a kolik ne, tak mi hodnocení vychází přesně mezi 1# a 2#. V takovém případě rozhodují o konečném verdiktu maličkosti. V tomhle případě rozhodlo to, že se poněkud neukázaly emoce."
      ],
      "text/plain": [
       "<IPython.core.display.Markdown object>"
      ]
     },
     "metadata": {},
     "output_type": "display_data"
    },
    {
     "name": "stdout",
     "output_type": "stream",
     "text": [
      "\n",
      "https://www.csfd.cz/uzivatel/172466-frajer42/\n",
      "Mazací hlava (1977) 6\n"
     ]
    },
    {
     "data": {
      "text/markdown": [
       "Mazací hlava je film o samotářském muži s květákem na hlavě a bordelem uvnitř. Znáte to pořekadlo? Vrána k vráně sedá, rovný rovného si hledá. Tak si náš majitel květáku najde totálně vymazanou přítelkyni s ještě vymazanějšími rodiči. A když se takhle sešli všichni společně u společného stolu, tak to byla docela legrace. Poté se květákovi a jeho mentálně **retardované** přítelkyni poštěstilo míti děťátko, které bylo pastvou pro oči. Respektive se jim to poštěstilo ještě před večeří, ale dozvěděl se to až později od matky přítelkyně, která ho chtěla osouložit. Kdyby bylo možné mezidruhové páření, tak bych dal ruku do ohně, že květákovi přítelkyně zahnula současně s kuřetem, kačerem a rybou, neboť dítě vypadá, povím-li to slušně, nestandardně. Film pochází z rané režisérovi tvorby, kdy ještě definitivně nezešílel a jeho filmy dávaly alespoň nějaký smysl. Hlavní dějová linie tohoto filmu je rovněž jednoduchá a je popsána v obsahu. To co v obsahu není jsou květákovy vize, vidiny a halucinace(nevím, jak to přesně nazvat) které smysl nedávají vůbec žádný, jsou **debilně** natočeny a měl by za ně někdo Lynche zlynčovat, nebo mu alespoň na chvíli udělat z análního vývodu anální přívod a všechny mu je tam narvat. Vážně nevím, co vám všem aktivovalo ty vaše deprese a noční můry. Atmosféra byla, řekněme, zajímavá. Černobílost a slušná prácička se světlem ji ještě zdokonalovaly, ale stejně nemohu říct, že by mě film jakkoli rozhodil, či mi pozměnil náladu, či mi na nějakou chvíli uvízl v paměti. Jako žít bych v podobné atmosféře s podobnými lidmi rozhodně nechtěl, ale to je vážně můj jediný zážitek, který si z filmu odnáším. Jsem si jistý, že po dopsání komentáře už si na něj ani nevzpomenu, ale ruku do ohně bych za to nedal. Třeba se mi o něm bude zdát. Je čas pro finální součet. Úplná **sračka** to není, to nemohu říct. Ale zřejmě postrádám nějaký ten gen navíc, abych se dokázal infiltrovat do Lynchových feťáckých vizí. Já se schválně někdy nečichám toluenu a dám si chlast na trávu a kouknu na tento snímeček. Trošku se bojím, že se po něm zasamovraždím, neboť tu každý schízuje, jak je strašně depresivní, ale jsem ochotný v zájmu vyššího blaha toto riziko podstoupit. Mám z Lynche pouze takový pocit a každým dalším filmem mě v tomto pocitu ujišťuje, že nemá světu co říct, a proto zabaluje své filmy do kupy hoven a nutí tak diváka, aby si řekl sám, co by rád slyšel. Dovolím si to nepovažovat za umění, ale za prvotřídní vychcanost. A odpusťte mi, pokud se opakuji. 1#"
      ],
      "text/plain": [
       "<IPython.core.display.Markdown object>"
      ]
     },
     "metadata": {},
     "output_type": "display_data"
    },
    {
     "name": "stdout",
     "output_type": "stream",
     "text": [
      "\n",
      "https://www.csfd.cz/uzivatel/172466-frajer42/\n",
      "Zátah 2 (2014) 2\n"
     ]
    },
    {
     "data": {
      "text/markdown": [
       "Absolutně nerozumím tomu, proč většina hodnotitelů hodnotí tak vysoko. Souhlasím s názorem, že první díl byl zlatý, protože obsahoval pouze akce a zbytečně se v něm nekecalo. V tomhle pokračování se kecá většinu stopáže a nedá se na to koukat. Indonésané by měli zůstat u toho, co jim jde nejlépe, tedy akce, akce a zase akce, popřípadně čas od času vytvoří zcela náhodou koukatelný horor. Pokus o vytvoření gangsterky by měli nechat na státy, které si rozumí se slušnými gangsterskými příběhy o poznání lépe. Skutečně tak **debilní** příběh, jaký nám tu byl nadhozen k sežrání jsem v mafiánském filmu ještě neviděl. Příběh je vystavěn na naprosto nezajímavých postavách, což je dle mého názoru v gangsterkách zcela zásadní průser. Abych pořád neklel, tak ační scénky jsou fantastické. Je jich ale poměrně málo. Celkově se jedná o nudnou hovadinu, kterou z kanálu zapomnění vytahuje několik působivě natočených soubojů."
      ],
      "text/plain": [
       "<IPython.core.display.Markdown object>"
      ]
     },
     "metadata": {},
     "output_type": "display_data"
    },
    {
     "name": "stdout",
     "output_type": "stream",
     "text": [
      "\n",
      "https://www.csfd.cz/uzivatel/172466-frajer42/\n",
      "Knězovy děti (2013) 2\n"
     ]
    },
    {
     "data": {
      "text/markdown": [
       "Ze začátku to nebylo nejmarnější, ale postupem času ztrácí snímek své kouzla a stává se z něj větší a větší **blbost.** Chorvatsko - srbský humor asi není můj cup of tea. Nezasmál jsem se snad vůbec, a to je u komedie obrovský průser. Absolutně nechápu zdejší chvalozpěvy. Jediným pozitivním aspektem shledávám vhodnou hudbu. Bohužel, hudba sama o sobě nic nezmůže. Pokud vám někdo nemíří zbraní na spánek, tak se filmu vyhněte. Snímek je určen otupělým pseudointelektuálům. Pro zbytek se bude zaručeně jednat o ztrátu času, který se dá v současných letních dnech i večerech využívat mnohem efektivněji."
      ],
      "text/plain": [
       "<IPython.core.display.Markdown object>"
      ]
     },
     "metadata": {},
     "output_type": "display_data"
    },
    {
     "name": "stdout",
     "output_type": "stream",
     "text": [
      "\n",
      "https://www.csfd.cz/uzivatel/172466-frajer42/\n",
      "https://www.csfd.cz/uzivatel/172466-frajer42/\n",
      "Mike Tyson: Naprostá pravda (TV pořad) (2013) 6\n"
     ]
    },
    {
     "data": {
      "text/markdown": [
       "Zřejmě se dokument zavděčí všem fanouškům, které tahle černá časovaná bomba má. Ostatním nemá co nabídnout. Mike Tyson svým hrozně ušišlaným hlasem s příšerným **negerským** přízvukem vypráví (čte) nudné předpřipravené pohádky, kterým snad ani sám nevěří. Dost mě zklamalo, že se u nich člověk dokonce ani nezasměje, přestože negřík dělá, co může. Jako člověk se mi po zhlédnutí tohohle nablýskaného nesmyslu **zhnusil.** Před zhlédnutím jsem ho měl docela rád, protože jsem o něm věděl snad jen to, že kdysi býval dobrý boxer a jednomu pánovi ochutnal ucho. Pravdou je, že život skutečně neměl jednoduchý, ale ani v situaci, kdy už ho jednoduchý míti mohl příliš silnou touhu neprojevoval. Spike Lee se před zraky mnoha diváků pokusil udělat z nebezpečného a nepředvídatelného **poloidiota** černý vzor čistého dobra. Smutné na tom je, že jak tak koukám kolem, tak se to zcela vydařilo. Sledování mě nebavilo, ba dokonce uráželo. Hvězdičku za efekty na plátně."
      ],
      "text/plain": [
       "<IPython.core.display.Markdown object>"
      ]
     },
     "metadata": {},
     "output_type": "display_data"
    },
    {
     "name": "stdout",
     "output_type": "stream",
     "text": [
      "\n",
      "https://www.csfd.cz/uzivatel/172466-frajer42/\n",
      "https://www.csfd.cz/uzivatel/172466-frajer42/\n",
      "https://www.csfd.cz/uzivatel/172466-frajer42/\n",
      "Raubíř Ralf (2012) 10.5\n"
     ]
    },
    {
     "data": {
      "text/markdown": [
       "Tahle pohádka neunikla mé pozornosti pouze z toho důvodu, že se mi ji podařilo sehnat ve 3 rozměrech. 3D je bohužel natolik pofidérně udělané, že jsem měl pocit, že 99 % stopáže koukám na rozměry 2. Vůbec jsem si nedovedl ve 3 rozměrech představit hry, které měly rozměr pouze jediný. Tvůrci evidentně také ne. Když jsem si zde dočetl čeho se bude snímek týkat, tak jsem byl opravdu vydatně natěšen, neboť hry miluji. Na starší si rád zavzpomínám. Ty nové si rád občas zapnu. Ve filmu se však objevily samé **sračky,** které jsem až na Pacmana viděl úplně poprvé. Jsem přesvědčen, že se to dalo uchopit mnohem mnohem lépe. Vylepšit se to dalo právě volbou her a především postaviček z daných her. Zvolené postavičky byly do poslední neskutečně **debilní,** absolutně neatraktivní a ani kapičku vtipné. Přesto jsem se asi 2x usmál, což bylo ovšem zapříčiněno naprostou **debilitou** příběhu. Potenciál je ve filmu obrovský. Za každou ze tří zvolených sraček se dala zvolit nesrovnatelně lepší alternativa. Poté to mohlo být klidně i za plný počet. Bohužel má ten nepříjemný pocit, že film je určen VÝHRADNĚ dětem a na nás starší se pořádně vysral a nakopal nás do **prdele,** což se samozřejmě projevilo na, opět opakuji, pro mě nepochopitelné volbě ústředních her, což filmu vracím hodnocením. Nemohu si pomoci, ale jak je animovaná pohádka spojena se jménem Disney, tak stojí za **hovno.** Už se z toho stala tradice."
      ],
      "text/plain": [
       "<IPython.core.display.Markdown object>"
      ]
     },
     "metadata": {},
     "output_type": "display_data"
    },
    {
     "name": "stdout",
     "output_type": "stream",
     "text": [
      "\n",
      "https://www.csfd.cz/uzivatel/172466-frajer42/\n",
      "Ona (2013) 4\n"
     ]
    },
    {
     "data": {
      "text/markdown": [
       "Většina filmu je založena na primitivních dialozích prazvláštního kokůtka s neustále nadrženým operačním systémem, tudíž se toho celý snímek moc neděje a stopáž je odporně přestřelena. Takže z dvou hodin jsem zaznamenal hodinku sraček. Kam se hrabou soudobá okna, jablíčka a tučňáci. Film disponuje zajímavou myšlenkou, která má jedinou vadu na kráse. Zdá se mi býti nerealizovatelnou. A u zajímavé myšlenky vlastně končí veškerý pozitivní potenciál filmu. A s tou komedií to zde snad není myšleno až tak vážně. Asi 3x jsem se usmál, ale jinak se mi zdá, že film ze všech stran tlačí, aby působil co nejdepresivněji. A při každém pohledu na zoufalého Joaquin Phoenixe, který se pro podobné role snad narodil, musím uznat, že se mu to daří. Jak už jsem naznačil, tak přibližně 3/4 stopáže jsou naprosto nudné a úplně o ničem. Ale alespoň jsem si obohatil znalosti a už vím, jak by vypadal takový sex s operačním systémem. Bohužel, bych se musel vydat do hor mezi mnichy, jako to udělal ten divný pán z filmu, a tam se oddávat meditaci. V současnosti bych vrcholu při bezkontaktním sexu zcela jistě nedosáhl, ale obdivuji všechny kteří ano, například budoucí operační systémy. Solidní **kokotina.** Hvězdičku za nápad. Zbytek je **hnus.**"
      ],
      "text/plain": [
       "<IPython.core.display.Markdown object>"
      ]
     },
     "metadata": {},
     "output_type": "display_data"
    },
    {
     "name": "stdout",
     "output_type": "stream",
     "text": [
      "\n",
      "https://www.csfd.cz/uzivatel/172466-frajer42/\n",
      "Můj soused zabiják (2000) 2\n"
     ]
    },
    {
     "data": {
      "text/markdown": [
       "Už cirka v 10 letech jsem prokoukl, že je to hrozná **blbost.** Nezaujme, nepřekvapí, ba dokonce ani nepobaví. Vážně se jedná o komedii, nebo se tu někdo upsal? Pro delší komentář, bych si musel více pamatovat. #"
      ],
      "text/plain": [
       "<IPython.core.display.Markdown object>"
      ]
     },
     "metadata": {},
     "output_type": "display_data"
    },
    {
     "name": "stdout",
     "output_type": "stream",
     "text": [
      "\n",
      "https://www.csfd.cz/uzivatel/172466-frajer42/\n",
      "https://www.csfd.cz/uzivatel/172466-frajer42/\n",
      "Pohádky tisíce a jedné noci (1974) 2\n"
     ]
    },
    {
     "data": {
      "text/markdown": [
       "Vážně bych chtěl vidět dítě, kterému by se tahle pohádka líbila. Tedy myslím dítě současnosti. Je jasné, že byla pohádka kdysi hodně populární, ale ty času už jsou dávno pryč. Bohužel spousty zdejších hodnotitelů pochází právě z dob, kdy byla pohádka uznávána, takže se to podepsalo na celkovém hodnocení. Moje dětství bylo touto pohádkou naprosto nepoznamenané. A nechyběla mi. Absolutně se mi **hnusila** animace. Příběh nebyl nic moc. Jediným důvodem, proč nedávám odpad je příjemný hlas Honzíka Třísky. Jo a ještě jsem u toho neusnul. To mě velmi překvapilo. Dílo je určeno dětem a já už dítě pár let nejsem, takže moje hodnocení berte s rezervou. I když děti by šly s hodnocení nejspíš ještě níž."
      ],
      "text/plain": [
       "<IPython.core.display.Markdown object>"
      ]
     },
     "metadata": {},
     "output_type": "display_data"
    },
    {
     "name": "stdout",
     "output_type": "stream",
     "text": [
      "\n",
      "https://www.csfd.cz/uzivatel/172466-frajer42/\n",
      "https://www.csfd.cz/uzivatel/172466-frajer42/\n",
      "https://www.csfd.cz/uzivatel/172466-frajer42/\n",
      "Hlavu dolů (1971) 2\n"
     ]
    },
    {
     "data": {
      "text/markdown": [
       "Já tedy budu muset býti opět **hajzlem.** Začnu hudbou, protože ta byla samozřejmě opět skvělá a je prakticky jediným skvělým prvkem filmu. Co se mi líbilo méně je hrozně obsáhlý děj a co se mi líbilo úplně nejméně jsou hlavní dvě postavičky, které mi prostě přišly nudné a přál jsem jim pouze rychlou smrt. Western je příšerně dlouhý a troufnu si vám zaručit, že se budete místy nudit určitě taky. Pár pasáží, které si budete den, či dva pamatovat tu určitě najdete. Nejedná se však ani omylem o western, který by si zasloužil srovnání především s dřívější Leoneho tvorbou. Tohle byl velmi slabý čajíček. Maximálně hvězda."
      ],
      "text/plain": [
       "<IPython.core.display.Markdown object>"
      ]
     },
     "metadata": {},
     "output_type": "display_data"
    },
    {
     "name": "stdout",
     "output_type": "stream",
     "text": [
      "\n",
      "https://www.csfd.cz/uzivatel/172466-frajer42/\n",
      "Jeombaki : hanbandoeui gongryong 3D (2012) 4.5\n"
     ]
    },
    {
     "data": {
      "text/markdown": [
       "Docela trapárnička. Pochválit mohu pouze celkem slušně intenzivní 3D. Zejména u záběrů, kde létala hejna těch létavých dinosaurů. Hrozně se mi naopak nelíbil příběh, který stál, jak by řekl Karel Gott, za **hovno!** Úplně nejvíc ze všeho mě však sral dabing myšlenek, protože dinosauři samozřejmě nemluví, toho hlavního malého **retarda,** když byl ještě mladý dinasouřík. Když muže-dítě dabuje žena, tak mi to prostě hrozně vadí, nebo jak by řekl Kája zvaný božský, sere. Tohle byl ten nejhorší dinosauří dabing, jaký jsem kdy slyšel. To mi dost radikálně znepříjemnilo asi prvních 20 až 30 minut. Zbytek ovšem nebyl o moc lepší. Animace dinosaurů zasazených do, údajně, novozélandské krajiny také nebyla nic moc, vzhledem k tomu, že se pohybujeme v roce 2012. No, nevím. Zřejmě mám pro zhlédnutí snímku málo šikmé oči. Tak alespoň za nějaký ten 3D efekt dávám hvězdičku."
      ],
      "text/plain": [
       "<IPython.core.display.Markdown object>"
      ]
     },
     "metadata": {},
     "output_type": "display_data"
    },
    {
     "name": "stdout",
     "output_type": "stream",
     "text": [
      "\n",
      "https://www.csfd.cz/uzivatel/172466-frajer42/\n",
      "https://www.csfd.cz/uzivatel/172466-frajer42/\n",
      "https://www.csfd.cz/uzivatel/172466-frajer42/\n",
      "Zmizelá (2014) 18\n"
     ]
    },
    {
     "data": {
      "text/markdown": [
       "Bezprostředně po zhlédnutí nemohu skrývat zklamání. Na film jsem čekal tak strašně dlouho, že jsem si dříve rozposlouchal jeho audio knižní verzi, která se mi docela líbila. Doposlouchal jsem se k hlavnímu zmizení, což je asi tak 4. minuta filmu. Na film jsem byl vážně natěšený, jako cigán na sociální dávky. Snímeček dostal na starost opravdový borec, který za svoji kariéru posral pouze třetího vetřelce, scénář napsala samotná autorka knižní předlohy. V obsazení byla spousta jmen, která čítám rád. To zkrátka nemohlo dopadnout špatně! Taky že to špatně nedopadlo. Dopadlo to příšerně. Výsledkem byla naprosto nezáživná více než dvouhodinová hovadina. Trošku se stydím, že jsem film doporučil tolika lidem, aniž bych ho viděl. To už vícekrát neudělám. Pokusím se tedy odradit tichým výkřikem do tmy alespoň hrstku šťastlivců, kteří zatím neměli tu smůlu na to kouknout. Nedívejte se na to! Pokud si místo tohoto blábolu pustíte dvouhodinové gay fekal fetiš porno s geronty, tak budete mít po skončení srovnatelné pocity. Gillian Flynn osobně neznám, nevím naprosto nic o jejím životě. Začátek knihy, zdůrazňuji knihy, se mi docela líbil. Po zhlédnutí filmu bych řekl, že to bude brutální feministka. Ale opravdu opravdová feministka. Taková, vedle které ostatní feministky vypadají jako šovinistky. V podstatě film nám říká jediné. Mužové a páni chovejte se ke svým milujícím polovičkám hrozně hezky, jinak by se mohlo třeba něco stát. Sami určitě víte, jak v těch ženách poletují emoce a že není snadné se naladit na podobnou vlnu. Také mě hrozně moc zklamalo to samotné zmizení. Říkal jsem si : \"88 % to nebude ledajaké zmizení!\" Bylo! Jednalo se o naprosto trapnou sériovou záležitost, kterou, aniž bych se chtěl chlubit, jsem přesně čekal a v koutku duše doufal, že se budu plést a uvidím tak strašně brutální film, že udělám, co jsem ještě nikdy neudělal a pustím si ho hned znovu. Abych to zkrátil, absolutně mě neoslovil děj. Celé mi to přišlo trapné, laciné a **debilní.** Strašně mi vadily veškeré hovadiny kolem. Televize, kde se nevysílalo nic jiného, než stále stejné hovadiny ohledně strašně záhadného zmizení. Dobrých 10 % stopáže se díváte, jak někdo čumí na televizi. Ještě více mě dorazil ten tmavě opálený advokát, abych byl dostatečně rasově shovívavý. Nejlepší advokát na světě nemůže mítt v žádném vesmíru takový odstín tmavě hnědé. To je absolutní hovadina. To jsou jen takové ty okrajové **sračky,** kterých jsem si všiml. Celé mi to přišlo absolutně nedůvěryhodné. Prostě absolutní snůška hovadin, jejíž výsledkem je jedno obrovské zakamuflované **hovno.** Blíží se zima, tak specifikuji situaci v nastávajících podmínkách. Představte si, že jste venku. Kolem vás je všude sníh. Vím, že to není snadná představa, ale je zcela nezbytná pro pochopení toho, co bych rád sdělil. A vás napadne naprosto geniální nápad udělat si sněhovou kouli a nejbližšímu člověku ji hodit do ksichtu. Sáhnete tedy do sněhu a vaše ruka přijde do kontaktu s něčím hnědým a hrozně smradlavým. Člověk nemohl tušit, že bude pod krásným a čistým sněhem **hnusné** a špinavé **hovno.** Pro méně chápavé doplním krátké vysvětlení. Chytřejší mohou přeskočit. Sníh byla má očekávání a **hovno** bylo výsledkem. Nechci říct, že tenhle film by byla **sračka** typu Stmívání a podobných nesmyslů točených výhradně pro **retardy.** Problém byl prostě v tom, že jsem čekal kvalitu někde lehce pod vrcholkem Mount Everestu a realita byla taková, že jsem byl někde poblíž dna Tichého oceánu. Naprosto mi uniká, co dělá tento snímek nějakým neobvyklým, ba dokonce výjimečným. Za mě, za běžných okolností, jeden z pěknějších odpadů. Jen proto, že se tedy blíží Vánoce, svátky klidu a míru, ho nedám. **Hnusná** 1 #!!"
      ],
      "text/plain": [
       "<IPython.core.display.Markdown object>"
      ]
     },
     "metadata": {},
     "output_type": "display_data"
    },
    {
     "name": "stdout",
     "output_type": "stream",
     "text": [
      "\n",
      "https://www.csfd.cz/uzivatel/172466-frajer42/\n",
      "Spása (2014) 6\n"
     ]
    },
    {
     "data": {
      "text/markdown": [
       "Mě to tedy nijak závratně nenadchlo. Jedná se o další z filmů, které se zde podařilo vydatně nadhodnotit. Velmi mě zklamal herecký výkon Evy Green. Ačkoli měla skoro až od ucha k uchu proříznutou držku, tak toho moc nenamluvila, jelikož po indiánském způsobu přišla i o svůj jazyk. A nebo spíš dánština není jazykem, který by ovládala. S jistotu tohle označuji za nejhorší výkon její dosavadní kariéry. Dost možná to bylo i tím, že byla v roli, která pro ni byla velmi netypická, alespoň že se nemusela učit ani jediné slovíčko. Příběh mě absolutně nebavil. Člověk ve westernu nemůže čekat zázraky, ale tento příběh byl nepřehlédnutelně **debilní.** Všichni ze skupinky záporáků byli postavičky velmi nudné a pramálo záporné. Co bych tak vyzdvihl je maximálně finální přestřelka, ale opět se nejednalo o nic kvůli čemu by se mi hromadila krev jinde než obvykle. Prostředí bylo krajně nezajímavé. Pár domečků a široko daleko nic. Dialogy byly hrozně **blbé.** Jako by spolu komunikovali absolutní **retardi.** Westerny mám rád, ale tenhle opravdu musím zařadit mezi ty krajně nevydařené. Čekal jsem opravdu nářez."
      ],
      "text/plain": [
       "<IPython.core.display.Markdown object>"
      ]
     },
     "metadata": {},
     "output_type": "display_data"
    },
    {
     "name": "stdout",
     "output_type": "stream",
     "text": [
      "\n",
      "https://www.csfd.cz/uzivatel/172466-frajer42/\n",
      "https://www.csfd.cz/uzivatel/172466-frajer42/\n",
      "Terminál (2004) 8\n"
     ]
    },
    {
     "data": {
      "text/markdown": [
       "Mě to tedy dost silně nebavilo. Hanksův dobrácký ksichtík a přátelská povaha, kvůli které by si nejeden člověk šel dožít život do indického vězení film rozhodně nezachraňuje. Takřka celou stopáž mě provázela filmem tetička nuda. Za zmínku stojí opravdu jen pár scének dojemnějšího ražení. Romantická vsuvka ani účel Tomovi cesty mě za srdíčko absolutně nechytily. Asi jen z dobré vůle a taky proto, že mám Stevena v oblíbených režisérech a Toma v oblíbených hercích, nedávám odpad. Jinak je film vážně prudce **debilní** a absolutně o ničem. Ani hudba mě zásadně nenadchla. A to ji dělal další z mých oblíbenců. Abych teda byl kompletní, tak ten polský **retard** Kaminski je mezi mými oblíbenci, coby kameraman, taky. Netuším, kde se stala chyba, ale na tuhle **sračku** mě bolelo se dívat."
      ],
      "text/plain": [
       "<IPython.core.display.Markdown object>"
      ]
     },
     "metadata": {},
     "output_type": "display_data"
    },
    {
     "name": "stdout",
     "output_type": "stream",
     "text": [
      "\n",
      "https://www.csfd.cz/uzivatel/172466-frajer42/\n",
      "Kymatica (2009) 2\n"
     ]
    },
    {
     "data": {
      "text/markdown": [
       "Dokument volně navazuje na svého předchůdce Esoterická agenda. Některé informace přidává, jiné opakuje. Já vám navím, ale já všem těm povídačkám o vibracích a dalších věcech, tak jak jsou v tomhle dokumentu servírovány, prostě zatím věřit nedovedu a obávám se, že ani nikdy věřit nebudu. Všechno se to moc pěkně poslouchá a hraje do toho úderná hudba, ale přišlo mi to takové vycucané z prstu. Všechny ty teorie o stvoření vesmíru apod. Vždyť to je teorie proti teorii a já vážně nevím, z jakého důvodu bych měl věřit právě té v tomhle dokumentu. Konspirací pořádně ubylo a takového toho prosazování myšlenky strachem se zde rozhodně nedočkáte. Tento dokument se snaží působit maximálně pozitivně. Otevřenou mysl já mám pro každou **blbost.** V dokumentu jsem si našel pasáže, pod které bych se podepsal. Rozhodně však nepřijímám dokument jako celek. Tváří se jako by měl patent na pravdu a dle mého úsudku, až na pár k zamyšlení hodných myšlenek, pravdu prostě nemá. Celé to na mě působilo jako taková velká psychologická hra \"...nechoďte s davem, nevěřte všemu, co jste někde slyšeli....mám pro vás jiné vysvětlení, které je určitě správné a do posledního slovíčka pravdivé...nelze ho sice absolutně nijak dokázat, ale vyvrátit taky ne...\" a úplně to dorazil závěr \"...Volba je na vás!...\" Nějak mi to prostě nesedlo."
      ],
      "text/plain": [
       "<IPython.core.display.Markdown object>"
      ]
     },
     "metadata": {},
     "output_type": "display_data"
    },
    {
     "name": "stdout",
     "output_type": "stream",
     "text": [
      "\n",
      "https://www.csfd.cz/uzivatel/172466-frajer42/\n",
      "Cesta na Měsíc (1902) 8\n"
     ]
    },
    {
     "data": {
      "text/markdown": [
       "Jeden z prvních filmů, který nabízí i jakýsi náznak děje, leč totálně psycho děje. Těžko říct, co se tehdy nitrožilně vpichovalo, ale určitě už se to vpichovat přestalo. Každopádně, děj nemá smysl rozepisovat, ten je určen zřejmě jen velmi úzké skupince narkomanů. Film jsem viděl s doprovodným komentářem, kdy pán sděloval co ráčíme vidět, ale nebyl ani moc potřeba, protože záběry byly většinou vševypovídající. Komentář se hodil snad jen v samotném závěru, kdy se těm fousatým **retardům** podařilo při pádu shora dolů padnout doleva a padli napříč vesmírem do oceánu matičky Země, což tedy pořádně zmátlo i mě samotného a chvíli jsem netušil, kde vlastně jsou. Tehdejším divákům muselo zcela jistě naprosto uniknout celé rozuzlení. Těžko říct, zda nebyly v roce 1902 vůbec žádné informace o situaci mimo naši planetku, nebo mám film vnímat jako nějakou ubohou dobovou pohádku. Jediné, co se mi líbilo bylo to, jak ten vedoucí měsíční výpravy mlátil tamější obyvatele (polo hmyz a polo lidi) deštníkem a vždy z nich byla troška dýmu. Tak ten dým se mi líbil. Nikdo tomuhle nesmyslu neodpáře, že překonal velký milník a dodal do filmu děj, i když tedy, znovu se zopakuji, absolutně **debilní.** Nicméně, nemá smysl si nic nalhávat. Myslím, že mohu tento počin hrdě označit, jako monstrózní **sračku,** kterou už si ovšem troufnu prohlásit za film, a to je jediná a maximální poklona, kterou mohu udělit. Pro jisté pochopení, že tento film vážně psal dějiny, nemohu dát odpad. Těch dnešních 90 % je zde ale totálně směšných."
      ],
      "text/plain": [
       "<IPython.core.display.Markdown object>"
      ]
     },
     "metadata": {},
     "output_type": "display_data"
    },
    {
     "name": "stdout",
     "output_type": "stream",
     "text": [
      "\n",
      "https://www.csfd.cz/uzivatel/172466-frajer42/\n",
      "https://www.csfd.cz/uzivatel/172466-frajer42/\n",
      "https://www.csfd.cz/uzivatel/172466-frajer42/\n",
      "https://www.csfd.cz/uzivatel/172466-frajer42/\n",
      "https://www.csfd.cz/uzivatel/172466-frajer42/\n",
      "https://www.csfd.cz/uzivatel/172466-frajer42/\n",
      "https://www.csfd.cz/uzivatel/172466-frajer42/\n",
      "https://www.csfd.cz/uzivatel/172466-frajer42/\n",
      "https://www.csfd.cz/uzivatel/172466-frajer42/\n",
      "Interstella 5555: The 5tory of the 5ecret 5tar 5ystem (2003) 2\n"
     ]
    },
    {
     "data": {
      "text/markdown": [
       "Tak tady se přiznám, že jsem byl připraven na nejhorší. O Daft Punk jsem v životě neslyšel a japonské čmáranice nemám vůbec rád, nejedná-li se o čmáranice pro dospělé, takové mi nevadí. Mile mě překvapilo, že hudba mi vůbec nevadila, ba naopak se mi některé skladby velice zamlouvaly, a dokonce jsem si uvědomil, že mnoho z nich neslyším poprvé. Horší to bylo s hranou částí. Ta, podle očekávání, stála za **hovno.** Příběh byl hrozně ubohý a strašně nudný. Myslím, že mohl oslovit snad jen bezvýhradní fanoušky. Ani tu hodinku jsem neudržel oči a pár minut před koncem jsem si musel dát vynucenou spací desetiminutovku. Celkově bych hudbu označil i jako \"super\". Bohužel, tyhle čmáranice jsem nikdy neměl rád. Nejvíce mi na nich vadí obrovské časové rozestupy jednotlivých obrázků. Absolutně to nepůsobí na moje citlivá očička souvisle. Obraz je trhaný a koukání nepříjemné. Hodně nesnáším třeba, když některá postava pseudo běží. To je úplně hodno odvrácení zraku. Celkově to na nějakou tu hvězdičku vidím, protože, naposledy se zmiňuji, hudba je vážně dobrá, přestože to není ani omylem můj styl. Viděno v rámci Filmové výzvy. Film jsem dostal od uživatele FFilipCZ."
      ],
      "text/plain": [
       "<IPython.core.display.Markdown object>"
      ]
     },
     "metadata": {},
     "output_type": "display_data"
    },
    {
     "name": "stdout",
     "output_type": "stream",
     "text": [
      "\n",
      "https://www.csfd.cz/uzivatel/172466-frajer42/\n",
      "Dudesons Movie, The (2006) 2\n"
     ]
    },
    {
     "data": {
      "text/markdown": [
       "Tak tihle finští bardi mi tedy k srdíčku zrovna nepřirostli. Když opomenu vskutku působivé tyranizování Mr. Hitlera, které se trošičku prodražilo, a které mohlo být na místě prohlášeno trestným činem, tak jsem se snad ani nezasmál. Volovinky jsou podstatně jednodušší a levnější. Občas to **smrdí** trošku až amatérismem. Dost to připomíná nejrůznější home videa. Žádný z aktérů mi sympatický nebyl a drtivou většinu stopáže ovládala nuda. Vidím to maximálně na hvězdu."
      ],
      "text/plain": [
       "<IPython.core.display.Markdown object>"
      ]
     },
     "metadata": {},
     "output_type": "display_data"
    },
    {
     "name": "stdout",
     "output_type": "stream",
     "text": [
      "\n",
      "https://www.csfd.cz/uzivatel/172466-frajer42/\n",
      "https://www.csfd.cz/uzivatel/172466-frajer42/\n",
      "https://www.csfd.cz/uzivatel/172466-frajer42/\n",
      "https://www.csfd.cz/uzivatel/172466-frajer42/\n",
      "Milí lidé (2010) 2\n"
     ]
    },
    {
     "data": {
      "text/markdown": [
       "Z mého nenáročného diváckého pohledu se jedná téměř o nesnesitelně dlouhou nudu s výtečným závěrečným setkáním 4 hlavních úchylů u vánočního stromečku na štědrovečerní večeři. Moje zklamání pramení především z neuvěřitelně vysokých očekávání, která jsem si před zhlédnutím nastavil na základě slibně vypadajícího popisu. Dánsko a okolní severské země jsou továrnou na depresivno. Nic jiného téměř točit nedovedou. Snad kromě pána prohánějícího v parku svoji užovku neshledávám na zúčastněných **retardech** nic závratně neobvyklého, ba dokonce společensky provokativního. O nějaký náznak černého humoru, kterého jsem tu očekával kupy, jsem zavadil opravdu jen zřídka, což shledávám zřejmě problémem největším. Víc než hvězdu dát nedovedu."
      ],
      "text/plain": [
       "<IPython.core.display.Markdown object>"
      ]
     },
     "metadata": {},
     "output_type": "display_data"
    },
    {
     "name": "stdout",
     "output_type": "stream",
     "text": [
      "\n",
      "https://www.csfd.cz/uzivatel/172466-frajer42/\n",
      "True Blood: Pravá krev (TV seriál) (2008) 12\n"
     ]
    },
    {
     "data": {
      "text/markdown": [
       "Už jen matně si vzpomínám na sérii první, která se mi líbila. Druhou sérii si pamatuji více, protože to byla absolutní šílenost. Bohužel v silně negativním smyslu. Vůbec se mi nelíbila a přežil jsem ji tak nějak ze setrvačnosti. Setrvačnost nabrala takovou intenzitu, že jsem vletěl i na pár dílů série třetí, která mě definitivně utvrdila v přesvědčení, že se jedná o nehoráznou **sračku.** Na seriálu shledávám úplně nejzajímavější fakt, že mě absolutně srali veškeří hlavní hrdinové v čele s neuvěřitelně **blbou** a otravnou hlavní krávou s neexistujícím jménem. Naopak vedlejší hrdinové jsou poměrně zajímaví, dobře se mi na ně koukalo a ty 2 série jsem přežil ve zdraví prakticky díky nim. Tohle u seriálů nebývá zcela obvyklé. Dále se celkem vymyká standardům frekvence páření. Páří se tu opravdu kdekdo s kdekým kdekoli a kdykoli. Na své si pravděpodobně v tomto ohledu přijdou všichni perverzně naladění devianti. Trošku se stydím, že mě první série poměrně oslovila. Obvykle, pokud dokoukám u nějakého seriálu jednu sérii, tak ho dokoukám celý. Tento je ovšem i tomto ohledu obrovská výjimka. S narůstajícím počtem dílů v mých očích narůstala i míra nesnesitelnosti. Mým dobrým zvykem je dát seriálu, který vzhledem k jeho **debilitě** nedokoukám čistý odpad. Tady se mi ovšem první série z nějakého záhadného důvodu zamlouvala, takže tu jednu **blbou** a **hnusnou** hvězdu nechám."
      ],
      "text/plain": [
       "<IPython.core.display.Markdown object>"
      ]
     },
     "metadata": {},
     "output_type": "display_data"
    },
    {
     "name": "stdout",
     "output_type": "stream",
     "text": [
      "\n",
      "https://www.csfd.cz/uzivatel/172466-frajer42/\n",
      "Liška a pes (1981) 4\n"
     ]
    },
    {
     "data": {
      "text/markdown": [
       "Neskutečně naivní **blbinka** pro děti od 3 do 7 let. Pokud vás u srdce nehřeje nostalgie, tak vás u srce nehřeje vůbec nic. Příběh je maximálně **stupidní** záležitost, kterou ve zdraví ustojí jen ti nejmenší z nejmenších. Disneyovky moje dětství vskutku netvořily. Byl jsem odkojen na pokemonech, ale zhlédnut této pošahanostií jsem slíbil a já svoje slovo prostě dodržím za všech okolností. Skoro kompletní stopáž jsem trpěl. Roztomilého mi na této rozprávce nepřišlo vůbec nic. Velmi mě zaráží a překvapuje, že to někdo vůbec dovede vidět v jiném světle. Opravdu ve velkém stylu mě to celé obletělo. Poslouchat se dala snad jen hudba. Nevidím to na více, než na jednu nepatrnou hvězdičku."
      ],
      "text/plain": [
       "<IPython.core.display.Markdown object>"
      ]
     },
     "metadata": {},
     "output_type": "display_data"
    },
    {
     "name": "stdout",
     "output_type": "stream",
     "text": [
      "\n",
      "https://www.csfd.cz/uzivatel/172466-frajer42/\n",
      "https://www.csfd.cz/uzivatel/172466-frajer42/\n",
      "Sex, lži a video (1989) 8\n"
     ]
    },
    {
     "data": {
      "text/markdown": [
       "Pochválil bych určitě dost výstižný název celého díla, protože na sex, lži a video opravdu dojde. Musím konstatovat, že se mi líbila snad pouze společnost, kterou jsem u filmu měl. Z filmu samotného bylo sledovatelných několik rozhovorů na kameru. Zbytek byla bída. **Hnusná** byla struktura vyprávění, **hnusní** byli herci a **hnusné** bylo i samotné téma. Z mého pohledu opravdu krajně nezajímavý film, pro který je škoda nadbytečných slov. Dost výstižně jej zmapoval oficiální text distributora. Tedy až na jednu drobnost. Distributor zapomněl dodat, že je tento film hrozná **sračka.**"
      ],
      "text/plain": [
       "<IPython.core.display.Markdown object>"
      ]
     },
     "metadata": {},
     "output_type": "display_data"
    },
    {
     "name": "stdout",
     "output_type": "stream",
     "text": [
      "\n",
      "https://www.csfd.cz/uzivatel/172466-frajer42/\n",
      "Persepolis (2007) 2\n"
     ]
    },
    {
     "data": {
      "text/markdown": [
       "Ach ach, strašně mě to nebavilo. Jedná se v podstatě o novodobou historii Íránu, která je servírování zejména očima dítěte - tedy pro hloupé, což je samozřejmě vždy fajn, protože člověk nemá nejmenší problém vše správně pochopit. Hlavní hrdinka mi byla krajně nesympatická. Každý minuta v její společnosti byla pro mě utrpením. Neuvěřitelně otravná kráva. Dost lidí zde vychvaluje animaci. Osobně nechápu proč. Animaci se určitá hravost a originalita upřít nedá, ale nic to nemění na faktu, že je prostě ošklivá. Pravdou zůstává, že se tvůrkyni podařilo do 90 minut vměstnat všechny strasti, které bylo a je možné v Íránu zažít a na jednu stranu jsem rád, že jsem si určitým způsobem rozšířil obzory. Jen bych uvítal výrazně krásnější kabát a alespoň trošičku sympatického průvodce. Respektive, když už jsme u té emancipace žen, tak povězme průvodkyni! Film není rozhodně **blbý** ani zbytečný, ale já u něj prostě nepředstavitelně trpěl. Nedokázal si získat ani část mého srdíčka a nějakým způsobem mě pozvat do děje."
      ],
      "text/plain": [
       "<IPython.core.display.Markdown object>"
      ]
     },
     "metadata": {},
     "output_type": "display_data"
    },
    {
     "name": "stdout",
     "output_type": "stream",
     "text": [
      "\n",
      "https://www.csfd.cz/uzivatel/172466-frajer42/\n",
      "https://www.csfd.cz/uzivatel/172466-frajer42/\n",
      "https://www.csfd.cz/uzivatel/172466-frajer42/\n",
      "https://www.csfd.cz/uzivatel/172466-frajer42/\n",
      "https://www.csfd.cz/uzivatel/172466-frajer42/\n",
      "https://www.csfd.cz/uzivatel/172466-frajer42/\n",
      "https://www.csfd.cz/uzivatel/172466-frajer42/\n",
      "https://www.csfd.cz/uzivatel/172466-frajer42/\n",
      "Spotlight (2015) 2\n"
     ]
    },
    {
     "data": {
      "text/markdown": [
       "Téma pedofilie po sté. Kdo si nenechal zničit v dětství život podobnou zkušeností, tak může společně se mnou jen spekulovat, jak to musí s přibývajícím věkem tlačit na lidskou psychiku. Tím spíše to musí bolet od člověka, kterého v dětství stavíte téměř na úroveň Boha a bezmezně mu věříte. Do běžného života se alespoň částečně dovedou začlenit asi jen ti nejodolnější jedinci. Téma je to rozhodně ožehavé, zajímavé a určitě i pořádně aktuální. S církví od pradávna spojené. Věřím tomu, že se děti przní od nepaměti, že to rozhodně není trend současnosti. A církev je od nepaměti centrem vzdělanosti. V minulosti snad jediným centrem tohoto typu, kde se lidé učili číst a psát a mohli sesmolit nějakou tu pěknou a přesnou písemnou zmínku o dané době. Tudíž není moc šokující, že se prvenství v prznění dětí přisuzuje právě svaté církvi. Dnes je to jedno z mála míst, kde je něco takového vysledovatelné ve větším měřítku, o což se pokusili hrdinové tohoto blábolu. Organizace, která funguje už pěknou řádku let, si většinou zvládne vybudovat dost neotřesitelné postavení. Je to smutné, ale horko těžko postihnete člověka, za jehož zády stojí takový vliv, peníze a moc. Je to pěkné, že se o tom mluví a píše, ale za podobný prohřešek půjde do tepláků tak možná váš soused, i když by měl být o bimbáska zkrácen každý! Až se stanu celosvětovým prezidentem, tak to ihned zavedu v platnost. Zpět k filmu. S tímto filmem jsem měl problémy zejména po stránkách filmařských. Téma je vynikající. Dokoukat jsem jej zvládl až na dvě pokračování. Prvních 30 minut je lepších než ta nejlepší ukolébavka. Neděje se vůbec nic. Pokud neusnete, tak mi můžete dát poštou vědět a začnu vás okamžitě uctívat. A zbytek je zhruba stejně **blbý,** jako ten úvod. Působivé byly pouze rozhovory s obětmi, kterým chlapík v černém, strčil svého bimbáska mezi půlky. Mimo jiné je škoda, že o svém zážitku z dětství nepromluvila i nějaká ta ženština, bylo by to divácky pestřejší. Za kurevsky špatný, musím k mému zděšení označit i soundtrack. Howard Shore je můj oblíbenec, takže v tom rozhodně nelze hledat jakoukoli zaujatost. Rejža McCarthy mě naopak zatím nikdy o svých schopnostech nepřesvědčil, takže jsem byl o to méně nasrán. Herecky je to obsazené solidně. Minula mě zejména úděsná forma. Je to prostě hrozně divný film. Vůbec mě snímek nedokázal vtáhnout do děje a velmi jsem se nudil. Moje nenávistné pohledy jdou tedy zejména k rejžovi, který měl na daném tématu určitě více zamakat. Celé to působí poměrně chaoticky a chladně. Nedám více než jednu pěticípovku."
      ],
      "text/plain": [
       "<IPython.core.display.Markdown object>"
      ]
     },
     "metadata": {},
     "output_type": "display_data"
    },
    {
     "name": "stdout",
     "output_type": "stream",
     "text": [
      "\n",
      "https://www.csfd.cz/uzivatel/172466-frajer42/\n",
      "Z pekla (2001) 4\n"
     ]
    },
    {
     "data": {
      "text/markdown": [
       "Jack Rozparovač v podání dvojčat Hughesových. Musím zmínit zásadní vadu na kráse. I těžce **retardovanému** divákovi - tedy mně, bylo velmi brzy zřejmé, kdo trpí tou **kurví** averzí a systematicky slečny likviduje. Udivuje mě, že superdetektivovi Johnnymu trvalo přijít této záhadě na kloub tak proklatě dlouho dlouho. Londýnská atmosféra Prahy ušla. Příběh byla však poměrně nepěkná nudírna, tedy alespoň po většinu stopáže. Z úrovně londýnského kanálu snímek tahal samozřejmě pouze Johnny, který byl také největším, nestyďme se to prozradit, dokonce snad jediným lákadlem, kvůli kterému se většina lidí rozhodla ztratit s tímto snímkem 2 hodiny života. Ani se po zhlédnutí nedivím, že nás Hughesova dvojčátka nepotěšila větším přívalem filmů. Mezi horrory se dostal film velkým nedopatřením, viděl bych to maximálně na pěknou hvězdu pro jedinou hvězdu celého tohoto pokusu o film. Opravdu mě to vůbec neoslovilo."
      ],
      "text/plain": [
       "<IPython.core.display.Markdown object>"
      ]
     },
     "metadata": {},
     "output_type": "display_data"
    },
    {
     "name": "stdout",
     "output_type": "stream",
     "text": [
      "\n",
      "https://www.csfd.cz/uzivatel/172466-frajer42/\n",
      "Creed (2015) 20.5\n"
     ]
    },
    {
     "data": {
      "text/markdown": [
       "Podle mého pesimistického očekávání, tento počin opravdu za moc nestál. Až je mi těch dvou hodin skoro líto. Netuším, na základě čeho byl režie svěřena 29letému **negrovi,** který zatím vytvořil pouze jediný **negerský** film, který sklidil úspěch snad pouze v tamním ghettu. Celé se to samozřejmě točí kolem M. B. Jordana, který si moje sympatie nezískal. Skoro by se dalo napsat, kdybych chtěl být neslušný, že mě tento herec hrozně sral. Stallone zde ztvárňuje pouze na smrt čekajícího dědulu, kterému čekání na smrt oddálí syn jeho bývalého **negerského** přítele. Starého dědulu ani moc hrát nemusí, protože už starý zkrátka je. Čas je neúprosná svině a 69 je jednak zajímavé číslo a jednak úctyhodný věk, ve kterém nás nedávno opustily dvě významné osobnosti spojené se světem filmu. Nechť oba odpočívají v pokoji Alan Rickman † 14. 1. 2016 a David Bowie † 10. 1. 2016. Snad je Sly nebude brzy následovat. S rakovinou se v jeho věku nežertuje. Ani ve světě filmu. Naplánováno má do svých 71 let, takže se snad ještě nějaký ten rok na tomto světě zdrží. Tohle mi také připomíná, že si páni akademici uvědomili, že by před odchodem na věčnost zasluhoval nějakou tu sošku. V tomto snímku se to přímo symbolicky hodí, takže to beru za hotovou věc. Nicméně osobně bych mu ji zrovna za výkon v tomto filmu nedal, ačkoli je mým oblíbencem a díru do filmového světa rozhodně udělal obrovskou. V tomto filmu se mi jaksi nepozdával, ale na mém názoru nezáleží a cenu stejně dostane, protože těch příležitostí už tolik nebude. Zpátky k filmu. Myslím, že jsem skončil někde u toho, že se mi nelíbil. Přijde mi, že je vytvořen stylem, že potěší maximálně tak americké příslušníky nějakého tamního **negerského** ghetta, která evidentně pan režisér moc dobře zná. Nepřipadá mi, že by byl ideální pro nějakou širší veřejnost. V ději se skáče odnikud nikam. Nemá to nějakou jednoznačnou a přímou cestičku. Je tam hromada zbytečné vaty. Například ta Jordanova polohluchá pichna Tessa Thompson je tam skoro zbytečná. Scénky, kterých se účastní jsou vrcholem **debilismu** a hlasitá pozvánka na nuděnou. V podstatě v momentě, kdy se tahle slečna objeví na place se to celé zvrtne v jakýsi pokus o boxerskou telenovelu, plnou všemožného žvanění a dalších nepopsatelných sraček. Do toho momentu to sice také za moc nestálo, ale alespoň se na to dalo dívat. Ten film mohl mít o více než 30 minut méně a divák by vůbec o nic nepřišel. Zkrátka zbytečná píčovinka následuje další zbytečnou píčovinku a na to zajímavější nezbude čas. **Negr** párkrát polechtá pytlík a zaskáče si na švihadle, tu stejnou sekvenci záběrů použijí ve filmu snad 3x...Aby se to mírně odlišilo, tak změní prostředí a místo, aby probíhalo cvičení v tělocvičně, tak cvičí v nemocnici, a to hned vedle rakovinou prolezlého Rockyho. WTF! Hlavní záporák stojí za **hovno.** Film vůbec není o jejich vzájemné rivalitě, protože mezi nimi žádná rivalita pochopitelně neexistuje. Chemie není ve filmu žádná. Vše, co se před vámi odehrává je vám úplně jedno, a to včetně osudu Rockyho. Závěrečná taškařice je jeden velký prostřih. Zkrátka absolutní **sračka,** které se podařilo podlézt i moje nízká očekávání a s vlastním sebezapřením ze sebe vysypu jednu hrozně **hnusnou** hvězdu. Nejhorší na tomhle celém počinu je fakt, že se na něj z nostalgických důvodů stejně každý koukne. Netalentovaný **negr** Ár Cí bude vypadat děsně úspěšně a v roce 2018 dostane příležitost nemilosrdně zprznit film o své rodné hroudě - tedy Černého pantera."
      ],
      "text/plain": [
       "<IPython.core.display.Markdown object>"
      ]
     },
     "metadata": {},
     "output_type": "display_data"
    },
    {
     "name": "stdout",
     "output_type": "stream",
     "text": [
      "\n",
      "https://www.csfd.cz/uzivatel/172466-frajer42/\n",
      "Kosti a skalp (2015) 2\n"
     ]
    },
    {
     "data": {
      "text/markdown": [
       "Nemá smysl si nic nalhávat, tento film je zde neuvěřitelně nadhodnocen. Za zmínku stojí maximálně závěrečných 20 minut, kdy diváka zaskočí první pasáž, ve které se něco děje. Zbytek je hrozně otravná a neuvěřitelně dlouho a pomalu plynoucí nuda. Dobrou třetinu stopáže sledujete upajdaného frajera, jak pajdá. Když zrovna nesledujete upajdaného frajera, jak pajdá světem, tak vás svými bezobsažnými žvásty nudí senilní zástupce šerifa. Zkrátka nuda k uzoufání. Samozřejmě, že jsem u toho usnul. Kdo u tohoto blábolu neusne, tak by se měl okamžitě léčit z nespavosti. Příběh je tak neuvěřitelně obsáhlý, že se dá detailně popsat asi 3 větami. Lajdák rozkopne pohřebiště **retardovaných** kanibalů. Kanibalové si pro něj přijdou, přičemž poberou pár dalších osadníků, kteří jsou zrovna kolem. Manžel unesené, šerif a dva nebojácníci se vydají na záchrannou misi. Scénář k takovému filmu bych sfoukl u kávy. Vážně nevím, jestli si zdejší uživatelstvo začalo hromadně ujíždět na piku, ale jinak si snad tohle šílenství nedovedu vysvětlit. Nějak se mi nechce věřit, že by půvabná prérie byla dostačujícím důvodem k udělení 3 a více hvězd. Já opravdu žádný skvost neviděl. Divák je brutálním způsobem dobrých 90 minut uspáván, aby ho tvůrci v samotném závěru mohli zaskočit tahem zvaným \"překvap diváky akcí\". Víc než hvězdu nedám. Musel bych si obě ruce useknout... Převelice dlouho jsem čekal na nějaký nový, nadějně vyhlížející western a ono na mě vyskočilo tohle..."
      ],
      "text/plain": [
       "<IPython.core.display.Markdown object>"
      ]
     },
     "metadata": {},
     "output_type": "display_data"
    },
    {
     "name": "stdout",
     "output_type": "stream",
     "text": [
      "\n",
      "https://www.csfd.cz/uzivatel/172466-frajer42/\n",
      "Focus (2015) 2\n"
     ]
    },
    {
     "data": {
      "text/markdown": [
       "Tak já obecný obdiv sdílet nebudu. Příliš mě tenhle počin za kulky nechytil. Za zmínku stojí příjemná scénka na zápasu amerického fotbalu. Zbytek byla nezáživná nuda s poměrně předvídatelným vývojem. Will mě zde nebavil, ačkoli mi obvykle příliš nevadí. Margot Robbie je sice hodna toho pověstného opření kola, ale erekci jsem z ní nezaznamenal během sledování jedinou. Děj, jak už jsem zmínil, je z mého pohledu těžce o hovně. Veškeré zápletky jsou hrozně nezáživné až **debilní.** Časové skoky napříč filmem působily maximálně trapně. Emočně je to neobvykle prázdný snímek. Snímek, který vsází na rádoby šokující scénky plné zvratů. Překvapí vás maximálně scénka první. Poté už podobné \"super zvraty\" prostě čekáte. Když se pokusím být hodný, tak zde snad 2 # zanechat dovedu. Nicméně, musím zde hovořit o obrovském zklamání a hodný výjimečně být nechci. Takže za hvězdu!"
      ],
      "text/plain": [
       "<IPython.core.display.Markdown object>"
      ]
     },
     "metadata": {},
     "output_type": "display_data"
    },
    {
     "name": "stdout",
     "output_type": "stream",
     "text": [
      "\n",
      "https://www.csfd.cz/uzivatel/172466-frajer42/\n",
      "Píseň moře (2014) 4\n"
     ]
    },
    {
     "data": {
      "text/markdown": [
       "Tradičně začnu zcela pozitivně a svoji úroveň **zhnusení** budu postupně inkrementovat. Takže soundtrack byl vážně dobrý, dokonce velmi dobrý! Bohužel, dobrého nebylo už nic dalšího. Příběh byl v mých očích absolutní pohroma. Koho zdravého může bavit příběh o tuleních vílách?! Nikoho! Vážně nerozumím tomu, proč se tu každý druhý ohání 4 hvězdičkami. Fet zdarma? Divák sleduje příběh o jednom malém faganovi a jeho otravné sestřičce. Animace také žádná sláva. Občas nějaký **retard** zapíská na mušli a kolem proletují světlušky. To je zhruba animační vrchol toho všeho. To je vážně hodno okamžitých hrátek s šuldou. Vážně netuším, co se snažil tímto blábolem básník říct. Je to zmatené, otravné a neuvěřitelně nudné! Hvězdu dávám výhradně za hudební složku."
      ],
      "text/plain": [
       "<IPython.core.display.Markdown object>"
      ]
     },
     "metadata": {},
     "output_type": "display_data"
    },
    {
     "name": "stdout",
     "output_type": "stream",
     "text": [
      "\n",
      "https://www.csfd.cz/uzivatel/172466-frajer42/\n",
      "Potíže s Arizonou (1987) 2.5\n"
     ]
    },
    {
     "data": {
      "text/markdown": [
       "Přibližně po dobu úvodních 20 minut, jsem byl z filmu nefalšovaně nadšen. Bohužel se snímku poté podařilo, ztratit v mých očích veškerý náboj. Absolutně mě přestal bavit a zajímat děj. Moc nedovedu definovat příčinu. Kromě toho, že jsem od začátku nemohl vystát Nicolasovu mrchu ženu a postupem času mě dokonce přestal bavit i Cage, to nebylo až tak marné. K nějakému tomu lehkému pousmání došlo. Vše měl na svědomí Nathan Arizona, jehož postava byla skvěle napsaná. Bohužel dostala naprosté minimum hereckého prostoru. Jinak jsou po většinu času všichni herci v jedné nekonečné herecké křeči. I bratři Coenovi nějak začínali. A ještě bych měl hodit nějakou poznámku o Donaldu Trumpovi, takže například uvedu, že jedním z jeho předvolebních slibů bylo například snížení daní a tím chce v USA snížit nezaměstnanost a překonat tak období vlády Ronalda Reagana, kdy byla nezaměstnanost vůbec nejnižší. Tento snímek je zasazen právě do období Reaganovi vlády, takže si dovedl najít zaměstnání i psychopatický **retard,** kterého ztvárnil Nicolas Cage. Viděno v rámci Společné výzvy s Lucinkou. Film nám vybrala uživatelka harfuska."
      ],
      "text/plain": [
       "<IPython.core.display.Markdown object>"
      ]
     },
     "metadata": {},
     "output_type": "display_data"
    },
    {
     "name": "stdout",
     "output_type": "stream",
     "text": [
      "\n",
      "https://www.csfd.cz/uzivatel/172466-frajer42/\n",
      "https://www.csfd.cz/uzivatel/172466-frajer42/\n",
      "https://www.csfd.cz/uzivatel/172466-frajer42/\n",
      "Hledá se Dory (2016) 2\n"
     ]
    },
    {
     "data": {
      "text/markdown": [
       "A já klidně a rád popluji proti proudu a vyzradím, že mě tato pohádka vůbec neoslovila. Hlavní můj problém se skrýval v ústřední rybičce Dory, která byla nesnesitelným způsobem otravná, její výpadky paměti byly příliš časté a stereotypní a vůbec celkově byla neskutečně nudná. Její mořští přátelé byli rovněž **retardi.** Z těch všech mořských postaviček na mě neudělal dojem absolutně nikdo. Spolusledovatelčina očka velice potěšila účast vyder. Já zarytým fanouškem chlupatých zvířátek rozhodně nejsem. Dialogy se nedaly poslouchat, a tak jsem je po čase poslouchat přestal. Když jsem ještě býval malé dítě a míval jsem všechny údy výrazně kratší, tak na mě hledání Nema udělalo pochopitelně diametrálně příjemnější dojem. Veškerý humor je zde situován na nejmenší diváctvo a já jsem v sobě během sledování našel dítě pouze jedenkrát, což je možná trošku smutné, ale kromě politování se s tím nedá nic dělat. Ehm... Rád bych se obhájil tím, že jsem moc dobře chápal, že ta modrá rybka je Dory, jen jsem potom nechápal, která rybka měla být Nemo."
      ],
      "text/plain": [
       "<IPython.core.display.Markdown object>"
      ]
     },
     "metadata": {},
     "output_type": "display_data"
    },
    {
     "name": "stdout",
     "output_type": "stream",
     "text": [
      "\n",
      "https://www.csfd.cz/uzivatel/172466-frajer42/\n",
      "https://www.csfd.cz/uzivatel/172466-frajer42/\n",
      "Nylonový mesiac (1965) 4\n"
     ]
    },
    {
     "data": {
      "text/markdown": [
       "V roce 1965 se hypoteticky mohlo jednat o brutálně nekonvenční film o několika bohémech, kteří se zcela vymykali tehdejší nudné společnosti. Dnešnímu zmlsanému divákovi však nemá snímek příliš co nabídnout a čím ho šokovat. Z obsahu jsem se dočetl, že by architekt Andrej mohl být takový hypotetický já. Co vám budu povídat, nebyl mnou. Andrej je totiž **kokot,** čímž se ode mne zásadně odlišil. Rajda Vanda, zde reprezentuje typickou slečnu řídíce se nechvalně proslulým heslem žen \"ošustit a opustit\". Chudáka nebohého Andreje zneužije v horské chatě i přes přísný zákaz mimomanželského spinkání v podobných ubikací, který v dřívější době zřejmě panoval, a který je vlastně i tím jediným, co mě nějakým způsobem zaujalo a co jsem si z filmu odnesl. Vlastně se nám se spolusledovatelkou oběma zamlouvala ještě Vanda, takže bych se hypoteticky nechal ukecat na trojku. Nechci napsat, že tento film stojí za **hovno,** i když si to ve skrytu duše myslím. Nějakou fanouškovskou základnu dle zdejšího hodnocení určitě má. Jen prostě nejsem cílovou skupinou a trošku mě mrzí, že mu musím malinko zprznit hodnocení. Pěknější hvězda."
      ],
      "text/plain": [
       "<IPython.core.display.Markdown object>"
      ]
     },
     "metadata": {},
     "output_type": "display_data"
    },
    {
     "name": "stdout",
     "output_type": "stream",
     "text": [
      "\n",
      "https://www.csfd.cz/uzivatel/172466-frajer42/\n",
      "Pevné pouto (2009) 10\n"
     ]
    },
    {
     "data": {
      "text/markdown": [
       "I tomu nejlepšímu režisérovi může někdy **mrdnout** v hlavě. Výsledkem může být například tento film. Přitom to je ohromná škoda. Z počátku snímek vypadal velice nadějně, připomínal mi Zmizení a já v určité fázi zvažoval dokonce maximální hodnocení. Bohužel to netrvalo dlouho a snímek začal neskutečně **pičovaťet.** Nejdříve malinko a posléze už se do toho ponořil pořádně. Jen jsem tiše zoufal nad naprosto utopeným potenciálem. Opravdu se mohlo jednat, sice o tuctový, ale poměrně kvalitní drama. Budovat mrazivou atmosféru se Peterovi dařilo. Proč to sakra začal tak nesnesitelným způsobem celé **kurvit** tím prolínáním s jeho vizí jakéhosi **debilního** mystického světa, který existuje paralelně k tomu běžnému. Obě roviny nejsou sami o sobě vůbec zlé. Respektive ta normální je výborná, a ta druhá by na určitou část diváctva mohla snad zapůsobit taky. Ale jejich vzájemná koexistence prostě totálně selhává a nefunguje. Peter se měl rozhodnout pro jedno nebo druhé. Opravdu jsem neměl zájem po mrazivé čtvrthodince, kde byla atmosféra hustější než můj ejakulát, koukat následně 20 minut, kterak Saoirse Ronan (mimochodem, skvěle hrající) honí někde na louce motýlky. Abych si něco takového užil, tak by muselo na světě existovat více drog. K myšlence samotné se neodvažuji vyjadřovat, nebo bych si Petera Jacksona musel snad odoblíbit. Tento film do Jacksonovy filmografie absolutně nezapadá. Nad pseudofilosofickým obsahem, kdy se nám snaží rozšířit obzory sotva 14leté dítě zůstávají všechny mé neurony stát. Psycho závěr byl pro mě posledním hřebíčkem do rakve. Vážně duše děvčátka našla klidu až poté, co si vyměnila trošku slin se šeredným kudrnatým klučinou, do kterého se ve 14 letech brutálně zamilovala? Originalitu v drtivé většině případů hodnotím převelice kladně. Zde ovšem originalita nemilosrdně zprznila nadějně vyhlížející koncept, a to opravdu v monstrózním stylu. Nějakou hvězdu přeci jen utrousím za katalogového psychopata Tucciho, půvabnou Rachel Weisz, **debilně** ostříhaného Wahlberga a sympatickou dětskou herečku Saoirse Ronan."
      ],
      "text/plain": [
       "<IPython.core.display.Markdown object>"
      ]
     },
     "metadata": {},
     "output_type": "display_data"
    },
    {
     "name": "stdout",
     "output_type": "stream",
     "text": [
      "\n",
      "https://www.csfd.cz/uzivatel/172466-frajer42/\n",
      "Stranger Things - Kapitola čtvrtá: Tělo (S01E04) (epizoda) (2016) 2\n"
     ]
    },
    {
     "data": {
      "text/markdown": [
       "Tak čtvrtým dílem se seriálem definitivně loučím. Už mě nebaví čekat 50 minut na to, aby se objasnila jedna věc a objevilo se 10 nových záhad, přičemž se člověk skoro celý díl těžce nudí. Už mi nelezou na nervy pouze přehrávající Winona a **retardovaný** buřtík, ale totálně se mi znechutili téměř všechni ostatní. Zkrátka mi to celé přijde dost nezáživné, příliš nechápu ten všudypřítomný povyk a nehodlám již se seriálem ztrácet ani minutu."
      ],
      "text/plain": [
       "<IPython.core.display.Markdown object>"
      ]
     },
     "metadata": {},
     "output_type": "display_data"
    },
    {
     "name": "stdout",
     "output_type": "stream",
     "text": [
      "\n",
      "https://www.csfd.cz/uzivatel/172466-frajer42/\n",
      "https://www.csfd.cz/uzivatel/172466-frajer42/\n",
      "Ed Wood (1994) 4\n"
     ]
    },
    {
     "data": {
      "text/markdown": [
       "Moc jsem nevěděl, co od filmu čekal. Aby člověk docenil kvality snímku, tak by si nejdříve musel zřejmě projít filmovou žumpou, kterou za svůj život Edward Wood vybudoval. Dost jsem se těšil na spolupráci Burtona a Deppa, protože to zkrátka většinou klape. Tento snímek ovšem není většinový. Těžko vzpomínat, jestli existuje film, kde by se mi Depp líbil ještě méně. Povětšinou to ani nebyl Depp, ale hrál jakousi transku Deppku. Absolutně mi film nesedl. Navzdory tomu, že se honosí zařazením mezi komedie, jsem se nezasmál ani jednou. Snad jsem ani nezaznamenal okamžik, kdy by se zasmát dalo. Cynický portrét člověka, který nade vše zbožňoval filmy, ale neměl ani kapičku talentu pro jejich tvorbu. Tak by se to celé dalo charakterizovat. Těžko říct, zda bylo Burtonovým záměrem jít ve stopách Ed Wooda a natočit kolosální **sračku.** V mých očích se mu to podařilo. Dýchla na mě z obrazovky tehdejší atmosféra a potěšilo mě, že jsem u snímku netrpěl sám. Ošklivá hvězda."
      ],
      "text/plain": [
       "<IPython.core.display.Markdown object>"
      ]
     },
     "metadata": {},
     "output_type": "display_data"
    },
    {
     "name": "stdout",
     "output_type": "stream",
     "text": [
      "\n",
      "https://www.csfd.cz/uzivatel/172466-frajer42/\n",
      "https://www.csfd.cz/uzivatel/172466-frajer42/\n",
      "Smrt panen (1999) 6\n"
     ]
    },
    {
     "data": {
      "text/markdown": [
       "Většina uživatelů tuhle **sračku** nadhodnocuje díky její \"úžasné\" atmosféře. Uznávám, že atmosféra byla zajímavá a na 3 z 5 slečen se dalo koukat. Ovšem nemohu přehlédnout, že je děj maximálně o hovně. Nelze snad ani hovořit o ději, neboť od děje člověk troufale očekává, že se snad bude něco dít. Celý tento film je vlastně o čekání. Divák čeká, že přijde něco zlomového a samozřejmě nic nepřichází. Jak tahle celá záležitost skončí napovídá název filmu a komu to náhodou nedojde z názvu, tak není na zážitku o nic ochuzen, tvůrci mu to asi v páté minutě stejně prozradí. Mám pocit, že se tento snímek dostal do hlav diváků jen díky slavnému jménu režisérky. 90 minut sledujete začarovaný kruh. Na jedné straně je 5 nadržených sester a na straně druhé jsou rodiče, kteří svým dcerám odmítají dopřát **kurvení** se s chlapci. S ohledem na nadrženost dívek usuzuji, že kdyby jedna ze sester byla bratr, tak by měli všichni rázem po problému. Neskutečná nuda a těžce nadhodnocovaný snímek. Zřejmě za moje nedocenění může fakt, že jsem nikdy nebyl 13letá dívka."
      ],
      "text/plain": [
       "<IPython.core.display.Markdown object>"
      ]
     },
     "metadata": {},
     "output_type": "display_data"
    },
    {
     "name": "stdout",
     "output_type": "stream",
     "text": [
      "\n",
      "https://www.csfd.cz/uzivatel/172466-frajer42/\n",
      "https://www.csfd.cz/uzivatel/172466-frajer42/\n",
      "https://www.csfd.cz/uzivatel/172466-frajer42/\n",
      "Animatrix: Neznámé území (2003) 2\n"
     ]
    },
    {
     "data": {
      "text/markdown": [
       "Extrémně **debilní** díl o zatoulané kočičce a kouzelném domečku. Totálně mě to nebavilo. Alespoň animace za něco stála."
      ],
      "text/plain": [
       "<IPython.core.display.Markdown object>"
      ]
     },
     "metadata": {},
     "output_type": "display_data"
    },
    {
     "name": "stdout",
     "output_type": "stream",
     "text": [
      "\n",
      "https://www.csfd.cz/uzivatel/172466-frajer42/\n",
      "https://www.csfd.cz/uzivatel/172466-frajer42/\n",
      "Místnost sebevrahů (2011) 6.5\n"
     ]
    },
    {
     "data": {
      "text/markdown": [
       "Spoilery!Ten, kdo vám tento snímek doporučil, zoufale volá o pomoc. Moje hodnocení nebude zřejmě plně vypovídat o potenciální kvalitě snímku, neboť se snímek točí kolem dvou věcí, které se mi dost **hnusí.** Tedy kolem **nejdebilnějšího** životního stylu EMO a kolem jedné z nejtrapnějších sexuálních orientací - gayství. Dokonce došlo i na jakousi dehonestaci juda, na které se budu nyní dívat jako na teploušský sport, kde se dva páni mohou ohmatávat až k vyvrcholení. Téměř dvouhodinový výlet mezi **retardy,** kteří neumějí dát svému životu smysl, či si alespoň najít vynikající koníček (filmy, hry, sport, sex, ...), který jim zlepší náladu v každém momentu, kdy jim vyvstanou na mysl podobné 3.14čoviny. Animovaný útěk do virtuálního světa na mě poté působil maximálně rušivě. Vedu zřejmě příliš spokojený život, abych podobný film dovedl patřičně docenit."
      ],
      "text/plain": [
       "<IPython.core.display.Markdown object>"
      ]
     },
     "metadata": {},
     "output_type": "display_data"
    },
    {
     "name": "stdout",
     "output_type": "stream",
     "text": [
      "\n",
      "https://www.csfd.cz/uzivatel/172466-frajer42/\n",
      "Líza, liščí víla (2015) 2\n"
     ]
    },
    {
     "data": {
      "text/markdown": [
       "Spoilery! Pohádka o dosti brutálním prokletí. Jste-li 3.14ča obstojného zevnějšku a hledáte muže, který se do vás zamiluje nikoli díky obstojnému zevnějšku, ale právě proto, že jste 3.14ča, tak se rázem ocitáte v začarovaném kruhu, ze kterého není úniku. Neskutečným způsobem mě na tomto snímku iritovala jeho \"přeefektovanost\". Opravdu by nebylo na škodu alespoň na moment ctít zásadu, že někdy je méně prostě více. Tedy většinou. Obzvlášť současná doba tíhne k minimalismu. Vždy je fajn vidět, když se někdo něco pokouší dělat nevšedně. Většinou je to ovšem fajn pouze z toho ohledu, že se člověk ujistí v tom, že je taková cesta špatná. Například úvodní prostorové titulky byly totální **hnus.** Zásadním nedostatkem snímku je to, že není vtipný, nýbrž naprosto trapný. Pokusy o vtipy v mých očích jednoduše nefungovaly. Když se někdo odebere netradičním způsobem na věčnost, tak to má potenciál zafungovat jednou, maximálně dvakrát. Odpad to z mé strany není proto, že jsem se dvakrát přeci jen zasmál. Poprvé při zajímavém tipu na sex na joga míči, který hodlám při první příležitosti realizovat a podruhé při vtípku se syčícím kávovarem."
      ],
      "text/plain": [
       "<IPython.core.display.Markdown object>"
      ]
     },
     "metadata": {},
     "output_type": "display_data"
    },
    {
     "name": "stdout",
     "output_type": "stream",
     "text": [
      "\n",
      "https://www.csfd.cz/uzivatel/172466-frajer42/\n",
      "https://www.csfd.cz/uzivatel/172466-frajer42/\n",
      "Světlo mezi oceány (2016) 4\n"
     ]
    },
    {
     "data": {
      "text/markdown": [
       "Spoilery! S Derekem Cianfrancem bychom společně na pivo zřejmě zajít nemohli, neboť by nám nechutnalo. Našel si totiž zvláštní zálibu v tvoření sraček, což je ve značném rozporu s mým vytříbeným vkusem. Přiznám se, že jsem měl vůči snímku mírné předsudky už před zhlédnutím, ale když jsem viděl, kterak se moje pravidelná spolusledovatelka na film těší, tak jsem musel zatnout zuby a obětovat se. Začátek vypadal slibně. Práce na majáku mě oslnila a jevila se mi jako zaměstnání snů. Ten klid, ta pohoda, člověk slyší pouze nárazy větru a vln a užívá si samotu. Bohužel pouze do doby, než se do toho vložila žena, která pánovi idylku okamžitě narušila. Poté následovalo něco nepopsatelného. 30 minut si hlavní aktéři posílali zamilovaná psaníčka a snažili se jeden druhého trumfnout v tom, kdo napíše větší **sračku.** Když už se Fassbenderovi začal tvořit tenisový loket z pravidelných večerních kratochvílí, tak se rozhodl učinit chybu svého života a svoji dopisovatelku pozvat do svého skromného příbytku. Na takovém majáku se toho moc dělat nedá. Oba aktéři se tedy rozhodli trávit svůj čas zábavou chudých, na kterou jsou podmínky kdekoli, kdykoli a s kýmkoli. Těhotenství toto místo zrovna nepřálo a brzy vyrostlo místo dětí jen několik hrobečků, z čehož začalo oběma aktérům značně šplouchat na maják. Naštěstí, či bohužel, následoval moment jako z pohádky. Když se nepodařilo hlavní hrdince vyvrhnout živé dítě ze své ciciny, tak jej romantickému párečku vyvrhlo samo moře. S jednou mrtvolkou jako bonus. Zoufalá situace si žádá zoufalé činy. Dítě si samozřejmě ponechali. Troufám si tvrdit, že by se v jejich situaci zachovala většina lidí stejně. Dítě mělo samozřejmě kousek dál matku, která jej jaksi postrádala. Další vývoj už si není problém domyslet. I přes opravdu nádherné prostředí a příjemnou dobovou atmosféru, jsem se drtivou většinu snímku neskutečně nudil. Moc nechápu zdejší hodnocení. Věřím, že ženské oko potěší Fassbender a mužské zase Alicia Vikander, kteří jsou velice roztomilý páreček. To mi ovšem na nějaký kvalitní filmový zážitek opravdu nestačí. Tento snímek patřičně docení zřejmě pouze ženy a sem tam nějaký citlivý pán."
      ],
      "text/plain": [
       "<IPython.core.display.Markdown object>"
      ]
     },
     "metadata": {},
     "output_type": "display_data"
    },
    {
     "name": "stdout",
     "output_type": "stream",
     "text": [
      "\n",
      "https://www.csfd.cz/uzivatel/172466-frajer42/\n",
      "https://www.csfd.cz/uzivatel/172466-frajer42/\n",
      "https://www.csfd.cz/uzivatel/172466-frajer42/\n",
      "https://www.csfd.cz/uzivatel/172466-frajer42/\n",
      "https://www.csfd.cz/uzivatel/172466-frajer42/\n",
      "Smrt ve tmě (2016) 6\n"
     ]
    },
    {
     "data": {
      "text/markdown": [
       "Spoilery! Nápad, že se bude partička zlodějů pohybovat tmou po domě a bude je likvidovat slepec je hrozně pěkný. Ve vzduchu se vznášel ohromný potenciál. Bohužel se však ve vzduchu vznášel po celý film a ani ten potenciál nenapadlo, že by se snesl k zemi. Už ten samotný úvod, kde je vám představena amatérská partička zlodějů a tvůrci se vám pokoušejí obhájit jejich kradení, abyste si k nim vytvořili empatie. Postavy jsou ovšem tak krajně nezajímavé a nesympatické, že se to u mě zcela minulo účinku. Nejvíce mě iritoval ten vylekaný a prakticky téměř nezabitelný **retard.** Už z tohoto úvodu je naprosto zřejmé, co bude následovat a dá se odhadnout, jak to celé dopadne. Nějaké překvapení nehrozilo. Úvod byl samozřejmě krajně **debilní,** ale tak to obvykle bývá. Nicméně stále jsem věřil, že až se hrdinové dostanou do domečku, tak by se mohlo třeba něco zajímavého začít dít. Zajímavé to místy opravdu bylo. Ovšem na úkor toho, že se všechny postavy chovaly a řídily dle takových zásad, které se zrovna hodily. Například ten starý likvidátor byl po většinu času hluchý jak poleno. Mohli jste mu rozbíjet okna, lámat zámky, stát u procházet se u postele. Nic neslyšel. Když se to však náhodou hodilo, tak se mu najednou sluch vrátil v míře vrchovaté, kdy mu málem praskly ušní bubínky z domovního alarmu. Jinak celková logika ve filmu je extrémně **debilní** a během kompletní stopáže mi významně znepříjemňovala sledování. Když už jsem si myslel, že u snímku umřu, tak jej opět trošku osvěžilo netradiční vyústění. Respektive vysvětlení toho, proč si pán ve volných chvílích hraje na sklepmistra. Ze svého ejakulátu, který musel zřejmě namrazit už v mládí, neboť v momentální situaci už mu moc pulců ve vodě rozhodně neplave, se pokoušel vyrobit si náhradní dcerku, kterou by mohl klidně i 5 let vychovávat, než by se odebral na věčnou věčnost. Konec mě také neuspokojil. Všichni měli pomřít. Docela jsem se na tento snímek těšil. Obrovské zklamání!"
      ],
      "text/plain": [
       "<IPython.core.display.Markdown object>"
      ]
     },
     "metadata": {},
     "output_type": "display_data"
    },
    {
     "name": "stdout",
     "output_type": "stream",
     "text": [
      "\n",
      "https://www.csfd.cz/uzivatel/172466-frajer42/\n",
      "Horizont události (1997) 6\n"
     ]
    },
    {
     "data": {
      "text/markdown": [
       "Patlanina několika žánrů, přičemž snímek není dobrý, ať na něj nahlížíte z kteréhokoli pohledu. Není ani zajímavý, ani napínavý a ani děsivý. Neskutečně nesympatické posádce začne na lodi hrabat. Všichni začnou soupeřit s vlastními démony, které kompletně ve všech případech stojí vyloženě za **hovno.** Tvůrci hravě vystačili s jediným prskavkovým efektem. Neskutečně jsem se během sledování nudil. Celkem se shoduji se svým kamarádem. Prvních 20 minut bylo zajímavých. Člověk čeká, co se vlastně bude dít a v jakém duchu se film ponese. Jakmile dostane na tuto otázku **hnusnou** odpověď, tak jakýkoli potenciál filmu končí v ohni pekelném. Jeden z mála filmů, který s přibývající stopáží **negraduji,** nýbrž degraduje, a to až na úplné filmové dno."
      ],
      "text/plain": [
       "<IPython.core.display.Markdown object>"
      ]
     },
     "metadata": {},
     "output_type": "display_data"
    },
    {
     "name": "stdout",
     "output_type": "stream",
     "text": [
      "\n",
      "https://www.csfd.cz/uzivatel/172466-frajer42/\n",
      "Spider-Man: Homecoming (2017) 10\n"
     ]
    },
    {
     "data": {
      "text/markdown": [
       "Komixákům už došly zajímavé postavy a tak tento rok sledujeme píčoviny o feminstkách a **buzerantech.** Původní Spider-man přitom byla koukatelná věc. Nevím, co se těm **idiotům** honilo hlavou a rukama, když se rozhodli vytvořit snímek o přihřátém pubertálním análním průzkumníkovi, který vzhledem k tomu, že je podřadná bytost, tak řeší podřadné úkoly. A světe div se! Podřadné úkoly nejsou tak divácky atraktivní, jako ty nepodřadné. Brutálně jsem během sledování ztrácel pozornost. Děj mě nezajímal. K dokonalosti snímku chybělo snad jen to, aby Holland stejně jako pavouk, dělal pavučiny svojí teplou **prdelí.** To by mu ovšem nesměli uříznout koule a **prdel** mu jimi ucpat, soudě dle jeho ženského hlasu. Snímek se neustále pokoušel vytvářet nějaký humor. Nezasmál jsem se jedinkrát, protože ti **kokoti** filmem míří na dětské publikum. Otřesná věc! Prozatím jednoznačně nejhorší film od Marvelu."
      ],
      "text/plain": [
       "<IPython.core.display.Markdown object>"
      ]
     },
     "metadata": {},
     "output_type": "display_data"
    },
    {
     "name": "stdout",
     "output_type": "stream",
     "text": [
      "\n",
      "https://www.csfd.cz/uzivatel/172466-frajer42/\n",
      "Wonder Woman (2017) 2\n"
     ]
    },
    {
     "data": {
      "text/markdown": [
       "Nerad bych si znepřátelil některý z feministických spolků, ale zastávám názor, že ženy nejsou dostatečně silným pohlavím, aby si zasloužily samostatný film, který by byl alespoň částečně srovnatelný s hrdiny typu Batmana. Tomuto snímku zkrátka chyběly koule. Navzdory tomu, že jsem po dlouhé době viděl v hlavní roli někoho, kdo byl obdařen skutečným půvabem a byl by horkým adeptem na pozvánku do trojky, tak jsem u tohoto filmu trpěl nudou. Už v samotném estrogenovém úvodu jsem ze strany tvůrců cítil zájem diváky unudit. Příběh Wonder Woman mi nepřijde absolutně ničím zajímavý. Nějaký **retard** ji kdysi uplácal z hlíny a stejně suchá zůstane zřejmě až do svého skonání, pokud se něco takového chystá. Tím, že celý život strávila obklopena samými ženami z ní vyrostla řádně nezajímavá 3.14ča. Pokud někoho tak strašně suchého vložíte do tak nudného děje, tak z toho zkrátka dobrý film nevykouzlíte, ani kdybyste se posrali. Stupidita děje se celou stopáž stupňovala. Celé to vyeskalovalo až v neskutečně trapný závěr. Velmi slabá hvězda snad jen za to, že se mi tu a tam cosi pohnulo v kalhotách."
      ],
      "text/plain": [
       "<IPython.core.display.Markdown object>"
      ]
     },
     "metadata": {},
     "output_type": "display_data"
    },
    {
     "name": "stdout",
     "output_type": "stream",
     "text": [
      "\n",
      "https://www.csfd.cz/uzivatel/172466-frajer42/\n",
      "https://www.csfd.cz/uzivatel/172466-frajer42/\n",
      "https://www.csfd.cz/uzivatel/172466-frajer42/\n",
      "https://www.csfd.cz/uzivatel/172466-frajer42/\n",
      "https://www.csfd.cz/uzivatel/172466-frajer42/\n",
      "Král Artuš: Legenda o meči (2017) 2\n"
     ]
    },
    {
     "data": {
      "text/markdown": [
       "Absolutní zklamání. Nedokázal jsem si během koukání ani na 5 minut odpustit srovnávání se starší verzí z roku 1981, která měla vše, co téhle žalostně chybělo - jednoznačně rozlišitelné postavy, jejíchž osudy vám nebyly lhostejné, smysluplný příběh, který rozhodně nebyl naprosto povrchní, jako tomu bylo v případě tohoto nového paskvilu, krásný hudební motiv, nikoli směsici milionu žánrů, z nichž ani jeden filmu neslušel. Tento snímek se snažil být hrozně kůl už od úvodních titulků, které byly naprosto příšerné a vzhledem k tomu, do jaké doby je film zasazen, byly úvodní titulky i krajně nevhodné. Neskutečně mi lezl na nervy namistrovaný hlavní hrdina. Adrenalin mi do nebezpečných výšek nejvíce zvedaly kolosálně **debilní** rychlé prostřihy, které si diváci museli vytrpět každých 10 minut. Snad už účast Davida Backhema pro mě měla být dostatečným varováním, že půjde o nadpozemskou píčovinu. Kamera byla naprosto úděsná, z rychlé akce nebylo vidět naprosto nic a zpomalené záběry přicházely v dost nevhodné okamžiky. Překvapuje mě, že ji má na svědomí pán, který si s ní obvykle ví rady. Překáželo mi i několik stejných opic bez jejichž účasti by se snímek hravě obešel. V závěru jsem usínal. Vskutku odporná záležitost."
      ],
      "text/plain": [
       "<IPython.core.display.Markdown object>"
      ]
     },
     "metadata": {},
     "output_type": "display_data"
    },
    {
     "name": "stdout",
     "output_type": "stream",
     "text": [
      "\n",
      "https://www.csfd.cz/uzivatel/172466-frajer42/\n",
      "Příběh z Filadelfie (1940) 4\n"
     ]
    },
    {
     "data": {
      "text/markdown": [
       "Musím se přiznat, že i přes účast Grante a Stewarta tento snímek nebyl ani zdaleka mým šálkem kávy. Především zpočátku jsem se brutálně nudil a nevěnoval snímku příliš ze své pozornosti. Fyzicky mi ubližovalo sledovat život emancipované **píče** a její nekonečně otravné mladší sestry. Emancipovaná píča ke všemu nepobrala ani příliš krásy. Sem tam se vzduchem prolétla příjemná hláška. Ovšem nic ani vzdáleně úsměvného. S výjimkou posledních několika minut se jednalo o brutálně nudnou záležitost, kterou jsem viděl na tři fáze. Ani se mi příliš nezdála chemie mezi postavami. George Cukor tvořil strašné **sračky.** Lepší hvězda. Viděno v rámci Filmové výzvy 2017. Film mi vybrala uživatelka Mireldis."
      ],
      "text/plain": [
       "<IPython.core.display.Markdown object>"
      ]
     },
     "metadata": {},
     "output_type": "display_data"
    },
    {
     "name": "stdout",
     "output_type": "stream",
     "text": [
      "\n",
      "https://www.csfd.cz/uzivatel/172466-frajer42/\n",
      "Zdrojový kód (2011) 4\n"
     ]
    },
    {
     "data": {
      "text/markdown": [
       "Pozitivně hodnotím vyloženě jen nápad, protože je pravda, že tvůrci sice nesáhli po nové myšlence ve vesmíru, nicméně ji celkem originálně pojali. Když už máme možnost cestovat do paralelní reality, tak se tvůrci přeci jen mohli vydat na zajímavější místo, než do trapného vlaku plného **retardů.** Gyllenhaala mám obvykle rád, objevuje se v různých rolích, tahle role ovšem byla divná i na něho. V podobných filmech chybí i nějaké napětí. Pokud má hrdina možnost 60× zacestovat v čase, tak dovede danou situaci časem zmáknout s naprostou bravurou. Dost jsme se nudil. Snímek mě absolutně nedokázal vtáhnout do děje. Taktéž naprosto chyběl jediný moment překvapení. Předvídatelné od první do poslední minuty. Ošklivá hvězda. Vůbec nechápu zdejší přestřelené hodnocení. Zřejmě je vysoké jenom proto, že je snímek nechutně jednoduchý a hravě ho pochopil každý zdejší **retard.**"
      ],
      "text/plain": [
       "<IPython.core.display.Markdown object>"
      ]
     },
     "metadata": {},
     "output_type": "display_data"
    },
    {
     "name": "stdout",
     "output_type": "stream",
     "text": [
      "\n",
      "https://www.csfd.cz/uzivatel/172466-frajer42/\n",
      "https://www.csfd.cz/uzivatel/172466-frajer42/\n",
      "Agnus dei (2016) 2\n"
     ]
    },
    {
     "data": {
      "text/markdown": [
       "Spoilery! Velmi pozitivně oceňuji myšlenku filmu a taky to, co byla mladá stážistka ochotná riskovat pro pomoc několika sestrám, neboť se zde prý vychází ze skutečné události. Nezbavím se ovšem přesvědčení, že se to dalo naservírovat divákům mnohem příjemnějším způsobem. Velmi záhy se prokeclo, že benediktínky nechodil v noci navštěvovat na lože Duch Svatý, nýbrž nadržení ruští vojáci. A mnohdy jim dokonce zanechali v těle nějakou tu památku na večerní jednostranné radovánky. Dost dobře nechápu, jak pro někoho může být sexuální zážitek uspokojující, když se odehrává bez výrazného zapojení toho druhého, ba dokonce proti jeho vůli. Proti gustu ovšem žádný dišputát. Klášter se velmi rychle proměnil v porodnici a divák celou stopáž sledoval, kterak rodí jeptišky, což mě asi po druhém porodu jaksi přestalo bavit. Čekal jsem něco trošku jiného. Očekával jsem přehlídku hrůzností, **hnusu** a nekonečného prznění nebohých jeptišek. To vše se odehrálo dávno před dějem tohoto snímku. Divák byl vhozen do děje až posléze, aby sledoval pouze následky, což nebylo ani zdaleka tak zajímavé, intenzivní a poutavé, jak to býti mohlo. Značné zklamání."
      ],
      "text/plain": [
       "<IPython.core.display.Markdown object>"
      ]
     },
     "metadata": {},
     "output_type": "display_data"
    },
    {
     "name": "stdout",
     "output_type": "stream",
     "text": [
      "\n",
      "https://www.csfd.cz/uzivatel/172466-frajer42/\n",
      "Prokletí (1988) 6\n"
     ]
    },
    {
     "data": {
      "text/markdown": [
       "Spoilery! Existují lepší způsoby jak ztratit svůj čas, než se koukat skoro dvě hodiny na osobu, která ztrácí čas svůj i ten váš. Tarr si tentokrát vzal příliš velké sousto. Pokusil se stvořit snímek, ve kterém hrála hlavní roli pochmurná atmosféra, takřka konstantní déšť a hlavně nekonečná nuda a zároveň si přál, aby takový film nudný nebyl. Samozřejmě se mu to nepodařilo. Minimálně v mých očích odborníka rozhodně ne. Dle zdejšího hodnocení mu to spousta **retardů** dokonale spolkla. Děj mě absolutně neoslovil. Pojednává o mrzutém **retardovi,** který se snaží získat srdce barové **kurvy,** ačkoli ji nemá co nabídnou, ba dokonce ji nemá ani čím zaujmout. Umí pouze pít pálenku a dívat se z okna. Stejně nudný byl i v postýlce. Jeho postelové dovednosti hodně blízce připomínaly pářící se želvy. Jen je třeba si odmyslet želví sexuální prožitek. Do vztahu se snaží vstoupit pouze jako cizopasnický balvan. K nefalšovanému údivu všech diváků, se mu to nedaří, a tak se opět vrací k tomu, co mu jde v životě nejlépe - ke koukání se z okna. Film docení pravděpodobně pouze diváci, kteří se v něm najdou. Já se nudit neumím. Lepší hvězda."
      ],
      "text/plain": [
       "<IPython.core.display.Markdown object>"
      ]
     },
     "metadata": {},
     "output_type": "display_data"
    },
    {
     "name": "stdout",
     "output_type": "stream",
     "text": [
      "\n",
      "https://www.csfd.cz/uzivatel/172466-frajer42/\n",
      "https://www.csfd.cz/uzivatel/172466-frajer42/\n",
      "https://www.csfd.cz/uzivatel/172466-frajer42/\n",
      "Let (2012) 2\n"
     ]
    },
    {
     "data": {
      "text/markdown": [
       "Dvouhodinová režisérova onanie postavená na jednom dobrém hereckém výkonu. Divák drtivou většinu enormně trpí. Téma přitom nebylo vyloženě marné. Bohužel kromě samotného letu a vypořádání se s technickým problémem, kdy jsem dobrých 20 minut takřka nedýchal, jak dobře to měli kluci udělané. Opravdu napínavé jako kšandy 60letého zedníka s oblibou v hospodských aktivitách. Zbytek filmu je bohužel nefalšovaně strašný. Člověk se musí opravdu kurevsky snažit, aby vůbec udržel oči. Opravdu strašná **píčovina** bez jakéhokoli potenciálu alespoň malinko zaujmout divákovu pozornost. Tohle se jinak solidnímu Zemeckisovi opravdu těžce nepovedlo. Lepší hvězda."
      ],
      "text/plain": [
       "<IPython.core.display.Markdown object>"
      ]
     },
     "metadata": {},
     "output_type": "display_data"
    },
    {
     "name": "stdout",
     "output_type": "stream",
     "text": [
      "\n",
      "https://www.csfd.cz/uzivatel/172466-frajer42/\n",
      "Zrodila se hvězda (2018) 4\n"
     ]
    },
    {
     "data": {
      "text/markdown": [
       "To, že se Adolf Hitler rozhodl vyhubit nebohé Židy se dá označit za nepříliš dobrý nápad. Ovšem to, že se někdo rozhodl točit dvouhodinové romantické filmy, to je vyloženě **píčovina** non plus ultra. Další totálně nadhodnocená hrůza, na kterou mě nalákaly asi dvě vynikající písně. Lady Gaga i Bradley Cooper hrají velmi slušně. Bohužel hrají role, které někdo psal pro dnešní popkornovou subkulturu. Příšerná a stále se opakující **hnus.** Naprosto nezajímavý děj a předvídatelný vývoj postav. Snímek se mi dokonale omrzel po několika minutách. Bradley Cooper by měl zůstat pouze u herectví. Tam je jeho rajón. Nic dalšího v tomto filmu totiž nefungovalo. Obrovské zklamání. Hvězdičku dávám za to, že jsme si se spolusledovatelkou luxusně zdřímli."
      ],
      "text/plain": [
       "<IPython.core.display.Markdown object>"
      ]
     },
     "metadata": {},
     "output_type": "display_data"
    },
    {
     "name": "stdout",
     "output_type": "stream",
     "text": [
      "\n",
      "https://www.csfd.cz/uzivatel/172466-frajer42/\n",
      "Solo: Star Wars Story (2018) 2\n"
     ]
    },
    {
     "data": {
      "text/markdown": [
       "Howard by si zasloužil gratulaci, protože se mi dokonale podařilo znásilnit Hvězdné války. Raději by měl chlapec zůstat už navždy u životopisných filmů, protože tam je jeho rajón. Tento film uchopil naprosto příšerně. Netuším, zda Howardovi po večerech Alden Ehrenreich kouří jeho chloubu, ale jinak si jeho účast nedovedu vysvětlit. Neskutečně mě ten \"herec\" iritoval a vytáčel. Dialogy zřejmě vymýšlelo ve družině nějaké dítko nízkého věku a ještě nižšího intelektu, protože nic tak **debilního,** nevtipného a otravného jsem už dlouho neslyšel. Za celou stopáž nezazněla jediná hláška. Tento díl opravdu nebyl dobrý nápad. Výprava do nezajímavé doby mezi nezajímavé pašeráky a psance vesmíru dopadla katastrofálně. Naprostou korunu celému dílu nasadil feministická revolucionářská robotka, která zachovávala genderovou, kulturní a náboženskou vyváženost, aby se náhodou nějaká menšina necítila ve filmu nezastoupena. Já mám o nejotravnější postavě tohoto tisíciletí tedy jasno. Obrovské zklamání."
      ],
      "text/plain": [
       "<IPython.core.display.Markdown object>"
      ]
     },
     "metadata": {},
     "output_type": "display_data"
    },
    {
     "name": "stdout",
     "output_type": "stream",
     "text": [
      "\n",
      "https://www.csfd.cz/uzivatel/172466-frajer42/\n",
      "https://www.csfd.cz/uzivatel/172466-frajer42/\n",
      "Bláznova kronika (1964) 4\n"
     ]
    },
    {
     "data": {
      "text/markdown": [
       "Katastrofa! Příšernost tohoto filmu má na svědomí opravdu katastrofální děj. Nic tak nezajímavého dlouho nikdo nevytvořil. Být film o chvíli delší, bylo by moje hodnocení nižší. Tuším dvakrát či třikrát jsem se zasmál. Po zbytek stopáže jsem se vyloženě jen nudil. Naprosto zbytečný film. Ve své době musely být použité efekty docela komplikovaná a zdlouhavá věc, tudíž absolutně nechápu, proč bylo efekty plýtváno pro takovou **sračku.** Klasická Zemanova pohádka točící se již po dvě stě padesáté kolem zaujímání postojů na základě situace, která zrovna panuje. Nezaujalo mě dokonce ani herecké obsazení rolí. Třicetiletá válka rozhodně nebyla nezajímavou záležitostí. Dal se tu rozhodně postavit divácky atraktivnější příběh. O moc atraktivnější! Slabá hvězda."
      ],
      "text/plain": [
       "<IPython.core.display.Markdown object>"
      ]
     },
     "metadata": {},
     "output_type": "display_data"
    },
    {
     "name": "stdout",
     "output_type": "stream",
     "text": [
      "\n",
      "https://www.csfd.cz/uzivatel/172466-frajer42/\n",
      "Perníkový táta - Štěnice (S04E09) (epizoda) (2011) 16\n"
     ]
    },
    {
     "data": {
      "text/markdown": [
       "Už se mi chce upřímně zvracet z toho, co ti šulini tvůrci zase vymysleli. Byla by to bývala byla vcelku kvalitní epizoda, kdyby tam nějaký totální šulin neměl opět potřebu vecpat tu bezvýznamnou, nudnou a otravnou blonďatou pizdu. To se v prozkoumaném vesmíru vážně najde někdo, koho baví sledovat, jak ta **kurva** dělá účetní v nějaké **zasrané** myčce? Vždyť to je absolutní vrchol scénáristické **debility.** Od napínavé akce se skočí do **zkurvené** myčky a je nejenom po napětí, ale člověk má **zkurvený** kompletní zážitek z, do té doby, kvalitní epizody. Fakt nevím, jestli tam ta **kurva** dostává tolik prostoru zase jen z nějakého komplexu genderové vyváženosti, ale vždy spolehlivě trpím. Z dvojnásobné rychlosti už jsem byl tvůrci donucen zrychlovat osminásobně. Ty její žgryndy se totiž nedají poslouchat. A když se opět podíval na scénu ten její **debilní** šéf, tak jsem myslel, že se na místě podřežu propiskou. Katastrofa a tak hanebné mrhání potenciálem seriálu, které se v takovém šíleném měřítku děje skutečně jen tady. Ta píča Anna Gunn nemá absolutně žádné herecké nadání a k tomu je obsazena do totálně odporně napsané role. Důkazem zbytečnosti této postavy může být například fakt, že její scénky už asi tři série sleduji takovou rychlostí, že je téměř úplně přeskakuji a stejně nemám pocit, že by mi v ději cokoli uniklo. Může mi tedy někdo vysvětlit, jestli má v tomto seriálu ta **kurva** nějaké jiné poslání než jen rozkuřovat kompletně celý filmový štáb? Dávám jednu hvězdu a přeji si být za své nadstandardní hodnocení minimálně prohlášen za světce."
      ],
      "text/plain": [
       "<IPython.core.display.Markdown object>"
      ]
     },
     "metadata": {},
     "output_type": "display_data"
    },
    {
     "name": "stdout",
     "output_type": "stream",
     "text": [
      "\n",
      "https://www.csfd.cz/uzivatel/172466-frajer42/\n",
      "https://www.csfd.cz/uzivatel/172466-frajer42/\n",
      "https://www.csfd.cz/uzivatel/172466-frajer42/\n",
      "https://www.csfd.cz/uzivatel/172466-frajer42/\n",
      "Falešná hra s králíkem Rogerem (1988) 2\n"
     ]
    },
    {
     "data": {
      "text/markdown": [
       "Zřejmě jsem si nedopatřením pustil nějaký jiný film, než který si pustil člověk, který si pohonil při psaní zdejšího obsahu. Smekám před skvělou technickou stránkou, která byla na svoji dobu přelomová. Když k tomu přidám asi dva vydařené vtipy, tak jsem vyčerpal veškerá pozitiva. Opravdu nechápu, proč si tvůrci připravili pro diváky tak neuvěřitelně prvoplánový, **debilní** a totálně ohraný příběh, když jim tak úžasný nápad dával tolik možností. Neskutečným způsobem mě iritoval Bob Hoskins, kterému jsem dodnes nepřišel na chuť. Mnohonásobně více mi ovšem lezl na nervy ten kreslený čůrák. Napsat nekonečně otravnou ušišlanou postavu mohlo napadnout snad jen nějakého vola. Lepší hvězdička."
      ],
      "text/plain": [
       "<IPython.core.display.Markdown object>"
      ]
     },
     "metadata": {},
     "output_type": "display_data"
    },
    {
     "name": "stdout",
     "output_type": "stream",
     "text": [
      "\n",
      "https://www.csfd.cz/uzivatel/172466-frajer42/\n",
      "https://www.csfd.cz/uzivatel/172466-frajer42/\n",
      "Zločiny a poklesky (1989) 6\n"
     ]
    },
    {
     "data": {
      "text/markdown": [
       "Spoilery! Pointa i závěr snímku se mi moc líbil, byl takový reálný bez nějakých **debilních** příkras. Dále už se mi bohužel líbil pouze moudrý pán z televize, který občas proložil tu odpornou nudu nějakým moudrem. Od úvodních do posledních minut ve filmu opravdu kralovala **hnusná** nuda. Tuctový snímeček o nešťastném výběru adeptky pro nevěrnu, která chtěla být v životě svého drahého protějšku více než jen občasným zpestřením, čímž ho donutila k zoufalému činu. V celém snímku mi žalostně schází humor, díky kterému se mi Woodyho snímky tak líbí. Tento se bohužel kompletně celý táhne na dramatické vlně, což zkrátka stojí za **hovno.** Strašná nuda s naprostým minimem nadstandardních dialogů."
      ],
      "text/plain": [
       "<IPython.core.display.Markdown object>"
      ]
     },
     "metadata": {},
     "output_type": "display_data"
    },
    {
     "name": "stdout",
     "output_type": "stream",
     "text": [
      "\n",
      "https://www.csfd.cz/uzivatel/172466-frajer42/\n",
      "https://www.csfd.cz/uzivatel/172466-frajer42/\n",
      "https://www.csfd.cz/uzivatel/172466-frajer42/\n",
      "https://www.csfd.cz/uzivatel/172466-frajer42/\n",
      "Rozhovor (1974) 2\n"
     ]
    },
    {
     "data": {
      "text/markdown": [
       "Coppola se rozhodl spáchat atentát na všechny diváky, kteří disponují alespoň náznakem vkusu. Dlouho jsem nebyl svědkem něčeho tak nudného. Nefalšovaný dvouhodinový pokus o naprosté znudění diváků. Opravdu něco odporného. Gene Hackman dostal honorář naprosto zadarmo, neboť byla jeho role napsaná tak, že se od něj herectví ani nevyžadovalo. Vše, co k tomuto všemi oslavovanému výkonu postačovalo bylo tvářit se nezúčastněně a působit jako osamělá bytost bez života. Nechci se chlubit, ale tohle bych dokázal zahrát taky. Děj mi přišel neskutečně fádní. Divák 120 minut neustále dokola poslouchá jeden z **nejdebilnějších** dialogů, jaký se kdy ve světě filmu objevil. Pokud jste byli většinu stopáže v naivním očekávání, že se snad něco zajímavého začne dít, tak vyzkoušejte jiný film. Zde máte co do činění pouze s prach bídnou studií osamělosti."
      ],
      "text/plain": [
       "<IPython.core.display.Markdown object>"
      ]
     },
     "metadata": {},
     "output_type": "display_data"
    },
    {
     "name": "stdout",
     "output_type": "stream",
     "text": [
      "\n",
      "https://www.csfd.cz/uzivatel/172466-frajer42/\n",
      "https://www.csfd.cz/uzivatel/172466-frajer42/\n",
      "Perníkový táta - Už zase (S03E05) (epizoda) (2010) 4\n"
     ]
    },
    {
     "data": {
      "text/markdown": [
       "Spoilery! S výjimkou zajímavé **negrovy** laboratoře a navnaďujícího závěru se jednalo o jednu z nejotravnějších sérií. Když člověk vidí 4 po sobě jdoucí scény a v každé účinkuje v hlavní roli ta blonďatá píča, tak si ihned uvědomí, že je něco s tímto seriálem ve značném nepořádku. Proč například ti šulini v každém dílu ukazují tu bloďatou píču, jak chrápe se svým šéfem. Nestačilo to ukázat jednou? Tvůrci zřejmě nabrali dojem, že tento seriál sledují výhradně **dementi** a feťáci, a tak je třeba vše vysvětlovat několikrát. Jsme skoro v polovině série a zatím to je neskutečná bída."
      ],
      "text/plain": [
       "<IPython.core.display.Markdown object>"
      ]
     },
     "metadata": {},
     "output_type": "display_data"
    },
    {
     "name": "stdout",
     "output_type": "stream",
     "text": [
      "\n",
      "https://www.csfd.cz/uzivatel/172466-frajer42/\n",
      "https://www.csfd.cz/uzivatel/172466-frajer42/\n",
      "https://www.csfd.cz/uzivatel/172466-frajer42/\n",
      "Propast (1989) 8\n"
     ]
    },
    {
     "data": {
      "text/markdown": [
       "Když jsem tak poslouchal ty úvodní žvásty a zejména post manželskou debatu a dialogy prohnané těžkou lobotomií, tak mi úplně vyvstával na mysl snímek The Room, který na mě v tomto ohledu působil dost podobně. V duchu jsem se litoval, do jaké \"inteligentní\" **sračky** jsem se to zase navrtal. Tohle, že má být opěvovaný Cameron? Někdo sem zřejmě pozapomněl připsat žánr \"romantický\". Z každé věty sršel odporný amatérismus. Celá ta romantická vsuvka točící se kolem napravení jakéhosi manželství totálně **pokurvila** kompletně celý děj. Vůbec se mi nechce věřit, že se v tvorbě dialogů Cameron za osm let posunul úplně někam jinam. Totálně zde nefungovala jakákoli chemie mezi kterýmikoli postavami. Dlouho jsem neviděl a neslyšel nic tak chladného a **dementního.** Člověk až zauvažuje o smyslu svého života, když ztrácí svůj drahocenný čas s něčím tak **debilním.** Můj divácký dojem zachránila až závěrečná pointa a vůbec celkové vyústění. Bohužel se k němu člověk musí prokoukat dvěma hodinami filmařského utrpení. Záběry byly na svoji dobu samozřejmě parádní. Alespoň v tomto ohledu byl Cameron evidentně vždy dokonalý."
      ],
      "text/plain": [
       "<IPython.core.display.Markdown object>"
      ]
     },
     "metadata": {},
     "output_type": "display_data"
    },
    {
     "name": "stdout",
     "output_type": "stream",
     "text": [
      "\n",
      "https://www.csfd.cz/uzivatel/172466-frajer42/\n",
      "https://www.csfd.cz/uzivatel/172466-frajer42/\n",
      "Knick: Doktoři bez hranic - Deset uzlů (S02E01) (epizoda) (2015) 2\n"
     ]
    },
    {
     "data": {
      "text/markdown": [
       "Spoilery! Klasický první díl série, který obvykle stojí za **hovno.** Časový skok, ukázka kdo kde s kým je. Zkrátka seznamování. Zajímavé bylo snad jen to, že se úplně neosvědčila léčba kokainové závislosti heroinem, tak to teď zkouší kluci léčit pěkně po námořnicku. Naštěstí se to prozatím obešlo bez typických análních radovánek na moři. Pevně věřím, že bude v nadcházejících dílech kvalita strmě růst."
      ],
      "text/plain": [
       "<IPython.core.display.Markdown object>"
      ]
     },
     "metadata": {},
     "output_type": "display_data"
    },
    {
     "name": "stdout",
     "output_type": "stream",
     "text": [
      "\n",
      "https://www.csfd.cz/uzivatel/172466-frajer42/\n",
      "Život je jen jeden (2011) 6\n"
     ]
    },
    {
     "data": {
      "text/markdown": [
       "Bohužel se neplnily moje nejtemnější obavy a dle očekávání se jednalo o typický snímek ve stylu \"kopněte kariéru do **prdele,** s penězi si vytřete tu svoji a užívejte si daný okamžik\". Jen poněkud tvůrci zapomněli na to, že dobrodružství, která se hrdinům naskytla, by se jim jaksi nenaskytla, kdyby za ně patřičně nezaplatili. Nevím o nikom, kdo vás nechá zdarma skočit z letadla, či se potápět a poplavat si kolem korálových útesů. Taktéž mě zarmoutilo, že se toho na cestách příliš nedělo. Z dalších road movie jsme zvyklý na to, že přeci jen cestovatele potká pár šíleností a nečekaných nástrah. V tomto snímku nepotká cestovatele vůbec nic. Divák tedy sleduje naprosto tuctovou romantickou **sračku.** Bohužel ani herci moc sympatií nepobrali. Dívat se tak dá jen na Katrinu Kaif, která by určitě stála za bližší seznámení, které by klidně mohlo mít i zápornou vzdálenost. Velké zklamání a nekonečná nuda s několika málo fajn momenty."
      ],
      "text/plain": [
       "<IPython.core.display.Markdown object>"
      ]
     },
     "metadata": {},
     "output_type": "display_data"
    },
    {
     "name": "stdout",
     "output_type": "stream",
     "text": [
      "\n",
      "https://www.csfd.cz/uzivatel/172466-frajer42/\n",
      "Zaklínač - Čtyři marky (S01E02) (epizoda) (2019) 2\n"
     ]
    },
    {
     "data": {
      "text/markdown": [
       "Po zhlédnutí druhé epizody se definitivně potvrdilo, že první díl nebyl špatný náhodou, nýbrž že se jedná o nepříjemný nastolený trend a je čas se smířit s tím, že se seriál svojí kvalitou ani okrajově neotře o luxusní knihu či hru. Každopádně na své si přijdou hlavně milovníci kuriozit, protože třeba takový **negerský** elf, to jsem viděl v životě úplně poprvé. Jinak bezesporu ultra nudná epizoda. Lapálie s čertíkem z konopí byly snad nejslabší povídkou z první knihy. Tady to tvůrci navíc osekali, takže to dobrodružství vlastně ani nedávalo moc smysl. Naštěstí si pomaličku a polehoučku začínám zvykat na Cavilla, takže už tolik netrpím. Obecně mám obrovský problém s obsazením rolí, až na zářné výjimky (skvěle zpívající Marigold) jsou všichni úděsní a tak nějak splývají a vůbec nevynikne jejich osobnost načrtnutá v knize či hře, což je kurevská škoda. Lepší jeden kousek."
      ],
      "text/plain": [
       "<IPython.core.display.Markdown object>"
      ]
     },
     "metadata": {},
     "output_type": "display_data"
    },
    {
     "name": "stdout",
     "output_type": "stream",
     "text": [
      "\n",
      "https://www.csfd.cz/uzivatel/172466-frajer42/\n",
      "Zaklínač - Začátek konce (S01E01) (epizoda) (2019) 11.0\n"
     ]
    },
    {
     "data": {
      "text/markdown": [
       "**Kurva,** tak dlouho jsem se na seriál těšil, všem jsem nasliboval, jaká to bude pecka letošního roku, aniž bych doposud viděl jediný trailer a tohle má být jako výsledek? Kdyby to byl **posraný** jeden prvek... Bohužel, celý díl je složen z nefunkčních prvků. Je jedno, zda začneme u neuvěřitelně laciných efektů (až nezvykle), Cavilla, který je ještě příšernější, než jsem si myslel a Geralta nepřipomíná ani trochu (a není to jen strojeným chraplákem a hmotností o 50 kg vyšší) - borec totálně bez špetky charismatu, který se opravdu hodí snad jen do role prkenného Supermana. Měl jsem velké štěstí, že mám naposlouchaný první díl naprosto úžasně zpracované a skvěle napsané audioknihy (10/10) a třetí díl naprosto boží hry (10/10). Jinak bych byl v rámci děje naprosto ztracen. Celé je to totiž tak nechutně zkratkovité, skáče se od čerta k ďáblu, některé důležité postavy zcela chybí a jejich věty říkají postavy jiné, což působí nedůvěryhodně a směšně. Celý děj je bez dramatičnosti, což je způsobeno zejména tím brutálním osekáním všeho, co jen trošku šlo. Divák je bez šance vytvořit si ke komukoli jakýkoli vztah, tudíž absolutně nemůže fungovat jakýkoli dramatizace, divák nechápe motivace postav a emoce jsou naprosto cizím slovem. Tvůrcům se nepodařilo přenést do seriálu jediné zrnko s naprosto boží poetiky knihy, kde byl poměr kecacích pasáží zdravě vyvážen vůči řežbě. Hlavně slova v knize měla vždy svůj cíl, vždy příjemně gradovala, zhutňovala atmosféru a především DÁVALA SMYSL. V případě seriálu sice zaznívají mnohdy ty stejné slovní pasáže, ale mám pocit, že v úplně nahodilém sledu, kdy je jejich efekt nulový. Cítím z toho snahu uspokojit potřeby popcornového diváka (čti odpornými **sračkoidními** seriály zdegenerovaného čůráka bez špetky vkusu), namísto snahy o přenesení luxusní knihy na seriálová prkna. Za pravdu mi dává například bezúčelné obsazení několika **negrů** do naprosto bezúčelných rolí, aby byly uspokojeny rasové směrnice a nikdo se necítil dotčen. Vůbec nechápu, proč byla jako pilot vybrána povídka Menší zlo. Z mého odporného pohledu je toto naprosto **debilní** a chybné rozhodnutí. Na úvodní (pilotní díl) měla být rozhodně vybrána klasická epizoda s likvidací monstra, aby byl divák jaksi seznámen s hlavní náplní práce a obživy Zaklínače. Politické píčoviny měly přijít do děje až později. Velké zklamání. Chaos, zmatek a všudepřítomná snaha hrát s odfláknutými efekty na efekt, a to na úkor naprosté ztráty duše a poetiky celého díla."
      ],
      "text/plain": [
       "<IPython.core.display.Markdown object>"
      ]
     },
     "metadata": {},
     "output_type": "display_data"
    },
    {
     "name": "stdout",
     "output_type": "stream",
     "text": [
      "\n",
      "https://www.csfd.cz/uzivatel/172466-frajer42/\n",
      "Stalo se jedné noci (1934) 14\n"
     ]
    },
    {
     "data": {
      "text/markdown": [
       "Tak šíleně nezáživné, jak jenom pokus o romantickou komedii může být. Jakákoli ocenění jsou totálně mimo mísu. Mimo byli i páni akademičtí porotci, když nechají zvítězit nic neříkající romantickou komedii. Po 10 minutách sledování každý divák nepochybuje o tom, jak to celé skončí. Samozřejmě jsem neočekával, že mi od samé zábavy vybuchne bránice, ale alespoň jedenkrát, jsem se během filmu usmát chtěl. Obě postavy se mi během 10 minut naprosto znechutily a do konce stopáže jsem si k nim nenašel cestu. Naprosto prvoplánová **sračka** s nudným, předvídatelným a především (v době vzniku možná ještě ne), ale dnes již stotisíckrát ohraným příběhem (kopírky **zasrané)** o dvou existencích, které se k sobě vůbec v ničem nehodí, a přesto se do sebe bláznivě zamilují. Takže člověk 100 minut sleduje, jak se totálně uměle a zcela vykonstruovaně jakože dobírají a popichují, až nakonec jako zjistí, že se oba vlastně celou dobu hrozně moc milují. Celou stopáž mě neskutečně sralo, že se hlavní hrdina choval k hlavní hrdince, jako ke kusu **hovna,** i když to byla otravná ultrapíča, tak přeci jenom měla vaginu a považuji za jaksi nedůstojné s k majitelkám vagín chovat **hnusně.** Všichni se tu nad tím hrozně moc bavili, takže jsem zřejmě asi jen staromódní. Já jsem člověk, který cukr nesnese ani v kávě a tady ho na mě tvůrci sypali 105 minut celé pytle rovnou do huby. V podstatě celý děj je vykonstruován stylem \"cukr a bič\", spousta diváků na tomto principu zřejmě vyrůstala, takže si našli ve snímku takové zalíbení. Zejména z počátku filmu jsem neskutečně trpěl. Obě dvě hlavní vykonstruované role jsou napsány naprosto **debilně** a něco tak **debilního** není možné zahrát důstojně, ani kdyby se Gable a Colbert přetrhli. Tohle nebyly postavy s plnohodnotnými charaktery, to byli dva nastrčení povrchní panáčci zaujímající ploché předepsané postoje. A podle toho to také vypadalo. Bylo to laciné i na svoji dobu. Zajímalo by mě, jakého **kreténa** vůbec poprvé napadlo podřadný žánr romantických komedií oceňovat. Osobně považuji čas strávený ve společnosti této nudírny za čas ztracený. Zase a znovu jsem si potvrdil, že tohle ani vzdáleně není mým šálkem kávy. Asi pochopím, že se snímek tu a tam tento film nějaké ženě zalíbí, ale pokud si najde obdivovatele i v pánských řadách, tak by se dotyční pánové měli prudce zamyslet nad svojí orientací. Slabá pohasínající hvězda."
      ],
      "text/plain": [
       "<IPython.core.display.Markdown object>"
      ]
     },
     "metadata": {},
     "output_type": "display_data"
    },
    {
     "name": "stdout",
     "output_type": "stream",
     "text": [
      "\n",
      "https://www.csfd.cz/uzivatel/172466-frajer42/\n",
      "Avengers: Endgame (2019) 30\n"
     ]
    },
    {
     "data": {
      "text/markdown": [
       "Spoilery! To se zase šuldové tvůrci vycajchnovali a **zkurvili** ve filmu všechno, co bylo možné **zkurvit,** ba dokonce **zkurvili** i to, co bylo **zkurvit** nemožné. Když už se nějaký vygumovaný čůrák rozhodne, že bude mít akční film o superhrdinech 3 hodiny, tak bych pěkně prosil, aby nepoužil prvních 50 minut jako naprosto zbytečný a nekonečně nudný úvod, kdy pro mě bylo větším zážitkem sledovat na zdi flek od spermatu, než takhle nepopsatelně nudnou **sračku.** Podobné filmy fungují pouze díky nasazení vysokého tempa, kdy divák nedostává možnost přemýšlet nad nekonečnou **debilitou** děje, který je určený pro většinu těžce zdegenerované společnosti a je pouze unášen na vlně nekonečné akce, vhodných hlášek, luxusních efektů a vydatné dávky napětí. V tomto případě se šulini rozhodli, že si pro diváky připraví jakousi ubrečenou, šnečím tempem plynoucí, melancholickou píčovinu. Opět samozřejmě nechybělo ani tolik oblíbené polidšťování hrdinů, kteří byli zajímaví právě tím, že polidštění nebyli. Z Thora se stal ubrečený zakomplexovaný ožrala. Z Iron Mana se stal velký ubrečený srdcař, který objímal všechny a všechno, co potkal. Takhle by se dalo chvíli pokračovat. Člověk dostával během sledování nutkání si vypíchat oči. Nebylo k vidění mnoho hrdinů, kteří zůstali stále stejně vyšinutí a zachovali si tak svůj charakter, tvář a hlavně zajímavost. Tento film se bohužel transformoval v čistokrevnou vztahovku (telenovelu), kde scházelo už jenom to, aby si všichni ubrečení hrdinové ze samé lásky nastrkaly péra do **prdele.** Opravdu mě ti **zmrdi** nasrali, že nasměrovali Avengers tímto nechutným homo směrem. Jakmile se v jakémkoli filmu na pokračování nakousne téma cestování časem, tak je to jasným a zřetelným signálem, že někdo vyčerpal všechny své nápady a bude vařit z hoven. Zapomeňte na stříkající testosteron. Kromě toho se bohužel potvrdila moje obava a do děje významně zasáhla nejotravnější členka Avengers, která svojí **debilitou** a otravností strčila do kapsy i tu nudnou opici z **Wakundy.** Řeč je samozřejmě o Kapitánce Marvel, která zastupuje ve filmu stále se rozšiřující rakovinu feminismu, aby si i feministky mohly u filmu drandit chlupaté **kundy.** Dokonce zvolila i krátký střih, který je mezi tímto morem společnosti oblíbený, protože si hrají na muže. Feministky jsou v podstatě transky, které jsou **nasrané** na společnost, že nemají péro. Když jsem ji v závěru uviděl, málem jsem vyzvracel všechny své orgány. Jedinými sledovatelnými momenty snímku zůstávají řídce zastoupené akční pasáže, kde nikdo nežvatlá ty své melancholické pseudo filosofické píčoviny, ba dokonce ani nejeví homo tendenci někoho samou láskou análně znesvětit. Neuvěřitelná **píčovina,** která svým zdejším průměrným hodnocením jasně poukazuje na to, v kolika zdejších uživatelích dříme latentní homosexuál. Se slzou v oku vzpomínám na rok 2012, kdy byli Avengers stále filmem pro heterosexuály a když pozoruji, jakým genderově-kulutrně-sexuálně-nábožensky vyváženým směrem se od té doby nejenom kinematografie pohnula, tak i trošku lituji, že tehdy ten slibovaný konec světa nenastal. Je otázkou času, než se všechny deviace stanou normou a zdraví lidé budou trpět z nuceného soužití a stále většího přizpůsobování svých životních návyků ke spokojenosti nemocné menšiny."
      ],
      "text/plain": [
       "<IPython.core.display.Markdown object>"
      ]
     },
     "metadata": {},
     "output_type": "display_data"
    },
    {
     "name": "stdout",
     "output_type": "stream",
     "text": [
      "\n",
      "https://www.csfd.cz/uzivatel/172466-frajer42/\n",
      "Kráska a zvíře (2017) 12\n"
     ]
    },
    {
     "data": {
      "text/markdown": [
       "Už samotný animovaný originál je **píčovina** na entou, takže tu moc prostoru pro zprznění zprzněného nebylo. Docela mě zaujal komentář jednoho mého oblíbence, kterému se moc líbil děj a celkově ho snímek nadchnul s výjimkou muzikálových částí. Já to cítil přesně naopak. Muzikálové části byli tím jediným, co v této extrémně nudné píčovině za něco stálo. Hudba byla v naprosté většině času vynikající a taneční choreografie velice příjemné. Bohužel se příliš často tvůrci pokoušeli o něco jako děj a tam jsem nepopsatelně trpěl. I pohled na rozkošnou Emmičku se postupem času stal otravným. Člověk zřejmě od Kondoma nemohl čekat nějaké zázraky, ale tohle bylo špatné i na toho netalentovaného šulka, který je stále placen za to, že **kurví** kinematografii. Strašně mě srala i ta zvrácenou společností vynucená **negerská** infiltrace do kinematografie, snad jsem si nevšiml jiného partnerského vztahu než černobílého, nebo vztahu zženštilého muže se ženou s tak vysokým nadbytkem testosteronu, že by mohl pohánět menší elektrárnu na Ukrajině. Stále více a více mě tvůrci serou s tímhle genderově-kulturně-sociálně-politicky-sexuální korektností, která filmy nekonečně **kurví,** i když v tomto případě by byl snímek spolehlivě **zkurvený** i bez ní. Dialogy se nedaly poslouchat, děj se nedal sledovat. Při sledování mi bylo fyzicky nevolno. Nejvíce mě sral ten otravný živý nábytek. Celková poetika příběhu je maximálně zvrácená a komu podobné nesmysly utvářely dětství, tak je tím dodnes poznamenán. Zaplať pánbůh za Pokémony. Vždyť to byla naprosto ryzí ukázka stockholmského syndromu, kde se uvězněná zamilovala do svého věznitele. Sklepmistr Josef Fritzl je ze aplikování podobného postupu dodnes lynčován, přitom jen určitě v mládí viděl tuhle zvrácenou disneyovku, která mu poskytla dokonalý návod. Opravdu otřesně nudná záležitost s neuvěřitelně **debilním** příběhem a nebezpečně zlým poselstvím pro děti. Jednu hvězdu dávám za hezkou audiovizuální stránku a Gastona, který mi připomínal mé dřívější já z doby, když jsem ještě nebyl dokonalý."
      ],
      "text/plain": [
       "<IPython.core.display.Markdown object>"
      ]
     },
     "metadata": {},
     "output_type": "display_data"
    },
    {
     "name": "stdout",
     "output_type": "stream",
     "text": [
      "\n",
      "https://www.csfd.cz/uzivatel/172466-frajer42/\n",
      "Život je pes (1933) 1.32\n"
     ]
    },
    {
     "data": {
      "text/markdown": [
       "Hugo Haas rozhodně nepatří mezi plejádu herců, ze kterých se mi pravidelně topoří mých dvacet anakondích čísel. Tato jeho two man show mě bohužel nikterak nenadchla a ani se nehláškuje tolik, kolik bývá Fričovým dobrým zvykem. V rámci humoru se drží film opravdu hodně při zemi. Tedy minimálně z mého vysoce odborného pohledu. Naopak v mnoha pasážích působí film takřka až hororovým dojmem. Noční můrou všech rozumných mužů je svatba. Zkuste si potom představit hned dvojitou svatbu v jeden den, brrrr. Závěr filmu byl tedy tradičně fajn. Bohužel většina stopáže je zbytečně rozvleklá, nevtipná a příliš nezajímavá. Pochvaluji si Adinu Mandlovou, které to v tomto filmu nesmírně sluší. Člověk by kvůli ní snad i své zapřísáhlé puritánství na 45 minut odložil stranou. Lepší hvězda."
      ],
      "text/plain": [
       "<IPython.core.display.Markdown object>"
      ]
     },
     "metadata": {},
     "output_type": "display_data"
    },
    {
     "name": "stdout",
     "output_type": "stream",
     "text": [
      "\n",
      "https://www.csfd.cz/uzivatel/172466-frajer42/\n",
      "https://www.csfd.cz/uzivatel/172466-frajer42/\n",
      "Černé zrcadlo - Smithereens (S05E02) (epizoda) (2019) 8\n"
     ]
    },
    {
     "data": {
      "text/markdown": [
       "Spoilery! Bohužel nedovedu dát snad ani ty **usrané** dvě hvězdičky, protože tato epizoda byla na poměry Black Mirror opravdu krajně o hovně a bez jakéhokoli většího poselství. I v těch **nejdebilnějších** dílech tohoto seriálu byla vždy minimálně myšlenka a poselství hodné prudkého zamyšlení. V tomto dílu bylo naprosté vakuum. Člověk více než hodinu čeká, co tvůrci vytáhnou, čím ho v tomto dílu překvapí a následně s hrůzou zjistíte, že tak jak všechno nudně a **debilně** začalo, tak ve stejném duchu díl i skončí. Nechce se tomu věřit, že někdo, kdo měl vždy kupu napínavých nápadů, působí momentálně absolutně vystříleným dojmem. I když zkusím na moment zapomenout, že sleduji Black Mirror a kouknu se na příběh tohoto dílu zcela nezávisle, tak jsem opravdu neviděl nic jiného než naprosto **debilní** a nudný únos a trapné vyjednávání s použitím dokonce pouze současných technologií (+ ukázka kolik jsme toho napráskali na sociálních sítích a může to být ve vhodný moment použito proti nám) a kromě toho nechybí ta 200x otřepaná kritiku závislosti na sociálních sítích a mobilních telefonech. Opravte mě prosím, pokud mi něco ušlo. Budu vám neskonale vděčný. Velmi rád bych se mýlil, ale tahle epizoda byla rána do žeber všem fanouškům, opravdu díl, který byl mimořádně o ničem. Vůbec do konceptu nijak nezapadá. Kromě toho jsem u něj po 20 minutách usnul, jaká to byla zábava."
      ],
      "text/plain": [
       "<IPython.core.display.Markdown object>"
      ]
     },
     "metadata": {},
     "output_type": "display_data"
    },
    {
     "name": "stdout",
     "output_type": "stream",
     "text": [
      "\n",
      "https://www.csfd.cz/uzivatel/172466-frajer42/\n",
      "Hra snů (1999) 4\n"
     ]
    },
    {
     "data": {
      "text/markdown": [
       "Otravná, více než 2hodinová konverzační love story. Přesně ten typ filmu, které bytostně nenávidím. Totální nuda k uzoufání. Pokud jste si stejně jako já až dosud mysleli, že Kevin Costner neumí hrát špatně, tak jste se hrubě zmýlili. Tato role mu vůbec nesvědčila. Ačkoli se snímek každým coulem snaží tlačit na emoce, tak mě velkým obloukem minul. Chemie mezi Costnerem a Kelly Preston totálně nefunguje. Dialogy jsou směšně **debilní.** Jediné, co stojí za pozornost je samotný sport a dění na hřišti. To je ovšem děsně upozaděno za **debilní** a nudnou romantickou linkou v popředí. Dva lidé, kteří se k sobě naprosto nehodí se pokoušejí budovat vztah. Největším kamenem úrazu je to, že celé budouvání vztahu je nesmírně stereotypní a především totálně klišoidní. Stejný průběh vztahu už člověk viděl milionkrát. Tohle se Raimimu hrubě nevydařilo a považuji to za jeho dosud nejubožejší film. Naprosto nezáživný pohled do života sportovní hvězdy, který je stejně prázdný, jako tento film."
      ],
      "text/plain": [
       "<IPython.core.display.Markdown object>"
      ]
     },
     "metadata": {},
     "output_type": "display_data"
    },
    {
     "name": "stdout",
     "output_type": "stream",
     "text": [
      "\n",
      "https://www.csfd.cz/uzivatel/172466-frajer42/\n",
      "Život pod vodou (2004) 4\n"
     ]
    },
    {
     "data": {
      "text/markdown": [
       "Po technické stránce nemám co namítnout. Naopak se mi nesmírně líbila kamera i hudba. Co se ovšem týče obsahu, tak jsem byl nefalšovaně **zhnusen,** protože něco tak extrémně odporného a především nudného se běžně nevidí. Film je samozřejmě klasická Andersonovka s množstvím divných postav, ale zatím jsem od něj viděl snímky, které měly alespoň malý potenciál vtáhnout diváka do děje. V případě tohoto filmu jsem měl pocit, že se snímek naopak vehementně snaží diváky z děje vypudit. Děje se totiž úplné **hovno** a děje se to vy vysoce infantilním stylu. Nezasmál jsem se během stopáže ani jednou. Nic proti bizarnosti a šílenosti, ale když už se o to autor pokouší, ať to alespoň dotáhne na maximum. Zde mi to celé přišlo ušité trošku horkou jehlou a výsledek na mě vůbec nezapůsobil. Jednu hvězdu za originalitu, které bylo Andersonovi naděleno do vínku opravdu hodně."
      ],
      "text/plain": [
       "<IPython.core.display.Markdown object>"
      ]
     },
     "metadata": {},
     "output_type": "display_data"
    },
    {
     "name": "stdout",
     "output_type": "stream",
     "text": [
      "\n",
      "https://www.csfd.cz/uzivatel/172466-frajer42/\n",
      "https://www.csfd.cz/uzivatel/172466-frajer42/\n",
      "https://www.csfd.cz/uzivatel/172466-frajer42/\n",
      "Mluv s ní (2002) 2\n"
     ]
    },
    {
     "data": {
      "text/markdown": [
       "Musím se přiznat, že tentokrát se mi do vkusu Pedro úplně netrefil. Zřejmě nikdo, kdo si vyloženě nelibuje v nekrofilii si nepřijde na své. Snímek jsem musel sledovat na tři fáze, neboť má neskutečně ospalé tempo. Zejména první polovina filmu je velmi otravná, protože divák nemá šanci chápat motivace hlavních postav, které se odkrývají velice pozvolna a po celou stopáž. Každých 10 minut někdo brečí, což je horší než v nějaké turecké telenovele. Enormně nesnáším ten **debilní** španělský sport \"býčí zápasy\", kde hrozní odvážlivci vstupují do boje s polomrtvým zvířetem. Považuji to za záležitost pro lidi, kteří nejsou odvážní, ale rádi by byli a srdce mi zaplesá, když je tu a tam nějaký toreador odnášen v igelitovém pytli. Totálně jsem v celém filmu postrádal na své straně jakékoli emoce. Ocenit tak mohu snad pouze dost neotřelé zpracování, vtipnou sexuální scénku a to, že si snímek nehraje na pohádku, nýbrž ukazuje život takový, jaký může být a jaký velice často bývá. V tomto směru Pedro nezklame. Lepší hvězdička."
      ],
      "text/plain": [
       "<IPython.core.display.Markdown object>"
      ]
     },
     "metadata": {},
     "output_type": "display_data"
    },
    {
     "name": "stdout",
     "output_type": "stream",
     "text": [
      "\n"
     ]
    }
   ],
   "source": [
    "for comment in profil.comments:\n",
    "    print(profil.link)\n",
    "    if comment.score > 1:\n",
    "        print(comment.movie_name,comment.score)\n",
    "        printmd(comment.text)\n",
    "        print()"
   ]
  },
  {
   "cell_type": "code",
   "execution_count": 75,
   "metadata": {},
   "outputs": [],
   "source": [
    "add_interesting_user('https://www.csfd.cz/uzivatel/749174-redeaglesk/', 'Originalni, casto pise o Shemale')"
   ]
  },
  {
   "cell_type": "code",
   "execution_count": null,
   "metadata": {},
   "outputs": [],
   "source": []
  }
 ],
 "metadata": {
  "kernelspec": {
   "display_name": "Python 3",
   "language": "python",
   "name": "python3"
  },
  "language_info": {
   "codemirror_mode": {
    "name": "ipython",
    "version": 3
   },
   "file_extension": ".py",
   "mimetype": "text/x-python",
   "name": "python",
   "nbconvert_exporter": "python",
   "pygments_lexer": "ipython3",
   "version": "3.7.3"
  }
 },
 "nbformat": 4,
 "nbformat_minor": 2
}
